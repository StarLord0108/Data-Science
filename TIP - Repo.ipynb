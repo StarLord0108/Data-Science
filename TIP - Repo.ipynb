{
 "cells": [
  {
   "cell_type": "markdown",
   "id": "a7b2a2ce",
   "metadata": {},
   "source": [
    "# Table of Contents\n",
    "   1. Business Statement   \n",
    "      1.1 About Data Set\n",
    "   2. Introduction \n",
    "   3. Installing Libraries \n",
    "   4. Reading Data Set\n",
    "   5. Machine Learning Models \n",
    "   6. Summary"
   ]
  },
  {
   "cell_type": "markdown",
   "id": "f4440b23",
   "metadata": {},
   "source": [
    "# Business Statement "
   ]
  },
  {
   "cell_type": "markdown",
   "id": "cb641f02",
   "metadata": {},
   "source": [
    "## Spaceship Titanic\n",
    "Dataset Shape: 12790 rows x 15 columns\n",
    "\n",
    "1. **PassengerId** - A unique Id for each passenger. Each Id takes the form gggg_pp where gggg indicates a group the passenger is travelling with and pp is their number within the group. People in a group are often family members, but not always.\n",
    "2. **HomePlanet** - The planet the passenger departed from, typically their planet of permanent residence.\n",
    "\n",
    "3. **CryoSleep** - Indicates whether the passenger elected to be put into suspended animation for the duration of the voyage. Passengers in cryosleep are confined to their cabins.\n",
    "\n",
    "4. **Cabin** - The cabin number where the passenger is staying. Takes the form deck/num/side, where side can be either P for Port or S for Starboard.\n",
    "\n",
    "5. **Destination** - The planet the passenger will be debarking to.\n",
    "\n",
    "6. **Age** - The age of the passenger.\n",
    "\n",
    "7. **VIP**- Whether the passenger has paid for special VIP service during the voyage.\n",
    "\n",
    "8. **RoomService** - Amount the passenger has billed at each of the Spaceship Titanic's room service amenities.\n",
    "\n",
    "9. **FoodCourt** - Amount the passenger has billed at each of the Spaceship Titanic's foodcourt amenities.\n",
    "\n",
    "10. **ShoppingMall** - Amount the passenger has billed at each of the Spaceship Titanic's shopping mall amenities.\n",
    "\n",
    "11. **Spa** - Amount the passenger has billed at each of the Spaceship Titanic's spa amenities.\n",
    "\n",
    "12. **VRDeck** - Amount the passenger has billed at each of the Spaceship Titanic's vrdeck amenities.\n",
    "\n",
    "13. **Name** - The first and last names of the passenger.\n",
    "\n",
    "14. **Transported** - Whether the passenger was transported to another dimension. "
   ]
  },
  {
   "cell_type": "markdown",
   "id": "8e783bc8",
   "metadata": {},
   "source": [
    "# Introduction"
   ]
  },
  {
   "cell_type": "markdown",
   "id": "ce2249e8",
   "metadata": {},
   "source": [
    "# Importing Important Dependencies "
   ]
  },
  {
   "cell_type": "code",
   "execution_count": 1,
   "id": "48531b7c",
   "metadata": {},
   "outputs": [
    {
     "name": "stdout",
     "output_type": "stream",
     "text": [
      "Requirement already satisfied: yellowbrick in d:\\anaconda\\lib\\site-packages (1.4)\n",
      "Requirement already satisfied: catboost in d:\\anaconda\\lib\\site-packages (1.0.6)\n",
      "Requirement already satisfied: lightgbm in d:\\anaconda\\lib\\site-packages (3.3.2)\n",
      "Requirement already satisfied: xgboost in d:\\anaconda\\lib\\site-packages (1.6.1)\n",
      "Requirement already satisfied: scipy>=1.0.0 in d:\\anaconda\\lib\\site-packages (from yellowbrick) (1.7.1)\n",
      "Requirement already satisfied: matplotlib!=3.0.0,>=2.0.2 in d:\\anaconda\\lib\\site-packages (from yellowbrick) (3.4.3)\n",
      "Requirement already satisfied: scikit-learn>=1.0.0 in d:\\anaconda\\lib\\site-packages (from yellowbrick) (1.1.1)\n",
      "Requirement already satisfied: numpy>=1.16.0 in d:\\anaconda\\lib\\site-packages (from yellowbrick) (1.20.3)\n",
      "Requirement already satisfied: cycler>=0.10.0 in d:\\anaconda\\lib\\site-packages (from yellowbrick) (0.10.0)\n",
      "Requirement already satisfied: graphviz in d:\\anaconda\\lib\\site-packages (from catboost) (0.20)\n",
      "Requirement already satisfied: pandas>=0.24.0 in d:\\anaconda\\lib\\site-packages (from catboost) (1.3.4)\n",
      "Requirement already satisfied: six in d:\\anaconda\\lib\\site-packages (from catboost) (1.16.0)\n",
      "Requirement already satisfied: plotly in d:\\anaconda\\lib\\site-packages (from catboost) (4.14.3)\n",
      "Requirement already satisfied: wheel in d:\\anaconda\\lib\\site-packages (from lightgbm) (0.37.0)\n",
      "Requirement already satisfied: python-dateutil>=2.7 in d:\\anaconda\\lib\\site-packages (from matplotlib!=3.0.0,>=2.0.2->yellowbrick) (2.8.2)\n",
      "Requirement already satisfied: pyparsing>=2.2.1 in d:\\anaconda\\lib\\site-packages (from matplotlib!=3.0.0,>=2.0.2->yellowbrick) (3.0.4)\n",
      "Requirement already satisfied: kiwisolver>=1.0.1 in d:\\anaconda\\lib\\site-packages (from matplotlib!=3.0.0,>=2.0.2->yellowbrick) (1.3.1)\n",
      "Requirement already satisfied: pillow>=6.2.0 in d:\\anaconda\\lib\\site-packages (from matplotlib!=3.0.0,>=2.0.2->yellowbrick) (8.4.0)\n",
      "Requirement already satisfied: pytz>=2017.3 in d:\\anaconda\\lib\\site-packages (from pandas>=0.24.0->catboost) (2021.3)\n",
      "Requirement already satisfied: joblib>=1.0.0 in d:\\anaconda\\lib\\site-packages (from scikit-learn>=1.0.0->yellowbrick) (1.1.0)\n",
      "Requirement already satisfied: threadpoolctl>=2.0.0 in d:\\anaconda\\lib\\site-packages (from scikit-learn>=1.0.0->yellowbrick) (2.2.0)\n",
      "Requirement already satisfied: retrying>=1.3.3 in d:\\anaconda\\lib\\site-packages (from plotly->catboost) (1.3.3)\n"
     ]
    }
   ],
   "source": [
    "!pip install yellowbrick catboost lightgbm xgboost"
   ]
  },
  {
   "cell_type": "code",
   "execution_count": 2,
   "id": "bc1fc288",
   "metadata": {},
   "outputs": [],
   "source": [
    "import numpy as np\n",
    "import pandas as pd\n",
    "import matplotlib.pyplot as plt\n",
    "import seaborn as sns\n",
    "import random as rnd"
   ]
  },
  {
   "cell_type": "markdown",
   "id": "bea0dd9e",
   "metadata": {},
   "source": [
    "# Reading Data Set"
   ]
  },
  {
   "cell_type": "code",
   "execution_count": 3,
   "id": "37c351ac",
   "metadata": {},
   "outputs": [],
   "source": [
    "df = pd.read_csv('MY2022 Fuel Consumption Ratings.csv')"
   ]
  },
  {
   "cell_type": "code",
   "execution_count": 4,
   "id": "37df2a66",
   "metadata": {},
   "outputs": [
    {
     "data": {
      "text/html": [
       "<div>\n",
       "<style scoped>\n",
       "    .dataframe tbody tr th:only-of-type {\n",
       "        vertical-align: middle;\n",
       "    }\n",
       "\n",
       "    .dataframe tbody tr th {\n",
       "        vertical-align: top;\n",
       "    }\n",
       "\n",
       "    .dataframe thead th {\n",
       "        text-align: right;\n",
       "    }\n",
       "</style>\n",
       "<table border=\"1\" class=\"dataframe\">\n",
       "  <thead>\n",
       "    <tr style=\"text-align: right;\">\n",
       "      <th></th>\n",
       "      <th>Model Year</th>\n",
       "      <th>Make</th>\n",
       "      <th>Model</th>\n",
       "      <th>Vehicle Class</th>\n",
       "      <th>Engine Size(L)</th>\n",
       "      <th>Cylinders</th>\n",
       "      <th>Transmission</th>\n",
       "      <th>Fuel Type</th>\n",
       "      <th>Fuel Consumption (City (L/100 km)</th>\n",
       "      <th>Fuel Consumption(Hwy (L/100 km))</th>\n",
       "      <th>Fuel Consumption(Comb (L/100 km))</th>\n",
       "      <th>Fuel Consumption(Comb (mpg))</th>\n",
       "      <th>CO2 Emissions(g/km)</th>\n",
       "      <th>CO2 Rating</th>\n",
       "      <th>Smog Rating</th>\n",
       "    </tr>\n",
       "  </thead>\n",
       "  <tbody>\n",
       "    <tr>\n",
       "      <th>0</th>\n",
       "      <td>2022</td>\n",
       "      <td>Acura</td>\n",
       "      <td>ILX</td>\n",
       "      <td>Compact</td>\n",
       "      <td>.</td>\n",
       "      <td>4</td>\n",
       "      <td>AM8</td>\n",
       "      <td>Z</td>\n",
       "      <td>9.9</td>\n",
       "      <td>7.0</td>\n",
       "      <td>8.6</td>\n",
       "      <td>33</td>\n",
       "      <td>200</td>\n",
       "      <td>6</td>\n",
       "      <td>3</td>\n",
       "    </tr>\n",
       "    <tr>\n",
       "      <th>1</th>\n",
       "      <td>2022</td>\n",
       "      <td>Acura</td>\n",
       "      <td>MDX SH-AWD</td>\n",
       "      <td>SUV: Small</td>\n",
       "      <td>3.5</td>\n",
       "      <td>6</td>\n",
       "      <td>AS10</td>\n",
       "      <td>Z</td>\n",
       "      <td>12.6</td>\n",
       "      <td>9.4</td>\n",
       "      <td>11.2</td>\n",
       "      <td>25</td>\n",
       "      <td>263</td>\n",
       "      <td>4</td>\n",
       "      <td>5</td>\n",
       "    </tr>\n",
       "    <tr>\n",
       "      <th>2</th>\n",
       "      <td>2022</td>\n",
       "      <td>Acura</td>\n",
       "      <td>RDX SH-AWD</td>\n",
       "      <td>SUV: Small</td>\n",
       "      <td>2</td>\n",
       "      <td>4</td>\n",
       "      <td>AS10</td>\n",
       "      <td>Z</td>\n",
       "      <td>11.0</td>\n",
       "      <td>8.6</td>\n",
       "      <td>9.9</td>\n",
       "      <td>29</td>\n",
       "      <td>232</td>\n",
       "      <td>5</td>\n",
       "      <td>6</td>\n",
       "    </tr>\n",
       "    <tr>\n",
       "      <th>3</th>\n",
       "      <td>2022</td>\n",
       "      <td>Acura</td>\n",
       "      <td>RDX SH-AWD A-SPEC</td>\n",
       "      <td>SUV: Small</td>\n",
       "      <td>2</td>\n",
       "      <td>4</td>\n",
       "      <td>AS10</td>\n",
       "      <td>Z</td>\n",
       "      <td>11.3</td>\n",
       "      <td>9.1</td>\n",
       "      <td>10.3</td>\n",
       "      <td>27</td>\n",
       "      <td>242</td>\n",
       "      <td>5</td>\n",
       "      <td>6</td>\n",
       "    </tr>\n",
       "    <tr>\n",
       "      <th>4</th>\n",
       "      <td>2022</td>\n",
       "      <td>Acura</td>\n",
       "      <td>TLX SH-AWD</td>\n",
       "      <td>Compact</td>\n",
       "      <td>2</td>\n",
       "      <td>4</td>\n",
       "      <td>AS10</td>\n",
       "      <td>Z</td>\n",
       "      <td>11.2</td>\n",
       "      <td>8.0</td>\n",
       "      <td>9.8</td>\n",
       "      <td>29</td>\n",
       "      <td>230</td>\n",
       "      <td>5</td>\n",
       "      <td>7</td>\n",
       "    </tr>\n",
       "    <tr>\n",
       "      <th>5</th>\n",
       "      <td>2022</td>\n",
       "      <td>Acura</td>\n",
       "      <td>TLX SH-AWD A-SPEC</td>\n",
       "      <td>Compact</td>\n",
       "      <td>2</td>\n",
       "      <td>4</td>\n",
       "      <td>AS10</td>\n",
       "      <td>Z</td>\n",
       "      <td>11.3</td>\n",
       "      <td>8.1</td>\n",
       "      <td>9.8</td>\n",
       "      <td>29</td>\n",
       "      <td>231</td>\n",
       "      <td>5</td>\n",
       "      <td>7</td>\n",
       "    </tr>\n",
       "    <tr>\n",
       "      <th>6</th>\n",
       "      <td>2022</td>\n",
       "      <td>Acura</td>\n",
       "      <td>TLX Type S</td>\n",
       "      <td>Compact</td>\n",
       "      <td>3</td>\n",
       "      <td>6</td>\n",
       "      <td>AS10</td>\n",
       "      <td>Z</td>\n",
       "      <td>12.3</td>\n",
       "      <td>9.4</td>\n",
       "      <td>11.0</td>\n",
       "      <td>26</td>\n",
       "      <td>256</td>\n",
       "      <td>5</td>\n",
       "      <td>5</td>\n",
       "    </tr>\n",
       "    <tr>\n",
       "      <th>7</th>\n",
       "      <td>2022</td>\n",
       "      <td>Acura</td>\n",
       "      <td>TLX Type S (Performance Tire)</td>\n",
       "      <td>Compact</td>\n",
       "      <td>3</td>\n",
       "      <td>6</td>\n",
       "      <td>AS10</td>\n",
       "      <td>Z</td>\n",
       "      <td>12.3</td>\n",
       "      <td>9.8</td>\n",
       "      <td>11.2</td>\n",
       "      <td>25</td>\n",
       "      <td>261</td>\n",
       "      <td>4</td>\n",
       "      <td>5</td>\n",
       "    </tr>\n",
       "    <tr>\n",
       "      <th>8</th>\n",
       "      <td>2022</td>\n",
       "      <td>Alfa Romeo</td>\n",
       "      <td>Giulia</td>\n",
       "      <td>Mid-size</td>\n",
       "      <td>2</td>\n",
       "      <td>4</td>\n",
       "      <td>A8</td>\n",
       "      <td>Z</td>\n",
       "      <td>10.0</td>\n",
       "      <td>7.2</td>\n",
       "      <td>8.7</td>\n",
       "      <td>32</td>\n",
       "      <td>205</td>\n",
       "      <td>6</td>\n",
       "      <td>3</td>\n",
       "    </tr>\n",
       "    <tr>\n",
       "      <th>9</th>\n",
       "      <td>2022</td>\n",
       "      <td>Alfa Romeo</td>\n",
       "      <td>Giulia AWD</td>\n",
       "      <td>Mid-size</td>\n",
       "      <td>2</td>\n",
       "      <td>4</td>\n",
       "      <td>A8</td>\n",
       "      <td>Z</td>\n",
       "      <td>10.5</td>\n",
       "      <td>7.7</td>\n",
       "      <td>9.2</td>\n",
       "      <td>31</td>\n",
       "      <td>217</td>\n",
       "      <td>5</td>\n",
       "      <td>3</td>\n",
       "    </tr>\n",
       "  </tbody>\n",
       "</table>\n",
       "</div>"
      ],
      "text/plain": [
       "   Model Year        Make                          Model Vehicle Class  \\\n",
       "0        2022       Acura                            ILX       Compact   \n",
       "1        2022       Acura                     MDX SH-AWD    SUV: Small   \n",
       "2        2022       Acura                     RDX SH-AWD    SUV: Small   \n",
       "3        2022       Acura              RDX SH-AWD A-SPEC    SUV: Small   \n",
       "4        2022       Acura                     TLX SH-AWD       Compact   \n",
       "5        2022       Acura              TLX SH-AWD A-SPEC       Compact   \n",
       "6        2022       Acura                     TLX Type S       Compact   \n",
       "7        2022       Acura  TLX Type S (Performance Tire)       Compact   \n",
       "8        2022  Alfa Romeo                         Giulia      Mid-size   \n",
       "9        2022  Alfa Romeo                     Giulia AWD      Mid-size   \n",
       "\n",
       "  Engine Size(L)  Cylinders Transmission Fuel Type  \\\n",
       "0              .          4          AM8         Z   \n",
       "1            3.5          6         AS10         Z   \n",
       "2              2          4         AS10         Z   \n",
       "3              2          4         AS10         Z   \n",
       "4              2          4         AS10         Z   \n",
       "5              2          4         AS10         Z   \n",
       "6              3          6         AS10         Z   \n",
       "7              3          6         AS10         Z   \n",
       "8              2          4           A8         Z   \n",
       "9              2          4           A8         Z   \n",
       "\n",
       "   Fuel Consumption (City (L/100 km)  Fuel Consumption(Hwy (L/100 km))  \\\n",
       "0                                9.9                               7.0   \n",
       "1                               12.6                               9.4   \n",
       "2                               11.0                               8.6   \n",
       "3                               11.3                               9.1   \n",
       "4                               11.2                               8.0   \n",
       "5                               11.3                               8.1   \n",
       "6                               12.3                               9.4   \n",
       "7                               12.3                               9.8   \n",
       "8                               10.0                               7.2   \n",
       "9                               10.5                               7.7   \n",
       "\n",
       "   Fuel Consumption(Comb (L/100 km))  Fuel Consumption(Comb (mpg))  \\\n",
       "0                                8.6                            33   \n",
       "1                               11.2                            25   \n",
       "2                                9.9                            29   \n",
       "3                               10.3                            27   \n",
       "4                                9.8                            29   \n",
       "5                                9.8                            29   \n",
       "6                               11.0                            26   \n",
       "7                               11.2                            25   \n",
       "8                                8.7                            32   \n",
       "9                                9.2                            31   \n",
       "\n",
       "   CO2 Emissions(g/km)  CO2 Rating  Smog Rating  \n",
       "0                  200           6            3  \n",
       "1                  263           4            5  \n",
       "2                  232           5            6  \n",
       "3                  242           5            6  \n",
       "4                  230           5            7  \n",
       "5                  231           5            7  \n",
       "6                  256           5            5  \n",
       "7                  261           4            5  \n",
       "8                  205           6            3  \n",
       "9                  217           5            3  "
      ]
     },
     "execution_count": 4,
     "metadata": {},
     "output_type": "execute_result"
    }
   ],
   "source": [
    "df.head(10)"
   ]
  },
  {
   "cell_type": "code",
   "execution_count": 40,
   "id": "827ab984",
   "metadata": {},
   "outputs": [
    {
     "data": {
      "text/plain": [
       "array(['Compact', 'SUV: Small', 'Mid-size', 'Minicompact',\n",
       "       'SUV: Standard', 'Two-seater', 'Subcompact',\n",
       "       'Station wagon: Small', 'Station wagon: Mid-size', 'Full-size',\n",
       "       'Pickup truck: Small', 'Pickup truck: Standard', 'Minivan',\n",
       "       'Special purpose vehicle'], dtype=object)"
      ]
     },
     "execution_count": 40,
     "metadata": {},
     "output_type": "execute_result"
    }
   ],
   "source": [
    "df['Vehicle Class'].unique()"
   ]
  },
  {
   "cell_type": "markdown",
   "id": "f9421487",
   "metadata": {},
   "source": [
    "# Machine Learning Models:\n",
    "\n",
    "1. Logistic Regression\n",
    "2. Decision Tree\n",
    "3. Gaussian Naive Bayes\n",
    "4. Random Forest\n",
    "5. K-Nearest Neighbors\n",
    "6. Support Vector Machine\n",
    "7. Stochastic Gradient Descent\n",
    "8. AdaBoost\n",
    "9. Extreme Gradient Boosting\n",
    "10. Light Gradient Boosting Machine\n",
    "11. CatBoost\n",
    "\n",
    "# Metrics used: Classification Report, Confusion Matrix, ROCAUC Curve, Precision-Recall Curve"
   ]
  },
  {
   "cell_type": "markdown",
   "id": "1a73fd25",
   "metadata": {},
   "source": [
    "First we will split the data into test and training set, such that we can first train the data using a model and for further evaluation we can use test data to check the above mentioned metircs on the data set."
   ]
  },
  {
   "cell_type": "code",
   "execution_count": 8,
   "id": "e08eab46",
   "metadata": {},
   "outputs": [],
   "source": [
    "X = df\n",
    "y = df"
   ]
  },
  {
   "cell_type": "code",
   "execution_count": 9,
   "id": "f6e58e54",
   "metadata": {},
   "outputs": [],
   "source": [
    "from sklearn.preprocessing import StandardScaler, OneHotEncoder, LabelEncoder\n",
    "from sklearn.model_selection import train_test_split as tts\n",
    "from sklearn.compose import make_column_transformer"
   ]
  },
  {
   "cell_type": "code",
   "execution_count": 10,
   "id": "c5857822",
   "metadata": {},
   "outputs": [],
   "source": [
    "X_train, X_test, y_train, y_test = tts(X, y, test_size = .3, random_state = 2022)"
   ]
  },
  {
   "cell_type": "code",
   "execution_count": 36,
   "id": "16704328",
   "metadata": {},
   "outputs": [],
   "source": [
    "cat_cols = ['Vehicle Class', 'Fuel Type', 'Cylinders', 'Transmission', 'Fuel Type']"
   ]
  },
  {
   "cell_type": "code",
   "execution_count": 37,
   "id": "1c43c297",
   "metadata": {},
   "outputs": [],
   "source": [
    "cont_cols = ['Fuel Consumption (City (L/100 km)', 'Fuel Consumption(Hwy (L/100 km))', 'Fuel Consumption(Comb (L/100 km))', 'CO2 Emissions(g/km)', 'CO2 Rating', 'Smog Rating']"
   ]
  },
  {
   "cell_type": "code",
   "execution_count": 38,
   "id": "c8f17280",
   "metadata": {},
   "outputs": [],
   "source": [
    "transformer = make_column_transformer((OneHotEncoder(), cat_cols),(StandardScaler(), cont_cols), remainder = 'passthrough')"
   ]
  },
  {
   "cell_type": "code",
   "execution_count": 39,
   "id": "3d615c61",
   "metadata": {},
   "outputs": [
    {
     "ename": "ValueError",
     "evalue": "For a sparse output, all columns should be a numeric or convertible to a numeric.",
     "output_type": "error",
     "traceback": [
      "\u001b[1;31m---------------------------------------------------------------------------\u001b[0m",
      "\u001b[1;31mValueError\u001b[0m                                Traceback (most recent call last)",
      "\u001b[1;32mD:\\Anaconda\\lib\\site-packages\\sklearn\\compose\\_column_transformer.py\u001b[0m in \u001b[0;36m_hstack\u001b[1;34m(self, Xs)\u001b[0m\n\u001b[0;32m    775\u001b[0m                 \u001b[1;31m# dtype conversion if necessary.\u001b[0m\u001b[1;33m\u001b[0m\u001b[1;33m\u001b[0m\u001b[0m\n\u001b[1;32m--> 776\u001b[1;33m                 converted_Xs = [\n\u001b[0m\u001b[0;32m    777\u001b[0m                     \u001b[0mcheck_array\u001b[0m\u001b[1;33m(\u001b[0m\u001b[0mX\u001b[0m\u001b[1;33m,\u001b[0m \u001b[0maccept_sparse\u001b[0m\u001b[1;33m=\u001b[0m\u001b[1;32mTrue\u001b[0m\u001b[1;33m,\u001b[0m \u001b[0mforce_all_finite\u001b[0m\u001b[1;33m=\u001b[0m\u001b[1;32mFalse\u001b[0m\u001b[1;33m)\u001b[0m\u001b[1;33m\u001b[0m\u001b[1;33m\u001b[0m\u001b[0m\n",
      "\u001b[1;32mD:\\Anaconda\\lib\\site-packages\\sklearn\\compose\\_column_transformer.py\u001b[0m in \u001b[0;36m<listcomp>\u001b[1;34m(.0)\u001b[0m\n\u001b[0;32m    776\u001b[0m                 converted_Xs = [\n\u001b[1;32m--> 777\u001b[1;33m                     \u001b[0mcheck_array\u001b[0m\u001b[1;33m(\u001b[0m\u001b[0mX\u001b[0m\u001b[1;33m,\u001b[0m \u001b[0maccept_sparse\u001b[0m\u001b[1;33m=\u001b[0m\u001b[1;32mTrue\u001b[0m\u001b[1;33m,\u001b[0m \u001b[0mforce_all_finite\u001b[0m\u001b[1;33m=\u001b[0m\u001b[1;32mFalse\u001b[0m\u001b[1;33m)\u001b[0m\u001b[1;33m\u001b[0m\u001b[1;33m\u001b[0m\u001b[0m\n\u001b[0m\u001b[0;32m    778\u001b[0m                     \u001b[1;32mfor\u001b[0m \u001b[0mX\u001b[0m \u001b[1;32min\u001b[0m \u001b[0mXs\u001b[0m\u001b[1;33m\u001b[0m\u001b[1;33m\u001b[0m\u001b[0m\n",
      "\u001b[1;32mD:\\Anaconda\\lib\\site-packages\\sklearn\\utils\\validation.py\u001b[0m in \u001b[0;36mcheck_array\u001b[1;34m(array, accept_sparse, accept_large_sparse, dtype, order, copy, force_all_finite, ensure_2d, allow_nd, ensure_min_samples, ensure_min_features, estimator, input_name)\u001b[0m\n\u001b[0;32m    855\u001b[0m                 \u001b[1;32melse\u001b[0m\u001b[1;33m:\u001b[0m\u001b[1;33m\u001b[0m\u001b[1;33m\u001b[0m\u001b[0m\n\u001b[1;32m--> 856\u001b[1;33m                     \u001b[0marray\u001b[0m \u001b[1;33m=\u001b[0m \u001b[0mnp\u001b[0m\u001b[1;33m.\u001b[0m\u001b[0masarray\u001b[0m\u001b[1;33m(\u001b[0m\u001b[0marray\u001b[0m\u001b[1;33m,\u001b[0m \u001b[0morder\u001b[0m\u001b[1;33m=\u001b[0m\u001b[0morder\u001b[0m\u001b[1;33m,\u001b[0m \u001b[0mdtype\u001b[0m\u001b[1;33m=\u001b[0m\u001b[0mdtype\u001b[0m\u001b[1;33m)\u001b[0m\u001b[1;33m\u001b[0m\u001b[1;33m\u001b[0m\u001b[0m\n\u001b[0m\u001b[0;32m    857\u001b[0m             \u001b[1;32mexcept\u001b[0m \u001b[0mComplexWarning\u001b[0m \u001b[1;32mas\u001b[0m \u001b[0mcomplex_warning\u001b[0m\u001b[1;33m:\u001b[0m\u001b[1;33m\u001b[0m\u001b[1;33m\u001b[0m\u001b[0m\n",
      "\u001b[1;32mD:\\Anaconda\\lib\\site-packages\\numpy\\core\\_asarray.py\u001b[0m in \u001b[0;36masarray\u001b[1;34m(a, dtype, order, like)\u001b[0m\n\u001b[0;32m    101\u001b[0m \u001b[1;33m\u001b[0m\u001b[0m\n\u001b[1;32m--> 102\u001b[1;33m     \u001b[1;32mreturn\u001b[0m \u001b[0marray\u001b[0m\u001b[1;33m(\u001b[0m\u001b[0ma\u001b[0m\u001b[1;33m,\u001b[0m \u001b[0mdtype\u001b[0m\u001b[1;33m,\u001b[0m \u001b[0mcopy\u001b[0m\u001b[1;33m=\u001b[0m\u001b[1;32mFalse\u001b[0m\u001b[1;33m,\u001b[0m \u001b[0morder\u001b[0m\u001b[1;33m=\u001b[0m\u001b[0morder\u001b[0m\u001b[1;33m)\u001b[0m\u001b[1;33m\u001b[0m\u001b[1;33m\u001b[0m\u001b[0m\n\u001b[0m\u001b[0;32m    103\u001b[0m \u001b[1;33m\u001b[0m\u001b[0m\n",
      "\u001b[1;32mD:\\Anaconda\\lib\\site-packages\\pandas\\core\\generic.py\u001b[0m in \u001b[0;36m__array__\u001b[1;34m(self, dtype)\u001b[0m\n\u001b[0;32m   1992\u001b[0m     \u001b[1;32mdef\u001b[0m \u001b[0m__array__\u001b[0m\u001b[1;33m(\u001b[0m\u001b[0mself\u001b[0m\u001b[1;33m,\u001b[0m \u001b[0mdtype\u001b[0m\u001b[1;33m:\u001b[0m \u001b[0mNpDtype\u001b[0m \u001b[1;33m|\u001b[0m \u001b[1;32mNone\u001b[0m \u001b[1;33m=\u001b[0m \u001b[1;32mNone\u001b[0m\u001b[1;33m)\u001b[0m \u001b[1;33m->\u001b[0m \u001b[0mnp\u001b[0m\u001b[1;33m.\u001b[0m\u001b[0mndarray\u001b[0m\u001b[1;33m:\u001b[0m\u001b[1;33m\u001b[0m\u001b[1;33m\u001b[0m\u001b[0m\n\u001b[1;32m-> 1993\u001b[1;33m         \u001b[1;32mreturn\u001b[0m \u001b[0mnp\u001b[0m\u001b[1;33m.\u001b[0m\u001b[0masarray\u001b[0m\u001b[1;33m(\u001b[0m\u001b[0mself\u001b[0m\u001b[1;33m.\u001b[0m\u001b[0m_values\u001b[0m\u001b[1;33m,\u001b[0m \u001b[0mdtype\u001b[0m\u001b[1;33m=\u001b[0m\u001b[0mdtype\u001b[0m\u001b[1;33m)\u001b[0m\u001b[1;33m\u001b[0m\u001b[1;33m\u001b[0m\u001b[0m\n\u001b[0m\u001b[0;32m   1994\u001b[0m \u001b[1;33m\u001b[0m\u001b[0m\n",
      "\u001b[1;32mD:\\Anaconda\\lib\\site-packages\\numpy\\core\\_asarray.py\u001b[0m in \u001b[0;36masarray\u001b[1;34m(a, dtype, order, like)\u001b[0m\n\u001b[0;32m    101\u001b[0m \u001b[1;33m\u001b[0m\u001b[0m\n\u001b[1;32m--> 102\u001b[1;33m     \u001b[1;32mreturn\u001b[0m \u001b[0marray\u001b[0m\u001b[1;33m(\u001b[0m\u001b[0ma\u001b[0m\u001b[1;33m,\u001b[0m \u001b[0mdtype\u001b[0m\u001b[1;33m,\u001b[0m \u001b[0mcopy\u001b[0m\u001b[1;33m=\u001b[0m\u001b[1;32mFalse\u001b[0m\u001b[1;33m,\u001b[0m \u001b[0morder\u001b[0m\u001b[1;33m=\u001b[0m\u001b[0morder\u001b[0m\u001b[1;33m)\u001b[0m\u001b[1;33m\u001b[0m\u001b[1;33m\u001b[0m\u001b[0m\n\u001b[0m\u001b[0;32m    103\u001b[0m \u001b[1;33m\u001b[0m\u001b[0m\n",
      "\u001b[1;31mValueError\u001b[0m: could not convert string to float: 'Nissan'",
      "\nThe above exception was the direct cause of the following exception:\n",
      "\u001b[1;31mValueError\u001b[0m                                Traceback (most recent call last)",
      "\u001b[1;32m~\\AppData\\Local\\Temp/ipykernel_30984/2477941630.py\u001b[0m in \u001b[0;36m<module>\u001b[1;34m\u001b[0m\n\u001b[0;32m      1\u001b[0m \u001b[1;31m#TO split data\u001b[0m\u001b[1;33m\u001b[0m\u001b[1;33m\u001b[0m\u001b[0m\n\u001b[1;32m----> 2\u001b[1;33m \u001b[0mX_train\u001b[0m \u001b[1;33m=\u001b[0m \u001b[0mtransformer\u001b[0m\u001b[1;33m.\u001b[0m\u001b[0mfit_transform\u001b[0m\u001b[1;33m(\u001b[0m\u001b[0mX_train\u001b[0m\u001b[1;33m)\u001b[0m\u001b[1;33m\u001b[0m\u001b[1;33m\u001b[0m\u001b[0m\n\u001b[0m\u001b[0;32m      3\u001b[0m \u001b[0mX_test\u001b[0m \u001b[1;33m=\u001b[0m \u001b[0mtransformer\u001b[0m\u001b[1;33m.\u001b[0m\u001b[0mtransform\u001b[0m\u001b[1;33m(\u001b[0m\u001b[0mX_test\u001b[0m\u001b[1;33m)\u001b[0m\u001b[1;33m\u001b[0m\u001b[1;33m\u001b[0m\u001b[0m\n",
      "\u001b[1;32mD:\\Anaconda\\lib\\site-packages\\sklearn\\compose\\_column_transformer.py\u001b[0m in \u001b[0;36mfit_transform\u001b[1;34m(self, X, y)\u001b[0m\n\u001b[0;32m    695\u001b[0m         \u001b[0mself\u001b[0m\u001b[1;33m.\u001b[0m\u001b[0m_record_output_indices\u001b[0m\u001b[1;33m(\u001b[0m\u001b[0mXs\u001b[0m\u001b[1;33m)\u001b[0m\u001b[1;33m\u001b[0m\u001b[1;33m\u001b[0m\u001b[0m\n\u001b[0;32m    696\u001b[0m \u001b[1;33m\u001b[0m\u001b[0m\n\u001b[1;32m--> 697\u001b[1;33m         \u001b[1;32mreturn\u001b[0m \u001b[0mself\u001b[0m\u001b[1;33m.\u001b[0m\u001b[0m_hstack\u001b[0m\u001b[1;33m(\u001b[0m\u001b[0mlist\u001b[0m\u001b[1;33m(\u001b[0m\u001b[0mXs\u001b[0m\u001b[1;33m)\u001b[0m\u001b[1;33m)\u001b[0m\u001b[1;33m\u001b[0m\u001b[1;33m\u001b[0m\u001b[0m\n\u001b[0m\u001b[0;32m    698\u001b[0m \u001b[1;33m\u001b[0m\u001b[0m\n\u001b[0;32m    699\u001b[0m     \u001b[1;32mdef\u001b[0m \u001b[0mtransform\u001b[0m\u001b[1;33m(\u001b[0m\u001b[0mself\u001b[0m\u001b[1;33m,\u001b[0m \u001b[0mX\u001b[0m\u001b[1;33m)\u001b[0m\u001b[1;33m:\u001b[0m\u001b[1;33m\u001b[0m\u001b[1;33m\u001b[0m\u001b[0m\n",
      "\u001b[1;32mD:\\Anaconda\\lib\\site-packages\\sklearn\\compose\\_column_transformer.py\u001b[0m in \u001b[0;36m_hstack\u001b[1;34m(self, Xs)\u001b[0m\n\u001b[0;32m    779\u001b[0m                 ]\n\u001b[0;32m    780\u001b[0m             \u001b[1;32mexcept\u001b[0m \u001b[0mValueError\u001b[0m \u001b[1;32mas\u001b[0m \u001b[0me\u001b[0m\u001b[1;33m:\u001b[0m\u001b[1;33m\u001b[0m\u001b[1;33m\u001b[0m\u001b[0m\n\u001b[1;32m--> 781\u001b[1;33m                 raise ValueError(\n\u001b[0m\u001b[0;32m    782\u001b[0m                     \u001b[1;34m\"For a sparse output, all columns should \"\u001b[0m\u001b[1;33m\u001b[0m\u001b[1;33m\u001b[0m\u001b[0m\n\u001b[0;32m    783\u001b[0m                     \u001b[1;34m\"be a numeric or convertible to a numeric.\"\u001b[0m\u001b[1;33m\u001b[0m\u001b[1;33m\u001b[0m\u001b[0m\n",
      "\u001b[1;31mValueError\u001b[0m: For a sparse output, all columns should be a numeric or convertible to a numeric."
     ]
    }
   ],
   "source": [
    "#TO split data \n",
    "X_train = transformer.fit_transform(X_train)\n",
    "X_test = transformer.transform(X_test)"
   ]
  },
  {
   "cell_type": "code",
   "execution_count": null,
   "id": "b8907fc7",
   "metadata": {},
   "outputs": [],
   "source": [
    "le = LabelEncoder()\n",
    "y_train = le.fit_transform(y_train)\n",
    "y_test = le.transform(y_test)"
   ]
  },
  {
   "cell_type": "code",
   "execution_count": 13,
   "id": "e437592c",
   "metadata": {},
   "outputs": [],
   "source": [
    "from sklearn.linear_model import LogisticRegression, SGDClassifier\n",
    "from sklearn.tree import DecisionTreeClassifier\n",
    "from sklearn.naive_bayes import GaussianNB\n",
    "from sklearn.neighbors import KNeighborsClassifier\n",
    "from sklearn.ensemble import RandomForestClassifier\n",
    "from sklearn.svm import SVC\n",
    "from sklearn.ensemble import AdaBoostClassifier\n",
    "from catboost import CatBoostClassifier\n",
    "from lightgbm import LGBMClassifier\n",
    "from xgboost import XGBClassifier\n",
    "from sklearn.metrics import accuracy_score\n",
    "from yellowbrick.contrib.wrapper import wrap\n",
    "from yellowbrick.classifier import ClassificationReport, ConfusionMatrix, ROCAUC, PrecisionRecallCurve\n",
    "import warnings\n",
    "warnings.filterwarnings(\"ignore\")"
   ]
  },
  {
   "cell_type": "markdown",
   "id": "92bd6ca1",
   "metadata": {},
   "source": [
    "# Logistic Regression"
   ]
  },
  {
   "cell_type": "code",
   "execution_count": null,
   "id": "8625c75f",
   "metadata": {},
   "outputs": [],
   "source": [
    "#Created an obj for logistic regression \n",
    "log_reg = LogisticRegression(random_state = 10)\n",
    "log_reg.fit(X_train, y_train)"
   ]
  },
  {
   "cell_type": "code",
   "execution_count": null,
   "id": "0b6ef226",
   "metadata": {},
   "outputs": [],
   "source": [
    "#Training Accuracy\n",
    "log_reg.score(X_train, y_train)"
   ]
  },
  {
   "cell_type": "code",
   "execution_count": null,
   "id": "33988fe8",
   "metadata": {},
   "outputs": [],
   "source": [
    "#Evalution of Model\n",
    "y_pred = log_reg.predict(X_test)\n",
    "accuracy_score(y_test, y_pred) "
   ]
  },
  {
   "cell_type": "code",
   "execution_count": null,
   "id": "cdcbe351",
   "metadata": {},
   "outputs": [],
   "source": [
    "visualizer = ClassificationReport(log_reg, support = True, color_bar = True, cmap = rnd.choice(colors))\n",
    "visualizer.fit(X_train, y_train)        \n",
    "visualizer.score(X_test, y_test)   \n",
    "visualizer.show()"
   ]
  },
  {
   "cell_type": "code",
   "execution_count": null,
   "id": "1e7e3571",
   "metadata": {},
   "outputs": [],
   "source": [
    "visualizer = ConfusionMatrix(log_reg, support = True, color_bar = True, cmap = rnd.choice(colors))\n",
    "visualizer.fit(X_train, y_train)        \n",
    "visualizer.score(X_test, y_test)   \n",
    "visualizer.show() "
   ]
  },
  {
   "cell_type": "code",
   "execution_count": null,
   "id": "3be05eb5",
   "metadata": {},
   "outputs": [],
   "source": [
    "visualizer = ROCAUC(log_reg, support = True, color_bar = True, cmap = rnd.choice(colors))\n",
    "visualizer.fit(X_train, y_train)        \n",
    "visualizer.score(X_test, y_test)   \n",
    "visualizer.show()"
   ]
  },
  {
   "cell_type": "code",
   "execution_count": null,
   "id": "e970f394",
   "metadata": {},
   "outputs": [],
   "source": [
    "visualizer = PrecisionRecallCurve(log_reg, support = True, color_bar = True, cmap = rnd.choice(colors))\n",
    "visualizer.fit(X_train, y_train)        \n",
    "visualizer.score(X_test, y_test)   \n",
    "visualizer.show() "
   ]
  },
  {
   "cell_type": "markdown",
   "id": "3d5da703",
   "metadata": {},
   "source": [
    "# Decision Tree"
   ]
  },
  {
   "cell_type": "code",
   "execution_count": null,
   "id": "f4f5545d",
   "metadata": {},
   "outputs": [],
   "source": [
    "#Created an obj for Decision Tree \n",
    "dec_tree = DecisionTreeClassifier(max_depth = 25, min_samples_split = 5, random_state = 10)\n",
    "dec_tree.fit(X_train, y_train)"
   ]
  },
  {
   "cell_type": "code",
   "execution_count": null,
   "id": "a2812743",
   "metadata": {},
   "outputs": [],
   "source": [
    "#Training Accuracy\n",
    "dec_tree.score(X_train, y_train)"
   ]
  },
  {
   "cell_type": "code",
   "execution_count": null,
   "id": "2bd8a58d",
   "metadata": {},
   "outputs": [],
   "source": [
    "#Evalution of Model\n",
    "y_pred = dec_tree.predict(X_test)\n",
    "accuracy_score(y_test, y_pred)"
   ]
  },
  {
   "cell_type": "code",
   "execution_count": null,
   "id": "a844c26f",
   "metadata": {},
   "outputs": [],
   "source": [
    "visualizer = ClassificationReport(dec_tree, support = True, color_bar = True, cmap = rnd.choice(colors))\n",
    "visualizer.fit(X_train, y_train)        \n",
    "visualizer.score(X_test, y_test)   \n",
    "visualizer.show()"
   ]
  },
  {
   "cell_type": "code",
   "execution_count": null,
   "id": "88e3d276",
   "metadata": {},
   "outputs": [],
   "source": [
    "visualizer = ConfusionMatrix(dec_tree, support = True, color_bar = True, cmap = rnd.choice(colors))\n",
    "visualizer.fit(X_train, y_train)        \n",
    "visualizer.score(X_test, y_test)   \n",
    "visualizer.show() "
   ]
  },
  {
   "cell_type": "code",
   "execution_count": null,
   "id": "c6351a15",
   "metadata": {},
   "outputs": [],
   "source": [
    "visualizer = ROCAUC(dec_tree, support = True, color_bar = True, cmap = rnd.choice(colors))\n",
    "visualizer.fit(X_train, y_train)        \n",
    "visualizer.score(X_test, y_test)   \n",
    "visualizer.show()"
   ]
  },
  {
   "cell_type": "code",
   "execution_count": null,
   "id": "b350ab47",
   "metadata": {},
   "outputs": [],
   "source": [
    "visualizer = PrecisionRecallCurve(dec_tree, support = True, color_bar = True, cmap = rnd.choice(colors))\n",
    "visualizer.fit(X_train, y_train)        \n",
    "visualizer.score(X_test, y_test)   \n",
    "visualizer.show()"
   ]
  },
  {
   "cell_type": "markdown",
   "id": "393492da",
   "metadata": {},
   "source": [
    "# Gaussian Naive Bayes"
   ]
  },
  {
   "cell_type": "code",
   "execution_count": null,
   "id": "272d834c",
   "metadata": {},
   "outputs": [],
   "source": [
    "#Created an obj for Gaussian Naive Bayes\n",
    "gnb = GaussianNB()\n",
    "gnb.fit(X_train, y_train)"
   ]
  },
  {
   "cell_type": "code",
   "execution_count": null,
   "id": "ea386047",
   "metadata": {},
   "outputs": [],
   "source": [
    "#Training Accuracy\n",
    "gnb.score(X_train, y_train)"
   ]
  },
  {
   "cell_type": "code",
   "execution_count": null,
   "id": "28aace29",
   "metadata": {},
   "outputs": [],
   "source": [
    "#Evalution of Model\n",
    "y_pred = gnb.predict(X_test)\n",
    "test_acc = accuracy_score(y_test, y_pred)"
   ]
  },
  {
   "cell_type": "code",
   "execution_count": null,
   "id": "e9e5bc63",
   "metadata": {},
   "outputs": [],
   "source": [
    "visualizer = ClassificationReport(gnb, support = True, color_bar = True, cmap = rnd.choice(colors))\n",
    "visualizer.fit(X_train, y_train)        \n",
    "visualizer.score(X_test, y_test)   \n",
    "visualizer.show()"
   ]
  },
  {
   "cell_type": "code",
   "execution_count": null,
   "id": "97fb8c28",
   "metadata": {},
   "outputs": [],
   "source": [
    "visualizer = ConfusionMatrix(gnb, support = True, color_bar = True, cmap = rnd.choice(colors))\n",
    "visualizer.fit(X_train, y_train)        \n",
    "visualizer.score(X_test, y_test)   \n",
    "visualizer.show()"
   ]
  },
  {
   "cell_type": "code",
   "execution_count": null,
   "id": "b130f92a",
   "metadata": {},
   "outputs": [],
   "source": [
    "visualizer = ROCAUC(gnb, support = True, color_bar = True, cmap = rnd.choice(colors))\n",
    "visualizer.fit(X_train, y_train)        \n",
    "visualizer.score(X_test, y_test)   \n",
    "visualizer.show()"
   ]
  },
  {
   "cell_type": "code",
   "execution_count": null,
   "id": "311b1f75",
   "metadata": {},
   "outputs": [],
   "source": [
    "visualizer = PrecisionRecallCurve(gnb, support = True, color_bar = True, cmap = rnd.choice(colors))\n",
    "visualizer.fit(X_train, y_train)        \n",
    "visualizer.score(X_test, y_test)   \n",
    "visualizer.show()"
   ]
  },
  {
   "cell_type": "markdown",
   "id": "d6d72a17",
   "metadata": {},
   "source": [
    "# Random Forest"
   ]
  },
  {
   "cell_type": "code",
   "execution_count": null,
   "id": "766d4990",
   "metadata": {},
   "outputs": [],
   "source": [
    "#Created an obj for Random Forest\n",
    "rand_for = RandomForestClassifier(n_jobs = None, max_depth = 25, min_samples_split = 5, random_state = 10, n_estimators= 200)\n",
    "rand_for.fit(X_train, y_train)"
   ]
  },
  {
   "cell_type": "code",
   "execution_count": null,
   "id": "54810475",
   "metadata": {},
   "outputs": [],
   "source": [
    "#Training Accuracy\n",
    "rand_for.score(X_train, y_train)"
   ]
  },
  {
   "cell_type": "code",
   "execution_count": null,
   "id": "32256739",
   "metadata": {},
   "outputs": [],
   "source": [
    "#Evalution of Model\n",
    "y_pred = rand_for.predict(X_test)\n",
    "accuracy_score(y_test, y_pred) "
   ]
  },
  {
   "cell_type": "code",
   "execution_count": null,
   "id": "79396ef9",
   "metadata": {},
   "outputs": [],
   "source": [
    "visualizer = ClassificationReport(rand_for, support = True, color_bar = True, cmap = rnd.choice(colors))\n",
    "visualizer.fit(X_train, y_train)        \n",
    "visualizer.score(X_test, y_test)   \n",
    "visualizer.show()"
   ]
  },
  {
   "cell_type": "code",
   "execution_count": null,
   "id": "492d0a43",
   "metadata": {},
   "outputs": [],
   "source": [
    "visualizer = ConfusionMatrix(rand_for, support = True, color_bar = True, cmap = rnd.choice(colors))\n",
    "visualizer.fit(X_train, y_train)        \n",
    "visualizer.score(X_test, y_test)   \n",
    "visualizer.show()"
   ]
  },
  {
   "cell_type": "code",
   "execution_count": null,
   "id": "87b3c0cf",
   "metadata": {},
   "outputs": [],
   "source": [
    "visualizer = ROCAUC(rand_for, support = True, color_bar = True, cmap = rnd.choice(colors))\n",
    "visualizer.fit(X_train, y_train)        \n",
    "visualizer.score(X_test, y_test)   \n",
    "visualizer.show()  "
   ]
  },
  {
   "cell_type": "code",
   "execution_count": null,
   "id": "f7c3b410",
   "metadata": {},
   "outputs": [],
   "source": [
    "visualizer = PrecisionRecallCurve(rand_for, support = True, color_bar = True, cmap = rnd.choice(colors))\n",
    "visualizer.fit(X_train, y_train)        \n",
    "visualizer.score(X_test, y_test)   \n",
    "visualizer.show() "
   ]
  },
  {
   "cell_type": "markdown",
   "id": "493a7fa4",
   "metadata": {},
   "source": [
    "# K-Nearest Neighbors"
   ]
  },
  {
   "cell_type": "code",
   "execution_count": null,
   "id": "c6caa1f1",
   "metadata": {},
   "outputs": [],
   "source": [
    "#Created an obj for K - Nearest Neighbors\n",
    "knc = KNeighborsClassifier(n_jobs = -1, n_neighbors = 6)\n",
    "knc.fit(X_train, y_train)"
   ]
  },
  {
   "cell_type": "code",
   "execution_count": null,
   "id": "1d181889",
   "metadata": {},
   "outputs": [],
   "source": [
    "#Training Accuracy\n",
    "knc.score(X_train, y_train)"
   ]
  },
  {
   "cell_type": "code",
   "execution_count": null,
   "id": "e33252b6",
   "metadata": {},
   "outputs": [],
   "source": [
    "#Evalution of Model\n",
    "y_pred = knc.predict(X_test)\n",
    "accuracy_score(y_test, y_pred)"
   ]
  },
  {
   "cell_type": "code",
   "execution_count": null,
   "id": "dacf0af7",
   "metadata": {},
   "outputs": [],
   "source": [
    "visualizer = ClassificationReport(knc, support = True, color_bar = True, cmap = rnd.choice(colors))\n",
    "visualizer.fit(X_train, y_train)        \n",
    "visualizer.score(X_test, y_test)   \n",
    "visualizer.show() "
   ]
  },
  {
   "cell_type": "code",
   "execution_count": null,
   "id": "5adecfa4",
   "metadata": {},
   "outputs": [],
   "source": [
    "visualizer = ConfusionMatrix(knc, support = True, color_bar = True, cmap = rnd.choice(colors))\n",
    "visualizer.fit(X_train, y_train)        \n",
    "visualizer.score(X_test, y_test)   \n",
    "visualizer.show() "
   ]
  },
  {
   "cell_type": "code",
   "execution_count": null,
   "id": "f3ac5355",
   "metadata": {},
   "outputs": [],
   "source": [
    "visualizer = ROCAUC(knc, support = True, color_bar = True, cmap = rnd.choice(colors))\n",
    "visualizer.fit(X_train, y_train)        \n",
    "visualizer.score(X_test, y_test)   \n",
    "visualizer.show()"
   ]
  },
  {
   "cell_type": "code",
   "execution_count": null,
   "id": "b6d5bd3e",
   "metadata": {},
   "outputs": [],
   "source": [
    "visualizer = PrecisionRecallCurve(knc, support = True, color_bar = True, cmap = rnd.choice(colors))\n",
    "visualizer.fit(X_train, y_train)        \n",
    "visualizer.score(X_test, y_test)   \n",
    "visualizer.show() "
   ]
  },
  {
   "cell_type": "markdown",
   "id": "203f97c7",
   "metadata": {},
   "source": [
    "# Support Vector Machine"
   ]
  },
  {
   "cell_type": "code",
   "execution_count": null,
   "id": "f79a2b11",
   "metadata": {},
   "outputs": [],
   "source": [
    "#Created an obj for SVM\n",
    "svm = SVC(C = 0.25, kernel = 'linear', random_state = 10)\n",
    "svm.fit(X_train, y_train)"
   ]
  },
  {
   "cell_type": "code",
   "execution_count": null,
   "id": "c73367ab",
   "metadata": {},
   "outputs": [],
   "source": [
    "#Training Accuracy\n",
    "svm.score(X_train, y_train)"
   ]
  },
  {
   "cell_type": "code",
   "execution_count": null,
   "id": "6bf15b3a",
   "metadata": {},
   "outputs": [],
   "source": [
    "#Evalution of Model\n",
    "y_pred = svm.predict(X_test)\n",
    "accuracy_score(y_test, y_pred)"
   ]
  },
  {
   "cell_type": "code",
   "execution_count": null,
   "id": "d12448c4",
   "metadata": {},
   "outputs": [],
   "source": [
    "visualizer = ClassificationReport(svm, support = True, color_bar = True, cmap = rnd.choice(colors))\n",
    "visualizer.fit(X_train, y_train)        \n",
    "visualizer.score(X_test, y_test)   \n",
    "visualizer.show()"
   ]
  },
  {
   "cell_type": "code",
   "execution_count": null,
   "id": "6530e292",
   "metadata": {},
   "outputs": [],
   "source": [
    "visualizer = ConfusionMatrix(svm, support = True, color_bar = True, cmap = rnd.choice(colors))\n",
    "visualizer.fit(X_train, y_train)        \n",
    "visualizer.score(X_test, y_test)   \n",
    "visualizer.show()"
   ]
  },
  {
   "cell_type": "code",
   "execution_count": null,
   "id": "37bb58bf",
   "metadata": {},
   "outputs": [],
   "source": [
    "visualizer = ROCAUC(svm, support = True, color_bar = True, cmap = rnd.choice(colors), binary = True)\n",
    "visualizer.fit(X_train, y_train)        \n",
    "visualizer.score(X_test, y_test)   \n",
    "visualizer.show() "
   ]
  },
  {
   "cell_type": "code",
   "execution_count": null,
   "id": "e1f8f120",
   "metadata": {},
   "outputs": [],
   "source": [
    "visualizer = PrecisionRecallCurve(svm, support = True, color_bar = True, cmap = rnd.choice(colors))\n",
    "visualizer.fit(X_train, y_train)        \n",
    "visualizer.score(X_test, y_test)   \n",
    "visualizer.show()"
   ]
  },
  {
   "cell_type": "markdown",
   "id": "1f814dd4",
   "metadata": {},
   "source": [
    "# Stochastic Gradient Descent"
   ]
  },
  {
   "cell_type": "code",
   "execution_count": null,
   "id": "21ecd2cd",
   "metadata": {},
   "outputs": [],
   "source": [
    "#Created an obj for SGD\n",
    "sgd = SGDClassifier(loss = 'modified_huber', max_iter = 2000, shuffle = False, n_jobs = None, early_stopping = False, random_state = 10)\n",
    "sgd.fit(X_train, y_train)"
   ]
  },
  {
   "cell_type": "code",
   "execution_count": null,
   "id": "5c3c0a21",
   "metadata": {},
   "outputs": [],
   "source": [
    "#Training Accuracy\n",
    "sgd.score(X_train, y_train)"
   ]
  },
  {
   "cell_type": "code",
   "execution_count": null,
   "id": "0310ba7d",
   "metadata": {},
   "outputs": [],
   "source": [
    "#Evalution of Model\n",
    "y_pred = sgd.predict(X_test)\n",
    "accuracy_score(y_test, y_pred)"
   ]
  },
  {
   "cell_type": "code",
   "execution_count": null,
   "id": "b8e41c27",
   "metadata": {},
   "outputs": [],
   "source": [
    "visualizer = ClassificationReport(sgd, support = True, color_bar = True, cmap = rnd.choice(colors))\n",
    "visualizer.fit(X_train, y_train)        \n",
    "visualizer.score(X_test, y_test)   \n",
    "visualizer.show()"
   ]
  },
  {
   "cell_type": "code",
   "execution_count": null,
   "id": "38f4fb0d",
   "metadata": {},
   "outputs": [],
   "source": [
    "visualizer = ConfusionMatrix(sgd, support = True, color_bar = True, cmap = rnd.choice(colors))\n",
    "visualizer.fit(X_train, y_train)        \n",
    "visualizer.score(X_test, y_test)   \n",
    "visualizer.show()"
   ]
  },
  {
   "cell_type": "code",
   "execution_count": null,
   "id": "f7d00df7",
   "metadata": {},
   "outputs": [],
   "source": [
    "visualizer = ROCAUC(sgd, support = True, color_bar = True, cmap = rnd.choice(colors))\n",
    "visualizer.fit(X_train, y_train)        \n",
    "visualizer.score(X_test, y_test)   \n",
    "visualizer.show()"
   ]
  },
  {
   "cell_type": "code",
   "execution_count": null,
   "id": "cd70e0a5",
   "metadata": {},
   "outputs": [],
   "source": [
    "visualizer = PrecisionRecallCurve(sgd, support = True, color_bar = True, cmap = rnd.choice(colors))\n",
    "visualizer.fit(X_train, y_train)        \n",
    "visualizer.score(X_test, y_test)   \n",
    "visualizer.show()"
   ]
  },
  {
   "cell_type": "markdown",
   "id": "55d74976",
   "metadata": {},
   "source": [
    "# Ada Boost"
   ]
  },
  {
   "cell_type": "code",
   "execution_count": null,
   "id": "abb95fe3",
   "metadata": {},
   "outputs": [],
   "source": [
    "#Created an obj for Ada Boost\n",
    "adab = AdaBoostClassifier(n_estimators = 200, learning_rate = 0.1 , random_state = 10)\n",
    "adab.fit(X_train, y_train)"
   ]
  },
  {
   "cell_type": "code",
   "execution_count": null,
   "id": "05a04831",
   "metadata": {},
   "outputs": [],
   "source": [
    "#Training Accuracy\n",
    "adab.score(X_train, y_train)"
   ]
  },
  {
   "cell_type": "code",
   "execution_count": null,
   "id": "84c2a74d",
   "metadata": {},
   "outputs": [],
   "source": [
    "#Evalution of Model\n",
    "y_pred = adab.predict(X_test)\n",
    "accuracy_score(y_test, y_pred)"
   ]
  },
  {
   "cell_type": "code",
   "execution_count": null,
   "id": "80007c6b",
   "metadata": {},
   "outputs": [],
   "source": [
    "visualizer = ClassificationReport(adab, support = True, color_bar = True, cmap = rnd.choice(colors))\n",
    "visualizer.fit(X_train, y_train)        \n",
    "visualizer.score(X_test, y_test)   \n",
    "visualizer.show()"
   ]
  },
  {
   "cell_type": "code",
   "execution_count": null,
   "id": "07f559ec",
   "metadata": {},
   "outputs": [],
   "source": [
    "visualizer = ConfusionMatrix(adab, support = True, color_bar = True, cmap = rnd.choice(colors))\n",
    "visualizer.fit(X_train, y_train)        \n",
    "visualizer.score(X_test, y_test)   \n",
    "visualizer.show()"
   ]
  },
  {
   "cell_type": "code",
   "execution_count": null,
   "id": "4bea1540",
   "metadata": {},
   "outputs": [],
   "source": [
    "visualizer = ROCAUC(adab, support = True, color_bar = True, cmap = rnd.choice(colors))\n",
    "visualizer.fit(X_train, y_train)        \n",
    "visualizer.score(X_test, y_test)   \n",
    "visualizer.show()"
   ]
  },
  {
   "cell_type": "code",
   "execution_count": null,
   "id": "0e5b7cba",
   "metadata": {},
   "outputs": [],
   "source": [
    "visualizer = PrecisionRecallCurve(adab, support = True, color_bar = True, cmap = rnd.choice(colors))\n",
    "visualizer.fit(X_train, y_train)        \n",
    "visualizer.score(X_test, y_test)   \n",
    "visualizer.show() "
   ]
  },
  {
   "cell_type": "markdown",
   "id": "92dba416",
   "metadata": {},
   "source": [
    "# Extreme Gradient Boosting"
   ]
  },
  {
   "cell_type": "code",
   "execution_count": null,
   "id": "2324e411",
   "metadata": {},
   "outputs": [],
   "source": [
    "#Created an obj for Extreme Gradient Boosting\n",
    "xgb = XGBClassifier(tree_method = 'gpu_hist', n_estimators = 200, learning_rate = 0.1 , random_state = 10)\n",
    "xgb.fit(X_train, y_train)"
   ]
  },
  {
   "cell_type": "code",
   "execution_count": null,
   "id": "3577e1e1",
   "metadata": {},
   "outputs": [],
   "source": [
    "#Training Accuracy\n",
    "xgb.score(X_train, y_train)"
   ]
  },
  {
   "cell_type": "code",
   "execution_count": null,
   "id": "b96b7a9f",
   "metadata": {},
   "outputs": [],
   "source": [
    "#Evalution of Model\n",
    "y_pred = xgb.predict(X_test)\n",
    "accuracy_score(y_test, y_pred)"
   ]
  },
  {
   "cell_type": "code",
   "execution_count": null,
   "id": "0ca75351",
   "metadata": {},
   "outputs": [],
   "source": [
    "visualizer = ClassificationReport(xgb, support = True, color_bar = True, cmap = rnd.choice(colors))\n",
    "visualizer.fit(X_train, y_train)        \n",
    "visualizer.score(X_test, y_test)   \n",
    "visualizer.show() "
   ]
  },
  {
   "cell_type": "code",
   "execution_count": null,
   "id": "57fea6b7",
   "metadata": {},
   "outputs": [],
   "source": [
    "visualizer = ConfusionMatrix(xgb, support = True, color_bar = True, cmap = rnd.choice(colors))\n",
    "visualizer.fit(X_train, y_train)        \n",
    "visualizer.score(X_test, y_test)   \n",
    "visualizer.show()"
   ]
  },
  {
   "cell_type": "code",
   "execution_count": null,
   "id": "b251b02b",
   "metadata": {},
   "outputs": [],
   "source": [
    "visualizer = ROCAUC(xgb, support = True, color_bar = True, cmap = rnd.choice(colors))\n",
    "visualizer.fit(X_train, y_train)        \n",
    "visualizer.score(X_test, y_test)   \n",
    "visualizer.show()"
   ]
  },
  {
   "cell_type": "code",
   "execution_count": null,
   "id": "598d0584",
   "metadata": {},
   "outputs": [],
   "source": [
    "visualizer = PrecisionRecallCurve(xgb, support = True, color_bar = True, cmap = rnd.choice(colors))\n",
    "visualizer.fit(X_train, y_train)        \n",
    "visualizer.score(X_test, y_test)   \n",
    "visualizer.show()"
   ]
  },
  {
   "cell_type": "markdown",
   "id": "ce4afe4c",
   "metadata": {},
   "source": [
    "# Light Gradient Boosting Machine"
   ]
  },
  {
   "cell_type": "code",
   "execution_count": null,
   "id": "baec4a6c",
   "metadata": {},
   "outputs": [],
   "source": [
    "#Created an obj for Light Gradient Boosting Machine\n",
    "lgbm = LGBMClassifier(n_estimators = 200, num_leaves = 255, objective = 'binary', num_iterations = 1000, n_jobs = -1, max_depth = 5, random_state = 10)\n",
    "lgbm.fit(X_train, y_train)"
   ]
  },
  {
   "cell_type": "code",
   "execution_count": null,
   "id": "735d2457",
   "metadata": {},
   "outputs": [],
   "source": [
    "#Training Accuracy\n",
    "lgbm.score(X_train, y_train)"
   ]
  },
  {
   "cell_type": "code",
   "execution_count": null,
   "id": "d5403841",
   "metadata": {},
   "outputs": [],
   "source": [
    "#Evalution of Model\n",
    "y_pred = lgbm.predict(X_test)\n",
    "accuracy_score(y_test, y_pred)"
   ]
  },
  {
   "cell_type": "code",
   "execution_count": null,
   "id": "d9488a78",
   "metadata": {},
   "outputs": [],
   "source": [
    "visualizer = ClassificationReport(lgbm, support = True, color_bar = True, cmap = rnd.choice(colors))\n",
    "visualizer.fit(X_train, y_train)        \n",
    "visualizer.score(X_test, y_test)   \n",
    "visualizer.show()"
   ]
  },
  {
   "cell_type": "code",
   "execution_count": null,
   "id": "58f3716d",
   "metadata": {},
   "outputs": [],
   "source": [
    "visualizer = ConfusionMatrix(lgbm, support = True, color_bar = True, cmap = rnd.choice(colors))\n",
    "visualizer.fit(X_train, y_train)        \n",
    "visualizer.score(X_test, y_test)   \n",
    "visualizer.show()"
   ]
  },
  {
   "cell_type": "code",
   "execution_count": null,
   "id": "fed3b5dc",
   "metadata": {},
   "outputs": [],
   "source": [
    "visualizer = ROCAUC(xgb, support = True, color_bar = True, cmap = rnd.choice(colors))\n",
    "visualizer.fit(X_train, y_train)        \n",
    "visualizer.score(X_test, y_test)   \n",
    "visualizer.show()"
   ]
  },
  {
   "cell_type": "code",
   "execution_count": null,
   "id": "8490cb9e",
   "metadata": {},
   "outputs": [],
   "source": [
    "visualizer = PrecisionRecallCurve(lgbm, support = True, color_bar = True, cmap = rnd.choice(colors))\n",
    "visualizer.fit(X_train, y_train)        \n",
    "visualizer.score(X_test, y_test)   \n",
    "visualizer.show() "
   ]
  },
  {
   "cell_type": "markdown",
   "id": "e68b7383",
   "metadata": {},
   "source": [
    "# CatBoost"
   ]
  },
  {
   "cell_type": "code",
   "execution_count": null,
   "id": "0da50b2b",
   "metadata": {},
   "outputs": [],
   "source": [
    "#Created an obj for Cat Boost\n",
    "cat = CatBoostClassifier(task_type = \"GPU\", iterations = 1000, loss_function = 'Logloss', eval_metric ='Accuracy', random_state = 10, early_stopping_rounds = 100, od_type = \"Iter\")\n",
    "cat.fit(X_train, y_train, early_stopping_rounds = 100)"
   ]
  },
  {
   "cell_type": "code",
   "execution_count": null,
   "id": "cf4abe9a",
   "metadata": {},
   "outputs": [],
   "source": [
    "#Training Accuracy\n",
    "cat.score(X_train, y_train)"
   ]
  },
  {
   "cell_type": "code",
   "execution_count": null,
   "id": "c14b3716",
   "metadata": {},
   "outputs": [],
   "source": [
    "#Evalution of Model\n",
    "y_pred = cat.predict(X_test)\n",
    "accuracy_score(y_test, y_pred)"
   ]
  },
  {
   "cell_type": "code",
   "execution_count": null,
   "id": "0393e772",
   "metadata": {},
   "outputs": [],
   "source": [
    "cat = wrap(cat)"
   ]
  },
  {
   "cell_type": "code",
   "execution_count": null,
   "id": "381c415a",
   "metadata": {},
   "outputs": [],
   "source": [
    "visualizer = ClassificationReport(cat, support = True, color_bar = True, cmap = rnd.choice(colors))\n",
    "visualizer.fit(X_train, y_train)        \n",
    "visualizer.score(X_test, y_test)   \n",
    "visualizer.show()"
   ]
  },
  {
   "cell_type": "code",
   "execution_count": null,
   "id": "776969bc",
   "metadata": {},
   "outputs": [],
   "source": [
    "visualizer = ConfusionMatrix(cat, support = True, color_bar = True, cmap = rnd.choice(colors))\n",
    "visualizer.fit(X_train, y_train)        \n",
    "visualizer.score(X_test, y_test)   \n",
    "visualizer.show()"
   ]
  },
  {
   "cell_type": "code",
   "execution_count": null,
   "id": "5617188d",
   "metadata": {},
   "outputs": [],
   "source": [
    "visualizer = ROCAUC(cat, support = True, color_bar = True, cmap = rnd.choice(colors))\n",
    "visualizer.fit(X_train, y_train)        \n",
    "visualizer.score(X_test, y_test)   \n",
    "visualizer.show()"
   ]
  },
  {
   "cell_type": "code",
   "execution_count": null,
   "id": "db057a4d",
   "metadata": {},
   "outputs": [],
   "source": [
    "visualizer = PrecisionRecallCurve(cat, support = True, color_bar = True, cmap = rnd.choice(colors))\n",
    "visualizer.fit(X_train, y_train)        \n",
    "visualizer.score(X_test, y_test)   \n",
    "visualizer.show()"
   ]
  }
 ],
 "metadata": {
  "kernelspec": {
   "display_name": "Python 3 (ipykernel)",
   "language": "python",
   "name": "python3"
  },
  "language_info": {
   "codemirror_mode": {
    "name": "ipython",
    "version": 3
   },
   "file_extension": ".py",
   "mimetype": "text/x-python",
   "name": "python",
   "nbconvert_exporter": "python",
   "pygments_lexer": "ipython3",
   "version": "3.9.7"
  }
 },
 "nbformat": 4,
 "nbformat_minor": 5
}
