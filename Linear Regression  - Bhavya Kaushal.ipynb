{
 "cells": [
  {
   "cell_type": "markdown",
   "id": "62060cf9",
   "metadata": {},
   "source": [
    "# INTRODUCTION\n",
    "   The given data set contains the inforamtion about the weather of a place and it was being recorded for 2 years and contains 13 columns  and 17379 rows. The data tells about the weather and the factors on which the tempreture relies. It is a dataset took from a application which allows the people to check the information about weather.   "
   ]
  },
  {
   "cell_type": "markdown",
   "id": "dfd9d979",
   "metadata": {},
   "source": [
    "## About Data Set\n",
    "\n",
    "  | Records | Features | Dataset Size |\n",
    "          | :--: | :--: | :--: |\n",
    "          | 17379  | 13 | 958kb  | \n",
    "          \n",
    "          \n",
    "          \n",
    "          \n",
    "          \n",
    "          \n",
    "          \n",
    "          \n",
    " | ID | Feature                     | Description                       |  |  |                         |                           |\n",
    "| :-- | :--------------------------- | :--------------------------------- | :--: | :-- | :------------------------------- | :--------------------------------------- |\n",
    "| 1  | **date**                      | Date of that Entry|                   |\n",
    "| 2  | **season**                    | Season in which entry was recorded |                       |\n",
    "| 3  | **hour**                      | Hour in which the entry was recorded |                    \n",
    "| 4  | **holiday**                   | Was there a holiday or not (True, False)                    \n",
    "| 5  | **day_of_the_week**           | Day of the week                   | \n",
    "| 6  | **working_day**               | Was there a working day or not (True, False)  | \n",
    "| 7  | **weather_type**              | Type of weather (4 Types: 1,2,3,4)  |                     \n",
    "| 8  | **temperature_f**             | Tempreture of that day in Fahrenheit  |              \n",
    "| 9  | **temperature_feels_f**       | Tempreture feeling of that day  |                                \n",
    "| 10 | **humidity**                  | Humidity on that day |  \n",
    "| 11 | **wind_speed**                | Wind speed of that day |\n",
    "| 12 | **casual_users**              | People using application/website causally |\n",
    "| 13 | **Rregistered_users**         | People who registred themselves |\n",
    "| 14 | **total_users**               | Total number of users  |\n",
    "\n"
   ]
  },
  {
   "cell_type": "markdown",
   "id": "2580b031",
   "metadata": {},
   "source": [
    "# Importing Libraries and Dependencies"
   ]
  },
  {
   "cell_type": "code",
   "execution_count": 1,
   "id": "30b89c47",
   "metadata": {},
   "outputs": [],
   "source": [
    "import numpy as np\n",
    "import pandas as pd\n",
    "import matplotlib.pyplot as plt\n",
    "import seaborn as sns\n",
    "import random as rnd\n",
    "import warnings\n",
    "warnings.filterwarnings(\"ignore\")"
   ]
  },
  {
   "cell_type": "markdown",
   "id": "4129195d",
   "metadata": {},
   "source": [
    "# Reading Data"
   ]
  },
  {
   "cell_type": "code",
   "execution_count": 2,
   "id": "9f83d96e",
   "metadata": {},
   "outputs": [],
   "source": [
    "df = pd.read_csv('bike_data.csv')"
   ]
  },
  {
   "cell_type": "code",
   "execution_count": 3,
   "id": "62d4b001",
   "metadata": {},
   "outputs": [
    {
     "data": {
      "text/html": [
       "<div>\n",
       "<style scoped>\n",
       "    .dataframe tbody tr th:only-of-type {\n",
       "        vertical-align: middle;\n",
       "    }\n",
       "\n",
       "    .dataframe tbody tr th {\n",
       "        vertical-align: top;\n",
       "    }\n",
       "\n",
       "    .dataframe thead th {\n",
       "        text-align: right;\n",
       "    }\n",
       "</style>\n",
       "<table border=\"1\" class=\"dataframe\">\n",
       "  <thead>\n",
       "    <tr style=\"text-align: right;\">\n",
       "      <th></th>\n",
       "      <th>date</th>\n",
       "      <th>season</th>\n",
       "      <th>hour</th>\n",
       "      <th>holiday</th>\n",
       "      <th>day_of_the_week</th>\n",
       "      <th>working_day</th>\n",
       "      <th>weather_type</th>\n",
       "      <th>temperature_f</th>\n",
       "      <th>temperature_feels_f</th>\n",
       "      <th>humidity</th>\n",
       "      <th>wind_speed</th>\n",
       "      <th>casual_users</th>\n",
       "      <th>registered_users</th>\n",
       "      <th>total_users</th>\n",
       "    </tr>\n",
       "  </thead>\n",
       "  <tbody>\n",
       "    <tr>\n",
       "      <th>0</th>\n",
       "      <td>2011-01-01</td>\n",
       "      <td>4</td>\n",
       "      <td>0</td>\n",
       "      <td>False</td>\n",
       "      <td>6</td>\n",
       "      <td>False</td>\n",
       "      <td>1</td>\n",
       "      <td>36.6</td>\n",
       "      <td>37.4</td>\n",
       "      <td>81</td>\n",
       "      <td>0</td>\n",
       "      <td>3</td>\n",
       "      <td>13</td>\n",
       "      <td>16</td>\n",
       "    </tr>\n",
       "    <tr>\n",
       "      <th>1</th>\n",
       "      <td>2011-01-01</td>\n",
       "      <td>4</td>\n",
       "      <td>1</td>\n",
       "      <td>False</td>\n",
       "      <td>6</td>\n",
       "      <td>False</td>\n",
       "      <td>1</td>\n",
       "      <td>34.9</td>\n",
       "      <td>35.6</td>\n",
       "      <td>80</td>\n",
       "      <td>0</td>\n",
       "      <td>8</td>\n",
       "      <td>32</td>\n",
       "      <td>40</td>\n",
       "    </tr>\n",
       "    <tr>\n",
       "      <th>2</th>\n",
       "      <td>2011-01-01</td>\n",
       "      <td>4</td>\n",
       "      <td>2</td>\n",
       "      <td>False</td>\n",
       "      <td>6</td>\n",
       "      <td>False</td>\n",
       "      <td>1</td>\n",
       "      <td>34.9</td>\n",
       "      <td>35.6</td>\n",
       "      <td>80</td>\n",
       "      <td>0</td>\n",
       "      <td>5</td>\n",
       "      <td>27</td>\n",
       "      <td>32</td>\n",
       "    </tr>\n",
       "    <tr>\n",
       "      <th>3</th>\n",
       "      <td>2011-01-01</td>\n",
       "      <td>4</td>\n",
       "      <td>3</td>\n",
       "      <td>False</td>\n",
       "      <td>6</td>\n",
       "      <td>False</td>\n",
       "      <td>1</td>\n",
       "      <td>36.6</td>\n",
       "      <td>37.4</td>\n",
       "      <td>75</td>\n",
       "      <td>0</td>\n",
       "      <td>3</td>\n",
       "      <td>10</td>\n",
       "      <td>13</td>\n",
       "    </tr>\n",
       "    <tr>\n",
       "      <th>4</th>\n",
       "      <td>2011-01-01</td>\n",
       "      <td>4</td>\n",
       "      <td>4</td>\n",
       "      <td>False</td>\n",
       "      <td>6</td>\n",
       "      <td>False</td>\n",
       "      <td>1</td>\n",
       "      <td>36.6</td>\n",
       "      <td>37.4</td>\n",
       "      <td>75</td>\n",
       "      <td>0</td>\n",
       "      <td>0</td>\n",
       "      <td>1</td>\n",
       "      <td>1</td>\n",
       "    </tr>\n",
       "  </tbody>\n",
       "</table>\n",
       "</div>"
      ],
      "text/plain": [
       "         date  season  hour  holiday  day_of_the_week  working_day  \\\n",
       "0  2011-01-01       4     0    False                6        False   \n",
       "1  2011-01-01       4     1    False                6        False   \n",
       "2  2011-01-01       4     2    False                6        False   \n",
       "3  2011-01-01       4     3    False                6        False   \n",
       "4  2011-01-01       4     4    False                6        False   \n",
       "\n",
       "   weather_type  temperature_f  temperature_feels_f  humidity  wind_speed  \\\n",
       "0             1           36.6                 37.4        81           0   \n",
       "1             1           34.9                 35.6        80           0   \n",
       "2             1           34.9                 35.6        80           0   \n",
       "3             1           36.6                 37.4        75           0   \n",
       "4             1           36.6                 37.4        75           0   \n",
       "\n",
       "   casual_users  registered_users  total_users  \n",
       "0             3                13           16  \n",
       "1             8                32           40  \n",
       "2             5                27           32  \n",
       "3             3                10           13  \n",
       "4             0                 1            1  "
      ]
     },
     "execution_count": 3,
     "metadata": {},
     "output_type": "execute_result"
    }
   ],
   "source": [
    "df.head()"
   ]
  },
  {
   "cell_type": "markdown",
   "id": "a9e0781a",
   "metadata": {},
   "source": [
    "## Information about dataset"
   ]
  },
  {
   "cell_type": "code",
   "execution_count": 4,
   "id": "3ab23a41",
   "metadata": {},
   "outputs": [
    {
     "name": "stdout",
     "output_type": "stream",
     "text": [
      "<class 'pandas.core.frame.DataFrame'>\n",
      "RangeIndex: 17379 entries, 0 to 17378\n",
      "Data columns (total 14 columns):\n",
      " #   Column               Non-Null Count  Dtype  \n",
      "---  ------               --------------  -----  \n",
      " 0   date                 17379 non-null  object \n",
      " 1   season               17379 non-null  int64  \n",
      " 2   hour                 17379 non-null  int64  \n",
      " 3   holiday              17379 non-null  bool   \n",
      " 4   day_of_the_week      17379 non-null  int64  \n",
      " 5   working_day          17379 non-null  bool   \n",
      " 6   weather_type         17379 non-null  int64  \n",
      " 7   temperature_f        17379 non-null  float64\n",
      " 8   temperature_feels_f  17379 non-null  float64\n",
      " 9   humidity             17379 non-null  int64  \n",
      " 10  wind_speed           17379 non-null  int64  \n",
      " 11  casual_users         17379 non-null  int64  \n",
      " 12  registered_users     17379 non-null  int64  \n",
      " 13  total_users          17379 non-null  int64  \n",
      "dtypes: bool(2), float64(2), int64(9), object(1)\n",
      "memory usage: 1.6+ MB\n"
     ]
    }
   ],
   "source": [
    "df.info()"
   ]
  },
  {
   "cell_type": "code",
   "execution_count": 5,
   "id": "aa95c4c6",
   "metadata": {},
   "outputs": [
    {
     "data": {
      "text/html": [
       "<div>\n",
       "<style scoped>\n",
       "    .dataframe tbody tr th:only-of-type {\n",
       "        vertical-align: middle;\n",
       "    }\n",
       "\n",
       "    .dataframe tbody tr th {\n",
       "        vertical-align: top;\n",
       "    }\n",
       "\n",
       "    .dataframe thead th {\n",
       "        text-align: right;\n",
       "    }\n",
       "</style>\n",
       "<table border=\"1\" class=\"dataframe\">\n",
       "  <thead>\n",
       "    <tr style=\"text-align: right;\">\n",
       "      <th></th>\n",
       "      <th>season</th>\n",
       "      <th>hour</th>\n",
       "      <th>day_of_the_week</th>\n",
       "      <th>weather_type</th>\n",
       "      <th>temperature_f</th>\n",
       "      <th>temperature_feels_f</th>\n",
       "      <th>humidity</th>\n",
       "      <th>wind_speed</th>\n",
       "      <th>casual_users</th>\n",
       "      <th>registered_users</th>\n",
       "      <th>total_users</th>\n",
       "    </tr>\n",
       "  </thead>\n",
       "  <tbody>\n",
       "    <tr>\n",
       "      <th>count</th>\n",
       "      <td>17379.000000</td>\n",
       "      <td>17379.000000</td>\n",
       "      <td>17379.000000</td>\n",
       "      <td>17379.000000</td>\n",
       "      <td>17379.000000</td>\n",
       "      <td>17379.000000</td>\n",
       "      <td>17379.000000</td>\n",
       "      <td>17379.000000</td>\n",
       "      <td>17379.000000</td>\n",
       "      <td>17379.000000</td>\n",
       "      <td>17379.000000</td>\n",
       "    </tr>\n",
       "    <tr>\n",
       "      <th>mean</th>\n",
       "      <td>2.485241</td>\n",
       "      <td>11.546752</td>\n",
       "      <td>3.003683</td>\n",
       "      <td>1.425283</td>\n",
       "      <td>58.777507</td>\n",
       "      <td>59.722009</td>\n",
       "      <td>62.722884</td>\n",
       "      <td>12.736233</td>\n",
       "      <td>35.676218</td>\n",
       "      <td>153.786869</td>\n",
       "      <td>189.463088</td>\n",
       "    </tr>\n",
       "    <tr>\n",
       "      <th>std</th>\n",
       "      <td>1.115985</td>\n",
       "      <td>6.914405</td>\n",
       "      <td>2.005771</td>\n",
       "      <td>0.639357</td>\n",
       "      <td>16.620757</td>\n",
       "      <td>20.415345</td>\n",
       "      <td>19.292983</td>\n",
       "      <td>8.196891</td>\n",
       "      <td>49.305030</td>\n",
       "      <td>151.357286</td>\n",
       "      <td>181.387599</td>\n",
       "    </tr>\n",
       "    <tr>\n",
       "      <th>min</th>\n",
       "      <td>1.000000</td>\n",
       "      <td>0.000000</td>\n",
       "      <td>0.000000</td>\n",
       "      <td>1.000000</td>\n",
       "      <td>17.600000</td>\n",
       "      <td>3.200000</td>\n",
       "      <td>0.000000</td>\n",
       "      <td>0.000000</td>\n",
       "      <td>0.000000</td>\n",
       "      <td>0.000000</td>\n",
       "      <td>1.000000</td>\n",
       "    </tr>\n",
       "    <tr>\n",
       "      <th>25%</th>\n",
       "      <td>1.000000</td>\n",
       "      <td>6.000000</td>\n",
       "      <td>1.000000</td>\n",
       "      <td>1.000000</td>\n",
       "      <td>45.200000</td>\n",
       "      <td>42.800000</td>\n",
       "      <td>48.000000</td>\n",
       "      <td>7.000000</td>\n",
       "      <td>4.000000</td>\n",
       "      <td>34.000000</td>\n",
       "      <td>40.000000</td>\n",
       "    </tr>\n",
       "    <tr>\n",
       "      <th>50%</th>\n",
       "      <td>2.000000</td>\n",
       "      <td>12.000000</td>\n",
       "      <td>3.000000</td>\n",
       "      <td>1.000000</td>\n",
       "      <td>59.000000</td>\n",
       "      <td>60.800000</td>\n",
       "      <td>63.000000</td>\n",
       "      <td>13.000000</td>\n",
       "      <td>17.000000</td>\n",
       "      <td>115.000000</td>\n",
       "      <td>142.000000</td>\n",
       "    </tr>\n",
       "    <tr>\n",
       "      <th>75%</th>\n",
       "      <td>3.000000</td>\n",
       "      <td>18.000000</td>\n",
       "      <td>5.000000</td>\n",
       "      <td>2.000000</td>\n",
       "      <td>72.800000</td>\n",
       "      <td>77.000000</td>\n",
       "      <td>78.000000</td>\n",
       "      <td>17.000000</td>\n",
       "      <td>48.000000</td>\n",
       "      <td>220.000000</td>\n",
       "      <td>281.000000</td>\n",
       "    </tr>\n",
       "    <tr>\n",
       "      <th>max</th>\n",
       "      <td>4.000000</td>\n",
       "      <td>23.000000</td>\n",
       "      <td>6.000000</td>\n",
       "      <td>4.000000</td>\n",
       "      <td>102.200000</td>\n",
       "      <td>122.000000</td>\n",
       "      <td>100.000000</td>\n",
       "      <td>57.000000</td>\n",
       "      <td>367.000000</td>\n",
       "      <td>886.000000</td>\n",
       "      <td>977.000000</td>\n",
       "    </tr>\n",
       "  </tbody>\n",
       "</table>\n",
       "</div>"
      ],
      "text/plain": [
       "             season          hour  day_of_the_week  weather_type  \\\n",
       "count  17379.000000  17379.000000     17379.000000  17379.000000   \n",
       "mean       2.485241     11.546752         3.003683      1.425283   \n",
       "std        1.115985      6.914405         2.005771      0.639357   \n",
       "min        1.000000      0.000000         0.000000      1.000000   \n",
       "25%        1.000000      6.000000         1.000000      1.000000   \n",
       "50%        2.000000     12.000000         3.000000      1.000000   \n",
       "75%        3.000000     18.000000         5.000000      2.000000   \n",
       "max        4.000000     23.000000         6.000000      4.000000   \n",
       "\n",
       "       temperature_f  temperature_feels_f      humidity    wind_speed  \\\n",
       "count   17379.000000         17379.000000  17379.000000  17379.000000   \n",
       "mean       58.777507            59.722009     62.722884     12.736233   \n",
       "std        16.620757            20.415345     19.292983      8.196891   \n",
       "min        17.600000             3.200000      0.000000      0.000000   \n",
       "25%        45.200000            42.800000     48.000000      7.000000   \n",
       "50%        59.000000            60.800000     63.000000     13.000000   \n",
       "75%        72.800000            77.000000     78.000000     17.000000   \n",
       "max       102.200000           122.000000    100.000000     57.000000   \n",
       "\n",
       "       casual_users  registered_users   total_users  \n",
       "count  17379.000000      17379.000000  17379.000000  \n",
       "mean      35.676218        153.786869    189.463088  \n",
       "std       49.305030        151.357286    181.387599  \n",
       "min        0.000000          0.000000      1.000000  \n",
       "25%        4.000000         34.000000     40.000000  \n",
       "50%       17.000000        115.000000    142.000000  \n",
       "75%       48.000000        220.000000    281.000000  \n",
       "max      367.000000        886.000000    977.000000  "
      ]
     },
     "execution_count": 5,
     "metadata": {},
     "output_type": "execute_result"
    }
   ],
   "source": [
    "df.describe()"
   ]
  },
  {
   "cell_type": "code",
   "execution_count": 6,
   "id": "203e44cd",
   "metadata": {},
   "outputs": [
    {
     "data": {
      "text/plain": [
       "(17379, 14)"
      ]
     },
     "execution_count": 6,
     "metadata": {},
     "output_type": "execute_result"
    }
   ],
   "source": [
    "df.shape"
   ]
  },
  {
   "cell_type": "markdown",
   "id": "86f511ca",
   "metadata": {},
   "source": [
    "# Pre - Profiling "
   ]
  },
  {
   "cell_type": "code",
   "execution_count": 7,
   "id": "d9658b89",
   "metadata": {},
   "outputs": [
    {
     "data": {
      "text/plain": [
       "date                   731\n",
       "season                   4\n",
       "hour                    24\n",
       "holiday                  2\n",
       "day_of_the_week          7\n",
       "working_day              2\n",
       "weather_type             4\n",
       "temperature_f           50\n",
       "temperature_feels_f     65\n",
       "humidity                89\n",
       "wind_speed              30\n",
       "casual_users           322\n",
       "registered_users       776\n",
       "total_users            869\n",
       "dtype: int64"
      ]
     },
     "execution_count": 7,
     "metadata": {},
     "output_type": "execute_result"
    }
   ],
   "source": [
    "df.nunique()"
   ]
  },
  {
   "cell_type": "code",
   "execution_count": 8,
   "id": "ba42d2a4",
   "metadata": {},
   "outputs": [
    {
     "data": {
      "text/plain": [
       "date                   0.0\n",
       "season                 0.0\n",
       "hour                   0.0\n",
       "holiday                0.0\n",
       "day_of_the_week        0.0\n",
       "working_day            0.0\n",
       "weather_type           0.0\n",
       "temperature_f          0.0\n",
       "temperature_feels_f    0.0\n",
       "humidity               0.0\n",
       "wind_speed             0.0\n",
       "casual_users           0.0\n",
       "registered_users       0.0\n",
       "total_users            0.0\n",
       "dtype: float64"
      ]
     },
     "execution_count": 8,
     "metadata": {},
     "output_type": "execute_result"
    }
   ],
   "source": [
    "100*(df.shape[0] - df.count())/df.shape[0]"
   ]
  },
  {
   "cell_type": "code",
   "execution_count": 9,
   "id": "2f6cfd28",
   "metadata": {
    "scrolled": false
   },
   "outputs": [
    {
     "data": {
      "text/plain": [
       "<AxesSubplot:>"
      ]
     },
     "execution_count": 9,
     "metadata": {},
     "output_type": "execute_result"
    },
    {
     "data": {
      "image/png": "[encoded data removed]",
      "text/plain": [
       "<Figure size 1440x504 with 2 Axes>"
      ]
     },
     "metadata": {
      "needs_background": "light"
     },
     "output_type": "display_data"
    }
   ],
   "source": [
    "paper = plt.figure(figsize = (20,7))  \n",
    "sns.heatmap(df.corr(), annot = True)"
   ]
  },
  {
   "cell_type": "markdown",
   "id": "a435cbd4",
   "metadata": {},
   "source": [
    "Since the corrleation in registered users and total user is more than 0.85, so we will drop registered users and also the tempreture_f and tempreture_feels_f columns are highly correlated"
   ]
  },
  {
   "cell_type": "code",
   "execution_count": 10,
   "id": "10478d03",
   "metadata": {},
   "outputs": [],
   "source": [
    "df.drop(columns = ['registered_users'], inplace = True)"
   ]
  },
  {
   "cell_type": "code",
   "execution_count": 11,
   "id": "e8ee4145",
   "metadata": {},
   "outputs": [],
   "source": [
    "df.drop(columns = ['temperature_feels_f'], inplace = True)"
   ]
  },
  {
   "cell_type": "code",
   "execution_count": 12,
   "id": "957d1c2e",
   "metadata": {},
   "outputs": [],
   "source": [
    "df.drop(columns = ['date'], inplace = True)"
   ]
  },
  {
   "cell_type": "code",
   "execution_count": 13,
   "id": "573d4ebf",
   "metadata": {},
   "outputs": [
    {
     "name": "stdout",
     "output_type": "stream",
     "text": [
      "<class 'pandas.core.frame.DataFrame'>\n",
      "RangeIndex: 17379 entries, 0 to 17378\n",
      "Data columns (total 11 columns):\n",
      " #   Column           Non-Null Count  Dtype  \n",
      "---  ------           --------------  -----  \n",
      " 0   season           17379 non-null  int64  \n",
      " 1   hour             17379 non-null  int64  \n",
      " 2   holiday          17379 non-null  bool   \n",
      " 3   day_of_the_week  17379 non-null  int64  \n",
      " 4   working_day      17379 non-null  bool   \n",
      " 5   weather_type     17379 non-null  int64  \n",
      " 6   temperature_f    17379 non-null  float64\n",
      " 7   humidity         17379 non-null  int64  \n",
      " 8   wind_speed       17379 non-null  int64  \n",
      " 9   casual_users     17379 non-null  int64  \n",
      " 10  total_users      17379 non-null  int64  \n",
      "dtypes: bool(2), float64(1), int64(8)\n",
      "memory usage: 1.2 MB\n"
     ]
    }
   ],
   "source": [
    "df.info()"
   ]
  },
  {
   "cell_type": "markdown",
   "id": "36cb33fd",
   "metadata": {},
   "source": [
    "Let's check, if there are some null values in the data set"
   ]
  },
  {
   "cell_type": "code",
   "execution_count": 14,
   "id": "1bda3d03",
   "metadata": {},
   "outputs": [
    {
     "data": {
      "text/plain": [
       "season             0\n",
       "hour               0\n",
       "holiday            0\n",
       "day_of_the_week    0\n",
       "working_day        0\n",
       "weather_type       0\n",
       "temperature_f      0\n",
       "humidity           0\n",
       "wind_speed         0\n",
       "casual_users       0\n",
       "total_users        0\n",
       "dtype: int64"
      ]
     },
     "execution_count": 14,
     "metadata": {},
     "output_type": "execute_result"
    }
   ],
   "source": [
    "df.isnull().sum()"
   ]
  },
  {
   "cell_type": "markdown",
   "id": "2b353f88",
   "metadata": {},
   "source": [
    "Hence our data is clean and there are no null values in the data set.\n",
    "\n",
    "Now, lets check if there are some duplicate values or not"
   ]
  },
  {
   "cell_type": "code",
   "execution_count": 15,
   "id": "b84a9af0",
   "metadata": {},
   "outputs": [
    {
     "data": {
      "text/plain": [
       "2"
      ]
     },
     "execution_count": 15,
     "metadata": {},
     "output_type": "execute_result"
    }
   ],
   "source": [
    "df.duplicated().sum()"
   ]
  },
  {
   "cell_type": "markdown",
   "id": "0fe011e9",
   "metadata": {},
   "source": [
    "# EDA"
   ]
  },
  {
   "cell_type": "markdown",
   "id": "3699d533",
   "metadata": {},
   "source": [
    "## Uni - variate Analysis"
   ]
  },
  {
   "cell_type": "markdown",
   "id": "107fae2d",
   "metadata": {},
   "source": [
    "### Q1. Is there a variation in the tempreture?"
   ]
  },
  {
   "cell_type": "code",
   "execution_count": 16,
   "id": "afb3a1a2",
   "metadata": {},
   "outputs": [
    {
     "data": {
      "image/png": "[encoded data removed]",
      "text/plain": [
       "<Figure size 1080x504 with 1 Axes>"
      ]
     },
     "metadata": {
      "needs_background": "light"
     },
     "output_type": "display_data"
    }
   ],
   "source": [
    "paper = plt.figure(figsize = (15,7))\n",
    "df['temperature_f'].plot.hist()\n",
    "plt.show()"
   ]
  },
  {
   "cell_type": "markdown",
   "id": "eea0983f",
   "metadata": {},
   "source": [
    "Hence we can see that the tempreture lies from 40 F to 80 F and there are some values that are beyond that."
   ]
  },
  {
   "cell_type": "markdown",
   "id": "d995c0a8",
   "metadata": {},
   "source": [
    "### Q2. What is the variations in total users?"
   ]
  },
  {
   "cell_type": "code",
   "execution_count": 17,
   "id": "304cfacf",
   "metadata": {},
   "outputs": [
    {
     "data": {
      "image/png": "[encoded data removed]",
      "text/plain": [
       "<Figure size 1080x504 with 1 Axes>"
      ]
     },
     "metadata": {
      "needs_background": "light"
     },
     "output_type": "display_data"
    }
   ],
   "source": [
    "paper = plt.figure(figsize = (15,7))\n",
    "df['total_users'].plot.hist()\n",
    "plt.show()"
   ]
  },
  {
   "cell_type": "markdown",
   "id": "dd9c0e6a",
   "metadata": {},
   "source": [
    "We can see that the total user are positively skewed  but towards to the left meaning there are a lot of people who are not using the application but some people are."
   ]
  },
  {
   "cell_type": "markdown",
   "id": "2177cafe",
   "metadata": {},
   "source": [
    "# Train - Test Split"
   ]
  },
  {
   "cell_type": "code",
   "execution_count": 18,
   "id": "da100a6d",
   "metadata": {},
   "outputs": [],
   "source": [
    "X = df.drop('temperature_f', axis=1)\n",
    "y = df['temperature_f']"
   ]
  },
  {
   "cell_type": "code",
   "execution_count": 19,
   "id": "b0e25792",
   "metadata": {},
   "outputs": [],
   "source": [
    "from sklearn.model_selection import train_test_split as tts\n",
    "\n",
    "X_train, X_test, y_train, y_test = tts(X, y, test_size = .3, random_state = 2022)"
   ]
  },
  {
   "cell_type": "code",
   "execution_count": 20,
   "id": "6db0a917",
   "metadata": {},
   "outputs": [
    {
     "data": {
      "text/html": [
       "<div>\n",
       "<style scoped>\n",
       "    .dataframe tbody tr th:only-of-type {\n",
       "        vertical-align: middle;\n",
       "    }\n",
       "\n",
       "    .dataframe tbody tr th {\n",
       "        vertical-align: top;\n",
       "    }\n",
       "\n",
       "    .dataframe thead th {\n",
       "        text-align: right;\n",
       "    }\n",
       "</style>\n",
       "<table border=\"1\" class=\"dataframe\">\n",
       "  <thead>\n",
       "    <tr style=\"text-align: right;\">\n",
       "      <th></th>\n",
       "      <th>holiday</th>\n",
       "      <th>working_day</th>\n",
       "    </tr>\n",
       "  </thead>\n",
       "  <tbody>\n",
       "    <tr>\n",
       "      <th>9705</th>\n",
       "      <td>False</td>\n",
       "      <td>True</td>\n",
       "    </tr>\n",
       "    <tr>\n",
       "      <th>4940</th>\n",
       "      <td>False</td>\n",
       "      <td>True</td>\n",
       "    </tr>\n",
       "    <tr>\n",
       "      <th>16739</th>\n",
       "      <td>False</td>\n",
       "      <td>True</td>\n",
       "    </tr>\n",
       "    <tr>\n",
       "      <th>791</th>\n",
       "      <td>False</td>\n",
       "      <td>False</td>\n",
       "    </tr>\n",
       "    <tr>\n",
       "      <th>12563</th>\n",
       "      <td>False</td>\n",
       "      <td>True</td>\n",
       "    </tr>\n",
       "    <tr>\n",
       "      <th>...</th>\n",
       "      <td>...</td>\n",
       "      <td>...</td>\n",
       "    </tr>\n",
       "    <tr>\n",
       "      <th>6384</th>\n",
       "      <td>False</td>\n",
       "      <td>True</td>\n",
       "    </tr>\n",
       "    <tr>\n",
       "      <th>14001</th>\n",
       "      <td>False</td>\n",
       "      <td>False</td>\n",
       "    </tr>\n",
       "    <tr>\n",
       "      <th>4720</th>\n",
       "      <td>False</td>\n",
       "      <td>True</td>\n",
       "    </tr>\n",
       "    <tr>\n",
       "      <th>16557</th>\n",
       "      <td>False</td>\n",
       "      <td>True</td>\n",
       "    </tr>\n",
       "    <tr>\n",
       "      <th>1244</th>\n",
       "      <td>False</td>\n",
       "      <td>True</td>\n",
       "    </tr>\n",
       "  </tbody>\n",
       "</table>\n",
       "<p>12165 rows × 2 columns</p>\n",
       "</div>"
      ],
      "text/plain": [
       "       holiday  working_day\n",
       "9705     False         True\n",
       "4940     False         True\n",
       "16739    False         True\n",
       "791      False        False\n",
       "12563    False         True\n",
       "...        ...          ...\n",
       "6384     False         True\n",
       "14001    False        False\n",
       "4720     False         True\n",
       "16557    False         True\n",
       "1244     False         True\n",
       "\n",
       "[12165 rows x 2 columns]"
      ]
     },
     "execution_count": 20,
     "metadata": {},
     "output_type": "execute_result"
    }
   ],
   "source": [
    "X_train_cat = X_train.select_dtypes(exclude='number')\n",
    "X_train_cat"
   ]
  },
  {
   "cell_type": "code",
   "execution_count": 21,
   "id": "ff81d6e0",
   "metadata": {},
   "outputs": [
    {
     "data": {
      "text/html": [
       "<div>\n",
       "<style scoped>\n",
       "    .dataframe tbody tr th:only-of-type {\n",
       "        vertical-align: middle;\n",
       "    }\n",
       "\n",
       "    .dataframe tbody tr th {\n",
       "        vertical-align: top;\n",
       "    }\n",
       "\n",
       "    .dataframe thead th {\n",
       "        text-align: right;\n",
       "    }\n",
       "</style>\n",
       "<table border=\"1\" class=\"dataframe\">\n",
       "  <thead>\n",
       "    <tr style=\"text-align: right;\">\n",
       "      <th></th>\n",
       "      <th>holiday</th>\n",
       "      <th>working_day</th>\n",
       "    </tr>\n",
       "  </thead>\n",
       "  <tbody>\n",
       "    <tr>\n",
       "      <th>3500</th>\n",
       "      <td>True</td>\n",
       "      <td>False</td>\n",
       "    </tr>\n",
       "    <tr>\n",
       "      <th>16861</th>\n",
       "      <td>False</td>\n",
       "      <td>True</td>\n",
       "    </tr>\n",
       "    <tr>\n",
       "      <th>12022</th>\n",
       "      <td>False</td>\n",
       "      <td>True</td>\n",
       "    </tr>\n",
       "    <tr>\n",
       "      <th>15394</th>\n",
       "      <td>True</td>\n",
       "      <td>False</td>\n",
       "    </tr>\n",
       "    <tr>\n",
       "      <th>13729</th>\n",
       "      <td>False</td>\n",
       "      <td>True</td>\n",
       "    </tr>\n",
       "    <tr>\n",
       "      <th>...</th>\n",
       "      <td>...</td>\n",
       "      <td>...</td>\n",
       "    </tr>\n",
       "    <tr>\n",
       "      <th>17072</th>\n",
       "      <td>False</td>\n",
       "      <td>True</td>\n",
       "    </tr>\n",
       "    <tr>\n",
       "      <th>7874</th>\n",
       "      <td>False</td>\n",
       "      <td>True</td>\n",
       "    </tr>\n",
       "    <tr>\n",
       "      <th>16859</th>\n",
       "      <td>False</td>\n",
       "      <td>True</td>\n",
       "    </tr>\n",
       "    <tr>\n",
       "      <th>9253</th>\n",
       "      <td>False</td>\n",
       "      <td>True</td>\n",
       "    </tr>\n",
       "    <tr>\n",
       "      <th>11485</th>\n",
       "      <td>False</td>\n",
       "      <td>False</td>\n",
       "    </tr>\n",
       "  </tbody>\n",
       "</table>\n",
       "<p>5214 rows × 2 columns</p>\n",
       "</div>"
      ],
      "text/plain": [
       "       holiday  working_day\n",
       "3500      True        False\n",
       "16861    False         True\n",
       "12022    False         True\n",
       "15394     True        False\n",
       "13729    False         True\n",
       "...        ...          ...\n",
       "17072    False         True\n",
       "7874     False         True\n",
       "16859    False         True\n",
       "9253     False         True\n",
       "11485    False        False\n",
       "\n",
       "[5214 rows x 2 columns]"
      ]
     },
     "execution_count": 21,
     "metadata": {},
     "output_type": "execute_result"
    }
   ],
   "source": [
    "X_test_cat = X_test.select_dtypes(exclude='number')\n",
    "X_test_cat"
   ]
  },
  {
   "cell_type": "code",
   "execution_count": 22,
   "id": "49c76203",
   "metadata": {},
   "outputs": [
    {
     "data": {
      "text/html": [
       "<div>\n",
       "<style scoped>\n",
       "    .dataframe tbody tr th:only-of-type {\n",
       "        vertical-align: middle;\n",
       "    }\n",
       "\n",
       "    .dataframe tbody tr th {\n",
       "        vertical-align: top;\n",
       "    }\n",
       "\n",
       "    .dataframe thead th {\n",
       "        text-align: right;\n",
       "    }\n",
       "</style>\n",
       "<table border=\"1\" class=\"dataframe\">\n",
       "  <thead>\n",
       "    <tr style=\"text-align: right;\">\n",
       "      <th></th>\n",
       "      <th>season</th>\n",
       "      <th>hour</th>\n",
       "      <th>day_of_the_week</th>\n",
       "      <th>weather_type</th>\n",
       "      <th>humidity</th>\n",
       "      <th>wind_speed</th>\n",
       "      <th>casual_users</th>\n",
       "      <th>total_users</th>\n",
       "    </tr>\n",
       "  </thead>\n",
       "  <tbody>\n",
       "    <tr>\n",
       "      <th>9705</th>\n",
       "      <td>4</td>\n",
       "      <td>8</td>\n",
       "      <td>2</td>\n",
       "      <td>2</td>\n",
       "      <td>70</td>\n",
       "      <td>0</td>\n",
       "      <td>3</td>\n",
       "      <td>513</td>\n",
       "    </tr>\n",
       "    <tr>\n",
       "      <th>4940</th>\n",
       "      <td>2</td>\n",
       "      <td>18</td>\n",
       "      <td>5</td>\n",
       "      <td>1</td>\n",
       "      <td>37</td>\n",
       "      <td>22</td>\n",
       "      <td>49</td>\n",
       "      <td>362</td>\n",
       "    </tr>\n",
       "    <tr>\n",
       "      <th>16739</th>\n",
       "      <td>4</td>\n",
       "      <td>6</td>\n",
       "      <td>3</td>\n",
       "      <td>3</td>\n",
       "      <td>55</td>\n",
       "      <td>26</td>\n",
       "      <td>5</td>\n",
       "      <td>124</td>\n",
       "    </tr>\n",
       "    <tr>\n",
       "      <th>791</th>\n",
       "      <td>4</td>\n",
       "      <td>10</td>\n",
       "      <td>6</td>\n",
       "      <td>3</td>\n",
       "      <td>100</td>\n",
       "      <td>9</td>\n",
       "      <td>3</td>\n",
       "      <td>34</td>\n",
       "    </tr>\n",
       "    <tr>\n",
       "      <th>12563</th>\n",
       "      <td>2</td>\n",
       "      <td>16</td>\n",
       "      <td>2</td>\n",
       "      <td>2</td>\n",
       "      <td>89</td>\n",
       "      <td>19</td>\n",
       "      <td>30</td>\n",
       "      <td>239</td>\n",
       "    </tr>\n",
       "    <tr>\n",
       "      <th>...</th>\n",
       "      <td>...</td>\n",
       "      <td>...</td>\n",
       "      <td>...</td>\n",
       "      <td>...</td>\n",
       "      <td>...</td>\n",
       "      <td>...</td>\n",
       "      <td>...</td>\n",
       "      <td>...</td>\n",
       "    </tr>\n",
       "    <tr>\n",
       "      <th>6384</th>\n",
       "      <td>3</td>\n",
       "      <td>14</td>\n",
       "      <td>3</td>\n",
       "      <td>1</td>\n",
       "      <td>62</td>\n",
       "      <td>17</td>\n",
       "      <td>25</td>\n",
       "      <td>170</td>\n",
       "    </tr>\n",
       "    <tr>\n",
       "      <th>14001</th>\n",
       "      <td>2</td>\n",
       "      <td>14</td>\n",
       "      <td>6</td>\n",
       "      <td>1</td>\n",
       "      <td>49</td>\n",
       "      <td>20</td>\n",
       "      <td>248</td>\n",
       "      <td>538</td>\n",
       "    </tr>\n",
       "    <tr>\n",
       "      <th>4720</th>\n",
       "      <td>2</td>\n",
       "      <td>14</td>\n",
       "      <td>3</td>\n",
       "      <td>1</td>\n",
       "      <td>53</td>\n",
       "      <td>15</td>\n",
       "      <td>44</td>\n",
       "      <td>127</td>\n",
       "    </tr>\n",
       "    <tr>\n",
       "      <th>16557</th>\n",
       "      <td>3</td>\n",
       "      <td>15</td>\n",
       "      <td>2</td>\n",
       "      <td>2</td>\n",
       "      <td>75</td>\n",
       "      <td>20</td>\n",
       "      <td>9</td>\n",
       "      <td>155</td>\n",
       "    </tr>\n",
       "    <tr>\n",
       "      <th>1244</th>\n",
       "      <td>4</td>\n",
       "      <td>23</td>\n",
       "      <td>4</td>\n",
       "      <td>2</td>\n",
       "      <td>93</td>\n",
       "      <td>15</td>\n",
       "      <td>3</td>\n",
       "      <td>50</td>\n",
       "    </tr>\n",
       "  </tbody>\n",
       "</table>\n",
       "<p>12165 rows × 8 columns</p>\n",
       "</div>"
      ],
      "text/plain": [
       "       season  hour  day_of_the_week  weather_type  humidity  wind_speed  \\\n",
       "9705        4     8                2             2        70           0   \n",
       "4940        2    18                5             1        37          22   \n",
       "16739       4     6                3             3        55          26   \n",
       "791         4    10                6             3       100           9   \n",
       "12563       2    16                2             2        89          19   \n",
       "...       ...   ...              ...           ...       ...         ...   \n",
       "6384        3    14                3             1        62          17   \n",
       "14001       2    14                6             1        49          20   \n",
       "4720        2    14                3             1        53          15   \n",
       "16557       3    15                2             2        75          20   \n",
       "1244        4    23                4             2        93          15   \n",
       "\n",
       "       casual_users  total_users  \n",
       "9705              3          513  \n",
       "4940             49          362  \n",
       "16739             5          124  \n",
       "791               3           34  \n",
       "12563            30          239  \n",
       "...             ...          ...  \n",
       "6384             25          170  \n",
       "14001           248          538  \n",
       "4720             44          127  \n",
       "16557             9          155  \n",
       "1244              3           50  \n",
       "\n",
       "[12165 rows x 8 columns]"
      ]
     },
     "execution_count": 22,
     "metadata": {},
     "output_type": "execute_result"
    }
   ],
   "source": [
    "X_train_cont = X_train.select_dtypes(include='number')\n",
    "X_train_cont"
   ]
  },
  {
   "cell_type": "code",
   "execution_count": 23,
   "id": "bf979926",
   "metadata": {},
   "outputs": [
    {
     "data": {
      "text/html": [
       "<div>\n",
       "<style scoped>\n",
       "    .dataframe tbody tr th:only-of-type {\n",
       "        vertical-align: middle;\n",
       "    }\n",
       "\n",
       "    .dataframe tbody tr th {\n",
       "        vertical-align: top;\n",
       "    }\n",
       "\n",
       "    .dataframe thead th {\n",
       "        text-align: right;\n",
       "    }\n",
       "</style>\n",
       "<table border=\"1\" class=\"dataframe\">\n",
       "  <thead>\n",
       "    <tr style=\"text-align: right;\">\n",
       "      <th></th>\n",
       "      <th>season</th>\n",
       "      <th>hour</th>\n",
       "      <th>day_of_the_week</th>\n",
       "      <th>weather_type</th>\n",
       "      <th>humidity</th>\n",
       "      <th>wind_speed</th>\n",
       "      <th>casual_users</th>\n",
       "      <th>total_users</th>\n",
       "    </tr>\n",
       "  </thead>\n",
       "  <tbody>\n",
       "    <tr>\n",
       "      <th>3500</th>\n",
       "      <td>1</td>\n",
       "      <td>18</td>\n",
       "      <td>1</td>\n",
       "      <td>1</td>\n",
       "      <td>41</td>\n",
       "      <td>11</td>\n",
       "      <td>77</td>\n",
       "      <td>249</td>\n",
       "    </tr>\n",
       "    <tr>\n",
       "      <th>16861</th>\n",
       "      <td>4</td>\n",
       "      <td>8</td>\n",
       "      <td>1</td>\n",
       "      <td>2</td>\n",
       "      <td>100</td>\n",
       "      <td>17</td>\n",
       "      <td>9</td>\n",
       "      <td>584</td>\n",
       "    </tr>\n",
       "    <tr>\n",
       "      <th>12022</th>\n",
       "      <td>1</td>\n",
       "      <td>3</td>\n",
       "      <td>1</td>\n",
       "      <td>2</td>\n",
       "      <td>88</td>\n",
       "      <td>20</td>\n",
       "      <td>0</td>\n",
       "      <td>2</td>\n",
       "    </tr>\n",
       "    <tr>\n",
       "      <th>15394</th>\n",
       "      <td>3</td>\n",
       "      <td>15</td>\n",
       "      <td>1</td>\n",
       "      <td>3</td>\n",
       "      <td>58</td>\n",
       "      <td>13</td>\n",
       "      <td>76</td>\n",
       "      <td>370</td>\n",
       "    </tr>\n",
       "    <tr>\n",
       "      <th>13729</th>\n",
       "      <td>2</td>\n",
       "      <td>6</td>\n",
       "      <td>2</td>\n",
       "      <td>1</td>\n",
       "      <td>89</td>\n",
       "      <td>11</td>\n",
       "      <td>2</td>\n",
       "      <td>194</td>\n",
       "    </tr>\n",
       "    <tr>\n",
       "      <th>...</th>\n",
       "      <td>...</td>\n",
       "      <td>...</td>\n",
       "      <td>...</td>\n",
       "      <td>...</td>\n",
       "      <td>...</td>\n",
       "      <td>...</td>\n",
       "      <td>...</td>\n",
       "      <td>...</td>\n",
       "    </tr>\n",
       "    <tr>\n",
       "      <th>17072</th>\n",
       "      <td>4</td>\n",
       "      <td>3</td>\n",
       "      <td>3</td>\n",
       "      <td>1</td>\n",
       "      <td>75</td>\n",
       "      <td>9</td>\n",
       "      <td>0</td>\n",
       "      <td>5</td>\n",
       "    </tr>\n",
       "    <tr>\n",
       "      <th>7874</th>\n",
       "      <td>3</td>\n",
       "      <td>18</td>\n",
       "      <td>2</td>\n",
       "      <td>2</td>\n",
       "      <td>82</td>\n",
       "      <td>20</td>\n",
       "      <td>11</td>\n",
       "      <td>358</td>\n",
       "    </tr>\n",
       "    <tr>\n",
       "      <th>16859</th>\n",
       "      <td>4</td>\n",
       "      <td>6</td>\n",
       "      <td>1</td>\n",
       "      <td>2</td>\n",
       "      <td>94</td>\n",
       "      <td>11</td>\n",
       "      <td>2</td>\n",
       "      <td>123</td>\n",
       "    </tr>\n",
       "    <tr>\n",
       "      <th>9253</th>\n",
       "      <td>4</td>\n",
       "      <td>11</td>\n",
       "      <td>4</td>\n",
       "      <td>2</td>\n",
       "      <td>87</td>\n",
       "      <td>7</td>\n",
       "      <td>11</td>\n",
       "      <td>111</td>\n",
       "    </tr>\n",
       "    <tr>\n",
       "      <th>11485</th>\n",
       "      <td>1</td>\n",
       "      <td>18</td>\n",
       "      <td>6</td>\n",
       "      <td>3</td>\n",
       "      <td>47</td>\n",
       "      <td>0</td>\n",
       "      <td>17</td>\n",
       "      <td>90</td>\n",
       "    </tr>\n",
       "  </tbody>\n",
       "</table>\n",
       "<p>5214 rows × 8 columns</p>\n",
       "</div>"
      ],
      "text/plain": [
       "       season  hour  day_of_the_week  weather_type  humidity  wind_speed  \\\n",
       "3500        1    18                1             1        41          11   \n",
       "16861       4     8                1             2       100          17   \n",
       "12022       1     3                1             2        88          20   \n",
       "15394       3    15                1             3        58          13   \n",
       "13729       2     6                2             1        89          11   \n",
       "...       ...   ...              ...           ...       ...         ...   \n",
       "17072       4     3                3             1        75           9   \n",
       "7874        3    18                2             2        82          20   \n",
       "16859       4     6                1             2        94          11   \n",
       "9253        4    11                4             2        87           7   \n",
       "11485       1    18                6             3        47           0   \n",
       "\n",
       "       casual_users  total_users  \n",
       "3500             77          249  \n",
       "16861             9          584  \n",
       "12022             0            2  \n",
       "15394            76          370  \n",
       "13729             2          194  \n",
       "...             ...          ...  \n",
       "17072             0            5  \n",
       "7874             11          358  \n",
       "16859             2          123  \n",
       "9253             11          111  \n",
       "11485            17           90  \n",
       "\n",
       "[5214 rows x 8 columns]"
      ]
     },
     "execution_count": 23,
     "metadata": {},
     "output_type": "execute_result"
    }
   ],
   "source": [
    "X_test_cont = X_test.select_dtypes(include='number')\n",
    "X_test_cont"
   ]
  },
  {
   "cell_type": "code",
   "execution_count": 24,
   "id": "6271020c",
   "metadata": {},
   "outputs": [],
   "source": [
    "from sklearn.preprocessing import OneHotEncoder\n",
    "\n",
    "# Encoding on X_train_cat and X_test_cat\n",
    "ohe = OneHotEncoder(drop = 'first')\n",
    "\n",
    "X_train_cat_encoded = pd.DataFrame(ohe.fit_transform(X_train_cat).toarray(), columns = ohe.get_feature_names(list(X_train_cat.columns)))\n",
    "X_test_cat_encoded = pd.DataFrame(ohe.transform(X_test_cat).toarray(), columns = ohe.get_feature_names(list(X_test_cat.columns)))"
   ]
  },
  {
   "cell_type": "code",
   "execution_count": 25,
   "id": "0ce322ed",
   "metadata": {},
   "outputs": [],
   "source": [
    "from sklearn.preprocessing import StandardScaler\n",
    "\n",
    "# Scaling on X_train_cont and X_test_cont\n",
    "sc = StandardScaler()\n",
    "\n",
    "X_train_cont_scaled = pd.DataFrame(sc.fit_transform(X_train_cont), columns = X_train_cont.columns)\n",
    "X_test_cont_scaled = pd.DataFrame(sc.transform(X_test_cont), columns = X_test_cont.columns)"
   ]
  },
  {
   "cell_type": "code",
   "execution_count": 26,
   "id": "cd9e72e7",
   "metadata": {},
   "outputs": [],
   "source": [
    "X_train = pd.concat([X_train_cat_encoded, X_train_cont_scaled], axis = 1)\n",
    "X_test = pd.concat([X_test_cat_encoded, X_test_cont_scaled], axis = 1)"
   ]
  },
  {
   "cell_type": "markdown",
   "id": "2f6126e9",
   "metadata": {},
   "source": [
    "# Assumptions"
   ]
  },
  {
   "cell_type": "markdown",
   "id": "e0b49fc8",
   "metadata": {},
   "source": [
    "## Normality"
   ]
  },
  {
   "cell_type": "code",
   "execution_count": 27,
   "id": "c1c403af",
   "metadata": {},
   "outputs": [
    {
     "data": {
      "text/plain": [
       "<seaborn.axisgrid.FacetGrid at 0x2dd04a0c5e0>"
      ]
     },
     "execution_count": 27,
     "metadata": {},
     "output_type": "execute_result"
    },
    {
     "data": {
      "image/png": "[encoded data removed]",
      "text/plain": [
       "<Figure size 360x360 with 1 Axes>"
      ]
     },
     "metadata": {
      "needs_background": "light"
     },
     "output_type": "display_data"
    }
   ],
   "source": [
    "sns.displot(y_train)"
   ]
  },
  {
   "cell_type": "code",
   "execution_count": 28,
   "id": "f0f5131e",
   "metadata": {},
   "outputs": [
    {
     "data": {
      "text/plain": [
       "count    12165.000000\n",
       "mean        58.681447\n",
       "std         16.634885\n",
       "min         17.600000\n",
       "25%         45.200000\n",
       "50%         59.000000\n",
       "75%         72.800000\n",
       "max        102.200000\n",
       "Name: temperature_f, dtype: float64"
      ]
     },
     "execution_count": 28,
     "metadata": {},
     "output_type": "execute_result"
    }
   ],
   "source": [
    "y_train.describe()"
   ]
  },
  {
   "cell_type": "markdown",
   "id": "e4dce908",
   "metadata": {},
   "source": [
    "## Linearity"
   ]
  },
  {
   "cell_type": "code",
   "execution_count": 31,
   "id": "bdf78b30",
   "metadata": {},
   "outputs": [
    {
     "data": {
      "image/png": "[encoded data removed]",
      "text/plain": [
       "<Figure size 432x288 with 1 Axes>"
      ]
     },
     "metadata": {
      "needs_background": "light"
     },
     "output_type": "display_data"
    }
   ],
   "source": [
    "sns.regplot(x = X_train['weather_type'], y = y_train)\n",
    "plt.show()"
   ]
  },
  {
   "cell_type": "markdown",
   "id": "b21d634a",
   "metadata": {},
   "source": [
    "## Multicollinearity"
   ]
  },
  {
   "cell_type": "code",
   "execution_count": 33,
   "id": "4816946e",
   "metadata": {},
   "outputs": [
    {
     "data": {
      "text/plain": [
       "<AxesSubplot:>"
      ]
     },
     "execution_count": 33,
     "metadata": {},
     "output_type": "execute_result"
    },
    {
     "data": {
      "image/png": "[encoded data removed]",
      "text/plain": [
       "<Figure size 1080x504 with 2 Axes>"
      ]
     },
     "metadata": {
      "needs_background": "light"
     },
     "output_type": "display_data"
    }
   ],
   "source": [
    "paper = plt.figure(figsize = (15,7))\n",
    "sns.heatmap(X_train.corr(), annot = True)"
   ]
  },
  {
   "cell_type": "markdown",
   "id": "854915f0",
   "metadata": {},
   "source": [
    "# Model Training"
   ]
  },
  {
   "cell_type": "code",
   "execution_count": 34,
   "id": "903b6ec5",
   "metadata": {},
   "outputs": [
    {
     "data": {
      "text/html": [
       "<style>#sk-container-id-1 {color: black;background-color: white;}#sk-container-id-1 pre{padding: 0;}#sk-container-id-1 div.sk-toggleable {background-color: white;}#sk-container-id-1 label.sk-toggleable__label {cursor: pointer;display: block;width: 100%;margin-bottom: 0;padding: 0.3em;box-sizing: border-box;text-align: center;}#sk-container-id-1 label.sk-toggleable__label-arrow:before {content: \"▸\";float: left;margin-right: 0.25em;color: #696969;}#sk-container-id-1 label.sk-toggleable__label-arrow:hover:before {color: black;}#sk-container-id-1 div.sk-estimator:hover label.sk-toggleable__label-arrow:before {color: black;}#sk-container-id-1 div.sk-toggleable__content {max-height: 0;max-width: 0;overflow: hidden;text-align: left;background-color: #f0f8ff;}#sk-container-id-1 div.sk-toggleable__content pre {margin: 0.2em;color: black;border-radius: 0.25em;background-color: #f0f8ff;}#sk-container-id-1 input.sk-toggleable__control:checked~div.sk-toggleable__content {max-height: 200px;max-width: 100%;overflow: auto;}#sk-container-id-1 input.sk-toggleable__control:checked~label.sk-toggleable__label-arrow:before {content: \"▾\";}#sk-container-id-1 div.sk-estimator input.sk-toggleable__control:checked~label.sk-toggleable__label {background-color: #d4ebff;}#sk-container-id-1 div.sk-label input.sk-toggleable__control:checked~label.sk-toggleable__label {background-color: #d4ebff;}#sk-container-id-1 input.sk-hidden--visually {border: 0;clip: rect(1px 1px 1px 1px);clip: rect(1px, 1px, 1px, 1px);height: 1px;margin: -1px;overflow: hidden;padding: 0;position: absolute;width: 1px;}#sk-container-id-1 div.sk-estimator {font-family: monospace;background-color: #f0f8ff;border: 1px dotted black;border-radius: 0.25em;box-sizing: border-box;margin-bottom: 0.5em;}#sk-container-id-1 div.sk-estimator:hover {background-color: #d4ebff;}#sk-container-id-1 div.sk-parallel-item::after {content: \"\";width: 100%;border-bottom: 1px solid gray;flex-grow: 1;}#sk-container-id-1 div.sk-label:hover label.sk-toggleable__label {background-color: #d4ebff;}#sk-container-id-1 div.sk-serial::before {content: \"\";position: absolute;border-left: 1px solid gray;box-sizing: border-box;top: 0;bottom: 0;left: 50%;z-index: 0;}#sk-container-id-1 div.sk-serial {display: flex;flex-direction: column;align-items: center;background-color: white;padding-right: 0.2em;padding-left: 0.2em;position: relative;}#sk-container-id-1 div.sk-item {position: relative;z-index: 1;}#sk-container-id-1 div.sk-parallel {display: flex;align-items: stretch;justify-content: center;background-color: white;position: relative;}#sk-container-id-1 div.sk-item::before, #sk-container-id-1 div.sk-parallel-item::before {content: \"\";position: absolute;border-left: 1px solid gray;box-sizing: border-box;top: 0;bottom: 0;left: 50%;z-index: -1;}#sk-container-id-1 div.sk-parallel-item {display: flex;flex-direction: column;z-index: 1;position: relative;background-color: white;}#sk-container-id-1 div.sk-parallel-item:first-child::after {align-self: flex-end;width: 50%;}#sk-container-id-1 div.sk-parallel-item:last-child::after {align-self: flex-start;width: 50%;}#sk-container-id-1 div.sk-parallel-item:only-child::after {width: 0;}#sk-container-id-1 div.sk-dashed-wrapped {border: 1px dashed gray;margin: 0 0.4em 0.5em 0.4em;box-sizing: border-box;padding-bottom: 0.4em;background-color: white;}#sk-container-id-1 div.sk-label label {font-family: monospace;font-weight: bold;display: inline-block;line-height: 1.2em;}#sk-container-id-1 div.sk-label-container {text-align: center;}#sk-container-id-1 div.sk-container {/* jupyter's `normalize.less` sets `[hidden] { display: none; }` but bootstrap.min.css set `[hidden] { display: none !important; }` so we also need the `!important` here to be able to override the default hidden behavior on the sphinx rendered scikit-learn.org. See: https://github.com/scikit-learn/scikit-learn/issues/21755 */display: inline-block !important;position: relative;}#sk-container-id-1 div.sk-text-repr-fallback {display: none;}</style><div id=\"sk-container-id-1\" class=\"sk-top-container\"><div class=\"sk-text-repr-fallback\"><pre>LinearRegression()</pre><b>In a Jupyter environment, please rerun this cell to show the HTML representation or trust the notebook. <br />On GitHub, the HTML representation is unable to render, please try loading this page with nbviewer.org.</b></div><div class=\"sk-container\" hidden><div class=\"sk-item\"><div class=\"sk-estimator sk-toggleable\"><input class=\"sk-toggleable__control sk-hidden--visually\" id=\"sk-estimator-id-1\" type=\"checkbox\" checked><label for=\"sk-estimator-id-1\" class=\"sk-toggleable__label sk-toggleable__label-arrow\">LinearRegression</label><div class=\"sk-toggleable__content\"><pre>LinearRegression()</pre></div></div></div></div></div>"
      ],
      "text/plain": [
       "LinearRegression()"
      ]
     },
     "execution_count": 34,
     "metadata": {},
     "output_type": "execute_result"
    }
   ],
   "source": [
    "from sklearn.linear_model import LinearRegression\n",
    "lm = LinearRegression()\n",
    "lm.fit(X_train, y_train)"
   ]
  },
  {
   "cell_type": "markdown",
   "id": "7d8d09bc",
   "metadata": {},
   "source": [
    "## Prediction using Linear Regression Model"
   ]
  },
  {
   "cell_type": "code",
   "execution_count": 37,
   "id": "bba23239",
   "metadata": {},
   "outputs": [],
   "source": [
    "y_train_pred = lm.predict(X_train)\n",
    "y_test_pred = lm.predict(X_test)"
   ]
  },
  {
   "cell_type": "code",
   "execution_count": 39,
   "id": "67a6d168",
   "metadata": {},
   "outputs": [],
   "source": [
    "from sklearn import metrics\n",
    "from sklearn.metrics import r2_score"
   ]
  },
  {
   "cell_type": "markdown",
   "id": "ade4ab52",
   "metadata": {},
   "source": [
    "### Error Evaluation"
   ]
  },
  {
   "cell_type": "code",
   "execution_count": 40,
   "id": "260407e1",
   "metadata": {},
   "outputs": [],
   "source": [
    "# for train data\n",
    "MSE = metrics.mean_squared_error(y_train, y_train_pred)\n",
    "RMSE = np.sqrt(metrics.mean_squared_error(y_train, y_train_pred))\n",
    "R2 = r2_score(y_train, y_train_pred)"
   ]
  },
  {
   "cell_type": "code",
   "execution_count": 42,
   "id": "e7dee4e2",
   "metadata": {},
   "outputs": [
    {
     "name": "stdout",
     "output_type": "stream",
     "text": [
      "Mean Squared Error 164.54142681055941\n",
      "Root Mean Squared Error 12.82737022193401\n",
      "R2 0.4053363679601407\n"
     ]
    }
   ],
   "source": [
    "print('Mean Squared Error', MSE)\n",
    "print('Root Mean Squared Error', RMSE)\n",
    "print('R2', R2)"
   ]
  },
  {
   "cell_type": "code",
   "execution_count": 43,
   "id": "60816719",
   "metadata": {},
   "outputs": [],
   "source": [
    "# for test data\n",
    "T_MSE = metrics.mean_squared_error(y_test, y_test_pred)\n",
    "T_RMSE = np.sqrt(metrics.mean_squared_error(y_test, y_test_pred))\n",
    "T_R2 = r2_score(y_test, y_test_pred)"
   ]
  },
  {
   "cell_type": "code",
   "execution_count": 44,
   "id": "14589530",
   "metadata": {},
   "outputs": [
    {
     "name": "stdout",
     "output_type": "stream",
     "text": [
      "Mean Squared Error 167.77784006155437\n",
      "Root Mean Squared Error 12.952908556056217\n",
      "R2 0.390080097932763\n"
     ]
    }
   ],
   "source": [
    "print('Mean Squared Error', T_MSE)\n",
    "print('Root Mean Squared Error', T_RMSE)\n",
    "print('R2', T_R2)"
   ]
  }
 ],
 "metadata": {
  "kernelspec": {
   "display_name": "Python 3 (ipykernel)",
   "language": "python",
   "name": "python3"
  },
  "language_info": {
   "codemirror_mode": {
    "name": "ipython",
    "version": 3
   },
   "file_extension": ".py",
   "mimetype": "text/x-python",
   "name": "python",
   "nbconvert_exporter": "python",
   "pygments_lexer": "ipython3",
   "version": "3.9.7"
  }
 },
 "nbformat": 4,
 "nbformat_minor": 5
}
