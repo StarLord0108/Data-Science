{
 "cells": [
  {
   "cell_type": "markdown",
   "id": "a7b2a2ce",
   "metadata": {
    "id": "a7b2a2ce"
   },
   "source": [
    "# Table of Contents\n",
    "   1. Business Statement   \n",
    "      1.1 About Data Set\n",
    "   2. Introduction \n",
    "   3. Installing Libraries \n",
    "   4. Reading Data Set\n",
    "   5. Machine Learning Models \n",
    "   6. Summary"
   ]
  },
  {
   "cell_type": "markdown",
   "id": "f4440b23",
   "metadata": {
    "id": "f4440b23"
   },
   "source": [
    "# 1. Business Statement "
   ]
  },
  {
   "cell_type": "markdown",
   "id": "cb641f02",
   "metadata": {
    "id": "cb641f02"
   },
   "source": [
    "## 1.1 Bank Customer Churn\n",
    "Dataset Shape: 10000 rows x 14 columns\n",
    "\n",
    "1. RowNumber: I'd variable\n",
    "2. CustomerId: Id vairable\n",
    "3. Surname: Surname of the customer\n",
    "4. CreditScore: Credit Score of the customer\n",
    "5. Geography: Place from where the person belongs\n",
    "6. Gender: Gender of the person\n",
    "7. Age: Age of the person\n",
    "8. Tenure: Time period of credit card issuing \n",
    "9. Balance: Balance in the account\n",
    "10. NumOfProducts: Number of products brought\n",
    "11. HasCrCard: Does the person own a credit card\n",
    "12. IsActiveMember: Is the person Active\n",
    "13. EstimatedSalary: Estimated Salary of the person\n",
    "14. Exited: Target Variable\n",
    "\n",
    "\n",
    "\n",
    "\n",
    "\n",
    "Columns Types:\n",
    "1. Continuous: 11\n",
    " \n",
    "2. Categorical: 3"
   ]
  },
  {
   "cell_type": "markdown",
   "id": "ce2249e8",
   "metadata": {
    "id": "ce2249e8"
   },
   "source": [
    "# Importing Important Dependencies "
   ]
  },
  {
   "cell_type": "code",
   "execution_count": 1,
   "id": "bc1fc288",
   "metadata": {
    "id": "bc1fc288"
   },
   "outputs": [],
   "source": [
    "import numpy as np\n",
    "import pandas as pd\n",
    "import matplotlib.pyplot as plt\n",
    "import seaborn as sns\n",
    "import random as rnd\n",
    "import warnings\n",
    "warnings.filterwarnings(\"ignore\")"
   ]
  },
  {
   "cell_type": "markdown",
   "id": "bea0dd9e",
   "metadata": {
    "id": "bea0dd9e"
   },
   "source": [
    "# Reading Data Set"
   ]
  },
  {
   "cell_type": "code",
   "execution_count": 2,
   "id": "37c351ac",
   "metadata": {
    "id": "37c351ac"
   },
   "outputs": [],
   "source": [
    "df = pd.read_csv('Date_Fruit_Datasets.csv')"
   ]
  },
  {
   "cell_type": "code",
   "execution_count": 3,
   "id": "37df2a66",
   "metadata": {
    "colab": {
     "base_uri": "https://localhost:8080/",
     "height": 340
    },
    "id": "37df2a66",
    "outputId": "b7434747-382a-49d4-edcf-1996b56d19fb"
   },
   "outputs": [
    {
     "data": {
      "text/html": [
       "<div>\n",
       "<style scoped>\n",
       "    .dataframe tbody tr th:only-of-type {\n",
       "        vertical-align: middle;\n",
       "    }\n",
       "\n",
       "    .dataframe tbody tr th {\n",
       "        vertical-align: top;\n",
       "    }\n",
       "\n",
       "    .dataframe thead th {\n",
       "        text-align: right;\n",
       "    }\n",
       "</style>\n",
       "<table border=\"1\" class=\"dataframe\">\n",
       "  <thead>\n",
       "    <tr style=\"text-align: right;\">\n",
       "      <th></th>\n",
       "      <th>AREA</th>\n",
       "      <th>PERIMETER</th>\n",
       "      <th>MAJOR_AXIS</th>\n",
       "      <th>MINOR_AXIS</th>\n",
       "      <th>ECCENTRICITY</th>\n",
       "      <th>EQDIASQ</th>\n",
       "      <th>SOLIDITY</th>\n",
       "      <th>CONVEX_AREA</th>\n",
       "      <th>EXTENT</th>\n",
       "      <th>ASPECT_RATIO</th>\n",
       "      <th>...</th>\n",
       "      <th>KurtosisRR</th>\n",
       "      <th>KurtosisRG</th>\n",
       "      <th>KurtosisRB</th>\n",
       "      <th>EntropyRR</th>\n",
       "      <th>EntropyRG</th>\n",
       "      <th>EntropyRB</th>\n",
       "      <th>ALLdaub4RR</th>\n",
       "      <th>ALLdaub4RG</th>\n",
       "      <th>ALLdaub4RB</th>\n",
       "      <th>Class</th>\n",
       "    </tr>\n",
       "  </thead>\n",
       "  <tbody>\n",
       "    <tr>\n",
       "      <th>0</th>\n",
       "      <td>422163</td>\n",
       "      <td>2378.908</td>\n",
       "      <td>837.8484</td>\n",
       "      <td>645.6693</td>\n",
       "      <td>0.6373</td>\n",
       "      <td>733.1539</td>\n",
       "      <td>0.9947</td>\n",
       "      <td>424428</td>\n",
       "      <td>0.7831</td>\n",
       "      <td>1.2976</td>\n",
       "      <td>...</td>\n",
       "      <td>3.2370</td>\n",
       "      <td>2.9574</td>\n",
       "      <td>4.2287</td>\n",
       "      <td>-59191263232</td>\n",
       "      <td>-50714214400</td>\n",
       "      <td>-39922372608</td>\n",
       "      <td>58.7255</td>\n",
       "      <td>54.9554</td>\n",
       "      <td>47.8400</td>\n",
       "      <td>BERHI</td>\n",
       "    </tr>\n",
       "    <tr>\n",
       "      <th>1</th>\n",
       "      <td>338136</td>\n",
       "      <td>2085.144</td>\n",
       "      <td>723.8198</td>\n",
       "      <td>595.2073</td>\n",
       "      <td>0.5690</td>\n",
       "      <td>656.1464</td>\n",
       "      <td>0.9974</td>\n",
       "      <td>339014</td>\n",
       "      <td>0.7795</td>\n",
       "      <td>1.2161</td>\n",
       "      <td>...</td>\n",
       "      <td>2.6228</td>\n",
       "      <td>2.6350</td>\n",
       "      <td>3.1704</td>\n",
       "      <td>-34233065472</td>\n",
       "      <td>-37462601728</td>\n",
       "      <td>-31477794816</td>\n",
       "      <td>50.0259</td>\n",
       "      <td>52.8168</td>\n",
       "      <td>47.8315</td>\n",
       "      <td>BERHI</td>\n",
       "    </tr>\n",
       "    <tr>\n",
       "      <th>2</th>\n",
       "      <td>526843</td>\n",
       "      <td>2647.394</td>\n",
       "      <td>940.7379</td>\n",
       "      <td>715.3638</td>\n",
       "      <td>0.6494</td>\n",
       "      <td>819.0222</td>\n",
       "      <td>0.9962</td>\n",
       "      <td>528876</td>\n",
       "      <td>0.7657</td>\n",
       "      <td>1.3150</td>\n",
       "      <td>...</td>\n",
       "      <td>3.7516</td>\n",
       "      <td>3.8611</td>\n",
       "      <td>4.7192</td>\n",
       "      <td>-93948354560</td>\n",
       "      <td>-74738221056</td>\n",
       "      <td>-60311207936</td>\n",
       "      <td>65.4772</td>\n",
       "      <td>59.2860</td>\n",
       "      <td>51.9378</td>\n",
       "      <td>BERHI</td>\n",
       "    </tr>\n",
       "    <tr>\n",
       "      <th>3</th>\n",
       "      <td>416063</td>\n",
       "      <td>2351.210</td>\n",
       "      <td>827.9804</td>\n",
       "      <td>645.2988</td>\n",
       "      <td>0.6266</td>\n",
       "      <td>727.8378</td>\n",
       "      <td>0.9948</td>\n",
       "      <td>418255</td>\n",
       "      <td>0.7759</td>\n",
       "      <td>1.2831</td>\n",
       "      <td>...</td>\n",
       "      <td>5.0401</td>\n",
       "      <td>8.6136</td>\n",
       "      <td>8.2618</td>\n",
       "      <td>-32074307584</td>\n",
       "      <td>-32060925952</td>\n",
       "      <td>-29575010304</td>\n",
       "      <td>43.3900</td>\n",
       "      <td>44.1259</td>\n",
       "      <td>41.1882</td>\n",
       "      <td>BERHI</td>\n",
       "    </tr>\n",
       "    <tr>\n",
       "      <th>4</th>\n",
       "      <td>347562</td>\n",
       "      <td>2160.354</td>\n",
       "      <td>763.9877</td>\n",
       "      <td>582.8359</td>\n",
       "      <td>0.6465</td>\n",
       "      <td>665.2291</td>\n",
       "      <td>0.9908</td>\n",
       "      <td>350797</td>\n",
       "      <td>0.7569</td>\n",
       "      <td>1.3108</td>\n",
       "      <td>...</td>\n",
       "      <td>2.7016</td>\n",
       "      <td>2.9761</td>\n",
       "      <td>4.4146</td>\n",
       "      <td>-39980974080</td>\n",
       "      <td>-35980042240</td>\n",
       "      <td>-25593278464</td>\n",
       "      <td>52.7743</td>\n",
       "      <td>50.9080</td>\n",
       "      <td>42.6666</td>\n",
       "      <td>BERHI</td>\n",
       "    </tr>\n",
       "  </tbody>\n",
       "</table>\n",
       "<p>5 rows × 35 columns</p>\n",
       "</div>"
      ],
      "text/plain": [
       "     AREA  PERIMETER  MAJOR_AXIS  MINOR_AXIS  ECCENTRICITY   EQDIASQ  \\\n",
       "0  422163   2378.908    837.8484    645.6693        0.6373  733.1539   \n",
       "1  338136   2085.144    723.8198    595.2073        0.5690  656.1464   \n",
       "2  526843   2647.394    940.7379    715.3638        0.6494  819.0222   \n",
       "3  416063   2351.210    827.9804    645.2988        0.6266  727.8378   \n",
       "4  347562   2160.354    763.9877    582.8359        0.6465  665.2291   \n",
       "\n",
       "   SOLIDITY  CONVEX_AREA  EXTENT  ASPECT_RATIO  ...  KurtosisRR  KurtosisRG  \\\n",
       "0    0.9947       424428  0.7831        1.2976  ...      3.2370      2.9574   \n",
       "1    0.9974       339014  0.7795        1.2161  ...      2.6228      2.6350   \n",
       "2    0.9962       528876  0.7657        1.3150  ...      3.7516      3.8611   \n",
       "3    0.9948       418255  0.7759        1.2831  ...      5.0401      8.6136   \n",
       "4    0.9908       350797  0.7569        1.3108  ...      2.7016      2.9761   \n",
       "\n",
       "   KurtosisRB    EntropyRR    EntropyRG    EntropyRB  ALLdaub4RR  ALLdaub4RG  \\\n",
       "0      4.2287 -59191263232 -50714214400 -39922372608     58.7255     54.9554   \n",
       "1      3.1704 -34233065472 -37462601728 -31477794816     50.0259     52.8168   \n",
       "2      4.7192 -93948354560 -74738221056 -60311207936     65.4772     59.2860   \n",
       "3      8.2618 -32074307584 -32060925952 -29575010304     43.3900     44.1259   \n",
       "4      4.4146 -39980974080 -35980042240 -25593278464     52.7743     50.9080   \n",
       "\n",
       "   ALLdaub4RB  Class  \n",
       "0     47.8400  BERHI  \n",
       "1     47.8315  BERHI  \n",
       "2     51.9378  BERHI  \n",
       "3     41.1882  BERHI  \n",
       "4     42.6666  BERHI  \n",
       "\n",
       "[5 rows x 35 columns]"
      ]
     },
     "execution_count": 3,
     "metadata": {},
     "output_type": "execute_result"
    }
   ],
   "source": [
    "df.head()"
   ]
  },
  {
   "cell_type": "code",
   "execution_count": 4,
   "id": "x-Km-WJ4jEhU",
   "metadata": {
    "colab": {
     "base_uri": "https://localhost:8080/"
    },
    "id": "x-Km-WJ4jEhU",
    "outputId": "7355497c-6bae-4d7b-c6a0-e92a21e8a89b"
   },
   "outputs": [
    {
     "data": {
      "text/plain": [
       "(898, 35)"
      ]
     },
     "execution_count": 4,
     "metadata": {},
     "output_type": "execute_result"
    }
   ],
   "source": [
    "df.shape"
   ]
  },
  {
   "cell_type": "code",
   "execution_count": 5,
   "id": "d93d79f5",
   "metadata": {},
   "outputs": [
    {
     "data": {
      "text/plain": [
       "False"
      ]
     },
     "execution_count": 5,
     "metadata": {},
     "output_type": "execute_result"
    }
   ],
   "source": [
    "df.isnull().values.any()"
   ]
  },
  {
   "cell_type": "code",
   "execution_count": 6,
   "id": "3veDIdPBjEpT",
   "metadata": {
    "colab": {
     "base_uri": "https://localhost:8080/"
    },
    "id": "3veDIdPBjEpT",
    "outputId": "c61688eb-8261-4d74-a09e-9f71f810c956"
   },
   "outputs": [
    {
     "name": "stdout",
     "output_type": "stream",
     "text": [
      "<class 'pandas.core.frame.DataFrame'>\n",
      "RangeIndex: 898 entries, 0 to 897\n",
      "Data columns (total 35 columns):\n",
      " #   Column         Non-Null Count  Dtype  \n",
      "---  ------         --------------  -----  \n",
      " 0   AREA           898 non-null    int64  \n",
      " 1   PERIMETER      898 non-null    float64\n",
      " 2   MAJOR_AXIS     898 non-null    float64\n",
      " 3   MINOR_AXIS     898 non-null    float64\n",
      " 4   ECCENTRICITY   898 non-null    float64\n",
      " 5   EQDIASQ        898 non-null    float64\n",
      " 6   SOLIDITY       898 non-null    float64\n",
      " 7   CONVEX_AREA    898 non-null    int64  \n",
      " 8   EXTENT         898 non-null    float64\n",
      " 9   ASPECT_RATIO   898 non-null    float64\n",
      " 10  ROUNDNESS      898 non-null    float64\n",
      " 11  COMPACTNESS    898 non-null    float64\n",
      " 12  SHAPEFACTOR_1  898 non-null    float64\n",
      " 13  SHAPEFACTOR_2  898 non-null    float64\n",
      " 14  SHAPEFACTOR_3  898 non-null    float64\n",
      " 15  SHAPEFACTOR_4  898 non-null    float64\n",
      " 16  MeanRR         898 non-null    float64\n",
      " 17  MeanRG         898 non-null    float64\n",
      " 18  MeanRB         898 non-null    float64\n",
      " 19  StdDevRR       898 non-null    float64\n",
      " 20  StdDevRG       898 non-null    float64\n",
      " 21  StdDevRB       898 non-null    float64\n",
      " 22  SkewRR         898 non-null    float64\n",
      " 23  SkewRG         898 non-null    float64\n",
      " 24  SkewRB         898 non-null    float64\n",
      " 25  KurtosisRR     898 non-null    float64\n",
      " 26  KurtosisRG     898 non-null    float64\n",
      " 27  KurtosisRB     898 non-null    float64\n",
      " 28  EntropyRR      898 non-null    int64  \n",
      " 29  EntropyRG      898 non-null    int64  \n",
      " 30  EntropyRB      898 non-null    int64  \n",
      " 31  ALLdaub4RR     898 non-null    float64\n",
      " 32  ALLdaub4RG     898 non-null    float64\n",
      " 33  ALLdaub4RB     898 non-null    float64\n",
      " 34  Class          898 non-null    object \n",
      "dtypes: float64(29), int64(5), object(1)\n",
      "memory usage: 245.7+ KB\n"
     ]
    }
   ],
   "source": [
    "df.info()"
   ]
  },
  {
   "cell_type": "code",
   "execution_count": 7,
   "id": "vCf09cjmZECP",
   "metadata": {
    "colab": {
     "base_uri": "https://localhost:8080/"
    },
    "id": "vCf09cjmZECP",
    "outputId": "b400a53b-7b3c-4dd7-d572-88c7b30646ec"
   },
   "outputs": [
    {
     "data": {
      "text/plain": [
       "0"
      ]
     },
     "execution_count": 7,
     "metadata": {},
     "output_type": "execute_result"
    }
   ],
   "source": [
    "sum(df.duplicated())"
   ]
  },
  {
   "cell_type": "code",
   "execution_count": 8,
   "id": "WhIVB3CLkELg",
   "metadata": {
    "colab": {
     "base_uri": "https://localhost:8080/",
     "height": 364
    },
    "id": "WhIVB3CLkELg",
    "outputId": "84dcdb0a-03f9-4b1f-a3c3-8489becfd28b"
   },
   "outputs": [
    {
     "data": {
      "text/html": [
       "<div>\n",
       "<style scoped>\n",
       "    .dataframe tbody tr th:only-of-type {\n",
       "        vertical-align: middle;\n",
       "    }\n",
       "\n",
       "    .dataframe tbody tr th {\n",
       "        vertical-align: top;\n",
       "    }\n",
       "\n",
       "    .dataframe thead th {\n",
       "        text-align: right;\n",
       "    }\n",
       "</style>\n",
       "<table border=\"1\" class=\"dataframe\">\n",
       "  <thead>\n",
       "    <tr style=\"text-align: right;\">\n",
       "      <th></th>\n",
       "      <th>AREA</th>\n",
       "      <th>PERIMETER</th>\n",
       "      <th>MAJOR_AXIS</th>\n",
       "      <th>MINOR_AXIS</th>\n",
       "      <th>ECCENTRICITY</th>\n",
       "      <th>EQDIASQ</th>\n",
       "      <th>SOLIDITY</th>\n",
       "      <th>CONVEX_AREA</th>\n",
       "      <th>EXTENT</th>\n",
       "      <th>ASPECT_RATIO</th>\n",
       "      <th>...</th>\n",
       "      <th>SkewRB</th>\n",
       "      <th>KurtosisRR</th>\n",
       "      <th>KurtosisRG</th>\n",
       "      <th>KurtosisRB</th>\n",
       "      <th>EntropyRR</th>\n",
       "      <th>EntropyRG</th>\n",
       "      <th>EntropyRB</th>\n",
       "      <th>ALLdaub4RR</th>\n",
       "      <th>ALLdaub4RG</th>\n",
       "      <th>ALLdaub4RB</th>\n",
       "    </tr>\n",
       "  </thead>\n",
       "  <tbody>\n",
       "    <tr>\n",
       "      <th>count</th>\n",
       "      <td>898.000000</td>\n",
       "      <td>898.000000</td>\n",
       "      <td>898.000000</td>\n",
       "      <td>898.000000</td>\n",
       "      <td>898.000000</td>\n",
       "      <td>898.000000</td>\n",
       "      <td>898.000000</td>\n",
       "      <td>898.000000</td>\n",
       "      <td>898.000000</td>\n",
       "      <td>898.000000</td>\n",
       "      <td>...</td>\n",
       "      <td>898.000000</td>\n",
       "      <td>898.000000</td>\n",
       "      <td>898.000000</td>\n",
       "      <td>898.000000</td>\n",
       "      <td>8.980000e+02</td>\n",
       "      <td>8.980000e+02</td>\n",
       "      <td>8.980000e+02</td>\n",
       "      <td>898.000000</td>\n",
       "      <td>898.000000</td>\n",
       "      <td>898.000000</td>\n",
       "    </tr>\n",
       "    <tr>\n",
       "      <th>mean</th>\n",
       "      <td>298295.207127</td>\n",
       "      <td>2057.660953</td>\n",
       "      <td>750.811994</td>\n",
       "      <td>495.872785</td>\n",
       "      <td>0.737468</td>\n",
       "      <td>604.577938</td>\n",
       "      <td>0.981840</td>\n",
       "      <td>303845.592428</td>\n",
       "      <td>0.736267</td>\n",
       "      <td>2.131102</td>\n",
       "      <td>...</td>\n",
       "      <td>0.250518</td>\n",
       "      <td>4.247845</td>\n",
       "      <td>5.110894</td>\n",
       "      <td>3.780928</td>\n",
       "      <td>-3.185021e+10</td>\n",
       "      <td>-2.901860e+10</td>\n",
       "      <td>-2.771876e+10</td>\n",
       "      <td>50.082888</td>\n",
       "      <td>48.805681</td>\n",
       "      <td>48.098393</td>\n",
       "    </tr>\n",
       "    <tr>\n",
       "      <th>std</th>\n",
       "      <td>107245.205337</td>\n",
       "      <td>410.012459</td>\n",
       "      <td>144.059326</td>\n",
       "      <td>114.268917</td>\n",
       "      <td>0.088727</td>\n",
       "      <td>119.593888</td>\n",
       "      <td>0.018157</td>\n",
       "      <td>108815.656947</td>\n",
       "      <td>0.053745</td>\n",
       "      <td>17.820778</td>\n",
       "      <td>...</td>\n",
       "      <td>0.632918</td>\n",
       "      <td>2.892357</td>\n",
       "      <td>3.745463</td>\n",
       "      <td>2.049831</td>\n",
       "      <td>2.037241e+10</td>\n",
       "      <td>1.712952e+10</td>\n",
       "      <td>1.484137e+10</td>\n",
       "      <td>16.063125</td>\n",
       "      <td>14.125911</td>\n",
       "      <td>10.813862</td>\n",
       "    </tr>\n",
       "    <tr>\n",
       "      <th>min</th>\n",
       "      <td>1987.000000</td>\n",
       "      <td>911.828000</td>\n",
       "      <td>336.722700</td>\n",
       "      <td>2.283200</td>\n",
       "      <td>0.344800</td>\n",
       "      <td>50.298400</td>\n",
       "      <td>0.836600</td>\n",
       "      <td>2257.000000</td>\n",
       "      <td>0.512300</td>\n",
       "      <td>1.065300</td>\n",
       "      <td>...</td>\n",
       "      <td>-1.029100</td>\n",
       "      <td>1.708200</td>\n",
       "      <td>1.607600</td>\n",
       "      <td>1.767200</td>\n",
       "      <td>-1.091224e+11</td>\n",
       "      <td>-9.261697e+10</td>\n",
       "      <td>-8.747177e+10</td>\n",
       "      <td>15.191100</td>\n",
       "      <td>20.524700</td>\n",
       "      <td>22.130000</td>\n",
       "    </tr>\n",
       "    <tr>\n",
       "      <th>25%</th>\n",
       "      <td>206948.000000</td>\n",
       "      <td>1726.091500</td>\n",
       "      <td>641.068650</td>\n",
       "      <td>404.684375</td>\n",
       "      <td>0.685625</td>\n",
       "      <td>513.317075</td>\n",
       "      <td>0.978825</td>\n",
       "      <td>210022.750000</td>\n",
       "      <td>0.705875</td>\n",
       "      <td>1.373725</td>\n",
       "      <td>...</td>\n",
       "      <td>-0.196950</td>\n",
       "      <td>2.536625</td>\n",
       "      <td>2.508850</td>\n",
       "      <td>2.577275</td>\n",
       "      <td>-4.429444e+10</td>\n",
       "      <td>-3.894638e+10</td>\n",
       "      <td>-3.564534e+10</td>\n",
       "      <td>38.224425</td>\n",
       "      <td>38.654525</td>\n",
       "      <td>39.250725</td>\n",
       "    </tr>\n",
       "    <tr>\n",
       "      <th>50%</th>\n",
       "      <td>319833.000000</td>\n",
       "      <td>2196.345450</td>\n",
       "      <td>791.363400</td>\n",
       "      <td>495.054850</td>\n",
       "      <td>0.754700</td>\n",
       "      <td>638.140950</td>\n",
       "      <td>0.987300</td>\n",
       "      <td>327207.000000</td>\n",
       "      <td>0.746950</td>\n",
       "      <td>1.524150</td>\n",
       "      <td>...</td>\n",
       "      <td>0.135550</td>\n",
       "      <td>3.069800</td>\n",
       "      <td>3.127800</td>\n",
       "      <td>3.080700</td>\n",
       "      <td>-2.826156e+10</td>\n",
       "      <td>-2.620990e+10</td>\n",
       "      <td>-2.392928e+10</td>\n",
       "      <td>53.841300</td>\n",
       "      <td>50.337800</td>\n",
       "      <td>49.614100</td>\n",
       "    </tr>\n",
       "    <tr>\n",
       "      <th>75%</th>\n",
       "      <td>382573.000000</td>\n",
       "      <td>2389.716575</td>\n",
       "      <td>858.633750</td>\n",
       "      <td>589.031700</td>\n",
       "      <td>0.802150</td>\n",
       "      <td>697.930525</td>\n",
       "      <td>0.991800</td>\n",
       "      <td>388804.000000</td>\n",
       "      <td>0.775850</td>\n",
       "      <td>1.674750</td>\n",
       "      <td>...</td>\n",
       "      <td>0.593950</td>\n",
       "      <td>4.449850</td>\n",
       "      <td>7.320400</td>\n",
       "      <td>4.283125</td>\n",
       "      <td>-1.460482e+10</td>\n",
       "      <td>-1.433105e+10</td>\n",
       "      <td>-1.660367e+10</td>\n",
       "      <td>63.063350</td>\n",
       "      <td>59.573600</td>\n",
       "      <td>56.666675</td>\n",
       "    </tr>\n",
       "    <tr>\n",
       "      <th>max</th>\n",
       "      <td>546063.000000</td>\n",
       "      <td>2811.997100</td>\n",
       "      <td>1222.723000</td>\n",
       "      <td>766.453600</td>\n",
       "      <td>1.000000</td>\n",
       "      <td>833.827900</td>\n",
       "      <td>0.997400</td>\n",
       "      <td>552598.000000</td>\n",
       "      <td>0.856200</td>\n",
       "      <td>535.525700</td>\n",
       "      <td>...</td>\n",
       "      <td>3.092300</td>\n",
       "      <td>26.171100</td>\n",
       "      <td>26.736700</td>\n",
       "      <td>32.249500</td>\n",
       "      <td>-1.627316e+08</td>\n",
       "      <td>-5.627727e+08</td>\n",
       "      <td>-4.370435e+08</td>\n",
       "      <td>79.828900</td>\n",
       "      <td>83.064900</td>\n",
       "      <td>74.104600</td>\n",
       "    </tr>\n",
       "  </tbody>\n",
       "</table>\n",
       "<p>8 rows × 34 columns</p>\n",
       "</div>"
      ],
      "text/plain": [
       "                AREA    PERIMETER   MAJOR_AXIS  MINOR_AXIS  ECCENTRICITY  \\\n",
       "count     898.000000   898.000000   898.000000  898.000000    898.000000   \n",
       "mean   298295.207127  2057.660953   750.811994  495.872785      0.737468   \n",
       "std    107245.205337   410.012459   144.059326  114.268917      0.088727   \n",
       "min      1987.000000   911.828000   336.722700    2.283200      0.344800   \n",
       "25%    206948.000000  1726.091500   641.068650  404.684375      0.685625   \n",
       "50%    319833.000000  2196.345450   791.363400  495.054850      0.754700   \n",
       "75%    382573.000000  2389.716575   858.633750  589.031700      0.802150   \n",
       "max    546063.000000  2811.997100  1222.723000  766.453600      1.000000   \n",
       "\n",
       "          EQDIASQ    SOLIDITY    CONVEX_AREA      EXTENT  ASPECT_RATIO  ...  \\\n",
       "count  898.000000  898.000000     898.000000  898.000000    898.000000  ...   \n",
       "mean   604.577938    0.981840  303845.592428    0.736267      2.131102  ...   \n",
       "std    119.593888    0.018157  108815.656947    0.053745     17.820778  ...   \n",
       "min     50.298400    0.836600    2257.000000    0.512300      1.065300  ...   \n",
       "25%    513.317075    0.978825  210022.750000    0.705875      1.373725  ...   \n",
       "50%    638.140950    0.987300  327207.000000    0.746950      1.524150  ...   \n",
       "75%    697.930525    0.991800  388804.000000    0.775850      1.674750  ...   \n",
       "max    833.827900    0.997400  552598.000000    0.856200    535.525700  ...   \n",
       "\n",
       "           SkewRB  KurtosisRR  KurtosisRG  KurtosisRB     EntropyRR  \\\n",
       "count  898.000000  898.000000  898.000000  898.000000  8.980000e+02   \n",
       "mean     0.250518    4.247845    5.110894    3.780928 -3.185021e+10   \n",
       "std      0.632918    2.892357    3.745463    2.049831  2.037241e+10   \n",
       "min     -1.029100    1.708200    1.607600    1.767200 -1.091224e+11   \n",
       "25%     -0.196950    2.536625    2.508850    2.577275 -4.429444e+10   \n",
       "50%      0.135550    3.069800    3.127800    3.080700 -2.826156e+10   \n",
       "75%      0.593950    4.449850    7.320400    4.283125 -1.460482e+10   \n",
       "max      3.092300   26.171100   26.736700   32.249500 -1.627316e+08   \n",
       "\n",
       "          EntropyRG     EntropyRB  ALLdaub4RR  ALLdaub4RG  ALLdaub4RB  \n",
       "count  8.980000e+02  8.980000e+02  898.000000  898.000000  898.000000  \n",
       "mean  -2.901860e+10 -2.771876e+10   50.082888   48.805681   48.098393  \n",
       "std    1.712952e+10  1.484137e+10   16.063125   14.125911   10.813862  \n",
       "min   -9.261697e+10 -8.747177e+10   15.191100   20.524700   22.130000  \n",
       "25%   -3.894638e+10 -3.564534e+10   38.224425   38.654525   39.250725  \n",
       "50%   -2.620990e+10 -2.392928e+10   53.841300   50.337800   49.614100  \n",
       "75%   -1.433105e+10 -1.660367e+10   63.063350   59.573600   56.666675  \n",
       "max   -5.627727e+08 -4.370435e+08   79.828900   83.064900   74.104600  \n",
       "\n",
       "[8 rows x 34 columns]"
      ]
     },
     "execution_count": 8,
     "metadata": {},
     "output_type": "execute_result"
    }
   ],
   "source": [
    "df.describe()"
   ]
  },
  {
   "cell_type": "code",
   "execution_count": 9,
   "id": "Z4Ss1sJAjMqD",
   "metadata": {
    "colab": {
     "base_uri": "https://localhost:8080/"
    },
    "id": "Z4Ss1sJAjMqD",
    "outputId": "0009b8dd-6aa3-4260-f3cc-e3dadf68d5c5",
    "scrolled": true
   },
   "outputs": [
    {
     "data": {
      "text/plain": [
       "AREA             0\n",
       "PERIMETER        0\n",
       "MAJOR_AXIS       0\n",
       "MINOR_AXIS       0\n",
       "ECCENTRICITY     0\n",
       "EQDIASQ          0\n",
       "SOLIDITY         0\n",
       "CONVEX_AREA      0\n",
       "EXTENT           0\n",
       "ASPECT_RATIO     0\n",
       "ROUNDNESS        0\n",
       "COMPACTNESS      0\n",
       "SHAPEFACTOR_1    0\n",
       "SHAPEFACTOR_2    0\n",
       "SHAPEFACTOR_3    0\n",
       "SHAPEFACTOR_4    0\n",
       "MeanRR           0\n",
       "MeanRG           0\n",
       "MeanRB           0\n",
       "StdDevRR         0\n",
       "StdDevRG         0\n",
       "StdDevRB         0\n",
       "SkewRR           0\n",
       "SkewRG           0\n",
       "SkewRB           0\n",
       "KurtosisRR       0\n",
       "KurtosisRG       0\n",
       "KurtosisRB       0\n",
       "EntropyRR        0\n",
       "EntropyRG        0\n",
       "EntropyRB        0\n",
       "ALLdaub4RR       0\n",
       "ALLdaub4RG       0\n",
       "ALLdaub4RB       0\n",
       "Class            0\n",
       "dtype: int64"
      ]
     },
     "execution_count": 9,
     "metadata": {},
     "output_type": "execute_result"
    }
   ],
   "source": [
    "df.isnull().sum()"
   ]
  },
  {
   "cell_type": "code",
   "execution_count": 10,
   "id": "stOQMufU7b2w",
   "metadata": {
    "colab": {
     "base_uri": "https://localhost:8080/"
    },
    "id": "stOQMufU7b2w",
    "outputId": "8bf5feb5-dc76-489e-f0cf-db5ff5142438"
   },
   "outputs": [
    {
     "data": {
      "text/plain": [
       "AREA             0.0\n",
       "PERIMETER        0.0\n",
       "MAJOR_AXIS       0.0\n",
       "MINOR_AXIS       0.0\n",
       "ECCENTRICITY     0.0\n",
       "EQDIASQ          0.0\n",
       "SOLIDITY         0.0\n",
       "CONVEX_AREA      0.0\n",
       "EXTENT           0.0\n",
       "ASPECT_RATIO     0.0\n",
       "ROUNDNESS        0.0\n",
       "COMPACTNESS      0.0\n",
       "SHAPEFACTOR_1    0.0\n",
       "SHAPEFACTOR_2    0.0\n",
       "SHAPEFACTOR_3    0.0\n",
       "SHAPEFACTOR_4    0.0\n",
       "MeanRR           0.0\n",
       "MeanRG           0.0\n",
       "MeanRB           0.0\n",
       "StdDevRR         0.0\n",
       "StdDevRG         0.0\n",
       "StdDevRB         0.0\n",
       "SkewRR           0.0\n",
       "SkewRG           0.0\n",
       "SkewRB           0.0\n",
       "KurtosisRR       0.0\n",
       "KurtosisRG       0.0\n",
       "KurtosisRB       0.0\n",
       "EntropyRR        0.0\n",
       "EntropyRG        0.0\n",
       "EntropyRB        0.0\n",
       "ALLdaub4RR       0.0\n",
       "ALLdaub4RG       0.0\n",
       "ALLdaub4RB       0.0\n",
       "Class            0.0\n",
       "dtype: float64"
      ]
     },
     "execution_count": 10,
     "metadata": {},
     "output_type": "execute_result"
    }
   ],
   "source": [
    "df.isnull().sum()/df.shape[0]*100"
   ]
  },
  {
   "cell_type": "code",
   "execution_count": 11,
   "id": "Nz_QXlDJjO6M",
   "metadata": {
    "colab": {
     "base_uri": "https://localhost:8080/"
    },
    "id": "Nz_QXlDJjO6M",
    "outputId": "b18ce595-ef6b-4c5c-88d9-4cc831068d30"
   },
   "outputs": [
    {
     "data": {
      "text/plain": [
       "AREA             0\n",
       "PERIMETER        0\n",
       "MAJOR_AXIS       0\n",
       "MINOR_AXIS       0\n",
       "ECCENTRICITY     0\n",
       "EQDIASQ          0\n",
       "SOLIDITY         0\n",
       "CONVEX_AREA      0\n",
       "EXTENT           0\n",
       "ASPECT_RATIO     0\n",
       "ROUNDNESS        0\n",
       "COMPACTNESS      0\n",
       "SHAPEFACTOR_1    0\n",
       "SHAPEFACTOR_2    0\n",
       "SHAPEFACTOR_3    0\n",
       "SHAPEFACTOR_4    0\n",
       "MeanRR           0\n",
       "MeanRG           0\n",
       "MeanRB           0\n",
       "StdDevRR         0\n",
       "StdDevRG         0\n",
       "StdDevRB         0\n",
       "SkewRR           0\n",
       "SkewRG           0\n",
       "SkewRB           0\n",
       "KurtosisRR       0\n",
       "KurtosisRG       0\n",
       "KurtosisRB       0\n",
       "EntropyRR        0\n",
       "EntropyRG        0\n",
       "EntropyRB        0\n",
       "ALLdaub4RR       0\n",
       "ALLdaub4RG       0\n",
       "ALLdaub4RB       0\n",
       "dtype: int64"
      ]
     },
     "execution_count": 11,
     "metadata": {},
     "output_type": "execute_result"
    }
   ],
   "source": [
    "df.select_dtypes(include=(['int64', 'float64'])).isna().sum()\n",
    "df_num_col = df.select_dtypes(include=(['int64', 'float64'])).columns\n",
    "for c in df_num_col:\n",
    "    df[c].fillna(df[c].median(), inplace=True)\n",
    "\n",
    "df.select_dtypes(include=(['int64', 'float64'])).isna().sum()"
   ]
  },
  {
   "cell_type": "code",
   "execution_count": 12,
   "id": "uu67pp8ZNn3m",
   "metadata": {
    "colab": {
     "base_uri": "https://localhost:8080/"
    },
    "id": "uu67pp8ZNn3m",
    "outputId": "a3980a6e-7140-4feb-a628-2a745e6105b1"
   },
   "outputs": [
    {
     "data": {
      "text/plain": [
       "Class    0\n",
       "dtype: int64"
      ]
     },
     "execution_count": 12,
     "metadata": {},
     "output_type": "execute_result"
    }
   ],
   "source": [
    "df.select_dtypes(include=('object')).isna().sum()\n",
    "df_cat_col = df.select_dtypes(include=('object')).columns\n",
    "for c in df_cat_col:\n",
    "    df[c].fillna(df[c].mode().values[0], inplace=True)\n",
    "    \n",
    "df.select_dtypes(include=('object')).isna().sum()"
   ]
  },
  {
   "cell_type": "code",
   "execution_count": 13,
   "id": "0ToJoDfAjtlU",
   "metadata": {
    "colab": {
     "base_uri": "https://localhost:8080/"
    },
    "id": "0ToJoDfAjtlU",
    "outputId": "2a076769-a0df-46fa-b275-eaffa741b8fc"
   },
   "outputs": [
    {
     "data": {
      "text/plain": [
       "AREA             0\n",
       "PERIMETER        0\n",
       "MAJOR_AXIS       0\n",
       "MINOR_AXIS       0\n",
       "ECCENTRICITY     0\n",
       "EQDIASQ          0\n",
       "SOLIDITY         0\n",
       "CONVEX_AREA      0\n",
       "EXTENT           0\n",
       "ASPECT_RATIO     0\n",
       "ROUNDNESS        0\n",
       "COMPACTNESS      0\n",
       "SHAPEFACTOR_1    0\n",
       "SHAPEFACTOR_2    0\n",
       "SHAPEFACTOR_3    0\n",
       "SHAPEFACTOR_4    0\n",
       "MeanRR           0\n",
       "MeanRG           0\n",
       "MeanRB           0\n",
       "StdDevRR         0\n",
       "StdDevRG         0\n",
       "StdDevRB         0\n",
       "SkewRR           0\n",
       "SkewRG           0\n",
       "SkewRB           0\n",
       "KurtosisRR       0\n",
       "KurtosisRG       0\n",
       "KurtosisRB       0\n",
       "EntropyRR        0\n",
       "EntropyRG        0\n",
       "EntropyRB        0\n",
       "ALLdaub4RR       0\n",
       "ALLdaub4RG       0\n",
       "ALLdaub4RB       0\n",
       "Class            0\n",
       "dtype: int64"
      ]
     },
     "execution_count": 13,
     "metadata": {},
     "output_type": "execute_result"
    }
   ],
   "source": [
    "df.isnull().sum()"
   ]
  },
  {
   "cell_type": "code",
   "execution_count": 14,
   "id": "MNtHyiE3kAX4",
   "metadata": {
    "id": "MNtHyiE3kAX4"
   },
   "outputs": [],
   "source": [
    "X = df.drop('Class', axis=1)\n",
    "y = df['Class']"
   ]
  },
  {
   "cell_type": "code",
   "execution_count": 15,
   "id": "BuEJK5YGlPdW",
   "metadata": {
    "id": "BuEJK5YGlPdW"
   },
   "outputs": [],
   "source": [
    "from sklearn.model_selection import train_test_split as tts\n",
    "\n",
    "X_train, X_test, y_train, y_test = tts(X, y, test_size = .3, random_state = 2022)"
   ]
  },
  {
   "cell_type": "code",
   "execution_count": 16,
   "id": "gmEv9dkH858i",
   "metadata": {
    "colab": {
     "base_uri": "https://localhost:8080/",
     "height": 424
    },
    "id": "gmEv9dkH858i",
    "outputId": "caebe8b6-1e84-4578-beb3-693ec30b48f7"
   },
   "outputs": [
    {
     "data": {
      "text/html": [
       "<div>\n",
       "<style scoped>\n",
       "    .dataframe tbody tr th:only-of-type {\n",
       "        vertical-align: middle;\n",
       "    }\n",
       "\n",
       "    .dataframe tbody tr th {\n",
       "        vertical-align: top;\n",
       "    }\n",
       "\n",
       "    .dataframe thead th {\n",
       "        text-align: right;\n",
       "    }\n",
       "</style>\n",
       "<table border=\"1\" class=\"dataframe\">\n",
       "  <thead>\n",
       "    <tr style=\"text-align: right;\">\n",
       "      <th></th>\n",
       "    </tr>\n",
       "  </thead>\n",
       "  <tbody>\n",
       "    <tr>\n",
       "      <th>79</th>\n",
       "    </tr>\n",
       "    <tr>\n",
       "      <th>71</th>\n",
       "    </tr>\n",
       "    <tr>\n",
       "      <th>674</th>\n",
       "    </tr>\n",
       "    <tr>\n",
       "      <th>834</th>\n",
       "    </tr>\n",
       "    <tr>\n",
       "      <th>751</th>\n",
       "    </tr>\n",
       "    <tr>\n",
       "      <th>...</th>\n",
       "    </tr>\n",
       "    <tr>\n",
       "      <th>689</th>\n",
       "    </tr>\n",
       "    <tr>\n",
       "      <th>624</th>\n",
       "    </tr>\n",
       "    <tr>\n",
       "      <th>173</th>\n",
       "    </tr>\n",
       "    <tr>\n",
       "      <th>220</th>\n",
       "    </tr>\n",
       "    <tr>\n",
       "      <th>893</th>\n",
       "    </tr>\n",
       "  </tbody>\n",
       "</table>\n",
       "<p>628 rows × 0 columns</p>\n",
       "</div>"
      ],
      "text/plain": [
       "Empty DataFrame\n",
       "Columns: []\n",
       "Index: [79, 71, 674, 834, 751, 383, 328, 161, 349, 216, 337, 67, 551, 638, 344, 299, 128, 202, 699, 450, 518, 150, 392, 700, 219, 580, 465, 537, 709, 815, 521, 6, 842, 729, 174, 414, 650, 168, 690, 622, 594, 515, 771, 585, 780, 359, 430, 21, 13, 623, 290, 379, 391, 821, 25, 571, 63, 151, 274, 794, 503, 232, 381, 854, 817, 818, 109, 718, 796, 243, 1, 352, 553, 745, 241, 224, 165, 157, 382, 415, 768, 33, 461, 708, 579, 311, 401, 43, 256, 769, 790, 363, 892, 204, 167, 59, 286, 259, 490, 420, ...]\n",
       "\n",
       "[628 rows x 0 columns]"
      ]
     },
     "execution_count": 16,
     "metadata": {},
     "output_type": "execute_result"
    }
   ],
   "source": [
    "# Break X_train in to 2 parts: X_train_cat, X_train_cont, same w/ X_test\n",
    "X_train_cat = X_train.select_dtypes(exclude='number')\n",
    "X_train_cat"
   ]
  },
  {
   "cell_type": "code",
   "execution_count": 17,
   "id": "BSShex_v-xPg",
   "metadata": {
    "colab": {
     "base_uri": "https://localhost:8080/",
     "height": 424
    },
    "id": "BSShex_v-xPg",
    "outputId": "62c1dbfe-09d7-4657-ed9c-debcb66f5b6d"
   },
   "outputs": [
    {
     "data": {
      "text/html": [
       "<div>\n",
       "<style scoped>\n",
       "    .dataframe tbody tr th:only-of-type {\n",
       "        vertical-align: middle;\n",
       "    }\n",
       "\n",
       "    .dataframe tbody tr th {\n",
       "        vertical-align: top;\n",
       "    }\n",
       "\n",
       "    .dataframe thead th {\n",
       "        text-align: right;\n",
       "    }\n",
       "</style>\n",
       "<table border=\"1\" class=\"dataframe\">\n",
       "  <thead>\n",
       "    <tr style=\"text-align: right;\">\n",
       "      <th></th>\n",
       "    </tr>\n",
       "  </thead>\n",
       "  <tbody>\n",
       "    <tr>\n",
       "      <th>640</th>\n",
       "    </tr>\n",
       "    <tr>\n",
       "      <th>516</th>\n",
       "    </tr>\n",
       "    <tr>\n",
       "      <th>406</th>\n",
       "    </tr>\n",
       "    <tr>\n",
       "      <th>180</th>\n",
       "    </tr>\n",
       "    <tr>\n",
       "      <th>366</th>\n",
       "    </tr>\n",
       "    <tr>\n",
       "      <th>...</th>\n",
       "    </tr>\n",
       "    <tr>\n",
       "      <th>134</th>\n",
       "    </tr>\n",
       "    <tr>\n",
       "      <th>267</th>\n",
       "    </tr>\n",
       "    <tr>\n",
       "      <th>275</th>\n",
       "    </tr>\n",
       "    <tr>\n",
       "      <th>4</th>\n",
       "    </tr>\n",
       "    <tr>\n",
       "      <th>296</th>\n",
       "    </tr>\n",
       "  </tbody>\n",
       "</table>\n",
       "<p>270 rows × 0 columns</p>\n",
       "</div>"
      ],
      "text/plain": [
       "Empty DataFrame\n",
       "Columns: []\n",
       "Index: [640, 516, 406, 180, 366, 890, 519, 626, 345, 584, 315, 355, 152, 661, 354, 555, 380, 156, 178, 266, 677, 268, 629, 284, 522, 273, 722, 536, 433, 836, 736, 231, 684, 803, 26, 410, 507, 471, 228, 470, 660, 105, 717, 735, 540, 558, 106, 113, 833, 697, 376, 499, 496, 493, 289, 185, 827, 245, 93, 786, 665, 393, 614, 759, 131, 69, 252, 743, 324, 102, 35, 648, 632, 7, 755, 172, 32, 495, 843, 444, 169, 556, 879, 692, 114, 402, 613, 763, 385, 162, 695, 670, 50, 656, 469, 350, 635, 361, 10, 214, ...]\n",
       "\n",
       "[270 rows x 0 columns]"
      ]
     },
     "execution_count": 17,
     "metadata": {},
     "output_type": "execute_result"
    }
   ],
   "source": [
    "X_test_cat = X_test.select_dtypes(exclude='number')\n",
    "X_test_cat"
   ]
  },
  {
   "cell_type": "code",
   "execution_count": 18,
   "id": "90G5Xmi9-6oF",
   "metadata": {
    "colab": {
     "base_uri": "https://localhost:8080/",
     "height": 424
    },
    "id": "90G5Xmi9-6oF",
    "outputId": "e74cd28f-a1ad-4931-bf2a-5b890db18e89"
   },
   "outputs": [
    {
     "data": {
      "text/html": [
       "<div>\n",
       "<style scoped>\n",
       "    .dataframe tbody tr th:only-of-type {\n",
       "        vertical-align: middle;\n",
       "    }\n",
       "\n",
       "    .dataframe tbody tr th {\n",
       "        vertical-align: top;\n",
       "    }\n",
       "\n",
       "    .dataframe thead th {\n",
       "        text-align: right;\n",
       "    }\n",
       "</style>\n",
       "<table border=\"1\" class=\"dataframe\">\n",
       "  <thead>\n",
       "    <tr style=\"text-align: right;\">\n",
       "      <th></th>\n",
       "      <th>AREA</th>\n",
       "      <th>PERIMETER</th>\n",
       "      <th>MAJOR_AXIS</th>\n",
       "      <th>MINOR_AXIS</th>\n",
       "      <th>ECCENTRICITY</th>\n",
       "      <th>EQDIASQ</th>\n",
       "      <th>SOLIDITY</th>\n",
       "      <th>CONVEX_AREA</th>\n",
       "      <th>EXTENT</th>\n",
       "      <th>ASPECT_RATIO</th>\n",
       "      <th>...</th>\n",
       "      <th>SkewRB</th>\n",
       "      <th>KurtosisRR</th>\n",
       "      <th>KurtosisRG</th>\n",
       "      <th>KurtosisRB</th>\n",
       "      <th>EntropyRR</th>\n",
       "      <th>EntropyRG</th>\n",
       "      <th>EntropyRB</th>\n",
       "      <th>ALLdaub4RR</th>\n",
       "      <th>ALLdaub4RG</th>\n",
       "      <th>ALLdaub4RB</th>\n",
       "    </tr>\n",
       "  </thead>\n",
       "  <tbody>\n",
       "    <tr>\n",
       "      <th>79</th>\n",
       "      <td>217486</td>\n",
       "      <td>1759.1360</td>\n",
       "      <td>628.9557</td>\n",
       "      <td>442.0542</td>\n",
       "      <td>0.7113</td>\n",
       "      <td>526.2241</td>\n",
       "      <td>0.9899</td>\n",
       "      <td>219701</td>\n",
       "      <td>0.7659</td>\n",
       "      <td>1.4228</td>\n",
       "      <td>...</td>\n",
       "      <td>-0.1783</td>\n",
       "      <td>1.7082</td>\n",
       "      <td>1.6272</td>\n",
       "      <td>2.2624</td>\n",
       "      <td>-39708590080</td>\n",
       "      <td>-35721072640</td>\n",
       "      <td>-27564607488</td>\n",
       "      <td>64.1599</td>\n",
       "      <td>60.2045</td>\n",
       "      <td>55.1166</td>\n",
       "    </tr>\n",
       "    <tr>\n",
       "      <th>71</th>\n",
       "      <td>265701</td>\n",
       "      <td>1968.8020</td>\n",
       "      <td>746.8929</td>\n",
       "      <td>454.7724</td>\n",
       "      <td>0.7933</td>\n",
       "      <td>581.6365</td>\n",
       "      <td>0.9920</td>\n",
       "      <td>267851</td>\n",
       "      <td>0.7619</td>\n",
       "      <td>1.6423</td>\n",
       "      <td>...</td>\n",
       "      <td>0.1484</td>\n",
       "      <td>2.2009</td>\n",
       "      <td>2.3465</td>\n",
       "      <td>2.5310</td>\n",
       "      <td>-44338049024</td>\n",
       "      <td>-38484541440</td>\n",
       "      <td>-32898990080</td>\n",
       "      <td>62.8217</td>\n",
       "      <td>58.8671</td>\n",
       "      <td>55.4206</td>\n",
       "    </tr>\n",
       "    <tr>\n",
       "      <th>674</th>\n",
       "      <td>330662</td>\n",
       "      <td>2226.2170</td>\n",
       "      <td>852.1170</td>\n",
       "      <td>495.9751</td>\n",
       "      <td>0.8132</td>\n",
       "      <td>648.8543</td>\n",
       "      <td>0.9801</td>\n",
       "      <td>337365</td>\n",
       "      <td>0.6636</td>\n",
       "      <td>1.7181</td>\n",
       "      <td>...</td>\n",
       "      <td>0.4318</td>\n",
       "      <td>3.5027</td>\n",
       "      <td>11.4502</td>\n",
       "      <td>3.2484</td>\n",
       "      <td>-5660197888</td>\n",
       "      <td>-8215779840</td>\n",
       "      <td>-12093665280</td>\n",
       "      <td>21.5636</td>\n",
       "      <td>24.9978</td>\n",
       "      <td>30.5160</td>\n",
       "    </tr>\n",
       "    <tr>\n",
       "      <th>834</th>\n",
       "      <td>285626</td>\n",
       "      <td>2061.6350</td>\n",
       "      <td>785.1763</td>\n",
       "      <td>465.2850</td>\n",
       "      <td>0.8055</td>\n",
       "      <td>603.0508</td>\n",
       "      <td>0.9875</td>\n",
       "      <td>289254</td>\n",
       "      <td>0.6949</td>\n",
       "      <td>1.6875</td>\n",
       "      <td>...</td>\n",
       "      <td>0.5851</td>\n",
       "      <td>2.2405</td>\n",
       "      <td>2.3746</td>\n",
       "      <td>2.7014</td>\n",
       "      <td>-31685144576</td>\n",
       "      <td>-25452177408</td>\n",
       "      <td>-22856843264</td>\n",
       "      <td>51.0965</td>\n",
       "      <td>46.1440</td>\n",
       "      <td>44.0274</td>\n",
       "    </tr>\n",
       "    <tr>\n",
       "      <th>751</th>\n",
       "      <td>354060</td>\n",
       "      <td>2492.1340</td>\n",
       "      <td>871.6770</td>\n",
       "      <td>525.1666</td>\n",
       "      <td>0.7981</td>\n",
       "      <td>671.4188</td>\n",
       "      <td>0.9562</td>\n",
       "      <td>370270</td>\n",
       "      <td>0.6896</td>\n",
       "      <td>1.6598</td>\n",
       "      <td>...</td>\n",
       "      <td>0.2102</td>\n",
       "      <td>10.0950</td>\n",
       "      <td>8.9887</td>\n",
       "      <td>4.0231</td>\n",
       "      <td>-12331413504</td>\n",
       "      <td>-20443701248</td>\n",
       "      <td>-24380073984</td>\n",
       "      <td>29.9522</td>\n",
       "      <td>39.2315</td>\n",
       "      <td>42.6504</td>\n",
       "    </tr>\n",
       "    <tr>\n",
       "      <th>...</th>\n",
       "      <td>...</td>\n",
       "      <td>...</td>\n",
       "      <td>...</td>\n",
       "      <td>...</td>\n",
       "      <td>...</td>\n",
       "      <td>...</td>\n",
       "      <td>...</td>\n",
       "      <td>...</td>\n",
       "      <td>...</td>\n",
       "      <td>...</td>\n",
       "      <td>...</td>\n",
       "      <td>...</td>\n",
       "      <td>...</td>\n",
       "      <td>...</td>\n",
       "      <td>...</td>\n",
       "      <td>...</td>\n",
       "      <td>...</td>\n",
       "      <td>...</td>\n",
       "      <td>...</td>\n",
       "      <td>...</td>\n",
       "      <td>...</td>\n",
       "    </tr>\n",
       "    <tr>\n",
       "      <th>689</th>\n",
       "      <td>333356</td>\n",
       "      <td>2242.6880</td>\n",
       "      <td>880.4042</td>\n",
       "      <td>483.8072</td>\n",
       "      <td>0.8355</td>\n",
       "      <td>651.4922</td>\n",
       "      <td>0.9834</td>\n",
       "      <td>338967</td>\n",
       "      <td>0.6480</td>\n",
       "      <td>1.8197</td>\n",
       "      <td>...</td>\n",
       "      <td>1.0686</td>\n",
       "      <td>15.1736</td>\n",
       "      <td>11.5855</td>\n",
       "      <td>5.3592</td>\n",
       "      <td>-7259139584</td>\n",
       "      <td>-9597211648</td>\n",
       "      <td>-12309225472</td>\n",
       "      <td>20.5187</td>\n",
       "      <td>25.1953</td>\n",
       "      <td>31.2370</td>\n",
       "    </tr>\n",
       "    <tr>\n",
       "      <th>624</th>\n",
       "      <td>336865</td>\n",
       "      <td>2580.1411</td>\n",
       "      <td>882.9647</td>\n",
       "      <td>488.4337</td>\n",
       "      <td>0.8331</td>\n",
       "      <td>654.9121</td>\n",
       "      <td>0.9601</td>\n",
       "      <td>350873</td>\n",
       "      <td>0.7419</td>\n",
       "      <td>1.8077</td>\n",
       "      <td>...</td>\n",
       "      <td>0.3405</td>\n",
       "      <td>7.5115</td>\n",
       "      <td>6.4382</td>\n",
       "      <td>3.3465</td>\n",
       "      <td>-11477377024</td>\n",
       "      <td>-12436102144</td>\n",
       "      <td>-16732371968</td>\n",
       "      <td>27.8189</td>\n",
       "      <td>30.0402</td>\n",
       "      <td>35.6642</td>\n",
       "    </tr>\n",
       "    <tr>\n",
       "      <th>173</th>\n",
       "      <td>134784</td>\n",
       "      <td>1396.6130</td>\n",
       "      <td>512.9982</td>\n",
       "      <td>337.8875</td>\n",
       "      <td>0.7524</td>\n",
       "      <td>414.2612</td>\n",
       "      <td>0.9814</td>\n",
       "      <td>137337</td>\n",
       "      <td>0.7789</td>\n",
       "      <td>1.5183</td>\n",
       "      <td>...</td>\n",
       "      <td>-0.1187</td>\n",
       "      <td>3.1777</td>\n",
       "      <td>2.7328</td>\n",
       "      <td>2.3465</td>\n",
       "      <td>-21827747840</td>\n",
       "      <td>-21723887616</td>\n",
       "      <td>-15566317568</td>\n",
       "      <td>62.8286</td>\n",
       "      <td>63.4342</td>\n",
       "      <td>53.5290</td>\n",
       "    </tr>\n",
       "    <tr>\n",
       "      <th>220</th>\n",
       "      <td>158924</td>\n",
       "      <td>1497.3960</td>\n",
       "      <td>549.2912</td>\n",
       "      <td>370.9325</td>\n",
       "      <td>0.7375</td>\n",
       "      <td>449.8315</td>\n",
       "      <td>0.9886</td>\n",
       "      <td>160755</td>\n",
       "      <td>0.8115</td>\n",
       "      <td>1.4808</td>\n",
       "      <td>...</td>\n",
       "      <td>0.2550</td>\n",
       "      <td>2.4563</td>\n",
       "      <td>3.0237</td>\n",
       "      <td>2.8602</td>\n",
       "      <td>-15297030144</td>\n",
       "      <td>-12183407616</td>\n",
       "      <td>-14515734528</td>\n",
       "      <td>47.8745</td>\n",
       "      <td>43.1585</td>\n",
       "      <td>47.0748</td>\n",
       "    </tr>\n",
       "    <tr>\n",
       "      <th>893</th>\n",
       "      <td>255403</td>\n",
       "      <td>1925.3650</td>\n",
       "      <td>691.8453</td>\n",
       "      <td>477.1796</td>\n",
       "      <td>0.7241</td>\n",
       "      <td>570.2536</td>\n",
       "      <td>0.9785</td>\n",
       "      <td>261028</td>\n",
       "      <td>0.7269</td>\n",
       "      <td>1.4499</td>\n",
       "      <td>...</td>\n",
       "      <td>-0.1398</td>\n",
       "      <td>2.2423</td>\n",
       "      <td>2.3704</td>\n",
       "      <td>2.7202</td>\n",
       "      <td>-25296416768</td>\n",
       "      <td>-19168882688</td>\n",
       "      <td>-18473392128</td>\n",
       "      <td>49.0869</td>\n",
       "      <td>43.0422</td>\n",
       "      <td>42.4153</td>\n",
       "    </tr>\n",
       "  </tbody>\n",
       "</table>\n",
       "<p>628 rows × 34 columns</p>\n",
       "</div>"
      ],
      "text/plain": [
       "       AREA  PERIMETER  MAJOR_AXIS  MINOR_AXIS  ECCENTRICITY   EQDIASQ  \\\n",
       "79   217486  1759.1360    628.9557    442.0542        0.7113  526.2241   \n",
       "71   265701  1968.8020    746.8929    454.7724        0.7933  581.6365   \n",
       "674  330662  2226.2170    852.1170    495.9751        0.8132  648.8543   \n",
       "834  285626  2061.6350    785.1763    465.2850        0.8055  603.0508   \n",
       "751  354060  2492.1340    871.6770    525.1666        0.7981  671.4188   \n",
       "..      ...        ...         ...         ...           ...       ...   \n",
       "689  333356  2242.6880    880.4042    483.8072        0.8355  651.4922   \n",
       "624  336865  2580.1411    882.9647    488.4337        0.8331  654.9121   \n",
       "173  134784  1396.6130    512.9982    337.8875        0.7524  414.2612   \n",
       "220  158924  1497.3960    549.2912    370.9325        0.7375  449.8315   \n",
       "893  255403  1925.3650    691.8453    477.1796        0.7241  570.2536   \n",
       "\n",
       "     SOLIDITY  CONVEX_AREA  EXTENT  ASPECT_RATIO  ...  SkewRB  KurtosisRR  \\\n",
       "79     0.9899       219701  0.7659        1.4228  ... -0.1783      1.7082   \n",
       "71     0.9920       267851  0.7619        1.6423  ...  0.1484      2.2009   \n",
       "674    0.9801       337365  0.6636        1.7181  ...  0.4318      3.5027   \n",
       "834    0.9875       289254  0.6949        1.6875  ...  0.5851      2.2405   \n",
       "751    0.9562       370270  0.6896        1.6598  ...  0.2102     10.0950   \n",
       "..        ...          ...     ...           ...  ...     ...         ...   \n",
       "689    0.9834       338967  0.6480        1.8197  ...  1.0686     15.1736   \n",
       "624    0.9601       350873  0.7419        1.8077  ...  0.3405      7.5115   \n",
       "173    0.9814       137337  0.7789        1.5183  ... -0.1187      3.1777   \n",
       "220    0.9886       160755  0.8115        1.4808  ...  0.2550      2.4563   \n",
       "893    0.9785       261028  0.7269        1.4499  ... -0.1398      2.2423   \n",
       "\n",
       "     KurtosisRG  KurtosisRB    EntropyRR    EntropyRG    EntropyRB  \\\n",
       "79       1.6272      2.2624 -39708590080 -35721072640 -27564607488   \n",
       "71       2.3465      2.5310 -44338049024 -38484541440 -32898990080   \n",
       "674     11.4502      3.2484  -5660197888  -8215779840 -12093665280   \n",
       "834      2.3746      2.7014 -31685144576 -25452177408 -22856843264   \n",
       "751      8.9887      4.0231 -12331413504 -20443701248 -24380073984   \n",
       "..          ...         ...          ...          ...          ...   \n",
       "689     11.5855      5.3592  -7259139584  -9597211648 -12309225472   \n",
       "624      6.4382      3.3465 -11477377024 -12436102144 -16732371968   \n",
       "173      2.7328      2.3465 -21827747840 -21723887616 -15566317568   \n",
       "220      3.0237      2.8602 -15297030144 -12183407616 -14515734528   \n",
       "893      2.3704      2.7202 -25296416768 -19168882688 -18473392128   \n",
       "\n",
       "     ALLdaub4RR  ALLdaub4RG  ALLdaub4RB  \n",
       "79      64.1599     60.2045     55.1166  \n",
       "71      62.8217     58.8671     55.4206  \n",
       "674     21.5636     24.9978     30.5160  \n",
       "834     51.0965     46.1440     44.0274  \n",
       "751     29.9522     39.2315     42.6504  \n",
       "..          ...         ...         ...  \n",
       "689     20.5187     25.1953     31.2370  \n",
       "624     27.8189     30.0402     35.6642  \n",
       "173     62.8286     63.4342     53.5290  \n",
       "220     47.8745     43.1585     47.0748  \n",
       "893     49.0869     43.0422     42.4153  \n",
       "\n",
       "[628 rows x 34 columns]"
      ]
     },
     "execution_count": 18,
     "metadata": {},
     "output_type": "execute_result"
    }
   ],
   "source": [
    "X_train_cont = X_train.select_dtypes(include='number')\n",
    "X_train_cont"
   ]
  },
  {
   "cell_type": "code",
   "execution_count": 19,
   "id": "61lX23ooFZHX",
   "metadata": {
    "colab": {
     "base_uri": "https://localhost:8080/",
     "height": 424
    },
    "id": "61lX23ooFZHX",
    "outputId": "8bb29558-4d8c-41c2-df34-33f479e546d8"
   },
   "outputs": [
    {
     "data": {
      "text/html": [
       "<div>\n",
       "<style scoped>\n",
       "    .dataframe tbody tr th:only-of-type {\n",
       "        vertical-align: middle;\n",
       "    }\n",
       "\n",
       "    .dataframe tbody tr th {\n",
       "        vertical-align: top;\n",
       "    }\n",
       "\n",
       "    .dataframe thead th {\n",
       "        text-align: right;\n",
       "    }\n",
       "</style>\n",
       "<table border=\"1\" class=\"dataframe\">\n",
       "  <thead>\n",
       "    <tr style=\"text-align: right;\">\n",
       "      <th></th>\n",
       "      <th>AREA</th>\n",
       "      <th>PERIMETER</th>\n",
       "      <th>MAJOR_AXIS</th>\n",
       "      <th>MINOR_AXIS</th>\n",
       "      <th>ECCENTRICITY</th>\n",
       "      <th>EQDIASQ</th>\n",
       "      <th>SOLIDITY</th>\n",
       "      <th>CONVEX_AREA</th>\n",
       "      <th>EXTENT</th>\n",
       "      <th>ASPECT_RATIO</th>\n",
       "      <th>...</th>\n",
       "      <th>SkewRB</th>\n",
       "      <th>KurtosisRR</th>\n",
       "      <th>KurtosisRG</th>\n",
       "      <th>KurtosisRB</th>\n",
       "      <th>EntropyRR</th>\n",
       "      <th>EntropyRG</th>\n",
       "      <th>EntropyRB</th>\n",
       "      <th>ALLdaub4RR</th>\n",
       "      <th>ALLdaub4RG</th>\n",
       "      <th>ALLdaub4RB</th>\n",
       "    </tr>\n",
       "  </thead>\n",
       "  <tbody>\n",
       "    <tr>\n",
       "      <th>640</th>\n",
       "      <td>309308</td>\n",
       "      <td>2247.3501</td>\n",
       "      <td>849.9919</td>\n",
       "      <td>470.8614</td>\n",
       "      <td>0.8325</td>\n",
       "      <td>627.5533</td>\n",
       "      <td>0.9662</td>\n",
       "      <td>320141</td>\n",
       "      <td>0.6401</td>\n",
       "      <td>1.8052</td>\n",
       "      <td>...</td>\n",
       "      <td>0.7244</td>\n",
       "      <td>9.8107</td>\n",
       "      <td>8.3675</td>\n",
       "      <td>5.3568</td>\n",
       "      <td>-7697161728</td>\n",
       "      <td>-10626008064</td>\n",
       "      <td>-11959480320</td>\n",
       "      <td>24.4771</td>\n",
       "      <td>29.7054</td>\n",
       "      <td>32.5322</td>\n",
       "    </tr>\n",
       "    <tr>\n",
       "      <th>516</th>\n",
       "      <td>368512</td>\n",
       "      <td>2294.5259</td>\n",
       "      <td>786.4102</td>\n",
       "      <td>602.9735</td>\n",
       "      <td>0.6420</td>\n",
       "      <td>684.9847</td>\n",
       "      <td>0.9862</td>\n",
       "      <td>373660</td>\n",
       "      <td>0.7640</td>\n",
       "      <td>1.3042</td>\n",
       "      <td>...</td>\n",
       "      <td>-0.3056</td>\n",
       "      <td>2.3468</td>\n",
       "      <td>2.5179</td>\n",
       "      <td>3.5240</td>\n",
       "      <td>-41495523328</td>\n",
       "      <td>-39186759680</td>\n",
       "      <td>-36432887808</td>\n",
       "      <td>52.7372</td>\n",
       "      <td>51.4774</td>\n",
       "      <td>50.0769</td>\n",
       "    </tr>\n",
       "    <tr>\n",
       "      <th>406</th>\n",
       "      <td>449166</td>\n",
       "      <td>2454.5291</td>\n",
       "      <td>901.2678</td>\n",
       "      <td>637.0666</td>\n",
       "      <td>0.7074</td>\n",
       "      <td>756.2380</td>\n",
       "      <td>0.9942</td>\n",
       "      <td>451774</td>\n",
       "      <td>0.7311</td>\n",
       "      <td>1.4147</td>\n",
       "      <td>...</td>\n",
       "      <td>2.0625</td>\n",
       "      <td>9.7372</td>\n",
       "      <td>12.5915</td>\n",
       "      <td>11.6959</td>\n",
       "      <td>-18343714816</td>\n",
       "      <td>-23316226048</td>\n",
       "      <td>-20728045568</td>\n",
       "      <td>32.3476</td>\n",
       "      <td>36.4171</td>\n",
       "      <td>34.0692</td>\n",
       "    </tr>\n",
       "    <tr>\n",
       "      <th>180</th>\n",
       "      <td>144637</td>\n",
       "      <td>1422.4940</td>\n",
       "      <td>523.1910</td>\n",
       "      <td>352.5846</td>\n",
       "      <td>0.7388</td>\n",
       "      <td>429.1358</td>\n",
       "      <td>0.9905</td>\n",
       "      <td>146022</td>\n",
       "      <td>0.7623</td>\n",
       "      <td>1.4839</td>\n",
       "      <td>...</td>\n",
       "      <td>-0.2180</td>\n",
       "      <td>3.8348</td>\n",
       "      <td>3.2121</td>\n",
       "      <td>2.6395</td>\n",
       "      <td>-22750343168</td>\n",
       "      <td>-21672732672</td>\n",
       "      <td>-19304228864</td>\n",
       "      <td>61.7810</td>\n",
       "      <td>61.0920</td>\n",
       "      <td>57.3966</td>\n",
       "    </tr>\n",
       "    <tr>\n",
       "      <th>366</th>\n",
       "      <td>161855</td>\n",
       "      <td>1551.7410</td>\n",
       "      <td>606.4048</td>\n",
       "      <td>341.1171</td>\n",
       "      <td>0.8268</td>\n",
       "      <td>453.9606</td>\n",
       "      <td>0.9920</td>\n",
       "      <td>163156</td>\n",
       "      <td>0.7202</td>\n",
       "      <td>1.7777</td>\n",
       "      <td>...</td>\n",
       "      <td>-0.1673</td>\n",
       "      <td>3.1288</td>\n",
       "      <td>2.9865</td>\n",
       "      <td>2.9026</td>\n",
       "      <td>-33768984576</td>\n",
       "      <td>-34730512384</td>\n",
       "      <td>-26213009408</td>\n",
       "      <td>70.0847</td>\n",
       "      <td>72.1365</td>\n",
       "      <td>63.2510</td>\n",
       "    </tr>\n",
       "    <tr>\n",
       "      <th>...</th>\n",
       "      <td>...</td>\n",
       "      <td>...</td>\n",
       "      <td>...</td>\n",
       "      <td>...</td>\n",
       "      <td>...</td>\n",
       "      <td>...</td>\n",
       "      <td>...</td>\n",
       "      <td>...</td>\n",
       "      <td>...</td>\n",
       "      <td>...</td>\n",
       "      <td>...</td>\n",
       "      <td>...</td>\n",
       "      <td>...</td>\n",
       "      <td>...</td>\n",
       "      <td>...</td>\n",
       "      <td>...</td>\n",
       "      <td>...</td>\n",
       "      <td>...</td>\n",
       "      <td>...</td>\n",
       "      <td>...</td>\n",
       "      <td>...</td>\n",
       "    </tr>\n",
       "    <tr>\n",
       "      <th>134</th>\n",
       "      <td>198410</td>\n",
       "      <td>1695.7820</td>\n",
       "      <td>636.7207</td>\n",
       "      <td>398.5815</td>\n",
       "      <td>0.7798</td>\n",
       "      <td>502.6166</td>\n",
       "      <td>0.9875</td>\n",
       "      <td>200919</td>\n",
       "      <td>0.7634</td>\n",
       "      <td>1.5975</td>\n",
       "      <td>...</td>\n",
       "      <td>-0.6552</td>\n",
       "      <td>2.6875</td>\n",
       "      <td>2.6843</td>\n",
       "      <td>2.4640</td>\n",
       "      <td>-26364725248</td>\n",
       "      <td>-21340944384</td>\n",
       "      <td>-22269919232</td>\n",
       "      <td>55.8844</td>\n",
       "      <td>51.5421</td>\n",
       "      <td>52.6687</td>\n",
       "    </tr>\n",
       "    <tr>\n",
       "      <th>267</th>\n",
       "      <td>151963</td>\n",
       "      <td>1477.1790</td>\n",
       "      <td>551.4623</td>\n",
       "      <td>352.0080</td>\n",
       "      <td>0.7698</td>\n",
       "      <td>439.8696</td>\n",
       "      <td>0.9918</td>\n",
       "      <td>153220</td>\n",
       "      <td>0.6908</td>\n",
       "      <td>1.5666</td>\n",
       "      <td>...</td>\n",
       "      <td>-0.8133</td>\n",
       "      <td>5.1776</td>\n",
       "      <td>5.0023</td>\n",
       "      <td>3.4537</td>\n",
       "      <td>-33599162368</td>\n",
       "      <td>-33943552000</td>\n",
       "      <td>-25104467968</td>\n",
       "      <td>72.7737</td>\n",
       "      <td>74.0258</td>\n",
       "      <td>63.9547</td>\n",
       "    </tr>\n",
       "    <tr>\n",
       "      <th>275</th>\n",
       "      <td>145774</td>\n",
       "      <td>1451.3530</td>\n",
       "      <td>550.7023</td>\n",
       "      <td>337.9216</td>\n",
       "      <td>0.7896</td>\n",
       "      <td>430.8192</td>\n",
       "      <td>0.9918</td>\n",
       "      <td>146972</td>\n",
       "      <td>0.7785</td>\n",
       "      <td>1.6297</td>\n",
       "      <td>...</td>\n",
       "      <td>-0.5669</td>\n",
       "      <td>4.6352</td>\n",
       "      <td>3.1495</td>\n",
       "      <td>2.7713</td>\n",
       "      <td>-32485650432</td>\n",
       "      <td>-29460496384</td>\n",
       "      <td>-22084593664</td>\n",
       "      <td>72.8577</td>\n",
       "      <td>70.2813</td>\n",
       "      <td>60.7504</td>\n",
       "    </tr>\n",
       "    <tr>\n",
       "      <th>4</th>\n",
       "      <td>347562</td>\n",
       "      <td>2160.3540</td>\n",
       "      <td>763.9877</td>\n",
       "      <td>582.8359</td>\n",
       "      <td>0.6465</td>\n",
       "      <td>665.2291</td>\n",
       "      <td>0.9908</td>\n",
       "      <td>350797</td>\n",
       "      <td>0.7569</td>\n",
       "      <td>1.3108</td>\n",
       "      <td>...</td>\n",
       "      <td>0.8865</td>\n",
       "      <td>2.7016</td>\n",
       "      <td>2.9761</td>\n",
       "      <td>4.4146</td>\n",
       "      <td>-39980974080</td>\n",
       "      <td>-35980042240</td>\n",
       "      <td>-25593278464</td>\n",
       "      <td>52.7743</td>\n",
       "      <td>50.9080</td>\n",
       "      <td>42.6666</td>\n",
       "    </tr>\n",
       "    <tr>\n",
       "      <th>296</th>\n",
       "      <td>160709</td>\n",
       "      <td>1508.4940</td>\n",
       "      <td>561.2164</td>\n",
       "      <td>366.1832</td>\n",
       "      <td>0.7578</td>\n",
       "      <td>452.3506</td>\n",
       "      <td>0.9892</td>\n",
       "      <td>162470</td>\n",
       "      <td>0.7876</td>\n",
       "      <td>1.5326</td>\n",
       "      <td>...</td>\n",
       "      <td>-0.2616</td>\n",
       "      <td>4.1403</td>\n",
       "      <td>3.0082</td>\n",
       "      <td>2.6433</td>\n",
       "      <td>-37447786496</td>\n",
       "      <td>-37505753088</td>\n",
       "      <td>-27876096000</td>\n",
       "      <td>74.1620</td>\n",
       "      <td>75.1340</td>\n",
       "      <td>65.2471</td>\n",
       "    </tr>\n",
       "  </tbody>\n",
       "</table>\n",
       "<p>270 rows × 34 columns</p>\n",
       "</div>"
      ],
      "text/plain": [
       "       AREA  PERIMETER  MAJOR_AXIS  MINOR_AXIS  ECCENTRICITY   EQDIASQ  \\\n",
       "640  309308  2247.3501    849.9919    470.8614        0.8325  627.5533   \n",
       "516  368512  2294.5259    786.4102    602.9735        0.6420  684.9847   \n",
       "406  449166  2454.5291    901.2678    637.0666        0.7074  756.2380   \n",
       "180  144637  1422.4940    523.1910    352.5846        0.7388  429.1358   \n",
       "366  161855  1551.7410    606.4048    341.1171        0.8268  453.9606   \n",
       "..      ...        ...         ...         ...           ...       ...   \n",
       "134  198410  1695.7820    636.7207    398.5815        0.7798  502.6166   \n",
       "267  151963  1477.1790    551.4623    352.0080        0.7698  439.8696   \n",
       "275  145774  1451.3530    550.7023    337.9216        0.7896  430.8192   \n",
       "4    347562  2160.3540    763.9877    582.8359        0.6465  665.2291   \n",
       "296  160709  1508.4940    561.2164    366.1832        0.7578  452.3506   \n",
       "\n",
       "     SOLIDITY  CONVEX_AREA  EXTENT  ASPECT_RATIO  ...  SkewRB  KurtosisRR  \\\n",
       "640    0.9662       320141  0.6401        1.8052  ...  0.7244      9.8107   \n",
       "516    0.9862       373660  0.7640        1.3042  ... -0.3056      2.3468   \n",
       "406    0.9942       451774  0.7311        1.4147  ...  2.0625      9.7372   \n",
       "180    0.9905       146022  0.7623        1.4839  ... -0.2180      3.8348   \n",
       "366    0.9920       163156  0.7202        1.7777  ... -0.1673      3.1288   \n",
       "..        ...          ...     ...           ...  ...     ...         ...   \n",
       "134    0.9875       200919  0.7634        1.5975  ... -0.6552      2.6875   \n",
       "267    0.9918       153220  0.6908        1.5666  ... -0.8133      5.1776   \n",
       "275    0.9918       146972  0.7785        1.6297  ... -0.5669      4.6352   \n",
       "4      0.9908       350797  0.7569        1.3108  ...  0.8865      2.7016   \n",
       "296    0.9892       162470  0.7876        1.5326  ... -0.2616      4.1403   \n",
       "\n",
       "     KurtosisRG  KurtosisRB    EntropyRR    EntropyRG    EntropyRB  \\\n",
       "640      8.3675      5.3568  -7697161728 -10626008064 -11959480320   \n",
       "516      2.5179      3.5240 -41495523328 -39186759680 -36432887808   \n",
       "406     12.5915     11.6959 -18343714816 -23316226048 -20728045568   \n",
       "180      3.2121      2.6395 -22750343168 -21672732672 -19304228864   \n",
       "366      2.9865      2.9026 -33768984576 -34730512384 -26213009408   \n",
       "..          ...         ...          ...          ...          ...   \n",
       "134      2.6843      2.4640 -26364725248 -21340944384 -22269919232   \n",
       "267      5.0023      3.4537 -33599162368 -33943552000 -25104467968   \n",
       "275      3.1495      2.7713 -32485650432 -29460496384 -22084593664   \n",
       "4        2.9761      4.4146 -39980974080 -35980042240 -25593278464   \n",
       "296      3.0082      2.6433 -37447786496 -37505753088 -27876096000   \n",
       "\n",
       "     ALLdaub4RR  ALLdaub4RG  ALLdaub4RB  \n",
       "640     24.4771     29.7054     32.5322  \n",
       "516     52.7372     51.4774     50.0769  \n",
       "406     32.3476     36.4171     34.0692  \n",
       "180     61.7810     61.0920     57.3966  \n",
       "366     70.0847     72.1365     63.2510  \n",
       "..          ...         ...         ...  \n",
       "134     55.8844     51.5421     52.6687  \n",
       "267     72.7737     74.0258     63.9547  \n",
       "275     72.8577     70.2813     60.7504  \n",
       "4       52.7743     50.9080     42.6666  \n",
       "296     74.1620     75.1340     65.2471  \n",
       "\n",
       "[270 rows x 34 columns]"
      ]
     },
     "execution_count": 19,
     "metadata": {},
     "output_type": "execute_result"
    }
   ],
   "source": [
    "X_test_cont = X_test.select_dtypes(include='number')\n",
    "X_test_cont"
   ]
  },
  {
   "cell_type": "code",
   "execution_count": 20,
   "id": "2SmKSdVv8wzh",
   "metadata": {
    "id": "2SmKSdVv8wzh"
   },
   "outputs": [],
   "source": [
    "from sklearn.preprocessing import OneHotEncoder\n",
    "\n",
    "# Encoding on X_train_cat and X_test_cat\n",
    "ohe = OneHotEncoder(drop = 'first')\n",
    "\n",
    "X_train_cat_encoded = pd.DataFrame(ohe.fit_transform(X_train_cat).toarray(), columns = ohe.get_feature_names(list(X_train_cat.columns)))\n",
    "X_test_cat_encoded = pd.DataFrame(ohe.transform(X_test_cat).toarray(), columns = ohe.get_feature_names(list(X_test_cat.columns)))"
   ]
  },
  {
   "cell_type": "code",
   "execution_count": 21,
   "id": "0lJELoMrLuYx",
   "metadata": {
    "id": "0lJELoMrLuYx"
   },
   "outputs": [],
   "source": [
    "from sklearn.preprocessing import StandardScaler\n",
    "\n",
    "# Scaling on X_train_cont and X_test_cont\n",
    "sc = StandardScaler()\n",
    "\n",
    "X_train_cont_scaled = pd.DataFrame(sc.fit_transform(X_train_cont), columns = X_train_cont.columns)\n",
    "X_test_cont_scaled = pd.DataFrame(sc.transform(X_test_cont), columns = X_test_cont.columns)"
   ]
  },
  {
   "cell_type": "code",
   "execution_count": 22,
   "id": "SNk_HJVt9lbn",
   "metadata": {
    "id": "SNk_HJVt9lbn"
   },
   "outputs": [],
   "source": [
    "X_train = pd.concat([X_train_cat_encoded, X_train_cont_scaled], axis = 1)\n",
    "X_test = pd.concat([X_test_cat_encoded, X_test_cont_scaled], axis = 1)"
   ]
  },
  {
   "cell_type": "code",
   "execution_count": 23,
   "id": "RtLCTUbalymU",
   "metadata": {
    "colab": {
     "base_uri": "https://localhost:8080/",
     "height": 35
    },
    "id": "RtLCTUbalymU",
    "outputId": "2c018740-1f7d-445f-b09e-690bf7310518"
   },
   "outputs": [
    {
     "data": {
      "text/plain": [
       "'Blues'"
      ]
     },
     "execution_count": 23,
     "metadata": {},
     "output_type": "execute_result"
    }
   ],
   "source": [
    "colors= [\"YlGnBu\", \"Blues\", \"BuPu\", \"Greens\", \"PiYG\"]\n",
    "rnd.choice(colors)"
   ]
  },
  {
   "cell_type": "markdown",
   "id": "f9421487",
   "metadata": {
    "id": "f9421487"
   },
   "source": [
    "# Machine Learning Models:\n",
    "\n",
    "1. Logistic Regression\n",
    "2. Decision Tree\n",
    "3. Gaussian Naive Bayes\n",
    "4. Random Forest\n",
    "5. K-Nearest Neighbors\n",
    "6. Support Vector Machine\n",
    "7. Stochastic Gradient Descent\n",
    "8. AdaBoost\n",
    "9. Gradient Bossting \n",
    "# Metrics used: Accuracy Score, F-Beta Score, Classification Report, Confusion Matrix, ROCAUC Curve, Precision-Recall Curve"
   ]
  },
  {
   "cell_type": "code",
   "execution_count": 24,
   "id": "QjA5T2Fw4UMM",
   "metadata": {
    "id": "QjA5T2Fw4UMM"
   },
   "outputs": [],
   "source": [
    "from sklearn.metrics import accuracy_score, fbeta_score\n",
    "from sklearn import metrics\n",
    "from yellowbrick.contrib.wrapper import wrap\n",
    "from yellowbrick.classifier import ClassificationReport, ConfusionMatrix, ROCAUC, PrecisionRecallCurve"
   ]
  },
  {
   "cell_type": "markdown",
   "id": "92bd6ca1",
   "metadata": {
    "id": "92bd6ca1"
   },
   "source": [
    "# Logistic Regression"
   ]
  },
  {
   "cell_type": "code",
   "execution_count": 25,
   "id": "8625c75f",
   "metadata": {
    "colab": {
     "base_uri": "https://localhost:8080/"
    },
    "id": "8625c75f",
    "outputId": "165f3b59-c2eb-427a-dd5c-886c2ae7fc88"
   },
   "outputs": [
    {
     "data": {
      "text/html": [
       "<style>#sk-container-id-1 {color: black;background-color: white;}#sk-container-id-1 pre{padding: 0;}#sk-container-id-1 div.sk-toggleable {background-color: white;}#sk-container-id-1 label.sk-toggleable__label {cursor: pointer;display: block;width: 100%;margin-bottom: 0;padding: 0.3em;box-sizing: border-box;text-align: center;}#sk-container-id-1 label.sk-toggleable__label-arrow:before {content: \"▸\";float: left;margin-right: 0.25em;color: #696969;}#sk-container-id-1 label.sk-toggleable__label-arrow:hover:before {color: black;}#sk-container-id-1 div.sk-estimator:hover label.sk-toggleable__label-arrow:before {color: black;}#sk-container-id-1 div.sk-toggleable__content {max-height: 0;max-width: 0;overflow: hidden;text-align: left;background-color: #f0f8ff;}#sk-container-id-1 div.sk-toggleable__content pre {margin: 0.2em;color: black;border-radius: 0.25em;background-color: #f0f8ff;}#sk-container-id-1 input.sk-toggleable__control:checked~div.sk-toggleable__content {max-height: 200px;max-width: 100%;overflow: auto;}#sk-container-id-1 input.sk-toggleable__control:checked~label.sk-toggleable__label-arrow:before {content: \"▾\";}#sk-container-id-1 div.sk-estimator input.sk-toggleable__control:checked~label.sk-toggleable__label {background-color: #d4ebff;}#sk-container-id-1 div.sk-label input.sk-toggleable__control:checked~label.sk-toggleable__label {background-color: #d4ebff;}#sk-container-id-1 input.sk-hidden--visually {border: 0;clip: rect(1px 1px 1px 1px);clip: rect(1px, 1px, 1px, 1px);height: 1px;margin: -1px;overflow: hidden;padding: 0;position: absolute;width: 1px;}#sk-container-id-1 div.sk-estimator {font-family: monospace;background-color: #f0f8ff;border: 1px dotted black;border-radius: 0.25em;box-sizing: border-box;margin-bottom: 0.5em;}#sk-container-id-1 div.sk-estimator:hover {background-color: #d4ebff;}#sk-container-id-1 div.sk-parallel-item::after {content: \"\";width: 100%;border-bottom: 1px solid gray;flex-grow: 1;}#sk-container-id-1 div.sk-label:hover label.sk-toggleable__label {background-color: #d4ebff;}#sk-container-id-1 div.sk-serial::before {content: \"\";position: absolute;border-left: 1px solid gray;box-sizing: border-box;top: 0;bottom: 0;left: 50%;z-index: 0;}#sk-container-id-1 div.sk-serial {display: flex;flex-direction: column;align-items: center;background-color: white;padding-right: 0.2em;padding-left: 0.2em;position: relative;}#sk-container-id-1 div.sk-item {position: relative;z-index: 1;}#sk-container-id-1 div.sk-parallel {display: flex;align-items: stretch;justify-content: center;background-color: white;position: relative;}#sk-container-id-1 div.sk-item::before, #sk-container-id-1 div.sk-parallel-item::before {content: \"\";position: absolute;border-left: 1px solid gray;box-sizing: border-box;top: 0;bottom: 0;left: 50%;z-index: -1;}#sk-container-id-1 div.sk-parallel-item {display: flex;flex-direction: column;z-index: 1;position: relative;background-color: white;}#sk-container-id-1 div.sk-parallel-item:first-child::after {align-self: flex-end;width: 50%;}#sk-container-id-1 div.sk-parallel-item:last-child::after {align-self: flex-start;width: 50%;}#sk-container-id-1 div.sk-parallel-item:only-child::after {width: 0;}#sk-container-id-1 div.sk-dashed-wrapped {border: 1px dashed gray;margin: 0 0.4em 0.5em 0.4em;box-sizing: border-box;padding-bottom: 0.4em;background-color: white;}#sk-container-id-1 div.sk-label label {font-family: monospace;font-weight: bold;display: inline-block;line-height: 1.2em;}#sk-container-id-1 div.sk-label-container {text-align: center;}#sk-container-id-1 div.sk-container {/* jupyter's `normalize.less` sets `[hidden] { display: none; }` but bootstrap.min.css set `[hidden] { display: none !important; }` so we also need the `!important` here to be able to override the default hidden behavior on the sphinx rendered scikit-learn.org. See: https://github.com/scikit-learn/scikit-learn/issues/21755 */display: inline-block !important;position: relative;}#sk-container-id-1 div.sk-text-repr-fallback {display: none;}</style><div id=\"sk-container-id-1\" class=\"sk-top-container\"><div class=\"sk-text-repr-fallback\"><pre>LogisticRegression(random_state=10)</pre><b>In a Jupyter environment, please rerun this cell to show the HTML representation or trust the notebook. <br />On GitHub, the HTML representation is unable to render, please try loading this page with nbviewer.org.</b></div><div class=\"sk-container\" hidden><div class=\"sk-item\"><div class=\"sk-estimator sk-toggleable\"><input class=\"sk-toggleable__control sk-hidden--visually\" id=\"sk-estimator-id-1\" type=\"checkbox\" checked><label for=\"sk-estimator-id-1\" class=\"sk-toggleable__label sk-toggleable__label-arrow\">LogisticRegression</label><div class=\"sk-toggleable__content\"><pre>LogisticRegression(random_state=10)</pre></div></div></div></div></div>"
      ],
      "text/plain": [
       "LogisticRegression(random_state=10)"
      ]
     },
     "execution_count": 25,
     "metadata": {},
     "output_type": "execute_result"
    }
   ],
   "source": [
    "from sklearn.linear_model import LogisticRegression\n",
    "\n",
    "#Created an obj for logistic regression \n",
    "log_reg = LogisticRegression(random_state = 10)\n",
    "log_reg.fit(X_train, y_train)"
   ]
  },
  {
   "cell_type": "code",
   "execution_count": 26,
   "id": "0b6ef226",
   "metadata": {
    "colab": {
     "base_uri": "https://localhost:8080/"
    },
    "id": "0b6ef226",
    "outputId": "7a30e62d-0b28-410d-e061-3a727926fc20"
   },
   "outputs": [
    {
     "data": {
      "text/plain": [
       "0.9522292993630573"
      ]
     },
     "execution_count": 26,
     "metadata": {},
     "output_type": "execute_result"
    }
   ],
   "source": [
    "#Training Accuracy\n",
    "log_reg.score(X_train, y_train)"
   ]
  },
  {
   "cell_type": "code",
   "execution_count": 27,
   "id": "33988fe8",
   "metadata": {
    "colab": {
     "base_uri": "https://localhost:8080/"
    },
    "id": "33988fe8",
    "outputId": "be0d772c-6cd9-4504-d494-0ec1c22b18ff"
   },
   "outputs": [
    {
     "name": "stdout",
     "output_type": "stream",
     "text": [
      "0.9111111111111111\n",
      "0.9522292993630573\n"
     ]
    }
   ],
   "source": [
    "#Testing Accuracy\n",
    "y_train_pred = log_reg.predict(X_train)\n",
    "y_test_pred = log_reg.predict(X_test)\n",
    "print(accuracy_score(y_test, y_test_pred))\n",
    "print(accuracy_score(y_train, y_train_pred)) "
   ]
  },
  {
   "cell_type": "code",
   "execution_count": 29,
   "id": "2b31423e",
   "metadata": {},
   "outputs": [
    {
     "data": {
      "text/plain": [
       "0.9111111111111111"
      ]
     },
     "execution_count": 29,
     "metadata": {},
     "output_type": "execute_result"
    }
   ],
   "source": [
    "precision_positive = metrics.precision_score(y_test, y_test_pred, average='micro')\n",
    "precision_positive"
   ]
  },
  {
   "cell_type": "code",
   "execution_count": 30,
   "id": "8a2c35e3",
   "metadata": {},
   "outputs": [
    {
     "data": {
      "text/plain": [
       "0.9522292993630573"
      ]
     },
     "execution_count": 30,
     "metadata": {},
     "output_type": "execute_result"
    }
   ],
   "source": [
    "precision_positive = metrics.precision_score(y_train, y_train_pred, average='micro')\n",
    "precision_positive"
   ]
  },
  {
   "cell_type": "code",
   "execution_count": 31,
   "id": "48559bb4",
   "metadata": {},
   "outputs": [
    {
     "data": {
      "text/plain": [
       "0.9111111111111111"
      ]
     },
     "execution_count": 31,
     "metadata": {},
     "output_type": "execute_result"
    }
   ],
   "source": [
    "recall_specificity = metrics.recall_score(y_test, y_test_pred, average='micro')\n",
    "recall_specificity"
   ]
  },
  {
   "cell_type": "code",
   "execution_count": 32,
   "id": "b76bfc59",
   "metadata": {},
   "outputs": [
    {
     "data": {
      "text/plain": [
       "0.9522292993630573"
      ]
     },
     "execution_count": 32,
     "metadata": {},
     "output_type": "execute_result"
    }
   ],
   "source": [
    "recall_specificity = metrics.recall_score(y_train, y_train_pred, average='micro')\n",
    "recall_specificity"
   ]
  },
  {
   "cell_type": "code",
   "execution_count": 33,
   "id": "011f0a6c",
   "metadata": {},
   "outputs": [
    {
     "data": {
      "text/plain": [
       "array([0.97959184, 0.82352941, 0.95104895, 0.98      , 0.9874477 ,\n",
       "       0.996139  , 0.89855072])"
      ]
     },
     "execution_count": 33,
     "metadata": {},
     "output_type": "execute_result"
    }
   ],
   "source": [
    "fbeta_score(y_train, y_train_pred, beta = 1, average = None)"
   ]
  },
  {
   "cell_type": "code",
   "execution_count": 34,
   "id": "bvcYNyiKqOUl",
   "metadata": {
    "colab": {
     "base_uri": "https://localhost:8080/"
    },
    "id": "bvcYNyiKqOUl",
    "outputId": "c08afca5-e30f-4e77-e971-bc582c091bea"
   },
   "outputs": [
    {
     "data": {
      "text/plain": [
       "array([0.86666667, 0.67924528, 0.9375    , 0.90909091, 0.96842105,\n",
       "       0.98550725, 0.80769231])"
      ]
     },
     "execution_count": 34,
     "metadata": {},
     "output_type": "execute_result"
    }
   ],
   "source": [
    "fbeta_score(y_test, y_test_pred, beta = 1, average = None)"
   ]
  },
  {
   "cell_type": "code",
   "execution_count": 35,
   "id": "cdcbe351",
   "metadata": {
    "colab": {
     "base_uri": "https://localhost:8080/"
    },
    "id": "cdcbe351",
    "outputId": "b363f858-a84b-4f81-9262-a84047296cbe"
   },
   "outputs": [
    {
     "data": {
      "image/png": "[encoded data removed]",
      "text/plain": [
       "<Figure size 576x396 with 2 Axes>"
      ]
     },
     "metadata": {},
     "output_type": "display_data"
    },
    {
     "data": {
      "text/plain": [
       "<AxesSubplot:title={'center':'LogisticRegression Classification Report'}>"
      ]
     },
     "execution_count": 35,
     "metadata": {},
     "output_type": "execute_result"
    }
   ],
   "source": [
    "visualizer = ClassificationReport(log_reg, support = True, color_bar = True, cmap = rnd.choice(colors))\n",
    "visualizer.fit(X_train, y_train)        \n",
    "visualizer.score(X_test, y_test)   \n",
    "visualizer.show()"
   ]
  },
  {
   "cell_type": "code",
   "execution_count": 36,
   "id": "1e7e3571",
   "metadata": {
    "colab": {
     "base_uri": "https://localhost:8080/"
    },
    "id": "1e7e3571",
    "outputId": "afbe39de-a6e6-4bac-a263-23b878512014"
   },
   "outputs": [
    {
     "data": {
      "image/png": "[encoded data removed]",
      "text/plain": [
       "<Figure size 576x396 with 1 Axes>"
      ]
     },
     "metadata": {},
     "output_type": "display_data"
    },
    {
     "data": {
      "text/plain": [
       "<AxesSubplot:title={'center':'LogisticRegression Confusion Matrix'}, xlabel='Predicted Class', ylabel='True Class'>"
      ]
     },
     "execution_count": 36,
     "metadata": {},
     "output_type": "execute_result"
    }
   ],
   "source": [
    "visualizer = ConfusionMatrix(log_reg, support = True, color_bar = True, cmap = rnd.choice(colors))\n",
    "visualizer.fit(X_train, y_train)        \n",
    "visualizer.score(X_test, y_test)   \n",
    "visualizer.show() "
   ]
  },
  {
   "cell_type": "markdown",
   "id": "3d5da703",
   "metadata": {
    "id": "3d5da703"
   },
   "source": [
    "# Decision Tree"
   ]
  },
  {
   "cell_type": "code",
   "execution_count": 37,
   "id": "f4f5545d",
   "metadata": {
    "colab": {
     "base_uri": "https://localhost:8080/"
    },
    "id": "f4f5545d",
    "outputId": "367b9203-4c28-478d-cbb8-07e5a1993145"
   },
   "outputs": [
    {
     "data": {
      "text/html": [
       "<style>#sk-container-id-2 {color: black;background-color: white;}#sk-container-id-2 pre{padding: 0;}#sk-container-id-2 div.sk-toggleable {background-color: white;}#sk-container-id-2 label.sk-toggleable__label {cursor: pointer;display: block;width: 100%;margin-bottom: 0;padding: 0.3em;box-sizing: border-box;text-align: center;}#sk-container-id-2 label.sk-toggleable__label-arrow:before {content: \"▸\";float: left;margin-right: 0.25em;color: #696969;}#sk-container-id-2 label.sk-toggleable__label-arrow:hover:before {color: black;}#sk-container-id-2 div.sk-estimator:hover label.sk-toggleable__label-arrow:before {color: black;}#sk-container-id-2 div.sk-toggleable__content {max-height: 0;max-width: 0;overflow: hidden;text-align: left;background-color: #f0f8ff;}#sk-container-id-2 div.sk-toggleable__content pre {margin: 0.2em;color: black;border-radius: 0.25em;background-color: #f0f8ff;}#sk-container-id-2 input.sk-toggleable__control:checked~div.sk-toggleable__content {max-height: 200px;max-width: 100%;overflow: auto;}#sk-container-id-2 input.sk-toggleable__control:checked~label.sk-toggleable__label-arrow:before {content: \"▾\";}#sk-container-id-2 div.sk-estimator input.sk-toggleable__control:checked~label.sk-toggleable__label {background-color: #d4ebff;}#sk-container-id-2 div.sk-label input.sk-toggleable__control:checked~label.sk-toggleable__label {background-color: #d4ebff;}#sk-container-id-2 input.sk-hidden--visually {border: 0;clip: rect(1px 1px 1px 1px);clip: rect(1px, 1px, 1px, 1px);height: 1px;margin: -1px;overflow: hidden;padding: 0;position: absolute;width: 1px;}#sk-container-id-2 div.sk-estimator {font-family: monospace;background-color: #f0f8ff;border: 1px dotted black;border-radius: 0.25em;box-sizing: border-box;margin-bottom: 0.5em;}#sk-container-id-2 div.sk-estimator:hover {background-color: #d4ebff;}#sk-container-id-2 div.sk-parallel-item::after {content: \"\";width: 100%;border-bottom: 1px solid gray;flex-grow: 1;}#sk-container-id-2 div.sk-label:hover label.sk-toggleable__label {background-color: #d4ebff;}#sk-container-id-2 div.sk-serial::before {content: \"\";position: absolute;border-left: 1px solid gray;box-sizing: border-box;top: 0;bottom: 0;left: 50%;z-index: 0;}#sk-container-id-2 div.sk-serial {display: flex;flex-direction: column;align-items: center;background-color: white;padding-right: 0.2em;padding-left: 0.2em;position: relative;}#sk-container-id-2 div.sk-item {position: relative;z-index: 1;}#sk-container-id-2 div.sk-parallel {display: flex;align-items: stretch;justify-content: center;background-color: white;position: relative;}#sk-container-id-2 div.sk-item::before, #sk-container-id-2 div.sk-parallel-item::before {content: \"\";position: absolute;border-left: 1px solid gray;box-sizing: border-box;top: 0;bottom: 0;left: 50%;z-index: -1;}#sk-container-id-2 div.sk-parallel-item {display: flex;flex-direction: column;z-index: 1;position: relative;background-color: white;}#sk-container-id-2 div.sk-parallel-item:first-child::after {align-self: flex-end;width: 50%;}#sk-container-id-2 div.sk-parallel-item:last-child::after {align-self: flex-start;width: 50%;}#sk-container-id-2 div.sk-parallel-item:only-child::after {width: 0;}#sk-container-id-2 div.sk-dashed-wrapped {border: 1px dashed gray;margin: 0 0.4em 0.5em 0.4em;box-sizing: border-box;padding-bottom: 0.4em;background-color: white;}#sk-container-id-2 div.sk-label label {font-family: monospace;font-weight: bold;display: inline-block;line-height: 1.2em;}#sk-container-id-2 div.sk-label-container {text-align: center;}#sk-container-id-2 div.sk-container {/* jupyter's `normalize.less` sets `[hidden] { display: none; }` but bootstrap.min.css set `[hidden] { display: none !important; }` so we also need the `!important` here to be able to override the default hidden behavior on the sphinx rendered scikit-learn.org. See: https://github.com/scikit-learn/scikit-learn/issues/21755 */display: inline-block !important;position: relative;}#sk-container-id-2 div.sk-text-repr-fallback {display: none;}</style><div id=\"sk-container-id-2\" class=\"sk-top-container\"><div class=\"sk-text-repr-fallback\"><pre>DecisionTreeClassifier(max_depth=25, min_samples_split=5, random_state=10)</pre><b>In a Jupyter environment, please rerun this cell to show the HTML representation or trust the notebook. <br />On GitHub, the HTML representation is unable to render, please try loading this page with nbviewer.org.</b></div><div class=\"sk-container\" hidden><div class=\"sk-item\"><div class=\"sk-estimator sk-toggleable\"><input class=\"sk-toggleable__control sk-hidden--visually\" id=\"sk-estimator-id-2\" type=\"checkbox\" checked><label for=\"sk-estimator-id-2\" class=\"sk-toggleable__label sk-toggleable__label-arrow\">DecisionTreeClassifier</label><div class=\"sk-toggleable__content\"><pre>DecisionTreeClassifier(max_depth=25, min_samples_split=5, random_state=10)</pre></div></div></div></div></div>"
      ],
      "text/plain": [
       "DecisionTreeClassifier(max_depth=25, min_samples_split=5, random_state=10)"
      ]
     },
     "execution_count": 37,
     "metadata": {},
     "output_type": "execute_result"
    }
   ],
   "source": [
    "from sklearn.tree import DecisionTreeClassifier\n",
    "\n",
    "#Created an obj for Decision Tree \n",
    "dec_tree = DecisionTreeClassifier(max_depth = 25, min_samples_split = 5, random_state = 10)\n",
    "dec_tree.fit(X_train, y_train)"
   ]
  },
  {
   "cell_type": "code",
   "execution_count": 38,
   "id": "a2812743",
   "metadata": {
    "colab": {
     "base_uri": "https://localhost:8080/"
    },
    "id": "a2812743",
    "outputId": "501574d4-206c-4ad1-c833-ce1fa6f112bc"
   },
   "outputs": [
    {
     "data": {
      "text/plain": [
       "0.9792993630573248"
      ]
     },
     "execution_count": 38,
     "metadata": {},
     "output_type": "execute_result"
    }
   ],
   "source": [
    "#Training Accuracy\n",
    "dec_tree.score(X_train, y_train)"
   ]
  },
  {
   "cell_type": "code",
   "execution_count": 39,
   "id": "2bd8a58d",
   "metadata": {
    "colab": {
     "base_uri": "https://localhost:8080/"
    },
    "id": "2bd8a58d",
    "outputId": "58fd4551-14f4-43cf-f51f-725aec633056"
   },
   "outputs": [
    {
     "name": "stdout",
     "output_type": "stream",
     "text": [
      "0.8296296296296296\n",
      "0.9792993630573248\n"
     ]
    }
   ],
   "source": [
    "#Testing Accuracy\n",
    "y_train_pred = dec_tree.predict(X_train)\n",
    "y_test_pred = dec_tree.predict(X_test)\n",
    "print(accuracy_score(y_test, y_test_pred))\n",
    "print(accuracy_score(y_train, y_train_pred))"
   ]
  },
  {
   "cell_type": "code",
   "execution_count": 40,
   "id": "ca452ed9",
   "metadata": {},
   "outputs": [
    {
     "data": {
      "text/plain": [
       "0.8296296296296296"
      ]
     },
     "execution_count": 40,
     "metadata": {},
     "output_type": "execute_result"
    }
   ],
   "source": [
    "precision_positive = metrics.precision_score(y_test, y_test_pred, average='micro')\n",
    "precision_positive"
   ]
  },
  {
   "cell_type": "code",
   "execution_count": 41,
   "id": "b652e2cd",
   "metadata": {},
   "outputs": [
    {
     "data": {
      "text/plain": [
       "0.9792993630573248"
      ]
     },
     "execution_count": 41,
     "metadata": {},
     "output_type": "execute_result"
    }
   ],
   "source": [
    "precision_positive = metrics.precision_score(y_train, y_train_pred, average='micro')\n",
    "precision_positive"
   ]
  },
  {
   "cell_type": "code",
   "execution_count": 42,
   "id": "6dbdcdb3",
   "metadata": {},
   "outputs": [
    {
     "data": {
      "text/plain": [
       "0.8296296296296296"
      ]
     },
     "execution_count": 42,
     "metadata": {},
     "output_type": "execute_result"
    }
   ],
   "source": [
    "recall_specificity = metrics.recall_score(y_test, y_test_pred, average='micro')\n",
    "recall_specificity"
   ]
  },
  {
   "cell_type": "code",
   "execution_count": 43,
   "id": "2a048616",
   "metadata": {},
   "outputs": [
    {
     "data": {
      "text/plain": [
       "0.9792993630573248"
      ]
     },
     "execution_count": 43,
     "metadata": {},
     "output_type": "execute_result"
    }
   ],
   "source": [
    "recall_specificity = metrics.recall_score(y_train, y_train_pred, average='micro')\n",
    "recall_specificity"
   ]
  },
  {
   "cell_type": "code",
   "execution_count": 44,
   "id": "2d22d01c",
   "metadata": {},
   "outputs": [
    {
     "data": {
      "text/plain": [
       "array([0.97959184, 0.97260274, 0.98245614, 0.96078431, 0.9787234 ,\n",
       "       0.9921875 , 0.97014925])"
      ]
     },
     "execution_count": 44,
     "metadata": {},
     "output_type": "execute_result"
    }
   ],
   "source": [
    "fbeta_score(y_train, y_train_pred, beta = 1, average = None)"
   ]
  },
  {
   "cell_type": "code",
   "execution_count": 45,
   "id": "2a56c_Fbq6-F",
   "metadata": {
    "colab": {
     "base_uri": "https://localhost:8080/"
    },
    "id": "2a56c_Fbq6-F",
    "outputId": "dbf86a7b-5885-42e4-bc26-7fd15b280da5"
   },
   "outputs": [
    {
     "data": {
      "text/plain": [
       "array([0.66666667, 0.53061224, 0.88888889, 0.71428571, 0.90721649,\n",
       "       0.94890511, 0.68085106])"
      ]
     },
     "execution_count": 45,
     "metadata": {},
     "output_type": "execute_result"
    }
   ],
   "source": [
    "fbeta_score(y_test, y_test_pred, beta = 1, average = None)"
   ]
  },
  {
   "cell_type": "code",
   "execution_count": 46,
   "id": "a844c26f",
   "metadata": {
    "colab": {
     "base_uri": "https://localhost:8080/"
    },
    "id": "a844c26f",
    "outputId": "31679f54-703d-4c0d-b7eb-e1efab22e4d0"
   },
   "outputs": [
    {
     "data": {
      "image/png": "[encoded data removed]",
      "text/plain": [
       "<Figure size 576x396 with 2 Axes>"
      ]
     },
     "metadata": {},
     "output_type": "display_data"
    },
    {
     "data": {
      "text/plain": [
       "<AxesSubplot:title={'center':'DecisionTreeClassifier Classification Report'}>"
      ]
     },
     "execution_count": 46,
     "metadata": {},
     "output_type": "execute_result"
    }
   ],
   "source": [
    "visualizer = ClassificationReport(dec_tree, support = True, color_bar = True, cmap = rnd.choice(colors))\n",
    "visualizer.fit(X_train, y_train)        \n",
    "visualizer.score(X_test, y_test)   \n",
    "visualizer.show()"
   ]
  },
  {
   "cell_type": "code",
   "execution_count": 47,
   "id": "88e3d276",
   "metadata": {
    "colab": {
     "base_uri": "https://localhost:8080/"
    },
    "id": "88e3d276",
    "outputId": "300189b4-9374-441b-b64d-ca7d61cab3ed"
   },
   "outputs": [
    {
     "data": {
      "image/png": "[encoded data removed]",
      "text/plain": [
       "<Figure size 576x396 with 1 Axes>"
      ]
     },
     "metadata": {},
     "output_type": "display_data"
    },
    {
     "data": {
      "text/plain": [
       "<AxesSubplot:title={'center':'DecisionTreeClassifier Confusion Matrix'}, xlabel='Predicted Class', ylabel='True Class'>"
      ]
     },
     "execution_count": 47,
     "metadata": {},
     "output_type": "execute_result"
    }
   ],
   "source": [
    "visualizer = ConfusionMatrix(dec_tree, support = True, color_bar = True, cmap = rnd.choice(colors))\n",
    "visualizer.fit(X_train, y_train)        \n",
    "visualizer.score(X_test, y_test)   \n",
    "visualizer.show() "
   ]
  },
  {
   "cell_type": "markdown",
   "id": "393492da",
   "metadata": {
    "id": "393492da"
   },
   "source": [
    "# Gaussian Naive Bayes"
   ]
  },
  {
   "cell_type": "code",
   "execution_count": 48,
   "id": "272d834c",
   "metadata": {
    "colab": {
     "base_uri": "https://localhost:8080/"
    },
    "id": "272d834c",
    "outputId": "ac57cbf8-7424-45eb-9b73-ced991b158cc"
   },
   "outputs": [
    {
     "data": {
      "text/html": [
       "<style>#sk-container-id-3 {color: black;background-color: white;}#sk-container-id-3 pre{padding: 0;}#sk-container-id-3 div.sk-toggleable {background-color: white;}#sk-container-id-3 label.sk-toggleable__label {cursor: pointer;display: block;width: 100%;margin-bottom: 0;padding: 0.3em;box-sizing: border-box;text-align: center;}#sk-container-id-3 label.sk-toggleable__label-arrow:before {content: \"▸\";float: left;margin-right: 0.25em;color: #696969;}#sk-container-id-3 label.sk-toggleable__label-arrow:hover:before {color: black;}#sk-container-id-3 div.sk-estimator:hover label.sk-toggleable__label-arrow:before {color: black;}#sk-container-id-3 div.sk-toggleable__content {max-height: 0;max-width: 0;overflow: hidden;text-align: left;background-color: #f0f8ff;}#sk-container-id-3 div.sk-toggleable__content pre {margin: 0.2em;color: black;border-radius: 0.25em;background-color: #f0f8ff;}#sk-container-id-3 input.sk-toggleable__control:checked~div.sk-toggleable__content {max-height: 200px;max-width: 100%;overflow: auto;}#sk-container-id-3 input.sk-toggleable__control:checked~label.sk-toggleable__label-arrow:before {content: \"▾\";}#sk-container-id-3 div.sk-estimator input.sk-toggleable__control:checked~label.sk-toggleable__label {background-color: #d4ebff;}#sk-container-id-3 div.sk-label input.sk-toggleable__control:checked~label.sk-toggleable__label {background-color: #d4ebff;}#sk-container-id-3 input.sk-hidden--visually {border: 0;clip: rect(1px 1px 1px 1px);clip: rect(1px, 1px, 1px, 1px);height: 1px;margin: -1px;overflow: hidden;padding: 0;position: absolute;width: 1px;}#sk-container-id-3 div.sk-estimator {font-family: monospace;background-color: #f0f8ff;border: 1px dotted black;border-radius: 0.25em;box-sizing: border-box;margin-bottom: 0.5em;}#sk-container-id-3 div.sk-estimator:hover {background-color: #d4ebff;}#sk-container-id-3 div.sk-parallel-item::after {content: \"\";width: 100%;border-bottom: 1px solid gray;flex-grow: 1;}#sk-container-id-3 div.sk-label:hover label.sk-toggleable__label {background-color: #d4ebff;}#sk-container-id-3 div.sk-serial::before {content: \"\";position: absolute;border-left: 1px solid gray;box-sizing: border-box;top: 0;bottom: 0;left: 50%;z-index: 0;}#sk-container-id-3 div.sk-serial {display: flex;flex-direction: column;align-items: center;background-color: white;padding-right: 0.2em;padding-left: 0.2em;position: relative;}#sk-container-id-3 div.sk-item {position: relative;z-index: 1;}#sk-container-id-3 div.sk-parallel {display: flex;align-items: stretch;justify-content: center;background-color: white;position: relative;}#sk-container-id-3 div.sk-item::before, #sk-container-id-3 div.sk-parallel-item::before {content: \"\";position: absolute;border-left: 1px solid gray;box-sizing: border-box;top: 0;bottom: 0;left: 50%;z-index: -1;}#sk-container-id-3 div.sk-parallel-item {display: flex;flex-direction: column;z-index: 1;position: relative;background-color: white;}#sk-container-id-3 div.sk-parallel-item:first-child::after {align-self: flex-end;width: 50%;}#sk-container-id-3 div.sk-parallel-item:last-child::after {align-self: flex-start;width: 50%;}#sk-container-id-3 div.sk-parallel-item:only-child::after {width: 0;}#sk-container-id-3 div.sk-dashed-wrapped {border: 1px dashed gray;margin: 0 0.4em 0.5em 0.4em;box-sizing: border-box;padding-bottom: 0.4em;background-color: white;}#sk-container-id-3 div.sk-label label {font-family: monospace;font-weight: bold;display: inline-block;line-height: 1.2em;}#sk-container-id-3 div.sk-label-container {text-align: center;}#sk-container-id-3 div.sk-container {/* jupyter's `normalize.less` sets `[hidden] { display: none; }` but bootstrap.min.css set `[hidden] { display: none !important; }` so we also need the `!important` here to be able to override the default hidden behavior on the sphinx rendered scikit-learn.org. See: https://github.com/scikit-learn/scikit-learn/issues/21755 */display: inline-block !important;position: relative;}#sk-container-id-3 div.sk-text-repr-fallback {display: none;}</style><div id=\"sk-container-id-3\" class=\"sk-top-container\"><div class=\"sk-text-repr-fallback\"><pre>GaussianNB()</pre><b>In a Jupyter environment, please rerun this cell to show the HTML representation or trust the notebook. <br />On GitHub, the HTML representation is unable to render, please try loading this page with nbviewer.org.</b></div><div class=\"sk-container\" hidden><div class=\"sk-item\"><div class=\"sk-estimator sk-toggleable\"><input class=\"sk-toggleable__control sk-hidden--visually\" id=\"sk-estimator-id-3\" type=\"checkbox\" checked><label for=\"sk-estimator-id-3\" class=\"sk-toggleable__label sk-toggleable__label-arrow\">GaussianNB</label><div class=\"sk-toggleable__content\"><pre>GaussianNB()</pre></div></div></div></div></div>"
      ],
      "text/plain": [
       "GaussianNB()"
      ]
     },
     "execution_count": 48,
     "metadata": {},
     "output_type": "execute_result"
    }
   ],
   "source": [
    "from sklearn.naive_bayes import GaussianNB\n",
    "\n",
    "#Created an obj for Gaussian Naive Bayes\n",
    "gnb = GaussianNB()\n",
    "gnb.fit(X_train, y_train)"
   ]
  },
  {
   "cell_type": "code",
   "execution_count": 49,
   "id": "ea386047",
   "metadata": {
    "colab": {
     "base_uri": "https://localhost:8080/"
    },
    "id": "ea386047",
    "outputId": "98ff72d8-ba6a-40c4-f621-d4d0dedde234"
   },
   "outputs": [
    {
     "data": {
      "text/plain": [
       "0.8805732484076433"
      ]
     },
     "execution_count": 49,
     "metadata": {},
     "output_type": "execute_result"
    }
   ],
   "source": [
    "#Training Accuracy\n",
    "gnb.score(X_train, y_train)"
   ]
  },
  {
   "cell_type": "code",
   "execution_count": 50,
   "id": "28aace29",
   "metadata": {
    "id": "28aace29"
   },
   "outputs": [
    {
     "name": "stdout",
     "output_type": "stream",
     "text": [
      "0.9037037037037037\n",
      "0.8805732484076433\n"
     ]
    }
   ],
   "source": [
    "#Testing Accuracy\n",
    "y_train_pred = gnb.predict(X_train)\n",
    "y_test_pred = gnb.predict(X_test)\n",
    "print(accuracy_score(y_test, y_test_pred))\n",
    "print(accuracy_score(y_train, y_train_pred))"
   ]
  },
  {
   "cell_type": "code",
   "execution_count": 51,
   "id": "412826b5",
   "metadata": {},
   "outputs": [
    {
     "data": {
      "text/plain": [
       "0.9037037037037037"
      ]
     },
     "execution_count": 51,
     "metadata": {},
     "output_type": "execute_result"
    }
   ],
   "source": [
    "precision_positive = metrics.precision_score(y_test, y_test_pred, average='micro')\n",
    "precision_positive"
   ]
  },
  {
   "cell_type": "code",
   "execution_count": 52,
   "id": "174f5b6f",
   "metadata": {},
   "outputs": [
    {
     "data": {
      "text/plain": [
       "0.8805732484076433"
      ]
     },
     "execution_count": 52,
     "metadata": {},
     "output_type": "execute_result"
    }
   ],
   "source": [
    "precision_positive = metrics.precision_score(y_train, y_train_pred, average='micro')\n",
    "precision_positive"
   ]
  },
  {
   "cell_type": "code",
   "execution_count": 53,
   "id": "7de1a4ca",
   "metadata": {},
   "outputs": [
    {
     "data": {
      "text/plain": [
       "0.9037037037037037"
      ]
     },
     "execution_count": 53,
     "metadata": {},
     "output_type": "execute_result"
    }
   ],
   "source": [
    "recall_specificity = metrics.recall_score(y_test, y_test_pred, average='micro')\n",
    "recall_specificity"
   ]
  },
  {
   "cell_type": "code",
   "execution_count": 54,
   "id": "7f92ef98",
   "metadata": {},
   "outputs": [
    {
     "data": {
      "text/plain": [
       "0.8805732484076433"
      ]
     },
     "execution_count": 54,
     "metadata": {},
     "output_type": "execute_result"
    }
   ],
   "source": [
    "recall_specificity = metrics.recall_score(y_train, y_train_pred, average='micro')\n",
    "recall_specificity"
   ]
  },
  {
   "cell_type": "code",
   "execution_count": 55,
   "id": "7c6b1674",
   "metadata": {},
   "outputs": [
    {
     "data": {
      "text/plain": [
       "array([0.7628866 , 0.70833333, 0.93950178, 0.79591837, 0.95689655,\n",
       "       0.98841699, 0.75862069])"
      ]
     },
     "execution_count": 55,
     "metadata": {},
     "output_type": "execute_result"
    }
   ],
   "source": [
    "fbeta_score(y_train, y_train_pred, beta = 1, average = None)"
   ]
  },
  {
   "cell_type": "code",
   "execution_count": 56,
   "id": "6cm2qj-vq8XE",
   "metadata": {
    "colab": {
     "base_uri": "https://localhost:8080/"
    },
    "id": "6cm2qj-vq8XE",
    "outputId": "e9c2a90c-a92f-4e61-f467-7a4a5be6424d"
   },
   "outputs": [
    {
     "data": {
      "text/plain": [
       "array([0.81481481, 0.65306122, 0.93023256, 0.91304348, 0.9787234 ,\n",
       "       0.98550725, 0.77192982])"
      ]
     },
     "execution_count": 56,
     "metadata": {},
     "output_type": "execute_result"
    }
   ],
   "source": [
    "fbeta_score(y_test, y_test_pred, beta = 1, average = None)"
   ]
  },
  {
   "cell_type": "code",
   "execution_count": 57,
   "id": "e9e5bc63",
   "metadata": {
    "colab": {
     "base_uri": "https://localhost:8080/"
    },
    "id": "e9e5bc63",
    "outputId": "2e9efb5f-7cfa-4e10-fc82-3b19cb03b7ca"
   },
   "outputs": [
    {
     "data": {
      "image/png": "[encoded data removed]",
      "text/plain": [
       "<Figure size 576x396 with 2 Axes>"
      ]
     },
     "metadata": {},
     "output_type": "display_data"
    },
    {
     "data": {
      "text/plain": [
       "<AxesSubplot:title={'center':'GaussianNB Classification Report'}>"
      ]
     },
     "execution_count": 57,
     "metadata": {},
     "output_type": "execute_result"
    }
   ],
   "source": [
    "visualizer = ClassificationReport(gnb, support = True, color_bar = True, cmap = rnd.choice(colors))\n",
    "visualizer.fit(X_train, y_train)        \n",
    "visualizer.score(X_test, y_test)   \n",
    "visualizer.show()"
   ]
  },
  {
   "cell_type": "code",
   "execution_count": 58,
   "id": "97fb8c28",
   "metadata": {
    "colab": {
     "base_uri": "https://localhost:8080/"
    },
    "id": "97fb8c28",
    "outputId": "f2570f14-bb3e-4dee-81b5-a9dd1b7274e8"
   },
   "outputs": [
    {
     "data": {
      "image/png": "[encoded data removed]",
      "text/plain": [
       "<Figure size 576x396 with 1 Axes>"
      ]
     },
     "metadata": {},
     "output_type": "display_data"
    },
    {
     "data": {
      "text/plain": [
       "<AxesSubplot:title={'center':'GaussianNB Confusion Matrix'}, xlabel='Predicted Class', ylabel='True Class'>"
      ]
     },
     "execution_count": 58,
     "metadata": {},
     "output_type": "execute_result"
    }
   ],
   "source": [
    "visualizer = ConfusionMatrix(gnb, support = True, color_bar = True, cmap = rnd.choice(colors))\n",
    "visualizer.fit(X_train, y_train)        \n",
    "visualizer.score(X_test, y_test)   \n",
    "visualizer.show()"
   ]
  },
  {
   "cell_type": "markdown",
   "id": "d6d72a17",
   "metadata": {
    "id": "d6d72a17"
   },
   "source": [
    "# Random Forest"
   ]
  },
  {
   "cell_type": "code",
   "execution_count": 59,
   "id": "766d4990",
   "metadata": {
    "colab": {
     "base_uri": "https://localhost:8080/"
    },
    "id": "766d4990",
    "outputId": "fc0819fc-6aae-438d-bf13-e61dae85bd60"
   },
   "outputs": [
    {
     "data": {
      "text/html": [
       "<style>#sk-container-id-4 {color: black;background-color: white;}#sk-container-id-4 pre{padding: 0;}#sk-container-id-4 div.sk-toggleable {background-color: white;}#sk-container-id-4 label.sk-toggleable__label {cursor: pointer;display: block;width: 100%;margin-bottom: 0;padding: 0.3em;box-sizing: border-box;text-align: center;}#sk-container-id-4 label.sk-toggleable__label-arrow:before {content: \"▸\";float: left;margin-right: 0.25em;color: #696969;}#sk-container-id-4 label.sk-toggleable__label-arrow:hover:before {color: black;}#sk-container-id-4 div.sk-estimator:hover label.sk-toggleable__label-arrow:before {color: black;}#sk-container-id-4 div.sk-toggleable__content {max-height: 0;max-width: 0;overflow: hidden;text-align: left;background-color: #f0f8ff;}#sk-container-id-4 div.sk-toggleable__content pre {margin: 0.2em;color: black;border-radius: 0.25em;background-color: #f0f8ff;}#sk-container-id-4 input.sk-toggleable__control:checked~div.sk-toggleable__content {max-height: 200px;max-width: 100%;overflow: auto;}#sk-container-id-4 input.sk-toggleable__control:checked~label.sk-toggleable__label-arrow:before {content: \"▾\";}#sk-container-id-4 div.sk-estimator input.sk-toggleable__control:checked~label.sk-toggleable__label {background-color: #d4ebff;}#sk-container-id-4 div.sk-label input.sk-toggleable__control:checked~label.sk-toggleable__label {background-color: #d4ebff;}#sk-container-id-4 input.sk-hidden--visually {border: 0;clip: rect(1px 1px 1px 1px);clip: rect(1px, 1px, 1px, 1px);height: 1px;margin: -1px;overflow: hidden;padding: 0;position: absolute;width: 1px;}#sk-container-id-4 div.sk-estimator {font-family: monospace;background-color: #f0f8ff;border: 1px dotted black;border-radius: 0.25em;box-sizing: border-box;margin-bottom: 0.5em;}#sk-container-id-4 div.sk-estimator:hover {background-color: #d4ebff;}#sk-container-id-4 div.sk-parallel-item::after {content: \"\";width: 100%;border-bottom: 1px solid gray;flex-grow: 1;}#sk-container-id-4 div.sk-label:hover label.sk-toggleable__label {background-color: #d4ebff;}#sk-container-id-4 div.sk-serial::before {content: \"\";position: absolute;border-left: 1px solid gray;box-sizing: border-box;top: 0;bottom: 0;left: 50%;z-index: 0;}#sk-container-id-4 div.sk-serial {display: flex;flex-direction: column;align-items: center;background-color: white;padding-right: 0.2em;padding-left: 0.2em;position: relative;}#sk-container-id-4 div.sk-item {position: relative;z-index: 1;}#sk-container-id-4 div.sk-parallel {display: flex;align-items: stretch;justify-content: center;background-color: white;position: relative;}#sk-container-id-4 div.sk-item::before, #sk-container-id-4 div.sk-parallel-item::before {content: \"\";position: absolute;border-left: 1px solid gray;box-sizing: border-box;top: 0;bottom: 0;left: 50%;z-index: -1;}#sk-container-id-4 div.sk-parallel-item {display: flex;flex-direction: column;z-index: 1;position: relative;background-color: white;}#sk-container-id-4 div.sk-parallel-item:first-child::after {align-self: flex-end;width: 50%;}#sk-container-id-4 div.sk-parallel-item:last-child::after {align-self: flex-start;width: 50%;}#sk-container-id-4 div.sk-parallel-item:only-child::after {width: 0;}#sk-container-id-4 div.sk-dashed-wrapped {border: 1px dashed gray;margin: 0 0.4em 0.5em 0.4em;box-sizing: border-box;padding-bottom: 0.4em;background-color: white;}#sk-container-id-4 div.sk-label label {font-family: monospace;font-weight: bold;display: inline-block;line-height: 1.2em;}#sk-container-id-4 div.sk-label-container {text-align: center;}#sk-container-id-4 div.sk-container {/* jupyter's `normalize.less` sets `[hidden] { display: none; }` but bootstrap.min.css set `[hidden] { display: none !important; }` so we also need the `!important` here to be able to override the default hidden behavior on the sphinx rendered scikit-learn.org. See: https://github.com/scikit-learn/scikit-learn/issues/21755 */display: inline-block !important;position: relative;}#sk-container-id-4 div.sk-text-repr-fallback {display: none;}</style><div id=\"sk-container-id-4\" class=\"sk-top-container\"><div class=\"sk-text-repr-fallback\"><pre>RandomForestClassifier(max_depth=25, min_samples_split=5, n_estimators=200,\n",
       "                       random_state=10)</pre><b>In a Jupyter environment, please rerun this cell to show the HTML representation or trust the notebook. <br />On GitHub, the HTML representation is unable to render, please try loading this page with nbviewer.org.</b></div><div class=\"sk-container\" hidden><div class=\"sk-item\"><div class=\"sk-estimator sk-toggleable\"><input class=\"sk-toggleable__control sk-hidden--visually\" id=\"sk-estimator-id-4\" type=\"checkbox\" checked><label for=\"sk-estimator-id-4\" class=\"sk-toggleable__label sk-toggleable__label-arrow\">RandomForestClassifier</label><div class=\"sk-toggleable__content\"><pre>RandomForestClassifier(max_depth=25, min_samples_split=5, n_estimators=200,\n",
       "                       random_state=10)</pre></div></div></div></div></div>"
      ],
      "text/plain": [
       "RandomForestClassifier(max_depth=25, min_samples_split=5, n_estimators=200,\n",
       "                       random_state=10)"
      ]
     },
     "execution_count": 59,
     "metadata": {},
     "output_type": "execute_result"
    }
   ],
   "source": [
    "from sklearn.ensemble import RandomForestClassifier\n",
    "\n",
    "#Created an obj for Random Forest\n",
    "rand_for = RandomForestClassifier(n_jobs = None, max_depth = 25, min_samples_split = 5, random_state = 10, n_estimators= 200)\n",
    "rand_for.fit(X_train, y_train)"
   ]
  },
  {
   "cell_type": "code",
   "execution_count": 60,
   "id": "54810475",
   "metadata": {
    "colab": {
     "base_uri": "https://localhost:8080/"
    },
    "id": "54810475",
    "outputId": "c2d7e5bd-0fdc-43a1-c579-76e7aea96527"
   },
   "outputs": [
    {
     "data": {
      "text/plain": [
       "0.9984076433121019"
      ]
     },
     "execution_count": 60,
     "metadata": {},
     "output_type": "execute_result"
    }
   ],
   "source": [
    "#Training Accuracy\n",
    "rand_for.score(X_train, y_train)"
   ]
  },
  {
   "cell_type": "code",
   "execution_count": 61,
   "id": "32256739",
   "metadata": {
    "colab": {
     "base_uri": "https://localhost:8080/"
    },
    "id": "32256739",
    "outputId": "1b60f1b4-f3b9-4f65-846a-476e3ab39f25"
   },
   "outputs": [
    {
     "name": "stdout",
     "output_type": "stream",
     "text": [
      "0.9037037037037037\n",
      "0.9984076433121019\n"
     ]
    }
   ],
   "source": [
    "#Testing Accuracy\n",
    "y_train_pred = rand_for.predict(X_train)\n",
    "y_test_pred = rand_for.predict(X_test)\n",
    "print(accuracy_score(y_test, y_test_pred))\n",
    "print(accuracy_score(y_train, y_train_pred))"
   ]
  },
  {
   "cell_type": "code",
   "execution_count": 62,
   "id": "2645da9c",
   "metadata": {},
   "outputs": [
    {
     "data": {
      "text/plain": [
       "0.9037037037037037"
      ]
     },
     "execution_count": 62,
     "metadata": {},
     "output_type": "execute_result"
    }
   ],
   "source": [
    "precision_positive = metrics.precision_score(y_test, y_test_pred, average='micro')\n",
    "precision_positive"
   ]
  },
  {
   "cell_type": "code",
   "execution_count": 63,
   "id": "489af8d0",
   "metadata": {},
   "outputs": [
    {
     "data": {
      "text/plain": [
       "0.9984076433121019"
      ]
     },
     "execution_count": 63,
     "metadata": {},
     "output_type": "execute_result"
    }
   ],
   "source": [
    "precision_positive = metrics.precision_score(y_train, y_train_pred, average='micro')\n",
    "precision_positive"
   ]
  },
  {
   "cell_type": "code",
   "execution_count": 64,
   "id": "48c418a4",
   "metadata": {},
   "outputs": [
    {
     "data": {
      "text/plain": [
       "0.9037037037037037"
      ]
     },
     "execution_count": 64,
     "metadata": {},
     "output_type": "execute_result"
    }
   ],
   "source": [
    "recall_specificity = metrics.recall_score(y_test, y_test_pred, average='micro')\n",
    "recall_specificity"
   ]
  },
  {
   "cell_type": "code",
   "execution_count": 65,
   "id": "2ab42f3b",
   "metadata": {},
   "outputs": [
    {
     "data": {
      "text/plain": [
       "0.9984076433121019"
      ]
     },
     "execution_count": 65,
     "metadata": {},
     "output_type": "execute_result"
    }
   ],
   "source": [
    "recall_specificity = metrics.recall_score(y_train, y_train_pred, average='micro')\n",
    "recall_specificity"
   ]
  },
  {
   "cell_type": "code",
   "execution_count": 66,
   "id": "98a90650",
   "metadata": {},
   "outputs": [
    {
     "data": {
      "text/plain": [
       "array([1.        , 0.99300699, 0.99646643, 1.        , 1.        ,\n",
       "       1.        , 1.        ])"
      ]
     },
     "execution_count": 66,
     "metadata": {},
     "output_type": "execute_result"
    }
   ],
   "source": [
    "fbeta_score(y_train, y_train_pred, beta = 1, average = None)"
   ]
  },
  {
   "cell_type": "code",
   "execution_count": 67,
   "id": "Zntgis1xq9i0",
   "metadata": {
    "colab": {
     "base_uri": "https://localhost:8080/"
    },
    "id": "Zntgis1xq9i0",
    "outputId": "5c76a2bb-e0b8-4b6c-a6de-7c8ed67868c4"
   },
   "outputs": [
    {
     "data": {
      "text/plain": [
       "array([0.85714286, 0.69565217, 0.93939394, 0.93333333, 0.92929293,\n",
       "       0.97058824, 0.77777778])"
      ]
     },
     "execution_count": 67,
     "metadata": {},
     "output_type": "execute_result"
    }
   ],
   "source": [
    "fbeta_score(y_test, y_test_pred, beta = 1, average = None)"
   ]
  },
  {
   "cell_type": "code",
   "execution_count": 68,
   "id": "79396ef9",
   "metadata": {
    "colab": {
     "base_uri": "https://localhost:8080/"
    },
    "id": "79396ef9",
    "outputId": "68a75eea-0e32-4df9-d893-5eaf167c8432"
   },
   "outputs": [
    {
     "data": {
      "image/png": "[encoded data removed]",
      "text/plain": [
       "<Figure size 576x396 with 2 Axes>"
      ]
     },
     "metadata": {},
     "output_type": "display_data"
    },
    {
     "data": {
      "text/plain": [
       "<AxesSubplot:title={'center':'RandomForestClassifier Classification Report'}>"
      ]
     },
     "execution_count": 68,
     "metadata": {},
     "output_type": "execute_result"
    }
   ],
   "source": [
    "visualizer = ClassificationReport(rand_for, support = True, color_bar = True, cmap = rnd.choice(colors))\n",
    "visualizer.fit(X_train, y_train)        \n",
    "visualizer.score(X_test, y_test)   \n",
    "visualizer.show()"
   ]
  },
  {
   "cell_type": "code",
   "execution_count": 69,
   "id": "492d0a43",
   "metadata": {
    "colab": {
     "base_uri": "https://localhost:8080/"
    },
    "id": "492d0a43",
    "outputId": "868ad801-4ec1-4a59-c6b7-abf0d7b8385c"
   },
   "outputs": [
    {
     "data": {
      "image/png": "[encoded data removed]",
      "text/plain": [
       "<Figure size 576x396 with 1 Axes>"
      ]
     },
     "metadata": {},
     "output_type": "display_data"
    },
    {
     "data": {
      "text/plain": [
       "<AxesSubplot:title={'center':'RandomForestClassifier Confusion Matrix'}, xlabel='Predicted Class', ylabel='True Class'>"
      ]
     },
     "execution_count": 69,
     "metadata": {},
     "output_type": "execute_result"
    }
   ],
   "source": [
    "visualizer = ConfusionMatrix(rand_for, support = True, color_bar = True, cmap = rnd.choice(colors))\n",
    "visualizer.fit(X_train, y_train)        \n",
    "visualizer.score(X_test, y_test)   \n",
    "visualizer.show()"
   ]
  },
  {
   "cell_type": "markdown",
   "id": "493a7fa4",
   "metadata": {
    "id": "493a7fa4"
   },
   "source": [
    "# K-Nearest Neighbors"
   ]
  },
  {
   "cell_type": "code",
   "execution_count": 70,
   "id": "c6caa1f1",
   "metadata": {
    "colab": {
     "base_uri": "https://localhost:8080/"
    },
    "id": "c6caa1f1",
    "outputId": "fdc9f20b-cbc2-4581-d83b-a9e90cc84778"
   },
   "outputs": [
    {
     "data": {
      "text/html": [
       "<style>#sk-container-id-5 {color: black;background-color: white;}#sk-container-id-5 pre{padding: 0;}#sk-container-id-5 div.sk-toggleable {background-color: white;}#sk-container-id-5 label.sk-toggleable__label {cursor: pointer;display: block;width: 100%;margin-bottom: 0;padding: 0.3em;box-sizing: border-box;text-align: center;}#sk-container-id-5 label.sk-toggleable__label-arrow:before {content: \"▸\";float: left;margin-right: 0.25em;color: #696969;}#sk-container-id-5 label.sk-toggleable__label-arrow:hover:before {color: black;}#sk-container-id-5 div.sk-estimator:hover label.sk-toggleable__label-arrow:before {color: black;}#sk-container-id-5 div.sk-toggleable__content {max-height: 0;max-width: 0;overflow: hidden;text-align: left;background-color: #f0f8ff;}#sk-container-id-5 div.sk-toggleable__content pre {margin: 0.2em;color: black;border-radius: 0.25em;background-color: #f0f8ff;}#sk-container-id-5 input.sk-toggleable__control:checked~div.sk-toggleable__content {max-height: 200px;max-width: 100%;overflow: auto;}#sk-container-id-5 input.sk-toggleable__control:checked~label.sk-toggleable__label-arrow:before {content: \"▾\";}#sk-container-id-5 div.sk-estimator input.sk-toggleable__control:checked~label.sk-toggleable__label {background-color: #d4ebff;}#sk-container-id-5 div.sk-label input.sk-toggleable__control:checked~label.sk-toggleable__label {background-color: #d4ebff;}#sk-container-id-5 input.sk-hidden--visually {border: 0;clip: rect(1px 1px 1px 1px);clip: rect(1px, 1px, 1px, 1px);height: 1px;margin: -1px;overflow: hidden;padding: 0;position: absolute;width: 1px;}#sk-container-id-5 div.sk-estimator {font-family: monospace;background-color: #f0f8ff;border: 1px dotted black;border-radius: 0.25em;box-sizing: border-box;margin-bottom: 0.5em;}#sk-container-id-5 div.sk-estimator:hover {background-color: #d4ebff;}#sk-container-id-5 div.sk-parallel-item::after {content: \"\";width: 100%;border-bottom: 1px solid gray;flex-grow: 1;}#sk-container-id-5 div.sk-label:hover label.sk-toggleable__label {background-color: #d4ebff;}#sk-container-id-5 div.sk-serial::before {content: \"\";position: absolute;border-left: 1px solid gray;box-sizing: border-box;top: 0;bottom: 0;left: 50%;z-index: 0;}#sk-container-id-5 div.sk-serial {display: flex;flex-direction: column;align-items: center;background-color: white;padding-right: 0.2em;padding-left: 0.2em;position: relative;}#sk-container-id-5 div.sk-item {position: relative;z-index: 1;}#sk-container-id-5 div.sk-parallel {display: flex;align-items: stretch;justify-content: center;background-color: white;position: relative;}#sk-container-id-5 div.sk-item::before, #sk-container-id-5 div.sk-parallel-item::before {content: \"\";position: absolute;border-left: 1px solid gray;box-sizing: border-box;top: 0;bottom: 0;left: 50%;z-index: -1;}#sk-container-id-5 div.sk-parallel-item {display: flex;flex-direction: column;z-index: 1;position: relative;background-color: white;}#sk-container-id-5 div.sk-parallel-item:first-child::after {align-self: flex-end;width: 50%;}#sk-container-id-5 div.sk-parallel-item:last-child::after {align-self: flex-start;width: 50%;}#sk-container-id-5 div.sk-parallel-item:only-child::after {width: 0;}#sk-container-id-5 div.sk-dashed-wrapped {border: 1px dashed gray;margin: 0 0.4em 0.5em 0.4em;box-sizing: border-box;padding-bottom: 0.4em;background-color: white;}#sk-container-id-5 div.sk-label label {font-family: monospace;font-weight: bold;display: inline-block;line-height: 1.2em;}#sk-container-id-5 div.sk-label-container {text-align: center;}#sk-container-id-5 div.sk-container {/* jupyter's `normalize.less` sets `[hidden] { display: none; }` but bootstrap.min.css set `[hidden] { display: none !important; }` so we also need the `!important` here to be able to override the default hidden behavior on the sphinx rendered scikit-learn.org. See: https://github.com/scikit-learn/scikit-learn/issues/21755 */display: inline-block !important;position: relative;}#sk-container-id-5 div.sk-text-repr-fallback {display: none;}</style><div id=\"sk-container-id-5\" class=\"sk-top-container\"><div class=\"sk-text-repr-fallback\"><pre>KNeighborsClassifier(n_jobs=-1, n_neighbors=6)</pre><b>In a Jupyter environment, please rerun this cell to show the HTML representation or trust the notebook. <br />On GitHub, the HTML representation is unable to render, please try loading this page with nbviewer.org.</b></div><div class=\"sk-container\" hidden><div class=\"sk-item\"><div class=\"sk-estimator sk-toggleable\"><input class=\"sk-toggleable__control sk-hidden--visually\" id=\"sk-estimator-id-5\" type=\"checkbox\" checked><label for=\"sk-estimator-id-5\" class=\"sk-toggleable__label sk-toggleable__label-arrow\">KNeighborsClassifier</label><div class=\"sk-toggleable__content\"><pre>KNeighborsClassifier(n_jobs=-1, n_neighbors=6)</pre></div></div></div></div></div>"
      ],
      "text/plain": [
       "KNeighborsClassifier(n_jobs=-1, n_neighbors=6)"
      ]
     },
     "execution_count": 70,
     "metadata": {},
     "output_type": "execute_result"
    }
   ],
   "source": [
    "from sklearn.neighbors import KNeighborsClassifier\n",
    "\n",
    "#Created an obj for K - Nearest Neighbors\n",
    "knc = KNeighborsClassifier(n_jobs = -1, n_neighbors = 6)\n",
    "knc.fit(X_train, y_train)"
   ]
  },
  {
   "cell_type": "code",
   "execution_count": 71,
   "id": "1d181889",
   "metadata": {
    "colab": {
     "base_uri": "https://localhost:8080/"
    },
    "id": "1d181889",
    "outputId": "d1a1c584-e520-42a2-e32d-67a10221717d"
   },
   "outputs": [
    {
     "data": {
      "text/plain": [
       "0.9171974522292994"
      ]
     },
     "execution_count": 71,
     "metadata": {},
     "output_type": "execute_result"
    }
   ],
   "source": [
    "#Training Accuracy\n",
    "knc.score(X_train, y_train)"
   ]
  },
  {
   "cell_type": "code",
   "execution_count": 72,
   "id": "e33252b6",
   "metadata": {
    "colab": {
     "base_uri": "https://localhost:8080/"
    },
    "id": "e33252b6",
    "outputId": "9e39b6fe-84ea-494d-9552-c815d5f021c4"
   },
   "outputs": [
    {
     "name": "stdout",
     "output_type": "stream",
     "text": [
      "0.8851851851851852\n",
      "0.9171974522292994\n"
     ]
    }
   ],
   "source": [
    "#Testing Accuracy\n",
    "y_train_pred = knc.predict(X_train)\n",
    "y_test_pred = knc.predict(X_test)\n",
    "print(accuracy_score(y_test, y_test_pred))\n",
    "print(accuracy_score(y_train, y_train_pred))"
   ]
  },
  {
   "cell_type": "code",
   "execution_count": 73,
   "id": "2c28928b",
   "metadata": {},
   "outputs": [
    {
     "data": {
      "text/plain": [
       "0.8851851851851852"
      ]
     },
     "execution_count": 73,
     "metadata": {},
     "output_type": "execute_result"
    }
   ],
   "source": [
    "precision_positive = metrics.precision_score(y_test, y_test_pred, average='micro')\n",
    "precision_positive"
   ]
  },
  {
   "cell_type": "code",
   "execution_count": 74,
   "id": "b96a73ca",
   "metadata": {},
   "outputs": [
    {
     "data": {
      "text/plain": [
       "0.9171974522292994"
      ]
     },
     "execution_count": 74,
     "metadata": {},
     "output_type": "execute_result"
    }
   ],
   "source": [
    "precision_positive = metrics.precision_score(y_train, y_train_pred, average='micro')\n",
    "precision_positive"
   ]
  },
  {
   "cell_type": "code",
   "execution_count": 75,
   "id": "93c2535b",
   "metadata": {},
   "outputs": [
    {
     "data": {
      "text/plain": [
       "0.8851851851851852"
      ]
     },
     "execution_count": 75,
     "metadata": {},
     "output_type": "execute_result"
    }
   ],
   "source": [
    "recall_specificity = metrics.recall_score(y_test, y_test_pred, average='micro')\n",
    "recall_specificity"
   ]
  },
  {
   "cell_type": "code",
   "execution_count": 76,
   "id": "f6a513e6",
   "metadata": {},
   "outputs": [
    {
     "data": {
      "text/plain": [
       "0.9171974522292994"
      ]
     },
     "execution_count": 76,
     "metadata": {},
     "output_type": "execute_result"
    }
   ],
   "source": [
    "recall_specificity = metrics.recall_score(y_train, y_train_pred, average='micro')\n",
    "recall_specificity"
   ]
  },
  {
   "cell_type": "code",
   "execution_count": 77,
   "id": "2bac9e64",
   "metadata": {},
   "outputs": [
    {
     "data": {
      "text/plain": [
       "array([0.86      , 0.78911565, 0.95373665, 0.89583333, 0.96694215,\n",
       "       0.98841699, 0.80916031])"
      ]
     },
     "execution_count": 77,
     "metadata": {},
     "output_type": "execute_result"
    }
   ],
   "source": [
    "fbeta_score(y_train, y_train_pred, beta = 1, average = None)"
   ]
  },
  {
   "cell_type": "code",
   "execution_count": 78,
   "id": "yWIbobYBO-Wr",
   "metadata": {
    "colab": {
     "base_uri": "https://localhost:8080/"
    },
    "id": "yWIbobYBO-Wr",
    "outputId": "3b5c1cab-972a-47cd-bb43-872ee96b0ec9"
   },
   "outputs": [
    {
     "data": {
      "text/plain": [
       "array([0.75862069, 0.65454545, 0.91603053, 0.88372093, 0.94845361,\n",
       "       0.99280576, 0.69565217])"
      ]
     },
     "execution_count": 78,
     "metadata": {},
     "output_type": "execute_result"
    }
   ],
   "source": [
    "fbeta_score(y_test, y_test_pred, beta = 1, average = None)"
   ]
  },
  {
   "cell_type": "code",
   "execution_count": 79,
   "id": "dacf0af7",
   "metadata": {
    "colab": {
     "base_uri": "https://localhost:8080/"
    },
    "id": "dacf0af7",
    "outputId": "c80a143f-4da6-4389-eb32-bd1cb7708e30"
   },
   "outputs": [
    {
     "data": {
      "image/png": "[encoded data removed]",
      "text/plain": [
       "<Figure size 576x396 with 2 Axes>"
      ]
     },
     "metadata": {},
     "output_type": "display_data"
    },
    {
     "data": {
      "text/plain": [
       "<AxesSubplot:title={'center':'KNeighborsClassifier Classification Report'}>"
      ]
     },
     "execution_count": 79,
     "metadata": {},
     "output_type": "execute_result"
    }
   ],
   "source": [
    "visualizer = ClassificationReport(knc, support = True, color_bar = True, cmap = rnd.choice(colors))\n",
    "visualizer.fit(X_train, y_train)        \n",
    "visualizer.score(X_test, y_test)   \n",
    "visualizer.show() "
   ]
  },
  {
   "cell_type": "code",
   "execution_count": 80,
   "id": "5adecfa4",
   "metadata": {
    "colab": {
     "base_uri": "https://localhost:8080/"
    },
    "id": "5adecfa4",
    "outputId": "9594a014-c7f5-4efa-8882-78d9ada55672"
   },
   "outputs": [
    {
     "data": {
      "image/png": "[encoded data removed]",
      "text/plain": [
       "<Figure size 576x396 with 1 Axes>"
      ]
     },
     "metadata": {},
     "output_type": "display_data"
    },
    {
     "data": {
      "text/plain": [
       "<AxesSubplot:title={'center':'KNeighborsClassifier Confusion Matrix'}, xlabel='Predicted Class', ylabel='True Class'>"
      ]
     },
     "execution_count": 80,
     "metadata": {},
     "output_type": "execute_result"
    }
   ],
   "source": [
    "visualizer = ConfusionMatrix(knc, support = True, color_bar = True, cmap = rnd.choice(colors))\n",
    "visualizer.fit(X_train, y_train)        \n",
    "visualizer.score(X_test, y_test)   \n",
    "visualizer.show() "
   ]
  },
  {
   "cell_type": "markdown",
   "id": "203f97c7",
   "metadata": {
    "id": "203f97c7"
   },
   "source": [
    "# Support Vector Machine"
   ]
  },
  {
   "cell_type": "code",
   "execution_count": 81,
   "id": "f79a2b11",
   "metadata": {
    "colab": {
     "base_uri": "https://localhost:8080/"
    },
    "id": "f79a2b11",
    "outputId": "c5f73c77-adc8-4f91-c000-4b59592ba7b7"
   },
   "outputs": [
    {
     "data": {
      "text/html": [
       "<style>#sk-container-id-6 {color: black;background-color: white;}#sk-container-id-6 pre{padding: 0;}#sk-container-id-6 div.sk-toggleable {background-color: white;}#sk-container-id-6 label.sk-toggleable__label {cursor: pointer;display: block;width: 100%;margin-bottom: 0;padding: 0.3em;box-sizing: border-box;text-align: center;}#sk-container-id-6 label.sk-toggleable__label-arrow:before {content: \"▸\";float: left;margin-right: 0.25em;color: #696969;}#sk-container-id-6 label.sk-toggleable__label-arrow:hover:before {color: black;}#sk-container-id-6 div.sk-estimator:hover label.sk-toggleable__label-arrow:before {color: black;}#sk-container-id-6 div.sk-toggleable__content {max-height: 0;max-width: 0;overflow: hidden;text-align: left;background-color: #f0f8ff;}#sk-container-id-6 div.sk-toggleable__content pre {margin: 0.2em;color: black;border-radius: 0.25em;background-color: #f0f8ff;}#sk-container-id-6 input.sk-toggleable__control:checked~div.sk-toggleable__content {max-height: 200px;max-width: 100%;overflow: auto;}#sk-container-id-6 input.sk-toggleable__control:checked~label.sk-toggleable__label-arrow:before {content: \"▾\";}#sk-container-id-6 div.sk-estimator input.sk-toggleable__control:checked~label.sk-toggleable__label {background-color: #d4ebff;}#sk-container-id-6 div.sk-label input.sk-toggleable__control:checked~label.sk-toggleable__label {background-color: #d4ebff;}#sk-container-id-6 input.sk-hidden--visually {border: 0;clip: rect(1px 1px 1px 1px);clip: rect(1px, 1px, 1px, 1px);height: 1px;margin: -1px;overflow: hidden;padding: 0;position: absolute;width: 1px;}#sk-container-id-6 div.sk-estimator {font-family: monospace;background-color: #f0f8ff;border: 1px dotted black;border-radius: 0.25em;box-sizing: border-box;margin-bottom: 0.5em;}#sk-container-id-6 div.sk-estimator:hover {background-color: #d4ebff;}#sk-container-id-6 div.sk-parallel-item::after {content: \"\";width: 100%;border-bottom: 1px solid gray;flex-grow: 1;}#sk-container-id-6 div.sk-label:hover label.sk-toggleable__label {background-color: #d4ebff;}#sk-container-id-6 div.sk-serial::before {content: \"\";position: absolute;border-left: 1px solid gray;box-sizing: border-box;top: 0;bottom: 0;left: 50%;z-index: 0;}#sk-container-id-6 div.sk-serial {display: flex;flex-direction: column;align-items: center;background-color: white;padding-right: 0.2em;padding-left: 0.2em;position: relative;}#sk-container-id-6 div.sk-item {position: relative;z-index: 1;}#sk-container-id-6 div.sk-parallel {display: flex;align-items: stretch;justify-content: center;background-color: white;position: relative;}#sk-container-id-6 div.sk-item::before, #sk-container-id-6 div.sk-parallel-item::before {content: \"\";position: absolute;border-left: 1px solid gray;box-sizing: border-box;top: 0;bottom: 0;left: 50%;z-index: -1;}#sk-container-id-6 div.sk-parallel-item {display: flex;flex-direction: column;z-index: 1;position: relative;background-color: white;}#sk-container-id-6 div.sk-parallel-item:first-child::after {align-self: flex-end;width: 50%;}#sk-container-id-6 div.sk-parallel-item:last-child::after {align-self: flex-start;width: 50%;}#sk-container-id-6 div.sk-parallel-item:only-child::after {width: 0;}#sk-container-id-6 div.sk-dashed-wrapped {border: 1px dashed gray;margin: 0 0.4em 0.5em 0.4em;box-sizing: border-box;padding-bottom: 0.4em;background-color: white;}#sk-container-id-6 div.sk-label label {font-family: monospace;font-weight: bold;display: inline-block;line-height: 1.2em;}#sk-container-id-6 div.sk-label-container {text-align: center;}#sk-container-id-6 div.sk-container {/* jupyter's `normalize.less` sets `[hidden] { display: none; }` but bootstrap.min.css set `[hidden] { display: none !important; }` so we also need the `!important` here to be able to override the default hidden behavior on the sphinx rendered scikit-learn.org. See: https://github.com/scikit-learn/scikit-learn/issues/21755 */display: inline-block !important;position: relative;}#sk-container-id-6 div.sk-text-repr-fallback {display: none;}</style><div id=\"sk-container-id-6\" class=\"sk-top-container\"><div class=\"sk-text-repr-fallback\"><pre>SVC(C=0.25, kernel=&#x27;linear&#x27;, random_state=10)</pre><b>In a Jupyter environment, please rerun this cell to show the HTML representation or trust the notebook. <br />On GitHub, the HTML representation is unable to render, please try loading this page with nbviewer.org.</b></div><div class=\"sk-container\" hidden><div class=\"sk-item\"><div class=\"sk-estimator sk-toggleable\"><input class=\"sk-toggleable__control sk-hidden--visually\" id=\"sk-estimator-id-6\" type=\"checkbox\" checked><label for=\"sk-estimator-id-6\" class=\"sk-toggleable__label sk-toggleable__label-arrow\">SVC</label><div class=\"sk-toggleable__content\"><pre>SVC(C=0.25, kernel=&#x27;linear&#x27;, random_state=10)</pre></div></div></div></div></div>"
      ],
      "text/plain": [
       "SVC(C=0.25, kernel='linear', random_state=10)"
      ]
     },
     "execution_count": 81,
     "metadata": {},
     "output_type": "execute_result"
    }
   ],
   "source": [
    "from sklearn.svm import SVC\n",
    "\n",
    "#Created an obj for SVM\n",
    "svm = SVC(C = 0.25, kernel = 'linear', random_state = 10)\n",
    "svm.fit(X_train, y_train)"
   ]
  },
  {
   "cell_type": "code",
   "execution_count": 82,
   "id": "c73367ab",
   "metadata": {
    "colab": {
     "base_uri": "https://localhost:8080/"
    },
    "id": "c73367ab",
    "outputId": "88549940-10d0-47a6-b374-18cfa2dab133"
   },
   "outputs": [
    {
     "data": {
      "text/plain": [
       "0.945859872611465"
      ]
     },
     "execution_count": 82,
     "metadata": {},
     "output_type": "execute_result"
    }
   ],
   "source": [
    "#Training Accuracy\n",
    "svm.score(X_train, y_train)"
   ]
  },
  {
   "cell_type": "code",
   "execution_count": 83,
   "id": "6bf15b3a",
   "metadata": {
    "colab": {
     "base_uri": "https://localhost:8080/"
    },
    "id": "6bf15b3a",
    "outputId": "b68d6e32-34dc-4fa1-c017-4669d4c7f450"
   },
   "outputs": [
    {
     "name": "stdout",
     "output_type": "stream",
     "text": [
      "0.9222222222222223\n",
      "0.945859872611465\n"
     ]
    }
   ],
   "source": [
    "#Testing Accuracy\n",
    "y_train_pred = svm.predict(X_train)\n",
    "y_test_pred = svm.predict(X_test)\n",
    "print(accuracy_score(y_test, y_test_pred))\n",
    "print(accuracy_score(y_train, y_train_pred))"
   ]
  },
  {
   "cell_type": "code",
   "execution_count": 84,
   "id": "85f840db",
   "metadata": {},
   "outputs": [
    {
     "data": {
      "text/plain": [
       "0.9222222222222223"
      ]
     },
     "execution_count": 84,
     "metadata": {},
     "output_type": "execute_result"
    }
   ],
   "source": [
    "precision_positive = metrics.precision_score(y_test, y_test_pred, average='micro')\n",
    "precision_positive"
   ]
  },
  {
   "cell_type": "code",
   "execution_count": 85,
   "id": "ea437282",
   "metadata": {},
   "outputs": [
    {
     "data": {
      "text/plain": [
       "0.945859872611465"
      ]
     },
     "execution_count": 85,
     "metadata": {},
     "output_type": "execute_result"
    }
   ],
   "source": [
    "precision_positive = metrics.precision_score(y_train, y_train_pred, average='micro')\n",
    "precision_positive"
   ]
  },
  {
   "cell_type": "code",
   "execution_count": 86,
   "id": "6126979d",
   "metadata": {},
   "outputs": [
    {
     "data": {
      "text/plain": [
       "0.9222222222222223"
      ]
     },
     "execution_count": 86,
     "metadata": {},
     "output_type": "execute_result"
    }
   ],
   "source": [
    "recall_specificity = metrics.recall_score(y_test, y_test_pred, average='micro')\n",
    "recall_specificity"
   ]
  },
  {
   "cell_type": "code",
   "execution_count": 87,
   "id": "7eab90d9",
   "metadata": {},
   "outputs": [
    {
     "data": {
      "text/plain": [
       "0.945859872611465"
      ]
     },
     "execution_count": 87,
     "metadata": {},
     "output_type": "execute_result"
    }
   ],
   "source": [
    "recall_specificity = metrics.recall_score(y_train, y_train_pred, average='micro')\n",
    "recall_specificity"
   ]
  },
  {
   "cell_type": "code",
   "execution_count": 88,
   "id": "38e14a5a",
   "metadata": {},
   "outputs": [
    {
     "data": {
      "text/plain": [
       "array([0.96907216, 0.79699248, 0.95104895, 0.97029703, 0.98734177,\n",
       "       1.        , 0.875     ])"
      ]
     },
     "execution_count": 88,
     "metadata": {},
     "output_type": "execute_result"
    }
   ],
   "source": [
    "fbeta_score(y_train, y_train_pred, beta = 1, average = None)"
   ]
  },
  {
   "cell_type": "code",
   "execution_count": 89,
   "id": "k4IN6d9Mq_Zv",
   "metadata": {
    "colab": {
     "base_uri": "https://localhost:8080/"
    },
    "id": "k4IN6d9Mq_Zv",
    "outputId": "653cce58-4f77-4973-d00b-b9aa693ae703"
   },
   "outputs": [
    {
     "data": {
      "text/plain": [
       "array([0.86666667, 0.73076923, 0.94573643, 0.93023256, 0.95833333,\n",
       "       0.98550725, 0.84615385])"
      ]
     },
     "execution_count": 89,
     "metadata": {},
     "output_type": "execute_result"
    }
   ],
   "source": [
    "fbeta_score(y_test, y_test_pred, beta = 1, average = None)"
   ]
  },
  {
   "cell_type": "code",
   "execution_count": 90,
   "id": "d12448c4",
   "metadata": {
    "colab": {
     "base_uri": "https://localhost:8080/"
    },
    "id": "d12448c4",
    "outputId": "29e78012-78e5-4a21-a48c-c58d7b8592f5"
   },
   "outputs": [
    {
     "data": {
      "image/png": "[encoded data removed]",
      "text/plain": [
       "<Figure size 576x396 with 2 Axes>"
      ]
     },
     "metadata": {},
     "output_type": "display_data"
    },
    {
     "data": {
      "text/plain": [
       "<AxesSubplot:title={'center':'SVC Classification Report'}>"
      ]
     },
     "execution_count": 90,
     "metadata": {},
     "output_type": "execute_result"
    }
   ],
   "source": [
    "visualizer = ClassificationReport(svm, support = True, color_bar = True, cmap = rnd.choice(colors))\n",
    "visualizer.fit(X_train, y_train)        \n",
    "visualizer.score(X_test, y_test)   \n",
    "visualizer.show()"
   ]
  },
  {
   "cell_type": "code",
   "execution_count": 91,
   "id": "6530e292",
   "metadata": {
    "colab": {
     "base_uri": "https://localhost:8080/"
    },
    "id": "6530e292",
    "outputId": "ead02df0-287b-4447-bd40-c4e83a6ec31a"
   },
   "outputs": [
    {
     "data": {
      "image/png": "[encoded data removed]",
      "text/plain": [
       "<Figure size 576x396 with 1 Axes>"
      ]
     },
     "metadata": {},
     "output_type": "display_data"
    },
    {
     "data": {
      "text/plain": [
       "<AxesSubplot:title={'center':'SVC Confusion Matrix'}, xlabel='Predicted Class', ylabel='True Class'>"
      ]
     },
     "execution_count": 91,
     "metadata": {},
     "output_type": "execute_result"
    }
   ],
   "source": [
    "visualizer = ConfusionMatrix(svm, support = True, color_bar = True, cmap = rnd.choice(colors))\n",
    "visualizer.fit(X_train, y_train)        \n",
    "visualizer.score(X_test, y_test)   \n",
    "visualizer.show()"
   ]
  },
  {
   "cell_type": "markdown",
   "id": "1f814dd4",
   "metadata": {
    "id": "1f814dd4"
   },
   "source": [
    "# Stochastic Gradient Descent"
   ]
  },
  {
   "cell_type": "code",
   "execution_count": 92,
   "id": "21ecd2cd",
   "metadata": {
    "colab": {
     "base_uri": "https://localhost:8080/"
    },
    "id": "21ecd2cd",
    "outputId": "7ad1764c-a2f4-4349-ced2-dc0959ed419b"
   },
   "outputs": [
    {
     "data": {
      "text/html": [
       "<style>#sk-container-id-7 {color: black;background-color: white;}#sk-container-id-7 pre{padding: 0;}#sk-container-id-7 div.sk-toggleable {background-color: white;}#sk-container-id-7 label.sk-toggleable__label {cursor: pointer;display: block;width: 100%;margin-bottom: 0;padding: 0.3em;box-sizing: border-box;text-align: center;}#sk-container-id-7 label.sk-toggleable__label-arrow:before {content: \"▸\";float: left;margin-right: 0.25em;color: #696969;}#sk-container-id-7 label.sk-toggleable__label-arrow:hover:before {color: black;}#sk-container-id-7 div.sk-estimator:hover label.sk-toggleable__label-arrow:before {color: black;}#sk-container-id-7 div.sk-toggleable__content {max-height: 0;max-width: 0;overflow: hidden;text-align: left;background-color: #f0f8ff;}#sk-container-id-7 div.sk-toggleable__content pre {margin: 0.2em;color: black;border-radius: 0.25em;background-color: #f0f8ff;}#sk-container-id-7 input.sk-toggleable__control:checked~div.sk-toggleable__content {max-height: 200px;max-width: 100%;overflow: auto;}#sk-container-id-7 input.sk-toggleable__control:checked~label.sk-toggleable__label-arrow:before {content: \"▾\";}#sk-container-id-7 div.sk-estimator input.sk-toggleable__control:checked~label.sk-toggleable__label {background-color: #d4ebff;}#sk-container-id-7 div.sk-label input.sk-toggleable__control:checked~label.sk-toggleable__label {background-color: #d4ebff;}#sk-container-id-7 input.sk-hidden--visually {border: 0;clip: rect(1px 1px 1px 1px);clip: rect(1px, 1px, 1px, 1px);height: 1px;margin: -1px;overflow: hidden;padding: 0;position: absolute;width: 1px;}#sk-container-id-7 div.sk-estimator {font-family: monospace;background-color: #f0f8ff;border: 1px dotted black;border-radius: 0.25em;box-sizing: border-box;margin-bottom: 0.5em;}#sk-container-id-7 div.sk-estimator:hover {background-color: #d4ebff;}#sk-container-id-7 div.sk-parallel-item::after {content: \"\";width: 100%;border-bottom: 1px solid gray;flex-grow: 1;}#sk-container-id-7 div.sk-label:hover label.sk-toggleable__label {background-color: #d4ebff;}#sk-container-id-7 div.sk-serial::before {content: \"\";position: absolute;border-left: 1px solid gray;box-sizing: border-box;top: 0;bottom: 0;left: 50%;z-index: 0;}#sk-container-id-7 div.sk-serial {display: flex;flex-direction: column;align-items: center;background-color: white;padding-right: 0.2em;padding-left: 0.2em;position: relative;}#sk-container-id-7 div.sk-item {position: relative;z-index: 1;}#sk-container-id-7 div.sk-parallel {display: flex;align-items: stretch;justify-content: center;background-color: white;position: relative;}#sk-container-id-7 div.sk-item::before, #sk-container-id-7 div.sk-parallel-item::before {content: \"\";position: absolute;border-left: 1px solid gray;box-sizing: border-box;top: 0;bottom: 0;left: 50%;z-index: -1;}#sk-container-id-7 div.sk-parallel-item {display: flex;flex-direction: column;z-index: 1;position: relative;background-color: white;}#sk-container-id-7 div.sk-parallel-item:first-child::after {align-self: flex-end;width: 50%;}#sk-container-id-7 div.sk-parallel-item:last-child::after {align-self: flex-start;width: 50%;}#sk-container-id-7 div.sk-parallel-item:only-child::after {width: 0;}#sk-container-id-7 div.sk-dashed-wrapped {border: 1px dashed gray;margin: 0 0.4em 0.5em 0.4em;box-sizing: border-box;padding-bottom: 0.4em;background-color: white;}#sk-container-id-7 div.sk-label label {font-family: monospace;font-weight: bold;display: inline-block;line-height: 1.2em;}#sk-container-id-7 div.sk-label-container {text-align: center;}#sk-container-id-7 div.sk-container {/* jupyter's `normalize.less` sets `[hidden] { display: none; }` but bootstrap.min.css set `[hidden] { display: none !important; }` so we also need the `!important` here to be able to override the default hidden behavior on the sphinx rendered scikit-learn.org. See: https://github.com/scikit-learn/scikit-learn/issues/21755 */display: inline-block !important;position: relative;}#sk-container-id-7 div.sk-text-repr-fallback {display: none;}</style><div id=\"sk-container-id-7\" class=\"sk-top-container\"><div class=\"sk-text-repr-fallback\"><pre>SGDClassifier(loss=&#x27;modified_huber&#x27;, max_iter=2000, random_state=10,\n",
       "              shuffle=False)</pre><b>In a Jupyter environment, please rerun this cell to show the HTML representation or trust the notebook. <br />On GitHub, the HTML representation is unable to render, please try loading this page with nbviewer.org.</b></div><div class=\"sk-container\" hidden><div class=\"sk-item\"><div class=\"sk-estimator sk-toggleable\"><input class=\"sk-toggleable__control sk-hidden--visually\" id=\"sk-estimator-id-7\" type=\"checkbox\" checked><label for=\"sk-estimator-id-7\" class=\"sk-toggleable__label sk-toggleable__label-arrow\">SGDClassifier</label><div class=\"sk-toggleable__content\"><pre>SGDClassifier(loss=&#x27;modified_huber&#x27;, max_iter=2000, random_state=10,\n",
       "              shuffle=False)</pre></div></div></div></div></div>"
      ],
      "text/plain": [
       "SGDClassifier(loss='modified_huber', max_iter=2000, random_state=10,\n",
       "              shuffle=False)"
      ]
     },
     "execution_count": 92,
     "metadata": {},
     "output_type": "execute_result"
    }
   ],
   "source": [
    "from sklearn.linear_model import SGDClassifier\n",
    "\n",
    "#Created an obj for SGD\n",
    "sgd = SGDClassifier(loss = 'modified_huber', max_iter = 2000, shuffle = False, n_jobs = None, early_stopping = False, random_state = 10)\n",
    "sgd.fit(X_train, y_train)"
   ]
  },
  {
   "cell_type": "code",
   "execution_count": 93,
   "id": "5c3c0a21",
   "metadata": {
    "colab": {
     "base_uri": "https://localhost:8080/"
    },
    "id": "5c3c0a21",
    "outputId": "67a5af0d-085d-43e4-9a88-8eb1a1da05ed"
   },
   "outputs": [
    {
     "data": {
      "text/plain": [
       "0.9331210191082803"
      ]
     },
     "execution_count": 93,
     "metadata": {},
     "output_type": "execute_result"
    }
   ],
   "source": [
    "#Training Accuracy\n",
    "sgd.score(X_train, y_train)"
   ]
  },
  {
   "cell_type": "code",
   "execution_count": 94,
   "id": "0310ba7d",
   "metadata": {
    "colab": {
     "base_uri": "https://localhost:8080/"
    },
    "id": "0310ba7d",
    "outputId": "e7db51e8-3ff9-47df-85f3-07e31859a12a"
   },
   "outputs": [
    {
     "name": "stdout",
     "output_type": "stream",
     "text": [
      "0.9111111111111111\n",
      "0.9331210191082803\n"
     ]
    }
   ],
   "source": [
    "#Testing Accuracy\n",
    "y_train_pred = sgd.predict(X_train)\n",
    "y_test_pred = sgd.predict(X_test)\n",
    "print(accuracy_score(y_test, y_test_pred))\n",
    "print(accuracy_score(y_train, y_train_pred))"
   ]
  },
  {
   "cell_type": "code",
   "execution_count": 95,
   "id": "60894db6",
   "metadata": {},
   "outputs": [
    {
     "data": {
      "text/plain": [
       "0.9111111111111111"
      ]
     },
     "execution_count": 95,
     "metadata": {},
     "output_type": "execute_result"
    }
   ],
   "source": [
    "precision_positive = metrics.precision_score(y_test, y_test_pred, average='micro')\n",
    "precision_positive"
   ]
  },
  {
   "cell_type": "code",
   "execution_count": 96,
   "id": "8b929e63",
   "metadata": {},
   "outputs": [
    {
     "data": {
      "text/plain": [
       "0.9331210191082803"
      ]
     },
     "execution_count": 96,
     "metadata": {},
     "output_type": "execute_result"
    }
   ],
   "source": [
    "precision_positive = metrics.precision_score(y_train, y_train_pred, average='micro')\n",
    "precision_positive"
   ]
  },
  {
   "cell_type": "code",
   "execution_count": 97,
   "id": "c4112f4f",
   "metadata": {},
   "outputs": [
    {
     "data": {
      "text/plain": [
       "0.9111111111111111"
      ]
     },
     "execution_count": 97,
     "metadata": {},
     "output_type": "execute_result"
    }
   ],
   "source": [
    "recall_specificity = metrics.recall_score(y_test, y_test_pred, average='micro')\n",
    "recall_specificity"
   ]
  },
  {
   "cell_type": "code",
   "execution_count": 98,
   "id": "28af93e7",
   "metadata": {},
   "outputs": [
    {
     "data": {
      "text/plain": [
       "0.9331210191082803"
      ]
     },
     "execution_count": 98,
     "metadata": {},
     "output_type": "execute_result"
    }
   ],
   "source": [
    "recall_specificity = metrics.recall_score(y_train, y_train_pred, average='micro')\n",
    "recall_specificity"
   ]
  },
  {
   "cell_type": "code",
   "execution_count": 99,
   "id": "82d8cbd4",
   "metadata": {},
   "outputs": [
    {
     "data": {
      "text/plain": [
       "array([0.92473118, 0.81751825, 0.94736842, 0.92783505, 0.95867769,\n",
       "       1.        , 0.86111111])"
      ]
     },
     "execution_count": 99,
     "metadata": {},
     "output_type": "execute_result"
    }
   ],
   "source": [
    "fbeta_score(y_train, y_train_pred, beta = 1, average = None)"
   ]
  },
  {
   "cell_type": "code",
   "execution_count": 100,
   "id": "1LWwu7-xrT51",
   "metadata": {
    "colab": {
     "base_uri": "https://localhost:8080/"
    },
    "id": "1LWwu7-xrT51",
    "outputId": "29bab7ae-c550-4596-99ed-16a87a15a517"
   },
   "outputs": [
    {
     "data": {
      "text/plain": [
       "array([0.86666667, 0.65384615, 0.92913386, 0.93023256, 0.95744681,\n",
       "       0.98550725, 0.85714286])"
      ]
     },
     "execution_count": 100,
     "metadata": {},
     "output_type": "execute_result"
    }
   ],
   "source": [
    "fbeta_score(y_test, y_test_pred, beta = 1, average = None)"
   ]
  },
  {
   "cell_type": "code",
   "execution_count": 101,
   "id": "b8e41c27",
   "metadata": {
    "colab": {
     "base_uri": "https://localhost:8080/"
    },
    "id": "b8e41c27",
    "outputId": "e541c929-9270-4429-b3a1-4a0184ef0a9b"
   },
   "outputs": [
    {
     "data": {
      "image/png": "[encoded data removed]",
      "text/plain": [
       "<Figure size 576x396 with 2 Axes>"
      ]
     },
     "metadata": {},
     "output_type": "display_data"
    },
    {
     "data": {
      "text/plain": [
       "<AxesSubplot:title={'center':'SGDClassifier Classification Report'}>"
      ]
     },
     "execution_count": 101,
     "metadata": {},
     "output_type": "execute_result"
    }
   ],
   "source": [
    "visualizer = ClassificationReport(sgd, support = True, color_bar = True, cmap = rnd.choice(colors))\n",
    "visualizer.fit(X_train, y_train)        \n",
    "visualizer.score(X_test, y_test)   \n",
    "visualizer.show()"
   ]
  },
  {
   "cell_type": "code",
   "execution_count": 102,
   "id": "38f4fb0d",
   "metadata": {
    "colab": {
     "base_uri": "https://localhost:8080/"
    },
    "id": "38f4fb0d",
    "outputId": "adec350a-5513-4bb5-bf67-eee61f582956"
   },
   "outputs": [
    {
     "data": {
      "image/png": "[encoded data removed]",
      "text/plain": [
       "<Figure size 576x396 with 1 Axes>"
      ]
     },
     "metadata": {},
     "output_type": "display_data"
    },
    {
     "data": {
      "text/plain": [
       "<AxesSubplot:title={'center':'SGDClassifier Confusion Matrix'}, xlabel='Predicted Class', ylabel='True Class'>"
      ]
     },
     "execution_count": 102,
     "metadata": {},
     "output_type": "execute_result"
    }
   ],
   "source": [
    "visualizer = ConfusionMatrix(sgd, support = True, color_bar = True, cmap = rnd.choice(colors))\n",
    "visualizer.fit(X_train, y_train)        \n",
    "visualizer.score(X_test, y_test)   \n",
    "visualizer.show()"
   ]
  },
  {
   "cell_type": "markdown",
   "id": "55d74976",
   "metadata": {
    "id": "55d74976"
   },
   "source": [
    "# Ada Boost"
   ]
  },
  {
   "cell_type": "code",
   "execution_count": 103,
   "id": "abb95fe3",
   "metadata": {
    "colab": {
     "base_uri": "https://localhost:8080/"
    },
    "id": "abb95fe3",
    "outputId": "f441eed5-1eda-4f0f-ea56-129c490f6a54"
   },
   "outputs": [
    {
     "data": {
      "text/html": [
       "<style>#sk-container-id-8 {color: black;background-color: white;}#sk-container-id-8 pre{padding: 0;}#sk-container-id-8 div.sk-toggleable {background-color: white;}#sk-container-id-8 label.sk-toggleable__label {cursor: pointer;display: block;width: 100%;margin-bottom: 0;padding: 0.3em;box-sizing: border-box;text-align: center;}#sk-container-id-8 label.sk-toggleable__label-arrow:before {content: \"▸\";float: left;margin-right: 0.25em;color: #696969;}#sk-container-id-8 label.sk-toggleable__label-arrow:hover:before {color: black;}#sk-container-id-8 div.sk-estimator:hover label.sk-toggleable__label-arrow:before {color: black;}#sk-container-id-8 div.sk-toggleable__content {max-height: 0;max-width: 0;overflow: hidden;text-align: left;background-color: #f0f8ff;}#sk-container-id-8 div.sk-toggleable__content pre {margin: 0.2em;color: black;border-radius: 0.25em;background-color: #f0f8ff;}#sk-container-id-8 input.sk-toggleable__control:checked~div.sk-toggleable__content {max-height: 200px;max-width: 100%;overflow: auto;}#sk-container-id-8 input.sk-toggleable__control:checked~label.sk-toggleable__label-arrow:before {content: \"▾\";}#sk-container-id-8 div.sk-estimator input.sk-toggleable__control:checked~label.sk-toggleable__label {background-color: #d4ebff;}#sk-container-id-8 div.sk-label input.sk-toggleable__control:checked~label.sk-toggleable__label {background-color: #d4ebff;}#sk-container-id-8 input.sk-hidden--visually {border: 0;clip: rect(1px 1px 1px 1px);clip: rect(1px, 1px, 1px, 1px);height: 1px;margin: -1px;overflow: hidden;padding: 0;position: absolute;width: 1px;}#sk-container-id-8 div.sk-estimator {font-family: monospace;background-color: #f0f8ff;border: 1px dotted black;border-radius: 0.25em;box-sizing: border-box;margin-bottom: 0.5em;}#sk-container-id-8 div.sk-estimator:hover {background-color: #d4ebff;}#sk-container-id-8 div.sk-parallel-item::after {content: \"\";width: 100%;border-bottom: 1px solid gray;flex-grow: 1;}#sk-container-id-8 div.sk-label:hover label.sk-toggleable__label {background-color: #d4ebff;}#sk-container-id-8 div.sk-serial::before {content: \"\";position: absolute;border-left: 1px solid gray;box-sizing: border-box;top: 0;bottom: 0;left: 50%;z-index: 0;}#sk-container-id-8 div.sk-serial {display: flex;flex-direction: column;align-items: center;background-color: white;padding-right: 0.2em;padding-left: 0.2em;position: relative;}#sk-container-id-8 div.sk-item {position: relative;z-index: 1;}#sk-container-id-8 div.sk-parallel {display: flex;align-items: stretch;justify-content: center;background-color: white;position: relative;}#sk-container-id-8 div.sk-item::before, #sk-container-id-8 div.sk-parallel-item::before {content: \"\";position: absolute;border-left: 1px solid gray;box-sizing: border-box;top: 0;bottom: 0;left: 50%;z-index: -1;}#sk-container-id-8 div.sk-parallel-item {display: flex;flex-direction: column;z-index: 1;position: relative;background-color: white;}#sk-container-id-8 div.sk-parallel-item:first-child::after {align-self: flex-end;width: 50%;}#sk-container-id-8 div.sk-parallel-item:last-child::after {align-self: flex-start;width: 50%;}#sk-container-id-8 div.sk-parallel-item:only-child::after {width: 0;}#sk-container-id-8 div.sk-dashed-wrapped {border: 1px dashed gray;margin: 0 0.4em 0.5em 0.4em;box-sizing: border-box;padding-bottom: 0.4em;background-color: white;}#sk-container-id-8 div.sk-label label {font-family: monospace;font-weight: bold;display: inline-block;line-height: 1.2em;}#sk-container-id-8 div.sk-label-container {text-align: center;}#sk-container-id-8 div.sk-container {/* jupyter's `normalize.less` sets `[hidden] { display: none; }` but bootstrap.min.css set `[hidden] { display: none !important; }` so we also need the `!important` here to be able to override the default hidden behavior on the sphinx rendered scikit-learn.org. See: https://github.com/scikit-learn/scikit-learn/issues/21755 */display: inline-block !important;position: relative;}#sk-container-id-8 div.sk-text-repr-fallback {display: none;}</style><div id=\"sk-container-id-8\" class=\"sk-top-container\"><div class=\"sk-text-repr-fallback\"><pre>AdaBoostClassifier(learning_rate=0.1, n_estimators=200, random_state=10)</pre><b>In a Jupyter environment, please rerun this cell to show the HTML representation or trust the notebook. <br />On GitHub, the HTML representation is unable to render, please try loading this page with nbviewer.org.</b></div><div class=\"sk-container\" hidden><div class=\"sk-item\"><div class=\"sk-estimator sk-toggleable\"><input class=\"sk-toggleable__control sk-hidden--visually\" id=\"sk-estimator-id-8\" type=\"checkbox\" checked><label for=\"sk-estimator-id-8\" class=\"sk-toggleable__label sk-toggleable__label-arrow\">AdaBoostClassifier</label><div class=\"sk-toggleable__content\"><pre>AdaBoostClassifier(learning_rate=0.1, n_estimators=200, random_state=10)</pre></div></div></div></div></div>"
      ],
      "text/plain": [
       "AdaBoostClassifier(learning_rate=0.1, n_estimators=200, random_state=10)"
      ]
     },
     "execution_count": 103,
     "metadata": {},
     "output_type": "execute_result"
    }
   ],
   "source": [
    "from sklearn.ensemble import AdaBoostClassifier\n",
    "\n",
    "#Created an obj for Ada Boost\n",
    "adab = AdaBoostClassifier(n_estimators = 200, learning_rate = 0.1 , random_state = 10)\n",
    "adab.fit(X_train, y_train)"
   ]
  },
  {
   "cell_type": "code",
   "execution_count": 104,
   "id": "05a04831",
   "metadata": {
    "colab": {
     "base_uri": "https://localhost:8080/"
    },
    "id": "05a04831",
    "outputId": "5702c0a2-2890-4957-c750-9c6886bb777e"
   },
   "outputs": [
    {
     "data": {
      "text/plain": [
       "0.6098726114649682"
      ]
     },
     "execution_count": 104,
     "metadata": {},
     "output_type": "execute_result"
    }
   ],
   "source": [
    "#Training Accuracy\n",
    "adab.score(X_train, y_train)"
   ]
  },
  {
   "cell_type": "code",
   "execution_count": 131,
   "id": "84c2a74d",
   "metadata": {
    "colab": {
     "base_uri": "https://localhost:8080/"
    },
    "id": "84c2a74d",
    "outputId": "96e0d784-fee4-4903-fc40-13cd1eb28c40"
   },
   "outputs": [
    {
     "name": "stdout",
     "output_type": "stream",
     "text": [
      "0.6037037037037037\n",
      "0.6098726114649682\n"
     ]
    }
   ],
   "source": [
    "#Testing Accuracy\n",
    "y_train_pred = adab.predict(X_train)\n",
    "y_test_pred = adab.predict(X_test)\n",
    "print(accuracy_score(y_test, y_test_pred))\n",
    "print(accuracy_score(y_train, y_train_pred))"
   ]
  },
  {
   "cell_type": "code",
   "execution_count": 106,
   "id": "8f7f10e7",
   "metadata": {},
   "outputs": [
    {
     "data": {
      "text/plain": [
       "0.6037037037037037"
      ]
     },
     "execution_count": 106,
     "metadata": {},
     "output_type": "execute_result"
    }
   ],
   "source": [
    "precision_positive = metrics.precision_score(y_test, y_test_pred, average='micro')\n",
    "precision_positive"
   ]
  },
  {
   "cell_type": "code",
   "execution_count": 107,
   "id": "ea2f698f",
   "metadata": {},
   "outputs": [
    {
     "data": {
      "text/plain": [
       "0.6098726114649682"
      ]
     },
     "execution_count": 107,
     "metadata": {},
     "output_type": "execute_result"
    }
   ],
   "source": [
    "precision_positive = metrics.precision_score(y_train, y_train_pred, average='micro')\n",
    "precision_positive"
   ]
  },
  {
   "cell_type": "code",
   "execution_count": 108,
   "id": "83cd3f1f",
   "metadata": {},
   "outputs": [
    {
     "data": {
      "text/plain": [
       "0.6037037037037037"
      ]
     },
     "execution_count": 108,
     "metadata": {},
     "output_type": "execute_result"
    }
   ],
   "source": [
    "recall_specificity = metrics.recall_score(y_test, y_test_pred, average='micro')\n",
    "recall_specificity"
   ]
  },
  {
   "cell_type": "code",
   "execution_count": 109,
   "id": "25da1c5c",
   "metadata": {},
   "outputs": [
    {
     "data": {
      "text/plain": [
       "0.6098726114649682"
      ]
     },
     "execution_count": 109,
     "metadata": {},
     "output_type": "execute_result"
    }
   ],
   "source": [
    "recall_specificity = metrics.recall_score(y_train, y_train_pred, average='micro')\n",
    "recall_specificity"
   ]
  },
  {
   "cell_type": "code",
   "execution_count": 110,
   "id": "903b9465",
   "metadata": {},
   "outputs": [
    {
     "data": {
      "text/plain": [
       "array([0.58426966, 0.28571429, 0.        , 0.64705882, 0.9058296 ,\n",
       "       0.96525097, 0.62745098])"
      ]
     },
     "execution_count": 110,
     "metadata": {},
     "output_type": "execute_result"
    }
   ],
   "source": [
    "fbeta_score(y_train, y_train_pred, beta = 1, average = None)"
   ]
  },
  {
   "cell_type": "code",
   "execution_count": 111,
   "id": "OJTBq6GnrVb8",
   "metadata": {
    "colab": {
     "base_uri": "https://localhost:8080/"
    },
    "id": "OJTBq6GnrVb8",
    "outputId": "8ecd55c5-4224-4aed-83bb-688252df4583"
   },
   "outputs": [
    {
     "data": {
      "text/plain": [
       "array([0.5       , 0.21505376, 0.        , 0.72727273, 0.91111111,\n",
       "       0.94814815, 0.57471264])"
      ]
     },
     "execution_count": 111,
     "metadata": {},
     "output_type": "execute_result"
    }
   ],
   "source": [
    "fbeta_score(y_test, y_test_pred, beta = 1, average = None)"
   ]
  },
  {
   "cell_type": "code",
   "execution_count": 112,
   "id": "80007c6b",
   "metadata": {
    "colab": {
     "base_uri": "https://localhost:8080/"
    },
    "id": "80007c6b",
    "outputId": "f32a1418-fbe6-4a63-c369-a681afb87ad6"
   },
   "outputs": [
    {
     "data": {
      "image/png": "[encoded data removed]",
      "text/plain": [
       "<Figure size 576x396 with 2 Axes>"
      ]
     },
     "metadata": {},
     "output_type": "display_data"
    },
    {
     "data": {
      "text/plain": [
       "<AxesSubplot:title={'center':'AdaBoostClassifier Classification Report'}>"
      ]
     },
     "execution_count": 112,
     "metadata": {},
     "output_type": "execute_result"
    }
   ],
   "source": [
    "visualizer = ClassificationReport(adab, support = True, color_bar = True, cmap = rnd.choice(colors))\n",
    "visualizer.fit(X_train, y_train)        \n",
    "visualizer.score(X_test, y_test)   \n",
    "visualizer.show()"
   ]
  },
  {
   "cell_type": "code",
   "execution_count": 113,
   "id": "07f559ec",
   "metadata": {
    "colab": {
     "base_uri": "https://localhost:8080/"
    },
    "id": "07f559ec",
    "outputId": "972d970c-ee67-41b0-b8de-72b419725d1f"
   },
   "outputs": [
    {
     "data": {
      "image/png": "[encoded data removed]",
      "text/plain": [
       "<Figure size 576x396 with 1 Axes>"
      ]
     },
     "metadata": {},
     "output_type": "display_data"
    },
    {
     "data": {
      "text/plain": [
       "<AxesSubplot:title={'center':'AdaBoostClassifier Confusion Matrix'}, xlabel='Predicted Class', ylabel='True Class'>"
      ]
     },
     "execution_count": 113,
     "metadata": {},
     "output_type": "execute_result"
    }
   ],
   "source": [
    "visualizer = ConfusionMatrix(adab, support = True, color_bar = True, cmap = rnd.choice(colors))\n",
    "visualizer.fit(X_train, y_train)        \n",
    "visualizer.score(X_test, y_test)   \n",
    "visualizer.show()"
   ]
  },
  {
   "cell_type": "markdown",
   "id": "92dba416",
   "metadata": {
    "id": "92dba416"
   },
   "source": [
    "# Gradient Boosting"
   ]
  },
  {
   "cell_type": "code",
   "execution_count": 114,
   "id": "2324e411",
   "metadata": {
    "colab": {
     "base_uri": "https://localhost:8080/"
    },
    "id": "2324e411",
    "outputId": "0b361b77-9466-4bb7-b27c-06b862363f5a"
   },
   "outputs": [
    {
     "data": {
      "text/html": [
       "<style>#sk-container-id-9 {color: black;background-color: white;}#sk-container-id-9 pre{padding: 0;}#sk-container-id-9 div.sk-toggleable {background-color: white;}#sk-container-id-9 label.sk-toggleable__label {cursor: pointer;display: block;width: 100%;margin-bottom: 0;padding: 0.3em;box-sizing: border-box;text-align: center;}#sk-container-id-9 label.sk-toggleable__label-arrow:before {content: \"▸\";float: left;margin-right: 0.25em;color: #696969;}#sk-container-id-9 label.sk-toggleable__label-arrow:hover:before {color: black;}#sk-container-id-9 div.sk-estimator:hover label.sk-toggleable__label-arrow:before {color: black;}#sk-container-id-9 div.sk-toggleable__content {max-height: 0;max-width: 0;overflow: hidden;text-align: left;background-color: #f0f8ff;}#sk-container-id-9 div.sk-toggleable__content pre {margin: 0.2em;color: black;border-radius: 0.25em;background-color: #f0f8ff;}#sk-container-id-9 input.sk-toggleable__control:checked~div.sk-toggleable__content {max-height: 200px;max-width: 100%;overflow: auto;}#sk-container-id-9 input.sk-toggleable__control:checked~label.sk-toggleable__label-arrow:before {content: \"▾\";}#sk-container-id-9 div.sk-estimator input.sk-toggleable__control:checked~label.sk-toggleable__label {background-color: #d4ebff;}#sk-container-id-9 div.sk-label input.sk-toggleable__control:checked~label.sk-toggleable__label {background-color: #d4ebff;}#sk-container-id-9 input.sk-hidden--visually {border: 0;clip: rect(1px 1px 1px 1px);clip: rect(1px, 1px, 1px, 1px);height: 1px;margin: -1px;overflow: hidden;padding: 0;position: absolute;width: 1px;}#sk-container-id-9 div.sk-estimator {font-family: monospace;background-color: #f0f8ff;border: 1px dotted black;border-radius: 0.25em;box-sizing: border-box;margin-bottom: 0.5em;}#sk-container-id-9 div.sk-estimator:hover {background-color: #d4ebff;}#sk-container-id-9 div.sk-parallel-item::after {content: \"\";width: 100%;border-bottom: 1px solid gray;flex-grow: 1;}#sk-container-id-9 div.sk-label:hover label.sk-toggleable__label {background-color: #d4ebff;}#sk-container-id-9 div.sk-serial::before {content: \"\";position: absolute;border-left: 1px solid gray;box-sizing: border-box;top: 0;bottom: 0;left: 50%;z-index: 0;}#sk-container-id-9 div.sk-serial {display: flex;flex-direction: column;align-items: center;background-color: white;padding-right: 0.2em;padding-left: 0.2em;position: relative;}#sk-container-id-9 div.sk-item {position: relative;z-index: 1;}#sk-container-id-9 div.sk-parallel {display: flex;align-items: stretch;justify-content: center;background-color: white;position: relative;}#sk-container-id-9 div.sk-item::before, #sk-container-id-9 div.sk-parallel-item::before {content: \"\";position: absolute;border-left: 1px solid gray;box-sizing: border-box;top: 0;bottom: 0;left: 50%;z-index: -1;}#sk-container-id-9 div.sk-parallel-item {display: flex;flex-direction: column;z-index: 1;position: relative;background-color: white;}#sk-container-id-9 div.sk-parallel-item:first-child::after {align-self: flex-end;width: 50%;}#sk-container-id-9 div.sk-parallel-item:last-child::after {align-self: flex-start;width: 50%;}#sk-container-id-9 div.sk-parallel-item:only-child::after {width: 0;}#sk-container-id-9 div.sk-dashed-wrapped {border: 1px dashed gray;margin: 0 0.4em 0.5em 0.4em;box-sizing: border-box;padding-bottom: 0.4em;background-color: white;}#sk-container-id-9 div.sk-label label {font-family: monospace;font-weight: bold;display: inline-block;line-height: 1.2em;}#sk-container-id-9 div.sk-label-container {text-align: center;}#sk-container-id-9 div.sk-container {/* jupyter's `normalize.less` sets `[hidden] { display: none; }` but bootstrap.min.css set `[hidden] { display: none !important; }` so we also need the `!important` here to be able to override the default hidden behavior on the sphinx rendered scikit-learn.org. See: https://github.com/scikit-learn/scikit-learn/issues/21755 */display: inline-block !important;position: relative;}#sk-container-id-9 div.sk-text-repr-fallback {display: none;}</style><div id=\"sk-container-id-9\" class=\"sk-top-container\"><div class=\"sk-text-repr-fallback\"><pre>GradientBoostingClassifier(n_estimators=200, random_state=10)</pre><b>In a Jupyter environment, please rerun this cell to show the HTML representation or trust the notebook. <br />On GitHub, the HTML representation is unable to render, please try loading this page with nbviewer.org.</b></div><div class=\"sk-container\" hidden><div class=\"sk-item\"><div class=\"sk-estimator sk-toggleable\"><input class=\"sk-toggleable__control sk-hidden--visually\" id=\"sk-estimator-id-9\" type=\"checkbox\" checked><label for=\"sk-estimator-id-9\" class=\"sk-toggleable__label sk-toggleable__label-arrow\">GradientBoostingClassifier</label><div class=\"sk-toggleable__content\"><pre>GradientBoostingClassifier(n_estimators=200, random_state=10)</pre></div></div></div></div></div>"
      ],
      "text/plain": [
       "GradientBoostingClassifier(n_estimators=200, random_state=10)"
      ]
     },
     "execution_count": 114,
     "metadata": {},
     "output_type": "execute_result"
    }
   ],
   "source": [
    "from sklearn.ensemble import GradientBoostingClassifier\n",
    "\n",
    "#Created an obj for Gradient Boosting\n",
    "gb = GradientBoostingClassifier( n_estimators = 200, learning_rate = 0.1 , random_state = 10)\n",
    "gb.fit(X_train, y_train)"
   ]
  },
  {
   "cell_type": "code",
   "execution_count": 115,
   "id": "3577e1e1",
   "metadata": {
    "colab": {
     "base_uri": "https://localhost:8080/"
    },
    "id": "3577e1e1",
    "outputId": "936c4072-a1e5-49ef-ec6c-77ae4ffaf8b0"
   },
   "outputs": [
    {
     "data": {
      "text/plain": [
       "1.0"
      ]
     },
     "execution_count": 115,
     "metadata": {},
     "output_type": "execute_result"
    }
   ],
   "source": [
    "#Training Accuracy\n",
    "gb.score(X_train, y_train)"
   ]
  },
  {
   "cell_type": "code",
   "execution_count": 116,
   "id": "b96b7a9f",
   "metadata": {
    "colab": {
     "base_uri": "https://localhost:8080/"
    },
    "id": "b96b7a9f",
    "outputId": "88c6bf3c-3692-4a4f-e7c8-e26fe8730b57"
   },
   "outputs": [
    {
     "name": "stdout",
     "output_type": "stream",
     "text": [
      "0.9185185185185185\n",
      "1.0\n"
     ]
    }
   ],
   "source": [
    "#Testing Accuracy\n",
    "y_train_pred = gb.predict(X_train)\n",
    "y_test_pred = gb.predict(X_test)\n",
    "print(accuracy_score(y_test, y_test_pred))\n",
    "print(accuracy_score(y_train, y_train_pred))"
   ]
  },
  {
   "cell_type": "code",
   "execution_count": 117,
   "id": "3dc48f33",
   "metadata": {},
   "outputs": [
    {
     "data": {
      "text/plain": [
       "0.9185185185185185"
      ]
     },
     "execution_count": 117,
     "metadata": {},
     "output_type": "execute_result"
    }
   ],
   "source": [
    "precision_positive = metrics.precision_score(y_test, y_test_pred, average='micro')\n",
    "precision_positive"
   ]
  },
  {
   "cell_type": "code",
   "execution_count": 130,
   "id": "22f03b84",
   "metadata": {},
   "outputs": [
    {
     "data": {
      "text/plain": [
       "1.0"
      ]
     },
     "execution_count": 130,
     "metadata": {},
     "output_type": "execute_result"
    }
   ],
   "source": [
    "precision_positive = metrics.precision_score(y_train, y_train_pred, average='micro')\n",
    "precision_positive"
   ]
  },
  {
   "cell_type": "code",
   "execution_count": 119,
   "id": "e35c7428",
   "metadata": {},
   "outputs": [
    {
     "data": {
      "text/plain": [
       "0.9185185185185185"
      ]
     },
     "execution_count": 119,
     "metadata": {},
     "output_type": "execute_result"
    }
   ],
   "source": [
    "recall_specificity = metrics.recall_score(y_test, y_test_pred, average='micro')\n",
    "recall_specificity"
   ]
  },
  {
   "cell_type": "code",
   "execution_count": 120,
   "id": "e086d5c3",
   "metadata": {},
   "outputs": [
    {
     "data": {
      "text/plain": [
       "1.0"
      ]
     },
     "execution_count": 120,
     "metadata": {},
     "output_type": "execute_result"
    }
   ],
   "source": [
    "recall_specificity = metrics.recall_score(y_train, y_train_pred, average='micro')\n",
    "recall_specificity"
   ]
  },
  {
   "cell_type": "code",
   "execution_count": 121,
   "id": "66da9d42",
   "metadata": {},
   "outputs": [
    {
     "data": {
      "text/plain": [
       "array([1., 1., 1., 1., 1., 1., 1.])"
      ]
     },
     "execution_count": 121,
     "metadata": {},
     "output_type": "execute_result"
    }
   ],
   "source": [
    "fbeta_score(y_train, y_train_pred, beta = 1, average = None)"
   ]
  },
  {
   "cell_type": "code",
   "execution_count": 122,
   "id": "9nVzxj9IrW0F",
   "metadata": {
    "colab": {
     "base_uri": "https://localhost:8080/"
    },
    "id": "9nVzxj9IrW0F",
    "outputId": "176ed2dc-b9a9-470b-89b6-20d17eddf243"
   },
   "outputs": [
    {
     "data": {
      "text/plain": [
       "array([0.86666667, 0.72340426, 0.93846154, 0.93023256, 0.96842105,\n",
       "       0.97810219, 0.82758621])"
      ]
     },
     "execution_count": 122,
     "metadata": {},
     "output_type": "execute_result"
    }
   ],
   "source": [
    "fbeta_score(y_test, y_test_pred, beta = 1, average = None)"
   ]
  },
  {
   "cell_type": "code",
   "execution_count": 123,
   "id": "0ca75351",
   "metadata": {
    "colab": {
     "base_uri": "https://localhost:8080/"
    },
    "id": "0ca75351",
    "outputId": "452cc35a-8d43-4b2d-fffb-36998f57e5a4"
   },
   "outputs": [
    {
     "data": {
      "image/png": "[encoded data removed]",
      "text/plain": [
       "<Figure size 576x396 with 2 Axes>"
      ]
     },
     "metadata": {},
     "output_type": "display_data"
    },
    {
     "data": {
      "text/plain": [
       "<AxesSubplot:title={'center':'GradientBoostingClassifier Classification Report'}>"
      ]
     },
     "execution_count": 123,
     "metadata": {},
     "output_type": "execute_result"
    }
   ],
   "source": [
    "visualizer = ClassificationReport(gb, support = True, color_bar = True, cmap = rnd.choice(colors))\n",
    "visualizer.fit(X_train, y_train)        \n",
    "visualizer.score(X_test, y_test)   \n",
    "visualizer.show() "
   ]
  },
  {
   "cell_type": "code",
   "execution_count": 124,
   "id": "57fea6b7",
   "metadata": {
    "colab": {
     "base_uri": "https://localhost:8080/"
    },
    "id": "57fea6b7",
    "outputId": "b9793dbb-2f4b-4f8b-dfe2-1568f43d5aca"
   },
   "outputs": [
    {
     "data": {
      "image/png": "[encoded data removed]",
      "text/plain": [
       "<Figure size 576x396 with 1 Axes>"
      ]
     },
     "metadata": {},
     "output_type": "display_data"
    },
    {
     "data": {
      "text/plain": [
       "<AxesSubplot:title={'center':'GradientBoostingClassifier Confusion Matrix'}, xlabel='Predicted Class', ylabel='True Class'>"
      ]
     },
     "execution_count": 124,
     "metadata": {},
     "output_type": "execute_result"
    }
   ],
   "source": [
    "visualizer = ConfusionMatrix(gb, support = True, color_bar = True, cmap = rnd.choice(colors))\n",
    "visualizer.fit(X_train, y_train)        \n",
    "visualizer.score(X_test, y_test)   \n",
    "visualizer.show()"
   ]
  }
 ],
 "metadata": {
  "colab": {
   "collapsed_sections": [
    "ce2249e8",
    "92bd6ca1",
    "3d5da703",
    "393492da",
    "d6d72a17",
    "493a7fa4",
    "203f97c7",
    "1f814dd4",
    "55d74976",
    "92dba416"
   ],
   "name": "TIPLiverCirrhosisFinal.ipynb",
   "provenance": []
  },
  "kernelspec": {
   "display_name": "Python 3 (ipykernel)",
   "language": "python",
   "name": "python3"
  },
  "language_info": {
   "codemirror_mode": {
    "name": "ipython",
    "version": 3
   },
   "file_extension": ".py",
   "mimetype": "text/x-python",
   "name": "python",
   "nbconvert_exporter": "python",
   "pygments_lexer": "ipython3",
   "version": "3.9.7"
  },
  "toc": {
   "base_numbering": 1,
   "nav_menu": {},
   "number_sections": true,
   "sideBar": true,
   "skip_h1_title": false,
   "title_cell": "Table of Contents",
   "title_sidebar": "Contents",
   "toc_cell": false,
   "toc_position": {},
   "toc_section_display": true,
   "toc_window_display": false
  }
 },
 "nbformat": 4,
 "nbformat_minor": 5
}
