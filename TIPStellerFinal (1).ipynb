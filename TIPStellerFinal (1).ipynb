{
 "cells": [
  {
   "cell_type": "markdown",
   "id": "a7b2a2ce",
   "metadata": {
    "id": "a7b2a2ce"
   },
   "source": [
    "# Table of Contents\n",
    "   1. Business Statement   \n",
    "      1.1 About Data Set\n",
    "   2. Introduction \n",
    "   3. Installing Libraries \n",
    "   4. Reading Data Set\n",
    "   5. Machine Learning Models \n",
    "   6. Summary"
   ]
  },
  {
   "cell_type": "markdown",
   "id": "f4440b23",
   "metadata": {
    "id": "f4440b23"
   },
   "source": [
    "# 1. Business Statement "
   ]
  },
  {
   "cell_type": "markdown",
   "id": "cb641f02",
   "metadata": {
    "id": "cb641f02"
   },
   "source": [
    "## 1.1 Bank Customer Churn\n",
    "Dataset Shape: 10000 rows x 14 columns\n",
    "\n",
    "1. RowNumber: I'd variable\n",
    "2. CustomerId: Id vairable\n",
    "3. Surname: Surname of the customer\n",
    "4. CreditScore: Credit Score of the customer\n",
    "5. Geography: Place from where the person belongs\n",
    "6. Gender: Gender of the person\n",
    "7. Age: Age of the person\n",
    "8. Tenure: Time period of credit card issuing \n",
    "9. Balance: Balance in the account\n",
    "10. NumOfProducts: Number of products brought\n",
    "11. HasCrCard: Does the person own a credit card\n",
    "12. IsActiveMember: Is the person Active\n",
    "13. EstimatedSalary: Estimated Salary of the person\n",
    "14. Exited: Target Variable\n",
    "\n",
    "\n",
    "\n",
    "\n",
    "\n",
    "Columns Types:\n",
    "1. Continuous: 11\n",
    " \n",
    "2. Categorical: 3"
   ]
  },
  {
   "cell_type": "markdown",
   "id": "ce2249e8",
   "metadata": {
    "id": "ce2249e8"
   },
   "source": [
    "# Importing Important Dependencies "
   ]
  },
  {
   "cell_type": "code",
   "execution_count": 1,
   "id": "bc1fc288",
   "metadata": {
    "id": "bc1fc288"
   },
   "outputs": [],
   "source": [
    "import numpy as np\n",
    "import pandas as pd\n",
    "import matplotlib.pyplot as plt\n",
    "import seaborn as sns\n",
    "import random as rnd\n",
    "import warnings\n",
    "import gc\n",
    "warnings.filterwarnings(\"ignore\")"
   ]
  },
  {
   "cell_type": "markdown",
   "id": "bea0dd9e",
   "metadata": {
    "id": "bea0dd9e"
   },
   "source": [
    "# Reading Data Set"
   ]
  },
  {
   "cell_type": "code",
   "execution_count": 2,
   "id": "37c351ac",
   "metadata": {
    "id": "37c351ac"
   },
   "outputs": [],
   "source": [
    "df = pd.read_csv('sensor.csv')"
   ]
  },
  {
   "cell_type": "code",
   "execution_count": 3,
   "id": "37df2a66",
   "metadata": {
    "colab": {
     "base_uri": "https://localhost:8080/",
     "height": 340
    },
    "id": "37df2a66",
    "outputId": "b7434747-382a-49d4-edcf-1996b56d19fb"
   },
   "outputs": [
    {
     "data": {
      "text/html": [
       "<div>\n",
       "<style scoped>\n",
       "    .dataframe tbody tr th:only-of-type {\n",
       "        vertical-align: middle;\n",
       "    }\n",
       "\n",
       "    .dataframe tbody tr th {\n",
       "        vertical-align: top;\n",
       "    }\n",
       "\n",
       "    .dataframe thead th {\n",
       "        text-align: right;\n",
       "    }\n",
       "</style>\n",
       "<table border=\"1\" class=\"dataframe\">\n",
       "  <thead>\n",
       "    <tr style=\"text-align: right;\">\n",
       "      <th></th>\n",
       "      <th>Unnamed: 0</th>\n",
       "      <th>timestamp</th>\n",
       "      <th>sensor_00</th>\n",
       "      <th>sensor_01</th>\n",
       "      <th>sensor_02</th>\n",
       "      <th>sensor_03</th>\n",
       "      <th>sensor_04</th>\n",
       "      <th>sensor_05</th>\n",
       "      <th>sensor_06</th>\n",
       "      <th>sensor_07</th>\n",
       "      <th>...</th>\n",
       "      <th>sensor_43</th>\n",
       "      <th>sensor_44</th>\n",
       "      <th>sensor_45</th>\n",
       "      <th>sensor_46</th>\n",
       "      <th>sensor_47</th>\n",
       "      <th>sensor_48</th>\n",
       "      <th>sensor_49</th>\n",
       "      <th>sensor_50</th>\n",
       "      <th>sensor_51</th>\n",
       "      <th>machine_status</th>\n",
       "    </tr>\n",
       "  </thead>\n",
       "  <tbody>\n",
       "    <tr>\n",
       "      <th>0</th>\n",
       "      <td>0</td>\n",
       "      <td>2018-04-01 00:00:00</td>\n",
       "      <td>2.465394</td>\n",
       "      <td>47.09201</td>\n",
       "      <td>53.2118</td>\n",
       "      <td>46.310760</td>\n",
       "      <td>634.3750</td>\n",
       "      <td>76.45975</td>\n",
       "      <td>13.41146</td>\n",
       "      <td>16.13136</td>\n",
       "      <td>...</td>\n",
       "      <td>41.92708</td>\n",
       "      <td>39.641200</td>\n",
       "      <td>65.68287</td>\n",
       "      <td>50.92593</td>\n",
       "      <td>38.194440</td>\n",
       "      <td>157.9861</td>\n",
       "      <td>67.70834</td>\n",
       "      <td>243.0556</td>\n",
       "      <td>201.3889</td>\n",
       "      <td>NORMAL</td>\n",
       "    </tr>\n",
       "    <tr>\n",
       "      <th>1</th>\n",
       "      <td>1</td>\n",
       "      <td>2018-04-01 00:01:00</td>\n",
       "      <td>2.465394</td>\n",
       "      <td>47.09201</td>\n",
       "      <td>53.2118</td>\n",
       "      <td>46.310760</td>\n",
       "      <td>634.3750</td>\n",
       "      <td>76.45975</td>\n",
       "      <td>13.41146</td>\n",
       "      <td>16.13136</td>\n",
       "      <td>...</td>\n",
       "      <td>41.92708</td>\n",
       "      <td>39.641200</td>\n",
       "      <td>65.68287</td>\n",
       "      <td>50.92593</td>\n",
       "      <td>38.194440</td>\n",
       "      <td>157.9861</td>\n",
       "      <td>67.70834</td>\n",
       "      <td>243.0556</td>\n",
       "      <td>201.3889</td>\n",
       "      <td>NORMAL</td>\n",
       "    </tr>\n",
       "    <tr>\n",
       "      <th>2</th>\n",
       "      <td>2</td>\n",
       "      <td>2018-04-01 00:02:00</td>\n",
       "      <td>2.444734</td>\n",
       "      <td>47.35243</td>\n",
       "      <td>53.2118</td>\n",
       "      <td>46.397570</td>\n",
       "      <td>638.8889</td>\n",
       "      <td>73.54598</td>\n",
       "      <td>13.32465</td>\n",
       "      <td>16.03733</td>\n",
       "      <td>...</td>\n",
       "      <td>41.66666</td>\n",
       "      <td>39.351852</td>\n",
       "      <td>65.39352</td>\n",
       "      <td>51.21528</td>\n",
       "      <td>38.194443</td>\n",
       "      <td>155.9606</td>\n",
       "      <td>67.12963</td>\n",
       "      <td>241.3194</td>\n",
       "      <td>203.7037</td>\n",
       "      <td>NORMAL</td>\n",
       "    </tr>\n",
       "    <tr>\n",
       "      <th>3</th>\n",
       "      <td>3</td>\n",
       "      <td>2018-04-01 00:03:00</td>\n",
       "      <td>2.460474</td>\n",
       "      <td>47.09201</td>\n",
       "      <td>53.1684</td>\n",
       "      <td>46.397568</td>\n",
       "      <td>628.1250</td>\n",
       "      <td>76.98898</td>\n",
       "      <td>13.31742</td>\n",
       "      <td>16.24711</td>\n",
       "      <td>...</td>\n",
       "      <td>40.88541</td>\n",
       "      <td>39.062500</td>\n",
       "      <td>64.81481</td>\n",
       "      <td>51.21528</td>\n",
       "      <td>38.194440</td>\n",
       "      <td>155.9606</td>\n",
       "      <td>66.84028</td>\n",
       "      <td>240.4514</td>\n",
       "      <td>203.1250</td>\n",
       "      <td>NORMAL</td>\n",
       "    </tr>\n",
       "    <tr>\n",
       "      <th>4</th>\n",
       "      <td>4</td>\n",
       "      <td>2018-04-01 00:04:00</td>\n",
       "      <td>2.445718</td>\n",
       "      <td>47.13541</td>\n",
       "      <td>53.2118</td>\n",
       "      <td>46.397568</td>\n",
       "      <td>636.4583</td>\n",
       "      <td>76.58897</td>\n",
       "      <td>13.35359</td>\n",
       "      <td>16.21094</td>\n",
       "      <td>...</td>\n",
       "      <td>41.40625</td>\n",
       "      <td>38.773150</td>\n",
       "      <td>65.10416</td>\n",
       "      <td>51.79398</td>\n",
       "      <td>38.773150</td>\n",
       "      <td>158.2755</td>\n",
       "      <td>66.55093</td>\n",
       "      <td>242.1875</td>\n",
       "      <td>201.3889</td>\n",
       "      <td>NORMAL</td>\n",
       "    </tr>\n",
       "  </tbody>\n",
       "</table>\n",
       "<p>5 rows × 55 columns</p>\n",
       "</div>"
      ],
      "text/plain": [
       "   Unnamed: 0            timestamp  sensor_00  sensor_01  sensor_02  \\\n",
       "0           0  2018-04-01 00:00:00   2.465394   47.09201    53.2118   \n",
       "1           1  2018-04-01 00:01:00   2.465394   47.09201    53.2118   \n",
       "2           2  2018-04-01 00:02:00   2.444734   47.35243    53.2118   \n",
       "3           3  2018-04-01 00:03:00   2.460474   47.09201    53.1684   \n",
       "4           4  2018-04-01 00:04:00   2.445718   47.13541    53.2118   \n",
       "\n",
       "   sensor_03  sensor_04  sensor_05  sensor_06  sensor_07  ...  sensor_43  \\\n",
       "0  46.310760   634.3750   76.45975   13.41146   16.13136  ...   41.92708   \n",
       "1  46.310760   634.3750   76.45975   13.41146   16.13136  ...   41.92708   \n",
       "2  46.397570   638.8889   73.54598   13.32465   16.03733  ...   41.66666   \n",
       "3  46.397568   628.1250   76.98898   13.31742   16.24711  ...   40.88541   \n",
       "4  46.397568   636.4583   76.58897   13.35359   16.21094  ...   41.40625   \n",
       "\n",
       "   sensor_44  sensor_45  sensor_46  sensor_47  sensor_48  sensor_49  \\\n",
       "0  39.641200   65.68287   50.92593  38.194440   157.9861   67.70834   \n",
       "1  39.641200   65.68287   50.92593  38.194440   157.9861   67.70834   \n",
       "2  39.351852   65.39352   51.21528  38.194443   155.9606   67.12963   \n",
       "3  39.062500   64.81481   51.21528  38.194440   155.9606   66.84028   \n",
       "4  38.773150   65.10416   51.79398  38.773150   158.2755   66.55093   \n",
       "\n",
       "   sensor_50  sensor_51  machine_status  \n",
       "0   243.0556   201.3889          NORMAL  \n",
       "1   243.0556   201.3889          NORMAL  \n",
       "2   241.3194   203.7037          NORMAL  \n",
       "3   240.4514   203.1250          NORMAL  \n",
       "4   242.1875   201.3889          NORMAL  \n",
       "\n",
       "[5 rows x 55 columns]"
      ]
     },
     "execution_count": 3,
     "metadata": {},
     "output_type": "execute_result"
    }
   ],
   "source": [
    "df.head()"
   ]
  },
  {
   "cell_type": "code",
   "execution_count": 4,
   "id": "x-Km-WJ4jEhU",
   "metadata": {
    "colab": {
     "base_uri": "https://localhost:8080/"
    },
    "id": "x-Km-WJ4jEhU",
    "outputId": "7355497c-6bae-4d7b-c6a0-e92a21e8a89b"
   },
   "outputs": [
    {
     "data": {
      "text/plain": [
       "(220320, 55)"
      ]
     },
     "execution_count": 4,
     "metadata": {},
     "output_type": "execute_result"
    }
   ],
   "source": [
    "df.shape"
   ]
  },
  {
   "cell_type": "code",
   "execution_count": 5,
   "id": "d93d79f5",
   "metadata": {},
   "outputs": [
    {
     "data": {
      "text/plain": [
       "True"
      ]
     },
     "execution_count": 5,
     "metadata": {},
     "output_type": "execute_result"
    }
   ],
   "source": [
    "df.isnull().values.any()"
   ]
  },
  {
   "cell_type": "code",
   "execution_count": 6,
   "id": "3veDIdPBjEpT",
   "metadata": {
    "colab": {
     "base_uri": "https://localhost:8080/"
    },
    "id": "3veDIdPBjEpT",
    "outputId": "c61688eb-8261-4d74-a09e-9f71f810c956"
   },
   "outputs": [
    {
     "name": "stdout",
     "output_type": "stream",
     "text": [
      "<class 'pandas.core.frame.DataFrame'>\n",
      "RangeIndex: 220320 entries, 0 to 220319\n",
      "Data columns (total 55 columns):\n",
      " #   Column          Non-Null Count   Dtype  \n",
      "---  ------          --------------   -----  \n",
      " 0   Unnamed: 0      220320 non-null  int64  \n",
      " 1   timestamp       220320 non-null  object \n",
      " 2   sensor_00       210112 non-null  float64\n",
      " 3   sensor_01       219951 non-null  float64\n",
      " 4   sensor_02       220301 non-null  float64\n",
      " 5   sensor_03       220301 non-null  float64\n",
      " 6   sensor_04       220301 non-null  float64\n",
      " 7   sensor_05       220301 non-null  float64\n",
      " 8   sensor_06       215522 non-null  float64\n",
      " 9   sensor_07       214869 non-null  float64\n",
      " 10  sensor_08       215213 non-null  float64\n",
      " 11  sensor_09       215725 non-null  float64\n",
      " 12  sensor_10       220301 non-null  float64\n",
      " 13  sensor_11       220301 non-null  float64\n",
      " 14  sensor_12       220301 non-null  float64\n",
      " 15  sensor_13       220301 non-null  float64\n",
      " 16  sensor_14       220299 non-null  float64\n",
      " 17  sensor_15       0 non-null       float64\n",
      " 18  sensor_16       220289 non-null  float64\n",
      " 19  sensor_17       220274 non-null  float64\n",
      " 20  sensor_18       220274 non-null  float64\n",
      " 21  sensor_19       220304 non-null  float64\n",
      " 22  sensor_20       220304 non-null  float64\n",
      " 23  sensor_21       220304 non-null  float64\n",
      " 24  sensor_22       220279 non-null  float64\n",
      " 25  sensor_23       220304 non-null  float64\n",
      " 26  sensor_24       220304 non-null  float64\n",
      " 27  sensor_25       220284 non-null  float64\n",
      " 28  sensor_26       220300 non-null  float64\n",
      " 29  sensor_27       220304 non-null  float64\n",
      " 30  sensor_28       220304 non-null  float64\n",
      " 31  sensor_29       220248 non-null  float64\n",
      " 32  sensor_30       220059 non-null  float64\n",
      " 33  sensor_31       220304 non-null  float64\n",
      " 34  sensor_32       220252 non-null  float64\n",
      " 35  sensor_33       220304 non-null  float64\n",
      " 36  sensor_34       220304 non-null  float64\n",
      " 37  sensor_35       220304 non-null  float64\n",
      " 38  sensor_36       220304 non-null  float64\n",
      " 39  sensor_37       220304 non-null  float64\n",
      " 40  sensor_38       220293 non-null  float64\n",
      " 41  sensor_39       220293 non-null  float64\n",
      " 42  sensor_40       220293 non-null  float64\n",
      " 43  sensor_41       220293 non-null  float64\n",
      " 44  sensor_42       220293 non-null  float64\n",
      " 45  sensor_43       220293 non-null  float64\n",
      " 46  sensor_44       220293 non-null  float64\n",
      " 47  sensor_45       220293 non-null  float64\n",
      " 48  sensor_46       220293 non-null  float64\n",
      " 49  sensor_47       220293 non-null  float64\n",
      " 50  sensor_48       220293 non-null  float64\n",
      " 51  sensor_49       220293 non-null  float64\n",
      " 52  sensor_50       143303 non-null  float64\n",
      " 53  sensor_51       204937 non-null  float64\n",
      " 54  machine_status  220320 non-null  object \n",
      "dtypes: float64(52), int64(1), object(2)\n",
      "memory usage: 92.5+ MB\n"
     ]
    }
   ],
   "source": [
    "df.info()"
   ]
  },
  {
   "cell_type": "code",
   "execution_count": 7,
   "id": "vCf09cjmZECP",
   "metadata": {
    "colab": {
     "base_uri": "https://localhost:8080/"
    },
    "id": "vCf09cjmZECP",
    "outputId": "b400a53b-7b3c-4dd7-d572-88c7b30646ec"
   },
   "outputs": [
    {
     "data": {
      "text/plain": [
       "0"
      ]
     },
     "execution_count": 7,
     "metadata": {},
     "output_type": "execute_result"
    }
   ],
   "source": [
    "sum(df.duplicated())"
   ]
  },
  {
   "cell_type": "code",
   "execution_count": 23,
   "id": "49346218",
   "metadata": {},
   "outputs": [],
   "source": [
    "df.drop(columns = 'timestamp',  inplace = True)"
   ]
  },
  {
   "cell_type": "code",
   "execution_count": 24,
   "id": "e31ca978",
   "metadata": {},
   "outputs": [
    {
     "data": {
      "text/html": [
       "<div>\n",
       "<style scoped>\n",
       "    .dataframe tbody tr th:only-of-type {\n",
       "        vertical-align: middle;\n",
       "    }\n",
       "\n",
       "    .dataframe tbody tr th {\n",
       "        vertical-align: top;\n",
       "    }\n",
       "\n",
       "    .dataframe thead th {\n",
       "        text-align: right;\n",
       "    }\n",
       "</style>\n",
       "<table border=\"1\" class=\"dataframe\">\n",
       "  <thead>\n",
       "    <tr style=\"text-align: right;\">\n",
       "      <th></th>\n",
       "      <th>Unnamed: 0</th>\n",
       "      <th>sensor_00</th>\n",
       "      <th>sensor_01</th>\n",
       "      <th>sensor_02</th>\n",
       "      <th>sensor_03</th>\n",
       "      <th>sensor_04</th>\n",
       "      <th>sensor_05</th>\n",
       "      <th>sensor_06</th>\n",
       "      <th>sensor_07</th>\n",
       "      <th>sensor_08</th>\n",
       "      <th>...</th>\n",
       "      <th>sensor_42</th>\n",
       "      <th>sensor_43</th>\n",
       "      <th>sensor_44</th>\n",
       "      <th>sensor_45</th>\n",
       "      <th>sensor_46</th>\n",
       "      <th>sensor_47</th>\n",
       "      <th>sensor_48</th>\n",
       "      <th>sensor_49</th>\n",
       "      <th>sensor_50</th>\n",
       "      <th>sensor_51</th>\n",
       "    </tr>\n",
       "  </thead>\n",
       "  <tbody>\n",
       "    <tr>\n",
       "      <th>count</th>\n",
       "      <td>220320.000000</td>\n",
       "      <td>220320.000000</td>\n",
       "      <td>220320.000000</td>\n",
       "      <td>220320.000000</td>\n",
       "      <td>220320.000000</td>\n",
       "      <td>220320.000000</td>\n",
       "      <td>220320.000000</td>\n",
       "      <td>220320.000000</td>\n",
       "      <td>220320.000000</td>\n",
       "      <td>220320.000000</td>\n",
       "      <td>...</td>\n",
       "      <td>220320.000000</td>\n",
       "      <td>220320.000000</td>\n",
       "      <td>220320.000000</td>\n",
       "      <td>220320.000000</td>\n",
       "      <td>220320.000000</td>\n",
       "      <td>220320.000000</td>\n",
       "      <td>220320.000000</td>\n",
       "      <td>220320.000000</td>\n",
       "      <td>220320.000000</td>\n",
       "      <td>220320.000000</td>\n",
       "    </tr>\n",
       "    <tr>\n",
       "      <th>mean</th>\n",
       "      <td>110159.500000</td>\n",
       "      <td>2.376127</td>\n",
       "      <td>47.592519</td>\n",
       "      <td>50.867460</td>\n",
       "      <td>43.752522</td>\n",
       "      <td>590.677555</td>\n",
       "      <td>73.396602</td>\n",
       "      <td>13.504617</td>\n",
       "      <td>15.851177</td>\n",
       "      <td>15.207538</td>\n",
       "      <td>...</td>\n",
       "      <td>35.453419</td>\n",
       "      <td>43.879479</td>\n",
       "      <td>42.656614</td>\n",
       "      <td>43.094632</td>\n",
       "      <td>48.018197</td>\n",
       "      <td>44.340682</td>\n",
       "      <td>150.887467</td>\n",
       "      <td>57.119422</td>\n",
       "      <td>186.830350</td>\n",
       "      <td>202.325309</td>\n",
       "    </tr>\n",
       "    <tr>\n",
       "      <th>std</th>\n",
       "      <td>63601.049991</td>\n",
       "      <td>0.402954</td>\n",
       "      <td>3.293978</td>\n",
       "      <td>3.666669</td>\n",
       "      <td>2.418786</td>\n",
       "      <td>144.018229</td>\n",
       "      <td>17.297513</td>\n",
       "      <td>2.140146</td>\n",
       "      <td>2.174339</td>\n",
       "      <td>2.014125</td>\n",
       "      <td>...</td>\n",
       "      <td>10.258893</td>\n",
       "      <td>11.043732</td>\n",
       "      <td>11.575670</td>\n",
       "      <td>12.836773</td>\n",
       "      <td>15.640364</td>\n",
       "      <td>10.441816</td>\n",
       "      <td>82.240040</td>\n",
       "      <td>19.142488</td>\n",
       "      <td>52.882704</td>\n",
       "      <td>105.702400</td>\n",
       "    </tr>\n",
       "    <tr>\n",
       "      <th>min</th>\n",
       "      <td>0.000000</td>\n",
       "      <td>0.000000</td>\n",
       "      <td>0.000000</td>\n",
       "      <td>33.159720</td>\n",
       "      <td>31.640620</td>\n",
       "      <td>2.798032</td>\n",
       "      <td>0.000000</td>\n",
       "      <td>0.014468</td>\n",
       "      <td>0.000000</td>\n",
       "      <td>0.028935</td>\n",
       "      <td>...</td>\n",
       "      <td>22.135416</td>\n",
       "      <td>24.479166</td>\n",
       "      <td>25.752316</td>\n",
       "      <td>26.331018</td>\n",
       "      <td>26.331018</td>\n",
       "      <td>27.199070</td>\n",
       "      <td>26.331018</td>\n",
       "      <td>26.620370</td>\n",
       "      <td>27.488426</td>\n",
       "      <td>27.777779</td>\n",
       "    </tr>\n",
       "    <tr>\n",
       "      <th>25%</th>\n",
       "      <td>55079.750000</td>\n",
       "      <td>2.443750</td>\n",
       "      <td>46.310760</td>\n",
       "      <td>50.390620</td>\n",
       "      <td>42.838539</td>\n",
       "      <td>626.620400</td>\n",
       "      <td>69.977213</td>\n",
       "      <td>13.346350</td>\n",
       "      <td>15.914350</td>\n",
       "      <td>15.183740</td>\n",
       "      <td>...</td>\n",
       "      <td>32.812500</td>\n",
       "      <td>39.583330</td>\n",
       "      <td>36.747684</td>\n",
       "      <td>36.747684</td>\n",
       "      <td>40.509258</td>\n",
       "      <td>39.062500</td>\n",
       "      <td>83.912030</td>\n",
       "      <td>47.743060</td>\n",
       "      <td>182.581000</td>\n",
       "      <td>180.555600</td>\n",
       "    </tr>\n",
       "    <tr>\n",
       "      <th>50%</th>\n",
       "      <td>110159.500000</td>\n",
       "      <td>2.456539</td>\n",
       "      <td>48.133678</td>\n",
       "      <td>51.649300</td>\n",
       "      <td>44.227428</td>\n",
       "      <td>632.638916</td>\n",
       "      <td>75.576790</td>\n",
       "      <td>13.642940</td>\n",
       "      <td>16.167530</td>\n",
       "      <td>15.494790</td>\n",
       "      <td>...</td>\n",
       "      <td>35.156250</td>\n",
       "      <td>42.968750</td>\n",
       "      <td>40.509260</td>\n",
       "      <td>40.219910</td>\n",
       "      <td>44.849540</td>\n",
       "      <td>42.534720</td>\n",
       "      <td>138.020800</td>\n",
       "      <td>52.662040</td>\n",
       "      <td>193.865700</td>\n",
       "      <td>197.338000</td>\n",
       "    </tr>\n",
       "    <tr>\n",
       "      <th>75%</th>\n",
       "      <td>165239.250000</td>\n",
       "      <td>2.499826</td>\n",
       "      <td>49.479160</td>\n",
       "      <td>52.777770</td>\n",
       "      <td>45.312500</td>\n",
       "      <td>637.615723</td>\n",
       "      <td>80.911770</td>\n",
       "      <td>14.539930</td>\n",
       "      <td>16.427950</td>\n",
       "      <td>15.697340</td>\n",
       "      <td>...</td>\n",
       "      <td>36.979164</td>\n",
       "      <td>46.614580</td>\n",
       "      <td>45.138890</td>\n",
       "      <td>44.849540</td>\n",
       "      <td>51.215280</td>\n",
       "      <td>46.585650</td>\n",
       "      <td>208.333300</td>\n",
       "      <td>60.763890</td>\n",
       "      <td>204.571800</td>\n",
       "      <td>214.699100</td>\n",
       "    </tr>\n",
       "    <tr>\n",
       "      <th>max</th>\n",
       "      <td>220319.000000</td>\n",
       "      <td>2.549016</td>\n",
       "      <td>56.727430</td>\n",
       "      <td>56.032990</td>\n",
       "      <td>48.220490</td>\n",
       "      <td>800.000000</td>\n",
       "      <td>99.999880</td>\n",
       "      <td>22.251160</td>\n",
       "      <td>23.596640</td>\n",
       "      <td>24.348960</td>\n",
       "      <td>...</td>\n",
       "      <td>374.218800</td>\n",
       "      <td>408.593700</td>\n",
       "      <td>1000.000000</td>\n",
       "      <td>320.312500</td>\n",
       "      <td>370.370400</td>\n",
       "      <td>303.530100</td>\n",
       "      <td>561.632000</td>\n",
       "      <td>464.409700</td>\n",
       "      <td>1000.000000</td>\n",
       "      <td>1000.000000</td>\n",
       "    </tr>\n",
       "  </tbody>\n",
       "</table>\n",
       "<p>8 rows × 53 columns</p>\n",
       "</div>"
      ],
      "text/plain": [
       "          Unnamed: 0      sensor_00      sensor_01      sensor_02  \\\n",
       "count  220320.000000  220320.000000  220320.000000  220320.000000   \n",
       "mean   110159.500000       2.376127      47.592519      50.867460   \n",
       "std     63601.049991       0.402954       3.293978       3.666669   \n",
       "min         0.000000       0.000000       0.000000      33.159720   \n",
       "25%     55079.750000       2.443750      46.310760      50.390620   \n",
       "50%    110159.500000       2.456539      48.133678      51.649300   \n",
       "75%    165239.250000       2.499826      49.479160      52.777770   \n",
       "max    220319.000000       2.549016      56.727430      56.032990   \n",
       "\n",
       "           sensor_03      sensor_04      sensor_05      sensor_06  \\\n",
       "count  220320.000000  220320.000000  220320.000000  220320.000000   \n",
       "mean       43.752522     590.677555      73.396602      13.504617   \n",
       "std         2.418786     144.018229      17.297513       2.140146   \n",
       "min        31.640620       2.798032       0.000000       0.014468   \n",
       "25%        42.838539     626.620400      69.977213      13.346350   \n",
       "50%        44.227428     632.638916      75.576790      13.642940   \n",
       "75%        45.312500     637.615723      80.911770      14.539930   \n",
       "max        48.220490     800.000000      99.999880      22.251160   \n",
       "\n",
       "           sensor_07      sensor_08  ...      sensor_42      sensor_43  \\\n",
       "count  220320.000000  220320.000000  ...  220320.000000  220320.000000   \n",
       "mean       15.851177      15.207538  ...      35.453419      43.879479   \n",
       "std         2.174339       2.014125  ...      10.258893      11.043732   \n",
       "min         0.000000       0.028935  ...      22.135416      24.479166   \n",
       "25%        15.914350      15.183740  ...      32.812500      39.583330   \n",
       "50%        16.167530      15.494790  ...      35.156250      42.968750   \n",
       "75%        16.427950      15.697340  ...      36.979164      46.614580   \n",
       "max        23.596640      24.348960  ...     374.218800     408.593700   \n",
       "\n",
       "           sensor_44      sensor_45      sensor_46      sensor_47  \\\n",
       "count  220320.000000  220320.000000  220320.000000  220320.000000   \n",
       "mean       42.656614      43.094632      48.018197      44.340682   \n",
       "std        11.575670      12.836773      15.640364      10.441816   \n",
       "min        25.752316      26.331018      26.331018      27.199070   \n",
       "25%        36.747684      36.747684      40.509258      39.062500   \n",
       "50%        40.509260      40.219910      44.849540      42.534720   \n",
       "75%        45.138890      44.849540      51.215280      46.585650   \n",
       "max      1000.000000     320.312500     370.370400     303.530100   \n",
       "\n",
       "           sensor_48      sensor_49      sensor_50      sensor_51  \n",
       "count  220320.000000  220320.000000  220320.000000  220320.000000  \n",
       "mean      150.887467      57.119422     186.830350     202.325309  \n",
       "std        82.240040      19.142488      52.882704     105.702400  \n",
       "min        26.331018      26.620370      27.488426      27.777779  \n",
       "25%        83.912030      47.743060     182.581000     180.555600  \n",
       "50%       138.020800      52.662040     193.865700     197.338000  \n",
       "75%       208.333300      60.763890     204.571800     214.699100  \n",
       "max       561.632000     464.409700    1000.000000    1000.000000  \n",
       "\n",
       "[8 rows x 53 columns]"
      ]
     },
     "execution_count": 24,
     "metadata": {},
     "output_type": "execute_result"
    }
   ],
   "source": [
    "df.describe()"
   ]
  },
  {
   "cell_type": "code",
   "execution_count": 25,
   "id": "Z4Ss1sJAjMqD",
   "metadata": {
    "colab": {
     "base_uri": "https://localhost:8080/"
    },
    "id": "Z4Ss1sJAjMqD",
    "outputId": "0009b8dd-6aa3-4260-f3cc-e3dadf68d5c5",
    "scrolled": true
   },
   "outputs": [
    {
     "data": {
      "text/plain": [
       "Unnamed: 0             0\n",
       "sensor_00              0\n",
       "sensor_01              0\n",
       "sensor_02              0\n",
       "sensor_03              0\n",
       "sensor_04              0\n",
       "sensor_05              0\n",
       "sensor_06              0\n",
       "sensor_07              0\n",
       "sensor_08              0\n",
       "sensor_09              0\n",
       "sensor_10              0\n",
       "sensor_11              0\n",
       "sensor_12              0\n",
       "sensor_13              0\n",
       "sensor_14              0\n",
       "sensor_15         220320\n",
       "sensor_16              0\n",
       "sensor_17              0\n",
       "sensor_18              0\n",
       "sensor_19              0\n",
       "sensor_20              0\n",
       "sensor_21              0\n",
       "sensor_22              0\n",
       "sensor_23              0\n",
       "sensor_24              0\n",
       "sensor_25              0\n",
       "sensor_26              0\n",
       "sensor_27              0\n",
       "sensor_28              0\n",
       "sensor_29              0\n",
       "sensor_30              0\n",
       "sensor_31              0\n",
       "sensor_32              0\n",
       "sensor_33              0\n",
       "sensor_34              0\n",
       "sensor_35              0\n",
       "sensor_36              0\n",
       "sensor_37              0\n",
       "sensor_38              0\n",
       "sensor_39              0\n",
       "sensor_40              0\n",
       "sensor_41              0\n",
       "sensor_42              0\n",
       "sensor_43              0\n",
       "sensor_44              0\n",
       "sensor_45              0\n",
       "sensor_46              0\n",
       "sensor_47              0\n",
       "sensor_48              0\n",
       "sensor_49              0\n",
       "sensor_50              0\n",
       "sensor_51              0\n",
       "machine_status         0\n",
       "dtype: int64"
      ]
     },
     "execution_count": 25,
     "metadata": {},
     "output_type": "execute_result"
    }
   ],
   "source": [
    "df.isnull().sum()"
   ]
  },
  {
   "cell_type": "code",
   "execution_count": 26,
   "id": "stOQMufU7b2w",
   "metadata": {
    "colab": {
     "base_uri": "https://localhost:8080/"
    },
    "id": "stOQMufU7b2w",
    "outputId": "8bf5feb5-dc76-489e-f0cf-db5ff5142438"
   },
   "outputs": [
    {
     "data": {
      "text/plain": [
       "Unnamed: 0          0.0\n",
       "sensor_00           0.0\n",
       "sensor_01           0.0\n",
       "sensor_02           0.0\n",
       "sensor_03           0.0\n",
       "sensor_04           0.0\n",
       "sensor_05           0.0\n",
       "sensor_06           0.0\n",
       "sensor_07           0.0\n",
       "sensor_08           0.0\n",
       "sensor_09           0.0\n",
       "sensor_10           0.0\n",
       "sensor_11           0.0\n",
       "sensor_12           0.0\n",
       "sensor_13           0.0\n",
       "sensor_14           0.0\n",
       "sensor_15         100.0\n",
       "sensor_16           0.0\n",
       "sensor_17           0.0\n",
       "sensor_18           0.0\n",
       "sensor_19           0.0\n",
       "sensor_20           0.0\n",
       "sensor_21           0.0\n",
       "sensor_22           0.0\n",
       "sensor_23           0.0\n",
       "sensor_24           0.0\n",
       "sensor_25           0.0\n",
       "sensor_26           0.0\n",
       "sensor_27           0.0\n",
       "sensor_28           0.0\n",
       "sensor_29           0.0\n",
       "sensor_30           0.0\n",
       "sensor_31           0.0\n",
       "sensor_32           0.0\n",
       "sensor_33           0.0\n",
       "sensor_34           0.0\n",
       "sensor_35           0.0\n",
       "sensor_36           0.0\n",
       "sensor_37           0.0\n",
       "sensor_38           0.0\n",
       "sensor_39           0.0\n",
       "sensor_40           0.0\n",
       "sensor_41           0.0\n",
       "sensor_42           0.0\n",
       "sensor_43           0.0\n",
       "sensor_44           0.0\n",
       "sensor_45           0.0\n",
       "sensor_46           0.0\n",
       "sensor_47           0.0\n",
       "sensor_48           0.0\n",
       "sensor_49           0.0\n",
       "sensor_50           0.0\n",
       "sensor_51           0.0\n",
       "machine_status      0.0\n",
       "dtype: float64"
      ]
     },
     "execution_count": 26,
     "metadata": {},
     "output_type": "execute_result"
    }
   ],
   "source": [
    "df.isnull().sum()/df.shape[0]*100"
   ]
  },
  {
   "cell_type": "code",
   "execution_count": 27,
   "id": "Nz_QXlDJjO6M",
   "metadata": {
    "colab": {
     "base_uri": "https://localhost:8080/"
    },
    "id": "Nz_QXlDJjO6M",
    "outputId": "b18ce595-ef6b-4c5c-88d9-4cc831068d30"
   },
   "outputs": [
    {
     "data": {
      "text/plain": [
       "Unnamed: 0         0\n",
       "sensor_00          0\n",
       "sensor_01          0\n",
       "sensor_02          0\n",
       "sensor_03          0\n",
       "sensor_04          0\n",
       "sensor_05          0\n",
       "sensor_06          0\n",
       "sensor_07          0\n",
       "sensor_08          0\n",
       "sensor_09          0\n",
       "sensor_10          0\n",
       "sensor_11          0\n",
       "sensor_12          0\n",
       "sensor_13          0\n",
       "sensor_14          0\n",
       "sensor_15     220320\n",
       "sensor_16          0\n",
       "sensor_17          0\n",
       "sensor_18          0\n",
       "sensor_19          0\n",
       "sensor_20          0\n",
       "sensor_21          0\n",
       "sensor_22          0\n",
       "sensor_23          0\n",
       "sensor_24          0\n",
       "sensor_25          0\n",
       "sensor_26          0\n",
       "sensor_27          0\n",
       "sensor_28          0\n",
       "sensor_29          0\n",
       "sensor_30          0\n",
       "sensor_31          0\n",
       "sensor_32          0\n",
       "sensor_33          0\n",
       "sensor_34          0\n",
       "sensor_35          0\n",
       "sensor_36          0\n",
       "sensor_37          0\n",
       "sensor_38          0\n",
       "sensor_39          0\n",
       "sensor_40          0\n",
       "sensor_41          0\n",
       "sensor_42          0\n",
       "sensor_43          0\n",
       "sensor_44          0\n",
       "sensor_45          0\n",
       "sensor_46          0\n",
       "sensor_47          0\n",
       "sensor_48          0\n",
       "sensor_49          0\n",
       "sensor_50          0\n",
       "sensor_51          0\n",
       "dtype: int64"
      ]
     },
     "execution_count": 27,
     "metadata": {},
     "output_type": "execute_result"
    }
   ],
   "source": [
    "df.select_dtypes(include=(['int64', 'float64'])).isna().sum()\n",
    "df_num_col = df.select_dtypes(include=(['int64', 'float64'])).columns\n",
    "for c in df_num_col:\n",
    "    df[c].fillna(df[c].median(), inplace=True)\n",
    "\n",
    "df.select_dtypes(include=(['int64', 'float64'])).isna().sum()"
   ]
  },
  {
   "cell_type": "code",
   "execution_count": 28,
   "id": "uu67pp8ZNn3m",
   "metadata": {
    "colab": {
     "base_uri": "https://localhost:8080/"
    },
    "id": "uu67pp8ZNn3m",
    "outputId": "a3980a6e-7140-4feb-a628-2a745e6105b1"
   },
   "outputs": [
    {
     "data": {
      "text/plain": [
       "machine_status    0\n",
       "dtype: int64"
      ]
     },
     "execution_count": 28,
     "metadata": {},
     "output_type": "execute_result"
    }
   ],
   "source": [
    "df.select_dtypes(include=('object')).isna().sum()\n",
    "df_cat_col = df.select_dtypes(include=('object')).columns\n",
    "for c in df_cat_col:\n",
    "    df[c].fillna(df[c].mode().values[0], inplace=True)\n",
    "    \n",
    "df.select_dtypes(include=('object')).isna().sum()"
   ]
  },
  {
   "cell_type": "code",
   "execution_count": 29,
   "id": "0ToJoDfAjtlU",
   "metadata": {
    "colab": {
     "base_uri": "https://localhost:8080/"
    },
    "id": "0ToJoDfAjtlU",
    "outputId": "2a076769-a0df-46fa-b275-eaffa741b8fc",
    "scrolled": true
   },
   "outputs": [
    {
     "data": {
      "text/plain": [
       "Unnamed: 0             0\n",
       "sensor_00              0\n",
       "sensor_01              0\n",
       "sensor_02              0\n",
       "sensor_03              0\n",
       "sensor_04              0\n",
       "sensor_05              0\n",
       "sensor_06              0\n",
       "sensor_07              0\n",
       "sensor_08              0\n",
       "sensor_09              0\n",
       "sensor_10              0\n",
       "sensor_11              0\n",
       "sensor_12              0\n",
       "sensor_13              0\n",
       "sensor_14              0\n",
       "sensor_15         220320\n",
       "sensor_16              0\n",
       "sensor_17              0\n",
       "sensor_18              0\n",
       "sensor_19              0\n",
       "sensor_20              0\n",
       "sensor_21              0\n",
       "sensor_22              0\n",
       "sensor_23              0\n",
       "sensor_24              0\n",
       "sensor_25              0\n",
       "sensor_26              0\n",
       "sensor_27              0\n",
       "sensor_28              0\n",
       "sensor_29              0\n",
       "sensor_30              0\n",
       "sensor_31              0\n",
       "sensor_32              0\n",
       "sensor_33              0\n",
       "sensor_34              0\n",
       "sensor_35              0\n",
       "sensor_36              0\n",
       "sensor_37              0\n",
       "sensor_38              0\n",
       "sensor_39              0\n",
       "sensor_40              0\n",
       "sensor_41              0\n",
       "sensor_42              0\n",
       "sensor_43              0\n",
       "sensor_44              0\n",
       "sensor_45              0\n",
       "sensor_46              0\n",
       "sensor_47              0\n",
       "sensor_48              0\n",
       "sensor_49              0\n",
       "sensor_50              0\n",
       "sensor_51              0\n",
       "machine_status         0\n",
       "dtype: int64"
      ]
     },
     "execution_count": 29,
     "metadata": {},
     "output_type": "execute_result"
    }
   ],
   "source": [
    "df.isnull().sum()"
   ]
  },
  {
   "cell_type": "code",
   "execution_count": 43,
   "id": "2db70d55",
   "metadata": {},
   "outputs": [],
   "source": [
    "df.drop(columns = 'sensor_15',  inplace = True)"
   ]
  },
  {
   "cell_type": "code",
   "execution_count": 44,
   "id": "MNtHyiE3kAX4",
   "metadata": {
    "id": "MNtHyiE3kAX4"
   },
   "outputs": [],
   "source": [
    "X = df.drop('machine_status', axis=1)\n",
    "y = df['machine_status']"
   ]
  },
  {
   "cell_type": "code",
   "execution_count": 45,
   "id": "BuEJK5YGlPdW",
   "metadata": {
    "id": "BuEJK5YGlPdW"
   },
   "outputs": [],
   "source": [
    "from sklearn.model_selection import train_test_split as tts\n",
    "\n",
    "X_train, X_test, y_train, y_test = tts(X, y, test_size = .3, random_state = 2022)"
   ]
  },
  {
   "cell_type": "code",
   "execution_count": 46,
   "id": "gmEv9dkH858i",
   "metadata": {
    "colab": {
     "base_uri": "https://localhost:8080/",
     "height": 424
    },
    "id": "gmEv9dkH858i",
    "outputId": "caebe8b6-1e84-4578-beb3-693ec30b48f7"
   },
   "outputs": [
    {
     "data": {
      "text/html": [
       "<div>\n",
       "<style scoped>\n",
       "    .dataframe tbody tr th:only-of-type {\n",
       "        vertical-align: middle;\n",
       "    }\n",
       "\n",
       "    .dataframe tbody tr th {\n",
       "        vertical-align: top;\n",
       "    }\n",
       "\n",
       "    .dataframe thead th {\n",
       "        text-align: right;\n",
       "    }\n",
       "</style>\n",
       "<table border=\"1\" class=\"dataframe\">\n",
       "  <thead>\n",
       "    <tr style=\"text-align: right;\">\n",
       "      <th></th>\n",
       "    </tr>\n",
       "  </thead>\n",
       "  <tbody>\n",
       "    <tr>\n",
       "      <th>176299</th>\n",
       "    </tr>\n",
       "    <tr>\n",
       "      <th>31719</th>\n",
       "    </tr>\n",
       "    <tr>\n",
       "      <th>37626</th>\n",
       "    </tr>\n",
       "    <tr>\n",
       "      <th>155023</th>\n",
       "    </tr>\n",
       "    <tr>\n",
       "      <th>140065</th>\n",
       "    </tr>\n",
       "    <tr>\n",
       "      <th>...</th>\n",
       "    </tr>\n",
       "    <tr>\n",
       "      <th>177841</th>\n",
       "    </tr>\n",
       "    <tr>\n",
       "      <th>103024</th>\n",
       "    </tr>\n",
       "    <tr>\n",
       "      <th>147629</th>\n",
       "    </tr>\n",
       "    <tr>\n",
       "      <th>1244</th>\n",
       "    </tr>\n",
       "    <tr>\n",
       "      <th>86909</th>\n",
       "    </tr>\n",
       "  </tbody>\n",
       "</table>\n",
       "<p>154224 rows × 0 columns</p>\n",
       "</div>"
      ],
      "text/plain": [
       "Empty DataFrame\n",
       "Columns: []\n",
       "Index: [176299, 31719, 37626, 155023, 140065, 13066, 78999, 210922, 213795, 68776, 103067, 162544, 79352, 93196, 186418, 175265, 42157, 31551, 125824, 189171, 142327, 188395, 100732, 191640, 95834, 193434, 8228, 136759, 199861, 150372, 95401, 151623, 119106, 145200, 25325, 202842, 90514, 99894, 133195, 205011, 74173, 94032, 160008, 41568, 166310, 120488, 114348, 110179, 68521, 153, 193272, 197511, 67023, 20459, 150942, 138315, 118990, 142540, 151677, 135470, 145937, 168229, 197920, 138264, 170811, 192234, 38431, 125268, 113430, 182927, 148334, 203562, 180125, 176844, 20766, 26219, 11815, 141537, 146353, 22669, 122018, 195315, 144051, 204376, 56305, 143526, 22525, 4191, 158989, 165640, 162170, 83345, 135891, 719, 203108, 18901, 12848, 48558, 52735, 53620, ...]\n",
       "\n",
       "[154224 rows x 0 columns]"
      ]
     },
     "execution_count": 46,
     "metadata": {},
     "output_type": "execute_result"
    }
   ],
   "source": [
    "# Break X_train in to 2 parts: X_train_cat, X_train_cont, same w/ X_test\n",
    "X_train_cat = X_train.select_dtypes(exclude='number')\n",
    "X_train_cat"
   ]
  },
  {
   "cell_type": "code",
   "execution_count": 47,
   "id": "BSShex_v-xPg",
   "metadata": {
    "colab": {
     "base_uri": "https://localhost:8080/",
     "height": 424
    },
    "id": "BSShex_v-xPg",
    "outputId": "62c1dbfe-09d7-4657-ed9c-debcb66f5b6d"
   },
   "outputs": [
    {
     "data": {
      "text/html": [
       "<div>\n",
       "<style scoped>\n",
       "    .dataframe tbody tr th:only-of-type {\n",
       "        vertical-align: middle;\n",
       "    }\n",
       "\n",
       "    .dataframe tbody tr th {\n",
       "        vertical-align: top;\n",
       "    }\n",
       "\n",
       "    .dataframe thead th {\n",
       "        text-align: right;\n",
       "    }\n",
       "</style>\n",
       "<table border=\"1\" class=\"dataframe\">\n",
       "  <thead>\n",
       "    <tr style=\"text-align: right;\">\n",
       "      <th></th>\n",
       "    </tr>\n",
       "  </thead>\n",
       "  <tbody>\n",
       "    <tr>\n",
       "      <th>2537</th>\n",
       "    </tr>\n",
       "    <tr>\n",
       "      <th>168862</th>\n",
       "    </tr>\n",
       "    <tr>\n",
       "      <th>130862</th>\n",
       "    </tr>\n",
       "    <tr>\n",
       "      <th>105410</th>\n",
       "    </tr>\n",
       "    <tr>\n",
       "      <th>218003</th>\n",
       "    </tr>\n",
       "    <tr>\n",
       "      <th>...</th>\n",
       "    </tr>\n",
       "    <tr>\n",
       "      <th>103142</th>\n",
       "    </tr>\n",
       "    <tr>\n",
       "      <th>1650</th>\n",
       "    </tr>\n",
       "    <tr>\n",
       "      <th>170925</th>\n",
       "    </tr>\n",
       "    <tr>\n",
       "      <th>56347</th>\n",
       "    </tr>\n",
       "    <tr>\n",
       "      <th>114430</th>\n",
       "    </tr>\n",
       "  </tbody>\n",
       "</table>\n",
       "<p>66096 rows × 0 columns</p>\n",
       "</div>"
      ],
      "text/plain": [
       "Empty DataFrame\n",
       "Columns: []\n",
       "Index: [2537, 168862, 130862, 105410, 218003, 126733, 121285, 183564, 45159, 6055, 184829, 205061, 116993, 111508, 21752, 184640, 178698, 160456, 182035, 93691, 216776, 47304, 15006, 117193, 84514, 218379, 38276, 145674, 145050, 162168, 168639, 10713, 64184, 205150, 10383, 88052, 176425, 185440, 128486, 181291, 119677, 171956, 98567, 74912, 151625, 56352, 174613, 186005, 23690, 81166, 163944, 187257, 33949, 56071, 846, 115804, 103973, 90124, 150772, 52515, 212610, 45435, 123913, 192555, 207273, 30880, 51860, 141244, 165389, 45825, 188346, 18689, 12240, 198246, 85976, 17172, 20679, 96754, 96094, 13162, 65858, 21700, 155459, 216657, 41980, 111989, 90441, 58107, 2448, 55044, 167679, 199878, 95074, 123725, 39165, 13313, 84753, 68428, 8273, 199959, ...]\n",
       "\n",
       "[66096 rows x 0 columns]"
      ]
     },
     "execution_count": 47,
     "metadata": {},
     "output_type": "execute_result"
    }
   ],
   "source": [
    "X_test_cat = X_test.select_dtypes(exclude='number')\n",
    "X_test_cat"
   ]
  },
  {
   "cell_type": "code",
   "execution_count": 48,
   "id": "90G5Xmi9-6oF",
   "metadata": {
    "colab": {
     "base_uri": "https://localhost:8080/",
     "height": 424
    },
    "id": "90G5Xmi9-6oF",
    "outputId": "e74cd28f-a1ad-4931-bf2a-5b890db18e89"
   },
   "outputs": [
    {
     "data": {
      "text/html": [
       "<div>\n",
       "<style scoped>\n",
       "    .dataframe tbody tr th:only-of-type {\n",
       "        vertical-align: middle;\n",
       "    }\n",
       "\n",
       "    .dataframe tbody tr th {\n",
       "        vertical-align: top;\n",
       "    }\n",
       "\n",
       "    .dataframe thead th {\n",
       "        text-align: right;\n",
       "    }\n",
       "</style>\n",
       "<table border=\"1\" class=\"dataframe\">\n",
       "  <thead>\n",
       "    <tr style=\"text-align: right;\">\n",
       "      <th></th>\n",
       "      <th>Unnamed: 0</th>\n",
       "      <th>sensor_00</th>\n",
       "      <th>sensor_01</th>\n",
       "      <th>sensor_02</th>\n",
       "      <th>sensor_03</th>\n",
       "      <th>sensor_04</th>\n",
       "      <th>sensor_05</th>\n",
       "      <th>sensor_06</th>\n",
       "      <th>sensor_07</th>\n",
       "      <th>sensor_08</th>\n",
       "      <th>...</th>\n",
       "      <th>sensor_42</th>\n",
       "      <th>sensor_43</th>\n",
       "      <th>sensor_44</th>\n",
       "      <th>sensor_45</th>\n",
       "      <th>sensor_46</th>\n",
       "      <th>sensor_47</th>\n",
       "      <th>sensor_48</th>\n",
       "      <th>sensor_49</th>\n",
       "      <th>sensor_50</th>\n",
       "      <th>sensor_51</th>\n",
       "    </tr>\n",
       "  </thead>\n",
       "  <tbody>\n",
       "    <tr>\n",
       "      <th>176299</th>\n",
       "      <td>176299</td>\n",
       "      <td>2.455556</td>\n",
       "      <td>49.088539</td>\n",
       "      <td>51.519096</td>\n",
       "      <td>44.487846</td>\n",
       "      <td>635.879639</td>\n",
       "      <td>74.08689</td>\n",
       "      <td>14.36632</td>\n",
       "      <td>16.65220</td>\n",
       "      <td>15.14757</td>\n",
       "      <td>...</td>\n",
       "      <td>35.416660</td>\n",
       "      <td>40.625000</td>\n",
       "      <td>42.245370</td>\n",
       "      <td>39.062500</td>\n",
       "      <td>50.63657</td>\n",
       "      <td>43.113430</td>\n",
       "      <td>311.05330</td>\n",
       "      <td>67.708340</td>\n",
       "      <td>193.8657</td>\n",
       "      <td>192.9977</td>\n",
       "    </tr>\n",
       "    <tr>\n",
       "      <th>31719</th>\n",
       "      <td>31719</td>\n",
       "      <td>2.405382</td>\n",
       "      <td>49.739580</td>\n",
       "      <td>54.644100</td>\n",
       "      <td>45.659721</td>\n",
       "      <td>646.759300</td>\n",
       "      <td>84.66326</td>\n",
       "      <td>13.50550</td>\n",
       "      <td>16.16753</td>\n",
       "      <td>15.65393</td>\n",
       "      <td>...</td>\n",
       "      <td>36.458330</td>\n",
       "      <td>50.781250</td>\n",
       "      <td>39.641200</td>\n",
       "      <td>38.773150</td>\n",
       "      <td>39.64120</td>\n",
       "      <td>42.245370</td>\n",
       "      <td>146.41200</td>\n",
       "      <td>52.083330</td>\n",
       "      <td>234.9537</td>\n",
       "      <td>195.0231</td>\n",
       "    </tr>\n",
       "    <tr>\n",
       "      <th>37626</th>\n",
       "      <td>37626</td>\n",
       "      <td>2.440799</td>\n",
       "      <td>45.789930</td>\n",
       "      <td>51.953120</td>\n",
       "      <td>43.446178</td>\n",
       "      <td>633.796300</td>\n",
       "      <td>85.01647</td>\n",
       "      <td>13.34635</td>\n",
       "      <td>16.13136</td>\n",
       "      <td>15.14757</td>\n",
       "      <td>...</td>\n",
       "      <td>30.208330</td>\n",
       "      <td>35.416664</td>\n",
       "      <td>38.194440</td>\n",
       "      <td>41.956020</td>\n",
       "      <td>41.95602</td>\n",
       "      <td>38.194443</td>\n",
       "      <td>205.72920</td>\n",
       "      <td>56.712960</td>\n",
       "      <td>230.0347</td>\n",
       "      <td>206.5972</td>\n",
       "    </tr>\n",
       "    <tr>\n",
       "      <th>155023</th>\n",
       "      <td>155023</td>\n",
       "      <td>1.518981</td>\n",
       "      <td>50.564240</td>\n",
       "      <td>49.479160</td>\n",
       "      <td>42.925350</td>\n",
       "      <td>448.165527</td>\n",
       "      <td>70.40844</td>\n",
       "      <td>13.79485</td>\n",
       "      <td>16.16030</td>\n",
       "      <td>15.73351</td>\n",
       "      <td>...</td>\n",
       "      <td>33.072910</td>\n",
       "      <td>41.406250</td>\n",
       "      <td>43.402780</td>\n",
       "      <td>59.895830</td>\n",
       "      <td>50.63657</td>\n",
       "      <td>59.895830</td>\n",
       "      <td>177.66200</td>\n",
       "      <td>55.266205</td>\n",
       "      <td>193.8657</td>\n",
       "      <td>247.6852</td>\n",
       "    </tr>\n",
       "    <tr>\n",
       "      <th>140065</th>\n",
       "      <td>140065</td>\n",
       "      <td>2.396528</td>\n",
       "      <td>43.359380</td>\n",
       "      <td>50.173611</td>\n",
       "      <td>42.404510</td>\n",
       "      <td>646.643600</td>\n",
       "      <td>83.12273</td>\n",
       "      <td>14.57610</td>\n",
       "      <td>16.12413</td>\n",
       "      <td>15.98669</td>\n",
       "      <td>...</td>\n",
       "      <td>36.458330</td>\n",
       "      <td>41.406250</td>\n",
       "      <td>54.687500</td>\n",
       "      <td>41.087960</td>\n",
       "      <td>50.63657</td>\n",
       "      <td>58.159720</td>\n",
       "      <td>137.15280</td>\n",
       "      <td>47.743057</td>\n",
       "      <td>216.1458</td>\n",
       "      <td>172.1644</td>\n",
       "    </tr>\n",
       "    <tr>\n",
       "      <th>...</th>\n",
       "      <td>...</td>\n",
       "      <td>...</td>\n",
       "      <td>...</td>\n",
       "      <td>...</td>\n",
       "      <td>...</td>\n",
       "      <td>...</td>\n",
       "      <td>...</td>\n",
       "      <td>...</td>\n",
       "      <td>...</td>\n",
       "      <td>...</td>\n",
       "      <td>...</td>\n",
       "      <td>...</td>\n",
       "      <td>...</td>\n",
       "      <td>...</td>\n",
       "      <td>...</td>\n",
       "      <td>...</td>\n",
       "      <td>...</td>\n",
       "      <td>...</td>\n",
       "      <td>...</td>\n",
       "      <td>...</td>\n",
       "      <td>...</td>\n",
       "    </tr>\n",
       "    <tr>\n",
       "      <th>177841</th>\n",
       "      <td>177841</td>\n",
       "      <td>2.486053</td>\n",
       "      <td>47.960068</td>\n",
       "      <td>51.736110</td>\n",
       "      <td>46.657986</td>\n",
       "      <td>635.185181</td>\n",
       "      <td>68.80727</td>\n",
       "      <td>14.57610</td>\n",
       "      <td>16.65220</td>\n",
       "      <td>15.65393</td>\n",
       "      <td>...</td>\n",
       "      <td>35.416660</td>\n",
       "      <td>49.218750</td>\n",
       "      <td>37.905090</td>\n",
       "      <td>40.219910</td>\n",
       "      <td>50.63657</td>\n",
       "      <td>43.692131</td>\n",
       "      <td>201.38890</td>\n",
       "      <td>51.793980</td>\n",
       "      <td>193.8657</td>\n",
       "      <td>175.3472</td>\n",
       "    </tr>\n",
       "    <tr>\n",
       "      <th>103024</th>\n",
       "      <td>103024</td>\n",
       "      <td>2.450637</td>\n",
       "      <td>49.913190</td>\n",
       "      <td>52.473960</td>\n",
       "      <td>44.053818</td>\n",
       "      <td>627.893600</td>\n",
       "      <td>71.50571</td>\n",
       "      <td>13.31742</td>\n",
       "      <td>15.58160</td>\n",
       "      <td>14.91609</td>\n",
       "      <td>...</td>\n",
       "      <td>38.020832</td>\n",
       "      <td>40.625000</td>\n",
       "      <td>37.905090</td>\n",
       "      <td>38.194443</td>\n",
       "      <td>49.76852</td>\n",
       "      <td>42.534720</td>\n",
       "      <td>80.72916</td>\n",
       "      <td>50.347220</td>\n",
       "      <td>177.9514</td>\n",
       "      <td>205.4398</td>\n",
       "    </tr>\n",
       "    <tr>\n",
       "      <th>147629</th>\n",
       "      <td>147629</td>\n",
       "      <td>2.497859</td>\n",
       "      <td>46.267360</td>\n",
       "      <td>49.652770</td>\n",
       "      <td>45.876736</td>\n",
       "      <td>638.078700</td>\n",
       "      <td>80.24606</td>\n",
       "      <td>13.31742</td>\n",
       "      <td>16.16030</td>\n",
       "      <td>15.29224</td>\n",
       "      <td>...</td>\n",
       "      <td>36.718750</td>\n",
       "      <td>54.427080</td>\n",
       "      <td>40.509258</td>\n",
       "      <td>38.773150</td>\n",
       "      <td>40.50926</td>\n",
       "      <td>41.087960</td>\n",
       "      <td>210.93750</td>\n",
       "      <td>53.530090</td>\n",
       "      <td>193.8657</td>\n",
       "      <td>173.9005</td>\n",
       "    </tr>\n",
       "    <tr>\n",
       "      <th>1244</th>\n",
       "      <td>1244</td>\n",
       "      <td>2.440799</td>\n",
       "      <td>46.527770</td>\n",
       "      <td>52.170140</td>\n",
       "      <td>44.444443</td>\n",
       "      <td>650.000000</td>\n",
       "      <td>79.61161</td>\n",
       "      <td>13.02807</td>\n",
       "      <td>16.16753</td>\n",
       "      <td>15.73351</td>\n",
       "      <td>...</td>\n",
       "      <td>31.250000</td>\n",
       "      <td>40.364580</td>\n",
       "      <td>41.956020</td>\n",
       "      <td>46.585650</td>\n",
       "      <td>39.35185</td>\n",
       "      <td>37.615742</td>\n",
       "      <td>192.99770</td>\n",
       "      <td>81.597220</td>\n",
       "      <td>240.1620</td>\n",
       "      <td>217.0139</td>\n",
       "    </tr>\n",
       "    <tr>\n",
       "      <th>86909</th>\n",
       "      <td>86909</td>\n",
       "      <td>2.459491</td>\n",
       "      <td>48.784721</td>\n",
       "      <td>54.079860</td>\n",
       "      <td>43.706600</td>\n",
       "      <td>623.263900</td>\n",
       "      <td>73.79274</td>\n",
       "      <td>13.64294</td>\n",
       "      <td>16.16753</td>\n",
       "      <td>15.49479</td>\n",
       "      <td>...</td>\n",
       "      <td>36.979160</td>\n",
       "      <td>42.968750</td>\n",
       "      <td>39.062500</td>\n",
       "      <td>39.351850</td>\n",
       "      <td>53.24074</td>\n",
       "      <td>43.113430</td>\n",
       "      <td>116.31940</td>\n",
       "      <td>57.581020</td>\n",
       "      <td>203.9931</td>\n",
       "      <td>217.3032</td>\n",
       "    </tr>\n",
       "  </tbody>\n",
       "</table>\n",
       "<p>154224 rows × 52 columns</p>\n",
       "</div>"
      ],
      "text/plain": [
       "        Unnamed: 0  sensor_00  sensor_01  sensor_02  sensor_03   sensor_04  \\\n",
       "176299      176299   2.455556  49.088539  51.519096  44.487846  635.879639   \n",
       "31719        31719   2.405382  49.739580  54.644100  45.659721  646.759300   \n",
       "37626        37626   2.440799  45.789930  51.953120  43.446178  633.796300   \n",
       "155023      155023   1.518981  50.564240  49.479160  42.925350  448.165527   \n",
       "140065      140065   2.396528  43.359380  50.173611  42.404510  646.643600   \n",
       "...            ...        ...        ...        ...        ...         ...   \n",
       "177841      177841   2.486053  47.960068  51.736110  46.657986  635.185181   \n",
       "103024      103024   2.450637  49.913190  52.473960  44.053818  627.893600   \n",
       "147629      147629   2.497859  46.267360  49.652770  45.876736  638.078700   \n",
       "1244          1244   2.440799  46.527770  52.170140  44.444443  650.000000   \n",
       "86909        86909   2.459491  48.784721  54.079860  43.706600  623.263900   \n",
       "\n",
       "        sensor_05  sensor_06  sensor_07  sensor_08  ...  sensor_42  sensor_43  \\\n",
       "176299   74.08689   14.36632   16.65220   15.14757  ...  35.416660  40.625000   \n",
       "31719    84.66326   13.50550   16.16753   15.65393  ...  36.458330  50.781250   \n",
       "37626    85.01647   13.34635   16.13136   15.14757  ...  30.208330  35.416664   \n",
       "155023   70.40844   13.79485   16.16030   15.73351  ...  33.072910  41.406250   \n",
       "140065   83.12273   14.57610   16.12413   15.98669  ...  36.458330  41.406250   \n",
       "...           ...        ...        ...        ...  ...        ...        ...   \n",
       "177841   68.80727   14.57610   16.65220   15.65393  ...  35.416660  49.218750   \n",
       "103024   71.50571   13.31742   15.58160   14.91609  ...  38.020832  40.625000   \n",
       "147629   80.24606   13.31742   16.16030   15.29224  ...  36.718750  54.427080   \n",
       "1244     79.61161   13.02807   16.16753   15.73351  ...  31.250000  40.364580   \n",
       "86909    73.79274   13.64294   16.16753   15.49479  ...  36.979160  42.968750   \n",
       "\n",
       "        sensor_44  sensor_45  sensor_46  sensor_47  sensor_48  sensor_49  \\\n",
       "176299  42.245370  39.062500   50.63657  43.113430  311.05330  67.708340   \n",
       "31719   39.641200  38.773150   39.64120  42.245370  146.41200  52.083330   \n",
       "37626   38.194440  41.956020   41.95602  38.194443  205.72920  56.712960   \n",
       "155023  43.402780  59.895830   50.63657  59.895830  177.66200  55.266205   \n",
       "140065  54.687500  41.087960   50.63657  58.159720  137.15280  47.743057   \n",
       "...           ...        ...        ...        ...        ...        ...   \n",
       "177841  37.905090  40.219910   50.63657  43.692131  201.38890  51.793980   \n",
       "103024  37.905090  38.194443   49.76852  42.534720   80.72916  50.347220   \n",
       "147629  40.509258  38.773150   40.50926  41.087960  210.93750  53.530090   \n",
       "1244    41.956020  46.585650   39.35185  37.615742  192.99770  81.597220   \n",
       "86909   39.062500  39.351850   53.24074  43.113430  116.31940  57.581020   \n",
       "\n",
       "        sensor_50  sensor_51  \n",
       "176299   193.8657   192.9977  \n",
       "31719    234.9537   195.0231  \n",
       "37626    230.0347   206.5972  \n",
       "155023   193.8657   247.6852  \n",
       "140065   216.1458   172.1644  \n",
       "...           ...        ...  \n",
       "177841   193.8657   175.3472  \n",
       "103024   177.9514   205.4398  \n",
       "147629   193.8657   173.9005  \n",
       "1244     240.1620   217.0139  \n",
       "86909    203.9931   217.3032  \n",
       "\n",
       "[154224 rows x 52 columns]"
      ]
     },
     "execution_count": 48,
     "metadata": {},
     "output_type": "execute_result"
    }
   ],
   "source": [
    "X_train_cont = X_train.select_dtypes(include='number')\n",
    "X_train_cont"
   ]
  },
  {
   "cell_type": "code",
   "execution_count": 49,
   "id": "61lX23ooFZHX",
   "metadata": {
    "colab": {
     "base_uri": "https://localhost:8080/",
     "height": 424
    },
    "id": "61lX23ooFZHX",
    "outputId": "8bb29558-4d8c-41c2-df34-33f479e546d8"
   },
   "outputs": [
    {
     "data": {
      "text/html": [
       "<div>\n",
       "<style scoped>\n",
       "    .dataframe tbody tr th:only-of-type {\n",
       "        vertical-align: middle;\n",
       "    }\n",
       "\n",
       "    .dataframe tbody tr th {\n",
       "        vertical-align: top;\n",
       "    }\n",
       "\n",
       "    .dataframe thead th {\n",
       "        text-align: right;\n",
       "    }\n",
       "</style>\n",
       "<table border=\"1\" class=\"dataframe\">\n",
       "  <thead>\n",
       "    <tr style=\"text-align: right;\">\n",
       "      <th></th>\n",
       "      <th>Unnamed: 0</th>\n",
       "      <th>sensor_00</th>\n",
       "      <th>sensor_01</th>\n",
       "      <th>sensor_02</th>\n",
       "      <th>sensor_03</th>\n",
       "      <th>sensor_04</th>\n",
       "      <th>sensor_05</th>\n",
       "      <th>sensor_06</th>\n",
       "      <th>sensor_07</th>\n",
       "      <th>sensor_08</th>\n",
       "      <th>...</th>\n",
       "      <th>sensor_42</th>\n",
       "      <th>sensor_43</th>\n",
       "      <th>sensor_44</th>\n",
       "      <th>sensor_45</th>\n",
       "      <th>sensor_46</th>\n",
       "      <th>sensor_47</th>\n",
       "      <th>sensor_48</th>\n",
       "      <th>sensor_49</th>\n",
       "      <th>sensor_50</th>\n",
       "      <th>sensor_51</th>\n",
       "    </tr>\n",
       "  </thead>\n",
       "  <tbody>\n",
       "    <tr>\n",
       "      <th>2537</th>\n",
       "      <td>2537</td>\n",
       "      <td>2.340451</td>\n",
       "      <td>50.217010</td>\n",
       "      <td>52.777770</td>\n",
       "      <td>44.357640</td>\n",
       "      <td>632.523100</td>\n",
       "      <td>81.647110</td>\n",
       "      <td>13.14381</td>\n",
       "      <td>16.12413</td>\n",
       "      <td>15.41522</td>\n",
       "      <td>...</td>\n",
       "      <td>32.552080</td>\n",
       "      <td>39.062500</td>\n",
       "      <td>45.428240</td>\n",
       "      <td>64.814810</td>\n",
       "      <td>44.560180</td>\n",
       "      <td>39.351850</td>\n",
       "      <td>193.865700</td>\n",
       "      <td>81.018520</td>\n",
       "      <td>230.324100</td>\n",
       "      <td>198.20600</td>\n",
       "    </tr>\n",
       "    <tr>\n",
       "      <th>168862</th>\n",
       "      <td>168862</td>\n",
       "      <td>2.500810</td>\n",
       "      <td>53.993050</td>\n",
       "      <td>50.303820</td>\n",
       "      <td>44.965275</td>\n",
       "      <td>638.541626</td>\n",
       "      <td>74.052500</td>\n",
       "      <td>14.09867</td>\n",
       "      <td>16.65220</td>\n",
       "      <td>16.12413</td>\n",
       "      <td>...</td>\n",
       "      <td>34.375000</td>\n",
       "      <td>42.708330</td>\n",
       "      <td>41.087960</td>\n",
       "      <td>36.458332</td>\n",
       "      <td>45.428242</td>\n",
       "      <td>54.108800</td>\n",
       "      <td>169.270800</td>\n",
       "      <td>46.006940</td>\n",
       "      <td>193.865700</td>\n",
       "      <td>92.88194</td>\n",
       "    </tr>\n",
       "    <tr>\n",
       "      <th>130862</th>\n",
       "      <td>130862</td>\n",
       "      <td>2.456539</td>\n",
       "      <td>38.802080</td>\n",
       "      <td>39.973957</td>\n",
       "      <td>36.718750</td>\n",
       "      <td>3.029514</td>\n",
       "      <td>99.999878</td>\n",
       "      <td>13.64294</td>\n",
       "      <td>16.16753</td>\n",
       "      <td>15.49479</td>\n",
       "      <td>...</td>\n",
       "      <td>27.343748</td>\n",
       "      <td>29.687498</td>\n",
       "      <td>30.381945</td>\n",
       "      <td>30.960648</td>\n",
       "      <td>30.960648</td>\n",
       "      <td>31.828703</td>\n",
       "      <td>30.671297</td>\n",
       "      <td>31.539352</td>\n",
       "      <td>32.118057</td>\n",
       "      <td>197.33800</td>\n",
       "    </tr>\n",
       "    <tr>\n",
       "      <th>105410</th>\n",
       "      <td>105410</td>\n",
       "      <td>2.441782</td>\n",
       "      <td>48.480900</td>\n",
       "      <td>51.605900</td>\n",
       "      <td>43.359380</td>\n",
       "      <td>644.444500</td>\n",
       "      <td>84.517390</td>\n",
       "      <td>14.03356</td>\n",
       "      <td>16.12413</td>\n",
       "      <td>15.61777</td>\n",
       "      <td>...</td>\n",
       "      <td>36.458330</td>\n",
       "      <td>41.666660</td>\n",
       "      <td>38.194443</td>\n",
       "      <td>37.905090</td>\n",
       "      <td>41.087960</td>\n",
       "      <td>41.666670</td>\n",
       "      <td>72.337960</td>\n",
       "      <td>46.875000</td>\n",
       "      <td>196.759300</td>\n",
       "      <td>187.21060</td>\n",
       "    </tr>\n",
       "    <tr>\n",
       "      <th>218003</th>\n",
       "      <td>218003</td>\n",
       "      <td>2.434896</td>\n",
       "      <td>50.998260</td>\n",
       "      <td>51.258680</td>\n",
       "      <td>45.789928</td>\n",
       "      <td>635.763900</td>\n",
       "      <td>65.557820</td>\n",
       "      <td>15.11863</td>\n",
       "      <td>16.60880</td>\n",
       "      <td>15.69734</td>\n",
       "      <td>...</td>\n",
       "      <td>34.114582</td>\n",
       "      <td>45.312500</td>\n",
       "      <td>43.981480</td>\n",
       "      <td>40.509260</td>\n",
       "      <td>50.636570</td>\n",
       "      <td>60.763890</td>\n",
       "      <td>284.143500</td>\n",
       "      <td>62.210650</td>\n",
       "      <td>193.865700</td>\n",
       "      <td>229.74540</td>\n",
       "    </tr>\n",
       "    <tr>\n",
       "      <th>...</th>\n",
       "      <td>...</td>\n",
       "      <td>...</td>\n",
       "      <td>...</td>\n",
       "      <td>...</td>\n",
       "      <td>...</td>\n",
       "      <td>...</td>\n",
       "      <td>...</td>\n",
       "      <td>...</td>\n",
       "      <td>...</td>\n",
       "      <td>...</td>\n",
       "      <td>...</td>\n",
       "      <td>...</td>\n",
       "      <td>...</td>\n",
       "      <td>...</td>\n",
       "      <td>...</td>\n",
       "      <td>...</td>\n",
       "      <td>...</td>\n",
       "      <td>...</td>\n",
       "      <td>...</td>\n",
       "      <td>...</td>\n",
       "      <td>...</td>\n",
       "    </tr>\n",
       "    <tr>\n",
       "      <th>103142</th>\n",
       "      <td>103142</td>\n",
       "      <td>2.451620</td>\n",
       "      <td>47.916664</td>\n",
       "      <td>51.432290</td>\n",
       "      <td>41.840270</td>\n",
       "      <td>645.949100</td>\n",
       "      <td>78.624850</td>\n",
       "      <td>13.26678</td>\n",
       "      <td>15.63223</td>\n",
       "      <td>15.22714</td>\n",
       "      <td>...</td>\n",
       "      <td>34.375000</td>\n",
       "      <td>39.062500</td>\n",
       "      <td>42.245370</td>\n",
       "      <td>39.351850</td>\n",
       "      <td>42.245370</td>\n",
       "      <td>45.428240</td>\n",
       "      <td>115.451400</td>\n",
       "      <td>48.032410</td>\n",
       "      <td>213.252300</td>\n",
       "      <td>172.16440</td>\n",
       "    </tr>\n",
       "    <tr>\n",
       "      <th>1650</th>\n",
       "      <td>1650</td>\n",
       "      <td>2.458507</td>\n",
       "      <td>47.178820</td>\n",
       "      <td>52.170140</td>\n",
       "      <td>43.836800</td>\n",
       "      <td>639.699100</td>\n",
       "      <td>71.670600</td>\n",
       "      <td>13.02807</td>\n",
       "      <td>16.06626</td>\n",
       "      <td>15.89265</td>\n",
       "      <td>...</td>\n",
       "      <td>29.947916</td>\n",
       "      <td>38.020830</td>\n",
       "      <td>53.240740</td>\n",
       "      <td>42.534720</td>\n",
       "      <td>37.905090</td>\n",
       "      <td>35.879631</td>\n",
       "      <td>196.759300</td>\n",
       "      <td>93.750000</td>\n",
       "      <td>216.724500</td>\n",
       "      <td>230.03470</td>\n",
       "    </tr>\n",
       "    <tr>\n",
       "      <th>170925</th>\n",
       "      <td>170925</td>\n",
       "      <td>2.503762</td>\n",
       "      <td>49.088540</td>\n",
       "      <td>52.256940</td>\n",
       "      <td>47.265630</td>\n",
       "      <td>644.907400</td>\n",
       "      <td>65.263880</td>\n",
       "      <td>14.60503</td>\n",
       "      <td>17.66493</td>\n",
       "      <td>17.15856</td>\n",
       "      <td>...</td>\n",
       "      <td>38.802080</td>\n",
       "      <td>44.531250</td>\n",
       "      <td>54.687500</td>\n",
       "      <td>38.773150</td>\n",
       "      <td>44.849540</td>\n",
       "      <td>96.643520</td>\n",
       "      <td>190.972200</td>\n",
       "      <td>82.175930</td>\n",
       "      <td>193.865700</td>\n",
       "      <td>225.98380</td>\n",
       "    </tr>\n",
       "    <tr>\n",
       "      <th>56347</th>\n",
       "      <td>56347</td>\n",
       "      <td>2.455556</td>\n",
       "      <td>47.612850</td>\n",
       "      <td>52.690970</td>\n",
       "      <td>46.093750</td>\n",
       "      <td>632.407400</td>\n",
       "      <td>63.850320</td>\n",
       "      <td>13.09317</td>\n",
       "      <td>16.24711</td>\n",
       "      <td>14.87992</td>\n",
       "      <td>...</td>\n",
       "      <td>35.677082</td>\n",
       "      <td>40.885410</td>\n",
       "      <td>37.905094</td>\n",
       "      <td>39.351850</td>\n",
       "      <td>42.534720</td>\n",
       "      <td>40.509258</td>\n",
       "      <td>199.652800</td>\n",
       "      <td>68.287030</td>\n",
       "      <td>277.488400</td>\n",
       "      <td>220.19680</td>\n",
       "    </tr>\n",
       "    <tr>\n",
       "      <th>114430</th>\n",
       "      <td>114430</td>\n",
       "      <td>2.459491</td>\n",
       "      <td>48.697910</td>\n",
       "      <td>50.434020</td>\n",
       "      <td>42.404510</td>\n",
       "      <td>645.138900</td>\n",
       "      <td>82.962650</td>\n",
       "      <td>13.92506</td>\n",
       "      <td>16.24711</td>\n",
       "      <td>15.99392</td>\n",
       "      <td>...</td>\n",
       "      <td>37.500000</td>\n",
       "      <td>42.708330</td>\n",
       "      <td>39.062500</td>\n",
       "      <td>39.062500</td>\n",
       "      <td>44.849537</td>\n",
       "      <td>44.560180</td>\n",
       "      <td>98.379630</td>\n",
       "      <td>53.819440</td>\n",
       "      <td>212.384300</td>\n",
       "      <td>214.12040</td>\n",
       "    </tr>\n",
       "  </tbody>\n",
       "</table>\n",
       "<p>66096 rows × 52 columns</p>\n",
       "</div>"
      ],
      "text/plain": [
       "        Unnamed: 0  sensor_00  sensor_01  sensor_02  sensor_03   sensor_04  \\\n",
       "2537          2537   2.340451  50.217010  52.777770  44.357640  632.523100   \n",
       "168862      168862   2.500810  53.993050  50.303820  44.965275  638.541626   \n",
       "130862      130862   2.456539  38.802080  39.973957  36.718750    3.029514   \n",
       "105410      105410   2.441782  48.480900  51.605900  43.359380  644.444500   \n",
       "218003      218003   2.434896  50.998260  51.258680  45.789928  635.763900   \n",
       "...            ...        ...        ...        ...        ...         ...   \n",
       "103142      103142   2.451620  47.916664  51.432290  41.840270  645.949100   \n",
       "1650          1650   2.458507  47.178820  52.170140  43.836800  639.699100   \n",
       "170925      170925   2.503762  49.088540  52.256940  47.265630  644.907400   \n",
       "56347        56347   2.455556  47.612850  52.690970  46.093750  632.407400   \n",
       "114430      114430   2.459491  48.697910  50.434020  42.404510  645.138900   \n",
       "\n",
       "        sensor_05  sensor_06  sensor_07  sensor_08  ...  sensor_42  sensor_43  \\\n",
       "2537    81.647110   13.14381   16.12413   15.41522  ...  32.552080  39.062500   \n",
       "168862  74.052500   14.09867   16.65220   16.12413  ...  34.375000  42.708330   \n",
       "130862  99.999878   13.64294   16.16753   15.49479  ...  27.343748  29.687498   \n",
       "105410  84.517390   14.03356   16.12413   15.61777  ...  36.458330  41.666660   \n",
       "218003  65.557820   15.11863   16.60880   15.69734  ...  34.114582  45.312500   \n",
       "...           ...        ...        ...        ...  ...        ...        ...   \n",
       "103142  78.624850   13.26678   15.63223   15.22714  ...  34.375000  39.062500   \n",
       "1650    71.670600   13.02807   16.06626   15.89265  ...  29.947916  38.020830   \n",
       "170925  65.263880   14.60503   17.66493   17.15856  ...  38.802080  44.531250   \n",
       "56347   63.850320   13.09317   16.24711   14.87992  ...  35.677082  40.885410   \n",
       "114430  82.962650   13.92506   16.24711   15.99392  ...  37.500000  42.708330   \n",
       "\n",
       "        sensor_44  sensor_45  sensor_46  sensor_47   sensor_48  sensor_49  \\\n",
       "2537    45.428240  64.814810  44.560180  39.351850  193.865700  81.018520   \n",
       "168862  41.087960  36.458332  45.428242  54.108800  169.270800  46.006940   \n",
       "130862  30.381945  30.960648  30.960648  31.828703   30.671297  31.539352   \n",
       "105410  38.194443  37.905090  41.087960  41.666670   72.337960  46.875000   \n",
       "218003  43.981480  40.509260  50.636570  60.763890  284.143500  62.210650   \n",
       "...           ...        ...        ...        ...         ...        ...   \n",
       "103142  42.245370  39.351850  42.245370  45.428240  115.451400  48.032410   \n",
       "1650    53.240740  42.534720  37.905090  35.879631  196.759300  93.750000   \n",
       "170925  54.687500  38.773150  44.849540  96.643520  190.972200  82.175930   \n",
       "56347   37.905094  39.351850  42.534720  40.509258  199.652800  68.287030   \n",
       "114430  39.062500  39.062500  44.849537  44.560180   98.379630  53.819440   \n",
       "\n",
       "         sensor_50  sensor_51  \n",
       "2537    230.324100  198.20600  \n",
       "168862  193.865700   92.88194  \n",
       "130862   32.118057  197.33800  \n",
       "105410  196.759300  187.21060  \n",
       "218003  193.865700  229.74540  \n",
       "...            ...        ...  \n",
       "103142  213.252300  172.16440  \n",
       "1650    216.724500  230.03470  \n",
       "170925  193.865700  225.98380  \n",
       "56347   277.488400  220.19680  \n",
       "114430  212.384300  214.12040  \n",
       "\n",
       "[66096 rows x 52 columns]"
      ]
     },
     "execution_count": 49,
     "metadata": {},
     "output_type": "execute_result"
    }
   ],
   "source": [
    "X_test_cont = X_test.select_dtypes(include='number')\n",
    "X_test_cont"
   ]
  },
  {
   "cell_type": "code",
   "execution_count": 50,
   "id": "a745ac7b",
   "metadata": {},
   "outputs": [
    {
     "data": {
      "text/plain": [
       "12"
      ]
     },
     "execution_count": 50,
     "metadata": {},
     "output_type": "execute_result"
    }
   ],
   "source": [
    "gc.collect()"
   ]
  },
  {
   "cell_type": "code",
   "execution_count": 51,
   "id": "2SmKSdVv8wzh",
   "metadata": {
    "id": "2SmKSdVv8wzh"
   },
   "outputs": [],
   "source": [
    "from sklearn.preprocessing import OneHotEncoder\n",
    "\n",
    "# Encoding on X_train_cat and X_test_cat\n",
    "ohe = OneHotEncoder(drop = 'first')\n",
    "\n",
    "X_train_cat_encoded = pd.DataFrame(ohe.fit_transform(X_train_cat).toarray(), columns = ohe.get_feature_names(list(X_train_cat.columns)))\n",
    "X_test_cat_encoded = pd.DataFrame(ohe.transform(X_test_cat).toarray(), columns = ohe.get_feature_names(list(X_test_cat.columns)))"
   ]
  },
  {
   "cell_type": "code",
   "execution_count": 52,
   "id": "0lJELoMrLuYx",
   "metadata": {
    "id": "0lJELoMrLuYx"
   },
   "outputs": [],
   "source": [
    "from sklearn.preprocessing import StandardScaler\n",
    "\n",
    "# Scaling on X_train_cont and X_test_cont\n",
    "sc = StandardScaler()\n",
    "\n",
    "X_train_cont_scaled = pd.DataFrame(sc.fit_transform(X_train_cont), columns = X_train_cont.columns)\n",
    "X_test_cont_scaled = pd.DataFrame(sc.transform(X_test_cont), columns = X_test_cont.columns)"
   ]
  },
  {
   "cell_type": "code",
   "execution_count": 53,
   "id": "SNk_HJVt9lbn",
   "metadata": {
    "id": "SNk_HJVt9lbn"
   },
   "outputs": [],
   "source": [
    "X_train = pd.concat([X_train_cat_encoded, X_train_cont_scaled], axis = 1)\n",
    "X_test = pd.concat([X_test_cat_encoded, X_test_cont_scaled], axis = 1)"
   ]
  },
  {
   "cell_type": "code",
   "execution_count": 54,
   "id": "RtLCTUbalymU",
   "metadata": {
    "colab": {
     "base_uri": "https://localhost:8080/",
     "height": 35
    },
    "id": "RtLCTUbalymU",
    "outputId": "2c018740-1f7d-445f-b09e-690bf7310518"
   },
   "outputs": [
    {
     "data": {
      "text/plain": [
       "'BuPu'"
      ]
     },
     "execution_count": 54,
     "metadata": {},
     "output_type": "execute_result"
    }
   ],
   "source": [
    "colors= [\"YlGnBu\", \"Blues\", \"BuPu\", \"Greens\", \"PiYG\"]\n",
    "rnd.choice(colors)"
   ]
  },
  {
   "cell_type": "markdown",
   "id": "f9421487",
   "metadata": {
    "id": "f9421487"
   },
   "source": [
    "# Machine Learning Models:\n",
    "\n",
    "1. Logistic Regression\n",
    "2. Decision Tree\n",
    "3. Gaussian Naive Bayes\n",
    "4. Random Forest\n",
    "5. K-Nearest Neighbors\n",
    "6. Support Vector Machine\n",
    "7. Stochastic Gradient Descent\n",
    "8. AdaBoost\n",
    "9. Gradient Bossting \n",
    "# Metrics used: Accuracy Score, F-Beta Score, Classification Report, Confusion Matrix, ROCAUC Curve, Precision-Recall Curve"
   ]
  },
  {
   "cell_type": "code",
   "execution_count": 55,
   "id": "QjA5T2Fw4UMM",
   "metadata": {
    "id": "QjA5T2Fw4UMM"
   },
   "outputs": [],
   "source": [
    "from sklearn import metrics\n",
    "from sklearn.metrics import fbeta_score, accuracy_score\n",
    "from yellowbrick.contrib.wrapper import wrap\n",
    "from yellowbrick.classifier import ClassificationReport, ConfusionMatrix, ROCAUC, PrecisionRecallCurve"
   ]
  },
  {
   "cell_type": "markdown",
   "id": "92bd6ca1",
   "metadata": {
    "id": "92bd6ca1"
   },
   "source": [
    "# Logistic Regression"
   ]
  },
  {
   "cell_type": "code",
   "execution_count": 56,
   "id": "8625c75f",
   "metadata": {
    "colab": {
     "base_uri": "https://localhost:8080/"
    },
    "id": "8625c75f",
    "outputId": "165f3b59-c2eb-427a-dd5c-886c2ae7fc88"
   },
   "outputs": [
    {
     "data": {
      "text/html": [
       "<style>#sk-container-id-1 {color: black;background-color: white;}#sk-container-id-1 pre{padding: 0;}#sk-container-id-1 div.sk-toggleable {background-color: white;}#sk-container-id-1 label.sk-toggleable__label {cursor: pointer;display: block;width: 100%;margin-bottom: 0;padding: 0.3em;box-sizing: border-box;text-align: center;}#sk-container-id-1 label.sk-toggleable__label-arrow:before {content: \"▸\";float: left;margin-right: 0.25em;color: #696969;}#sk-container-id-1 label.sk-toggleable__label-arrow:hover:before {color: black;}#sk-container-id-1 div.sk-estimator:hover label.sk-toggleable__label-arrow:before {color: black;}#sk-container-id-1 div.sk-toggleable__content {max-height: 0;max-width: 0;overflow: hidden;text-align: left;background-color: #f0f8ff;}#sk-container-id-1 div.sk-toggleable__content pre {margin: 0.2em;color: black;border-radius: 0.25em;background-color: #f0f8ff;}#sk-container-id-1 input.sk-toggleable__control:checked~div.sk-toggleable__content {max-height: 200px;max-width: 100%;overflow: auto;}#sk-container-id-1 input.sk-toggleable__control:checked~label.sk-toggleable__label-arrow:before {content: \"▾\";}#sk-container-id-1 div.sk-estimator input.sk-toggleable__control:checked~label.sk-toggleable__label {background-color: #d4ebff;}#sk-container-id-1 div.sk-label input.sk-toggleable__control:checked~label.sk-toggleable__label {background-color: #d4ebff;}#sk-container-id-1 input.sk-hidden--visually {border: 0;clip: rect(1px 1px 1px 1px);clip: rect(1px, 1px, 1px, 1px);height: 1px;margin: -1px;overflow: hidden;padding: 0;position: absolute;width: 1px;}#sk-container-id-1 div.sk-estimator {font-family: monospace;background-color: #f0f8ff;border: 1px dotted black;border-radius: 0.25em;box-sizing: border-box;margin-bottom: 0.5em;}#sk-container-id-1 div.sk-estimator:hover {background-color: #d4ebff;}#sk-container-id-1 div.sk-parallel-item::after {content: \"\";width: 100%;border-bottom: 1px solid gray;flex-grow: 1;}#sk-container-id-1 div.sk-label:hover label.sk-toggleable__label {background-color: #d4ebff;}#sk-container-id-1 div.sk-serial::before {content: \"\";position: absolute;border-left: 1px solid gray;box-sizing: border-box;top: 0;bottom: 0;left: 50%;z-index: 0;}#sk-container-id-1 div.sk-serial {display: flex;flex-direction: column;align-items: center;background-color: white;padding-right: 0.2em;padding-left: 0.2em;position: relative;}#sk-container-id-1 div.sk-item {position: relative;z-index: 1;}#sk-container-id-1 div.sk-parallel {display: flex;align-items: stretch;justify-content: center;background-color: white;position: relative;}#sk-container-id-1 div.sk-item::before, #sk-container-id-1 div.sk-parallel-item::before {content: \"\";position: absolute;border-left: 1px solid gray;box-sizing: border-box;top: 0;bottom: 0;left: 50%;z-index: -1;}#sk-container-id-1 div.sk-parallel-item {display: flex;flex-direction: column;z-index: 1;position: relative;background-color: white;}#sk-container-id-1 div.sk-parallel-item:first-child::after {align-self: flex-end;width: 50%;}#sk-container-id-1 div.sk-parallel-item:last-child::after {align-self: flex-start;width: 50%;}#sk-container-id-1 div.sk-parallel-item:only-child::after {width: 0;}#sk-container-id-1 div.sk-dashed-wrapped {border: 1px dashed gray;margin: 0 0.4em 0.5em 0.4em;box-sizing: border-box;padding-bottom: 0.4em;background-color: white;}#sk-container-id-1 div.sk-label label {font-family: monospace;font-weight: bold;display: inline-block;line-height: 1.2em;}#sk-container-id-1 div.sk-label-container {text-align: center;}#sk-container-id-1 div.sk-container {/* jupyter's `normalize.less` sets `[hidden] { display: none; }` but bootstrap.min.css set `[hidden] { display: none !important; }` so we also need the `!important` here to be able to override the default hidden behavior on the sphinx rendered scikit-learn.org. See: https://github.com/scikit-learn/scikit-learn/issues/21755 */display: inline-block !important;position: relative;}#sk-container-id-1 div.sk-text-repr-fallback {display: none;}</style><div id=\"sk-container-id-1\" class=\"sk-top-container\"><div class=\"sk-text-repr-fallback\"><pre>LogisticRegression(random_state=10)</pre><b>In a Jupyter environment, please rerun this cell to show the HTML representation or trust the notebook. <br />On GitHub, the HTML representation is unable to render, please try loading this page with nbviewer.org.</b></div><div class=\"sk-container\" hidden><div class=\"sk-item\"><div class=\"sk-estimator sk-toggleable\"><input class=\"sk-toggleable__control sk-hidden--visually\" id=\"sk-estimator-id-1\" type=\"checkbox\" checked><label for=\"sk-estimator-id-1\" class=\"sk-toggleable__label sk-toggleable__label-arrow\">LogisticRegression</label><div class=\"sk-toggleable__content\"><pre>LogisticRegression(random_state=10)</pre></div></div></div></div></div>"
      ],
      "text/plain": [
       "LogisticRegression(random_state=10)"
      ]
     },
     "execution_count": 56,
     "metadata": {},
     "output_type": "execute_result"
    }
   ],
   "source": [
    "from sklearn.linear_model import LogisticRegression\n",
    "\n",
    "#Created an obj for logistic regression \n",
    "log_reg = LogisticRegression(random_state = 10)\n",
    "log_reg.fit(X_train, y_train)"
   ]
  },
  {
   "cell_type": "code",
   "execution_count": 57,
   "id": "0b6ef226",
   "metadata": {
    "colab": {
     "base_uri": "https://localhost:8080/"
    },
    "id": "0b6ef226",
    "outputId": "7a30e62d-0b28-410d-e061-3a727926fc20"
   },
   "outputs": [
    {
     "data": {
      "text/plain": [
       "0.9977889303869696"
      ]
     },
     "execution_count": 57,
     "metadata": {},
     "output_type": "execute_result"
    }
   ],
   "source": [
    "#Training Accuracy\n",
    "log_reg.score(X_train, y_train)"
   ]
  },
  {
   "cell_type": "code",
   "execution_count": 58,
   "id": "33988fe8",
   "metadata": {
    "colab": {
     "base_uri": "https://localhost:8080/"
    },
    "id": "33988fe8",
    "outputId": "be0d772c-6cd9-4504-d494-0ec1c22b18ff"
   },
   "outputs": [
    {
     "name": "stdout",
     "output_type": "stream",
     "text": [
      "0.9980785524086178\n",
      "0.9977889303869696\n"
     ]
    }
   ],
   "source": [
    "#Testing Accuracy\n",
    "y_train_pred = log_reg.predict(X_train)\n",
    "y_test_pred = log_reg.predict(X_test) \n",
    "print(accuracy_score(y_test, y_test_pred))\n",
    "print(accuracy_score(y_train, y_train_pred))"
   ]
  },
  {
   "cell_type": "code",
   "execution_count": 59,
   "id": "01223336",
   "metadata": {},
   "outputs": [
    {
     "data": {
      "text/plain": [
       "array([    0,     0,     1,     0, 61730,    74,     0,    52,  4239],\n",
       "      dtype=int64)"
      ]
     },
     "execution_count": 59,
     "metadata": {},
     "output_type": "execute_result"
    }
   ],
   "source": [
    "confusion = metrics.confusion_matrix(y_test, y_test_pred)\n",
    "confusion.ravel()"
   ]
  },
  {
   "cell_type": "code",
   "execution_count": 60,
   "id": "19d908b1",
   "metadata": {},
   "outputs": [
    {
     "data": {
      "text/plain": [
       "0.9980691924503428"
      ]
     },
     "execution_count": 60,
     "metadata": {},
     "output_type": "execute_result"
    }
   ],
   "source": [
    "precision_positive = metrics.precision_score(y_test, y_test_pred, average='weighted')\n",
    "precision_positive"
   ]
  },
  {
   "cell_type": "code",
   "execution_count": 61,
   "id": "2e6af8ea",
   "metadata": {},
   "outputs": [
    {
     "data": {
      "text/plain": [
       "0.9977531034927569"
      ]
     },
     "execution_count": 61,
     "metadata": {},
     "output_type": "execute_result"
    }
   ],
   "source": [
    "precision_positive = metrics.precision_score(y_train, y_train_pred, average='weighted')\n",
    "precision_positive"
   ]
  },
  {
   "cell_type": "code",
   "execution_count": 62,
   "id": "f8abe1e1",
   "metadata": {},
   "outputs": [
    {
     "data": {
      "text/plain": [
       "0.9980785524086178"
      ]
     },
     "execution_count": 62,
     "metadata": {},
     "output_type": "execute_result"
    }
   ],
   "source": [
    "recall_specificity = metrics.recall_score(y_test, y_test_pred, average='weighted')\n",
    "recall_specificity"
   ]
  },
  {
   "cell_type": "code",
   "execution_count": 63,
   "id": "64336c90",
   "metadata": {},
   "outputs": [
    {
     "data": {
      "text/plain": [
       "0.9977889303869696"
      ]
     },
     "execution_count": 63,
     "metadata": {},
     "output_type": "execute_result"
    }
   ],
   "source": [
    "recall_specificity = metrics.recall_score(y_train, y_train_pred, average='weighted')\n",
    "recall_specificity"
   ]
  },
  {
   "cell_type": "code",
   "execution_count": 64,
   "id": "bvcYNyiKqOUl",
   "metadata": {
    "colab": {
     "base_uri": "https://localhost:8080/"
    },
    "id": "bvcYNyiKqOUl",
    "outputId": "c08afca5-e30f-4e77-e971-bc582c091bea"
   },
   "outputs": [
    {
     "data": {
      "text/plain": [
       "array([0.        , 0.99881962, 0.98352941])"
      ]
     },
     "execution_count": 64,
     "metadata": {},
     "output_type": "execute_result"
    }
   ],
   "source": [
    "fbeta_score(y_train, y_train_pred, beta = 1, average = None)"
   ]
  },
  {
   "cell_type": "code",
   "execution_count": 65,
   "id": "d76a4ded",
   "metadata": {},
   "outputs": [
    {
     "data": {
      "text/plain": [
       "array([0.        , 0.99898047, 0.98524114])"
      ]
     },
     "execution_count": 65,
     "metadata": {},
     "output_type": "execute_result"
    }
   ],
   "source": [
    "fbeta_score(y_test, y_test_pred, beta = 1, average = None)"
   ]
  },
  {
   "cell_type": "code",
   "execution_count": 66,
   "id": "cdcbe351",
   "metadata": {
    "colab": {
     "base_uri": "https://localhost:8080/"
    },
    "id": "cdcbe351",
    "outputId": "b363f858-a84b-4f81-9262-a84047296cbe"
   },
   "outputs": [
    {
     "data": {
      "image/png": "[encoded data removed]",
      "text/plain": [
       "<Figure size 576x396 with 2 Axes>"
      ]
     },
     "metadata": {},
     "output_type": "display_data"
    },
    {
     "data": {
      "text/plain": [
       "<AxesSubplot:title={'center':'LogisticRegression Classification Report'}>"
      ]
     },
     "execution_count": 66,
     "metadata": {},
     "output_type": "execute_result"
    }
   ],
   "source": [
    "visualizer = ClassificationReport(log_reg, support = True, color_bar = True, cmap = rnd.choice(colors))\n",
    "visualizer.fit(X_train, y_train)        \n",
    "visualizer.score(X_test, y_test)   \n",
    "visualizer.show()"
   ]
  },
  {
   "cell_type": "code",
   "execution_count": 67,
   "id": "1e7e3571",
   "metadata": {
    "colab": {
     "base_uri": "https://localhost:8080/"
    },
    "id": "1e7e3571",
    "outputId": "afbe39de-a6e6-4bac-a263-23b878512014"
   },
   "outputs": [
    {
     "data": {
      "image/png": "[encoded data removed]",
      "text/plain": [
       "<Figure size 576x396 with 1 Axes>"
      ]
     },
     "metadata": {},
     "output_type": "display_data"
    },
    {
     "data": {
      "text/plain": [
       "<AxesSubplot:title={'center':'LogisticRegression Confusion Matrix'}, xlabel='Predicted Class', ylabel='True Class'>"
      ]
     },
     "execution_count": 67,
     "metadata": {},
     "output_type": "execute_result"
    }
   ],
   "source": [
    "visualizer = ConfusionMatrix(log_reg, support = True, color_bar = True, cmap = rnd.choice(colors))\n",
    "visualizer.fit(X_train, y_train)        \n",
    "visualizer.score(X_test, y_test)   \n",
    "visualizer.show() "
   ]
  },
  {
   "cell_type": "markdown",
   "id": "3d5da703",
   "metadata": {
    "id": "3d5da703"
   },
   "source": [
    "# Decision Tree"
   ]
  },
  {
   "cell_type": "code",
   "execution_count": 68,
   "id": "f4f5545d",
   "metadata": {
    "colab": {
     "base_uri": "https://localhost:8080/"
    },
    "id": "f4f5545d",
    "outputId": "367b9203-4c28-478d-cbb8-07e5a1993145"
   },
   "outputs": [
    {
     "data": {
      "text/html": [
       "<style>#sk-container-id-2 {color: black;background-color: white;}#sk-container-id-2 pre{padding: 0;}#sk-container-id-2 div.sk-toggleable {background-color: white;}#sk-container-id-2 label.sk-toggleable__label {cursor: pointer;display: block;width: 100%;margin-bottom: 0;padding: 0.3em;box-sizing: border-box;text-align: center;}#sk-container-id-2 label.sk-toggleable__label-arrow:before {content: \"▸\";float: left;margin-right: 0.25em;color: #696969;}#sk-container-id-2 label.sk-toggleable__label-arrow:hover:before {color: black;}#sk-container-id-2 div.sk-estimator:hover label.sk-toggleable__label-arrow:before {color: black;}#sk-container-id-2 div.sk-toggleable__content {max-height: 0;max-width: 0;overflow: hidden;text-align: left;background-color: #f0f8ff;}#sk-container-id-2 div.sk-toggleable__content pre {margin: 0.2em;color: black;border-radius: 0.25em;background-color: #f0f8ff;}#sk-container-id-2 input.sk-toggleable__control:checked~div.sk-toggleable__content {max-height: 200px;max-width: 100%;overflow: auto;}#sk-container-id-2 input.sk-toggleable__control:checked~label.sk-toggleable__label-arrow:before {content: \"▾\";}#sk-container-id-2 div.sk-estimator input.sk-toggleable__control:checked~label.sk-toggleable__label {background-color: #d4ebff;}#sk-container-id-2 div.sk-label input.sk-toggleable__control:checked~label.sk-toggleable__label {background-color: #d4ebff;}#sk-container-id-2 input.sk-hidden--visually {border: 0;clip: rect(1px 1px 1px 1px);clip: rect(1px, 1px, 1px, 1px);height: 1px;margin: -1px;overflow: hidden;padding: 0;position: absolute;width: 1px;}#sk-container-id-2 div.sk-estimator {font-family: monospace;background-color: #f0f8ff;border: 1px dotted black;border-radius: 0.25em;box-sizing: border-box;margin-bottom: 0.5em;}#sk-container-id-2 div.sk-estimator:hover {background-color: #d4ebff;}#sk-container-id-2 div.sk-parallel-item::after {content: \"\";width: 100%;border-bottom: 1px solid gray;flex-grow: 1;}#sk-container-id-2 div.sk-label:hover label.sk-toggleable__label {background-color: #d4ebff;}#sk-container-id-2 div.sk-serial::before {content: \"\";position: absolute;border-left: 1px solid gray;box-sizing: border-box;top: 0;bottom: 0;left: 50%;z-index: 0;}#sk-container-id-2 div.sk-serial {display: flex;flex-direction: column;align-items: center;background-color: white;padding-right: 0.2em;padding-left: 0.2em;position: relative;}#sk-container-id-2 div.sk-item {position: relative;z-index: 1;}#sk-container-id-2 div.sk-parallel {display: flex;align-items: stretch;justify-content: center;background-color: white;position: relative;}#sk-container-id-2 div.sk-item::before, #sk-container-id-2 div.sk-parallel-item::before {content: \"\";position: absolute;border-left: 1px solid gray;box-sizing: border-box;top: 0;bottom: 0;left: 50%;z-index: -1;}#sk-container-id-2 div.sk-parallel-item {display: flex;flex-direction: column;z-index: 1;position: relative;background-color: white;}#sk-container-id-2 div.sk-parallel-item:first-child::after {align-self: flex-end;width: 50%;}#sk-container-id-2 div.sk-parallel-item:last-child::after {align-self: flex-start;width: 50%;}#sk-container-id-2 div.sk-parallel-item:only-child::after {width: 0;}#sk-container-id-2 div.sk-dashed-wrapped {border: 1px dashed gray;margin: 0 0.4em 0.5em 0.4em;box-sizing: border-box;padding-bottom: 0.4em;background-color: white;}#sk-container-id-2 div.sk-label label {font-family: monospace;font-weight: bold;display: inline-block;line-height: 1.2em;}#sk-container-id-2 div.sk-label-container {text-align: center;}#sk-container-id-2 div.sk-container {/* jupyter's `normalize.less` sets `[hidden] { display: none; }` but bootstrap.min.css set `[hidden] { display: none !important; }` so we also need the `!important` here to be able to override the default hidden behavior on the sphinx rendered scikit-learn.org. See: https://github.com/scikit-learn/scikit-learn/issues/21755 */display: inline-block !important;position: relative;}#sk-container-id-2 div.sk-text-repr-fallback {display: none;}</style><div id=\"sk-container-id-2\" class=\"sk-top-container\"><div class=\"sk-text-repr-fallback\"><pre>DecisionTreeClassifier(max_depth=25, min_samples_split=5, random_state=10)</pre><b>In a Jupyter environment, please rerun this cell to show the HTML representation or trust the notebook. <br />On GitHub, the HTML representation is unable to render, please try loading this page with nbviewer.org.</b></div><div class=\"sk-container\" hidden><div class=\"sk-item\"><div class=\"sk-estimator sk-toggleable\"><input class=\"sk-toggleable__control sk-hidden--visually\" id=\"sk-estimator-id-2\" type=\"checkbox\" checked><label for=\"sk-estimator-id-2\" class=\"sk-toggleable__label sk-toggleable__label-arrow\">DecisionTreeClassifier</label><div class=\"sk-toggleable__content\"><pre>DecisionTreeClassifier(max_depth=25, min_samples_split=5, random_state=10)</pre></div></div></div></div></div>"
      ],
      "text/plain": [
       "DecisionTreeClassifier(max_depth=25, min_samples_split=5, random_state=10)"
      ]
     },
     "execution_count": 68,
     "metadata": {},
     "output_type": "execute_result"
    }
   ],
   "source": [
    "from sklearn.tree import DecisionTreeClassifier\n",
    "\n",
    "#Created an obj for Decision Tree \n",
    "dec_tree = DecisionTreeClassifier(max_depth = 25, min_samples_split = 5, random_state = 10)\n",
    "dec_tree.fit(X_train, y_train)"
   ]
  },
  {
   "cell_type": "code",
   "execution_count": 69,
   "id": "a2812743",
   "metadata": {
    "colab": {
     "base_uri": "https://localhost:8080/"
    },
    "id": "a2812743",
    "outputId": "501574d4-206c-4ad1-c833-ce1fa6f112bc"
   },
   "outputs": [
    {
     "data": {
      "text/plain": [
       "0.9999740636995539"
      ]
     },
     "execution_count": 69,
     "metadata": {},
     "output_type": "execute_result"
    }
   ],
   "source": [
    "#Training Accuracy\n",
    "dec_tree.score(X_train, y_train)"
   ]
  },
  {
   "cell_type": "code",
   "execution_count": 70,
   "id": "2bd8a58d",
   "metadata": {
    "colab": {
     "base_uri": "https://localhost:8080/"
    },
    "id": "2bd8a58d",
    "outputId": "58fd4551-14f4-43cf-f51f-725aec633056"
   },
   "outputs": [
    {
     "name": "stdout",
     "output_type": "stream",
     "text": [
      "0.9995612442507867\n",
      "0.9999740636995539\n"
     ]
    }
   ],
   "source": [
    "#Testing Accuracy\n",
    "y_train_pred = dec_tree.predict(X_train)\n",
    "y_test_pred = dec_tree.predict(X_test)\n",
    "print(accuracy_score(y_test, y_test_pred))\n",
    "print(accuracy_score(y_train, y_train_pred))"
   ]
  },
  {
   "cell_type": "code",
   "execution_count": 71,
   "id": "7d47b310",
   "metadata": {},
   "outputs": [
    {
     "data": {
      "text/plain": [
       "0.9995762430083696"
      ]
     },
     "execution_count": 71,
     "metadata": {},
     "output_type": "execute_result"
    }
   ],
   "source": [
    "precision_positive = metrics.precision_score(y_test, y_test_pred, average='weighted')\n",
    "precision_positive"
   ]
  },
  {
   "cell_type": "code",
   "execution_count": 72,
   "id": "806763dd",
   "metadata": {},
   "outputs": [
    {
     "data": {
      "text/plain": [
       "0.9999759162924429"
      ]
     },
     "execution_count": 72,
     "metadata": {},
     "output_type": "execute_result"
    }
   ],
   "source": [
    "precision_positive = metrics.precision_score(y_train, y_train_pred, average='weighted')\n",
    "precision_positive"
   ]
  },
  {
   "cell_type": "code",
   "execution_count": 73,
   "id": "2d361349",
   "metadata": {},
   "outputs": [
    {
     "data": {
      "text/plain": [
       "0.9995612442507867"
      ]
     },
     "execution_count": 73,
     "metadata": {},
     "output_type": "execute_result"
    }
   ],
   "source": [
    "recall_specificity = metrics.recall_score(y_test, y_test_pred, average='weighted')\n",
    "recall_specificity"
   ]
  },
  {
   "cell_type": "code",
   "execution_count": 74,
   "id": "76403448",
   "metadata": {},
   "outputs": [
    {
     "data": {
      "text/plain": [
       "0.9999740636995539"
      ]
     },
     "execution_count": 74,
     "metadata": {},
     "output_type": "execute_result"
    }
   ],
   "source": [
    "recall_specificity = metrics.recall_score(y_train, y_train_pred, average='weighted')\n",
    "recall_specificity"
   ]
  },
  {
   "cell_type": "code",
   "execution_count": 75,
   "id": "ccd2b329",
   "metadata": {},
   "outputs": [
    {
     "data": {
      "text/plain": [
       "array([0.76923077, 0.99998611, 0.99995091])"
      ]
     },
     "execution_count": 75,
     "metadata": {},
     "output_type": "execute_result"
    }
   ],
   "source": [
    "fbeta_score(y_train, y_train_pred, beta = 1, average = None)"
   ]
  },
  {
   "cell_type": "code",
   "execution_count": 76,
   "id": "2a56c_Fbq6-F",
   "metadata": {
    "colab": {
     "base_uri": "https://localhost:8080/"
    },
    "id": "2a56c_Fbq6-F",
    "outputId": "dbf86a7b-5885-42e4-bc26-7fd15b280da5"
   },
   "outputs": [
    {
     "data": {
      "text/plain": [
       "array([0.        , 0.99978966, 0.99661965])"
      ]
     },
     "execution_count": 76,
     "metadata": {},
     "output_type": "execute_result"
    }
   ],
   "source": [
    "fbeta_score(y_test, y_test_pred, beta = 1, average = None)"
   ]
  },
  {
   "cell_type": "code",
   "execution_count": 77,
   "id": "a844c26f",
   "metadata": {
    "colab": {
     "base_uri": "https://localhost:8080/"
    },
    "id": "a844c26f",
    "outputId": "31679f54-703d-4c0d-b7eb-e1efab22e4d0"
   },
   "outputs": [
    {
     "data": {
      "image/png": "[encoded data removed]",
      "text/plain": [
       "<Figure size 576x396 with 2 Axes>"
      ]
     },
     "metadata": {},
     "output_type": "display_data"
    },
    {
     "data": {
      "text/plain": [
       "<AxesSubplot:title={'center':'DecisionTreeClassifier Classification Report'}>"
      ]
     },
     "execution_count": 77,
     "metadata": {},
     "output_type": "execute_result"
    }
   ],
   "source": [
    "visualizer = ClassificationReport(dec_tree, support = True, color_bar = True, cmap = rnd.choice(colors))\n",
    "visualizer.fit(X_train, y_train)        \n",
    "visualizer.score(X_test, y_test)   \n",
    "visualizer.show()"
   ]
  },
  {
   "cell_type": "code",
   "execution_count": 78,
   "id": "88e3d276",
   "metadata": {
    "colab": {
     "base_uri": "https://localhost:8080/"
    },
    "id": "88e3d276",
    "outputId": "300189b4-9374-441b-b64d-ca7d61cab3ed"
   },
   "outputs": [
    {
     "data": {
      "image/png": "[encoded data removed]",
      "text/plain": [
       "<Figure size 576x396 with 1 Axes>"
      ]
     },
     "metadata": {},
     "output_type": "display_data"
    },
    {
     "data": {
      "text/plain": [
       "<AxesSubplot:title={'center':'DecisionTreeClassifier Confusion Matrix'}, xlabel='Predicted Class', ylabel='True Class'>"
      ]
     },
     "execution_count": 78,
     "metadata": {},
     "output_type": "execute_result"
    }
   ],
   "source": [
    "visualizer = ConfusionMatrix(dec_tree, support = True, color_bar = True, cmap = rnd.choice(colors))\n",
    "visualizer.fit(X_train, y_train)        \n",
    "visualizer.score(X_test, y_test)   \n",
    "visualizer.show() "
   ]
  },
  {
   "cell_type": "markdown",
   "id": "393492da",
   "metadata": {
    "id": "393492da"
   },
   "source": [
    "# Gaussian Naive Bayes"
   ]
  },
  {
   "cell_type": "code",
   "execution_count": 79,
   "id": "272d834c",
   "metadata": {
    "colab": {
     "base_uri": "https://localhost:8080/"
    },
    "id": "272d834c",
    "outputId": "ac57cbf8-7424-45eb-9b73-ced991b158cc"
   },
   "outputs": [
    {
     "data": {
      "text/html": [
       "<style>#sk-container-id-3 {color: black;background-color: white;}#sk-container-id-3 pre{padding: 0;}#sk-container-id-3 div.sk-toggleable {background-color: white;}#sk-container-id-3 label.sk-toggleable__label {cursor: pointer;display: block;width: 100%;margin-bottom: 0;padding: 0.3em;box-sizing: border-box;text-align: center;}#sk-container-id-3 label.sk-toggleable__label-arrow:before {content: \"▸\";float: left;margin-right: 0.25em;color: #696969;}#sk-container-id-3 label.sk-toggleable__label-arrow:hover:before {color: black;}#sk-container-id-3 div.sk-estimator:hover label.sk-toggleable__label-arrow:before {color: black;}#sk-container-id-3 div.sk-toggleable__content {max-height: 0;max-width: 0;overflow: hidden;text-align: left;background-color: #f0f8ff;}#sk-container-id-3 div.sk-toggleable__content pre {margin: 0.2em;color: black;border-radius: 0.25em;background-color: #f0f8ff;}#sk-container-id-3 input.sk-toggleable__control:checked~div.sk-toggleable__content {max-height: 200px;max-width: 100%;overflow: auto;}#sk-container-id-3 input.sk-toggleable__control:checked~label.sk-toggleable__label-arrow:before {content: \"▾\";}#sk-container-id-3 div.sk-estimator input.sk-toggleable__control:checked~label.sk-toggleable__label {background-color: #d4ebff;}#sk-container-id-3 div.sk-label input.sk-toggleable__control:checked~label.sk-toggleable__label {background-color: #d4ebff;}#sk-container-id-3 input.sk-hidden--visually {border: 0;clip: rect(1px 1px 1px 1px);clip: rect(1px, 1px, 1px, 1px);height: 1px;margin: -1px;overflow: hidden;padding: 0;position: absolute;width: 1px;}#sk-container-id-3 div.sk-estimator {font-family: monospace;background-color: #f0f8ff;border: 1px dotted black;border-radius: 0.25em;box-sizing: border-box;margin-bottom: 0.5em;}#sk-container-id-3 div.sk-estimator:hover {background-color: #d4ebff;}#sk-container-id-3 div.sk-parallel-item::after {content: \"\";width: 100%;border-bottom: 1px solid gray;flex-grow: 1;}#sk-container-id-3 div.sk-label:hover label.sk-toggleable__label {background-color: #d4ebff;}#sk-container-id-3 div.sk-serial::before {content: \"\";position: absolute;border-left: 1px solid gray;box-sizing: border-box;top: 0;bottom: 0;left: 50%;z-index: 0;}#sk-container-id-3 div.sk-serial {display: flex;flex-direction: column;align-items: center;background-color: white;padding-right: 0.2em;padding-left: 0.2em;position: relative;}#sk-container-id-3 div.sk-item {position: relative;z-index: 1;}#sk-container-id-3 div.sk-parallel {display: flex;align-items: stretch;justify-content: center;background-color: white;position: relative;}#sk-container-id-3 div.sk-item::before, #sk-container-id-3 div.sk-parallel-item::before {content: \"\";position: absolute;border-left: 1px solid gray;box-sizing: border-box;top: 0;bottom: 0;left: 50%;z-index: -1;}#sk-container-id-3 div.sk-parallel-item {display: flex;flex-direction: column;z-index: 1;position: relative;background-color: white;}#sk-container-id-3 div.sk-parallel-item:first-child::after {align-self: flex-end;width: 50%;}#sk-container-id-3 div.sk-parallel-item:last-child::after {align-self: flex-start;width: 50%;}#sk-container-id-3 div.sk-parallel-item:only-child::after {width: 0;}#sk-container-id-3 div.sk-dashed-wrapped {border: 1px dashed gray;margin: 0 0.4em 0.5em 0.4em;box-sizing: border-box;padding-bottom: 0.4em;background-color: white;}#sk-container-id-3 div.sk-label label {font-family: monospace;font-weight: bold;display: inline-block;line-height: 1.2em;}#sk-container-id-3 div.sk-label-container {text-align: center;}#sk-container-id-3 div.sk-container {/* jupyter's `normalize.less` sets `[hidden] { display: none; }` but bootstrap.min.css set `[hidden] { display: none !important; }` so we also need the `!important` here to be able to override the default hidden behavior on the sphinx rendered scikit-learn.org. See: https://github.com/scikit-learn/scikit-learn/issues/21755 */display: inline-block !important;position: relative;}#sk-container-id-3 div.sk-text-repr-fallback {display: none;}</style><div id=\"sk-container-id-3\" class=\"sk-top-container\"><div class=\"sk-text-repr-fallback\"><pre>GaussianNB()</pre><b>In a Jupyter environment, please rerun this cell to show the HTML representation or trust the notebook. <br />On GitHub, the HTML representation is unable to render, please try loading this page with nbviewer.org.</b></div><div class=\"sk-container\" hidden><div class=\"sk-item\"><div class=\"sk-estimator sk-toggleable\"><input class=\"sk-toggleable__control sk-hidden--visually\" id=\"sk-estimator-id-3\" type=\"checkbox\" checked><label for=\"sk-estimator-id-3\" class=\"sk-toggleable__label sk-toggleable__label-arrow\">GaussianNB</label><div class=\"sk-toggleable__content\"><pre>GaussianNB()</pre></div></div></div></div></div>"
      ],
      "text/plain": [
       "GaussianNB()"
      ]
     },
     "execution_count": 79,
     "metadata": {},
     "output_type": "execute_result"
    }
   ],
   "source": [
    "from sklearn.naive_bayes import GaussianNB\n",
    "\n",
    "#Created an obj for Gaussian Naive Bayes\n",
    "gnb = GaussianNB()\n",
    "gnb.fit(X_train, y_train)"
   ]
  },
  {
   "cell_type": "code",
   "execution_count": 80,
   "id": "ea386047",
   "metadata": {
    "colab": {
     "base_uri": "https://localhost:8080/"
    },
    "id": "ea386047",
    "outputId": "98ff72d8-ba6a-40c4-f621-d4d0dedde234"
   },
   "outputs": [
    {
     "data": {
      "text/plain": [
       "0.9696999170038386"
      ]
     },
     "execution_count": 80,
     "metadata": {},
     "output_type": "execute_result"
    }
   ],
   "source": [
    "#Training Accuracy\n",
    "gnb.score(X_train, y_train)"
   ]
  },
  {
   "cell_type": "code",
   "execution_count": 81,
   "id": "28aace29",
   "metadata": {
    "id": "28aace29"
   },
   "outputs": [
    {
     "name": "stdout",
     "output_type": "stream",
     "text": [
      "0.9703461631566207\n",
      "0.9696999170038386\n"
     ]
    }
   ],
   "source": [
    "#Testing Accuracy\n",
    "y_train_pred = gnb.predict(X_train)\n",
    "y_test_pred = gnb.predict(X_test)\n",
    "print(accuracy_score(y_test, y_test_pred))\n",
    "print(accuracy_score(y_train, y_train_pred))"
   ]
  },
  {
   "cell_type": "code",
   "execution_count": 82,
   "id": "1fa8cd6f",
   "metadata": {},
   "outputs": [
    {
     "data": {
      "text/plain": [
       "0.9932006535435556"
      ]
     },
     "execution_count": 82,
     "metadata": {},
     "output_type": "execute_result"
    }
   ],
   "source": [
    "precision_positive = metrics.precision_score(y_test, y_test_pred, average='weighted')\n",
    "precision_positive"
   ]
  },
  {
   "cell_type": "code",
   "execution_count": 83,
   "id": "0d8b290a",
   "metadata": {},
   "outputs": [
    {
     "data": {
      "text/plain": [
       "0.9931354380122999"
      ]
     },
     "execution_count": 83,
     "metadata": {},
     "output_type": "execute_result"
    }
   ],
   "source": [
    "precision_positive = metrics.precision_score(y_train, y_train_pred, average='weighted')\n",
    "precision_positive"
   ]
  },
  {
   "cell_type": "code",
   "execution_count": 84,
   "id": "54aab1f4",
   "metadata": {},
   "outputs": [
    {
     "data": {
      "text/plain": [
       "0.9703461631566207"
      ]
     },
     "execution_count": 84,
     "metadata": {},
     "output_type": "execute_result"
    }
   ],
   "source": [
    "recall_specificity = metrics.recall_score(y_test, y_test_pred, average='weighted')\n",
    "recall_specificity"
   ]
  },
  {
   "cell_type": "code",
   "execution_count": 85,
   "id": "30c8b054",
   "metadata": {},
   "outputs": [
    {
     "data": {
      "text/plain": [
       "0.9696999170038386"
      ]
     },
     "execution_count": 85,
     "metadata": {},
     "output_type": "execute_result"
    }
   ],
   "source": [
    "recall_specificity = metrics.recall_score(y_train, y_train_pred, average='weighted')\n",
    "recall_specificity"
   ]
  },
  {
   "cell_type": "code",
   "execution_count": 86,
   "id": "fdb6b3bd",
   "metadata": {},
   "outputs": [
    {
     "data": {
      "text/plain": [
       "array([0.00335289, 0.98469895, 0.93155912])"
      ]
     },
     "execution_count": 86,
     "metadata": {},
     "output_type": "execute_result"
    }
   ],
   "source": [
    "fbeta_score(y_train, y_train_pred, beta = 1, average = None)"
   ]
  },
  {
   "cell_type": "code",
   "execution_count": 87,
   "id": "6cm2qj-vq8XE",
   "metadata": {
    "colab": {
     "base_uri": "https://localhost:8080/"
    },
    "id": "6cm2qj-vq8XE",
    "outputId": "e9c2a90c-a92f-4e61-f467-7a4a5be6424d"
   },
   "outputs": [
    {
     "data": {
      "text/plain": [
       "array([0.        , 0.98489039, 0.93319792])"
      ]
     },
     "execution_count": 87,
     "metadata": {},
     "output_type": "execute_result"
    }
   ],
   "source": [
    "fbeta_score(y_test, y_test_pred, beta = 1, average = None)"
   ]
  },
  {
   "cell_type": "code",
   "execution_count": 88,
   "id": "e9e5bc63",
   "metadata": {
    "colab": {
     "base_uri": "https://localhost:8080/"
    },
    "id": "e9e5bc63",
    "outputId": "2e9efb5f-7cfa-4e10-fc82-3b19cb03b7ca"
   },
   "outputs": [
    {
     "data": {
      "image/png": "[encoded data removed]",
      "text/plain": [
       "<Figure size 576x396 with 2 Axes>"
      ]
     },
     "metadata": {},
     "output_type": "display_data"
    },
    {
     "data": {
      "text/plain": [
       "<AxesSubplot:title={'center':'GaussianNB Classification Report'}>"
      ]
     },
     "execution_count": 88,
     "metadata": {},
     "output_type": "execute_result"
    }
   ],
   "source": [
    "visualizer = ClassificationReport(gnb, support = True, color_bar = True, cmap = rnd.choice(colors))\n",
    "visualizer.fit(X_train, y_train)        \n",
    "visualizer.score(X_test, y_test)   \n",
    "visualizer.show()"
   ]
  },
  {
   "cell_type": "code",
   "execution_count": 89,
   "id": "97fb8c28",
   "metadata": {
    "colab": {
     "base_uri": "https://localhost:8080/"
    },
    "id": "97fb8c28",
    "outputId": "f2570f14-bb3e-4dee-81b5-a9dd1b7274e8"
   },
   "outputs": [
    {
     "data": {
      "image/png": "[encoded data removed]",
      "text/plain": [
       "<Figure size 576x396 with 1 Axes>"
      ]
     },
     "metadata": {},
     "output_type": "display_data"
    },
    {
     "data": {
      "text/plain": [
       "<AxesSubplot:title={'center':'GaussianNB Confusion Matrix'}, xlabel='Predicted Class', ylabel='True Class'>"
      ]
     },
     "execution_count": 89,
     "metadata": {},
     "output_type": "execute_result"
    }
   ],
   "source": [
    "visualizer = ConfusionMatrix(gnb, support = True, color_bar = True, cmap = rnd.choice(colors))\n",
    "visualizer.fit(X_train, y_train)        \n",
    "visualizer.score(X_test, y_test)   \n",
    "visualizer.show()"
   ]
  },
  {
   "cell_type": "markdown",
   "id": "d6d72a17",
   "metadata": {
    "id": "d6d72a17"
   },
   "source": [
    "# Random Forest"
   ]
  },
  {
   "cell_type": "code",
   "execution_count": 90,
   "id": "766d4990",
   "metadata": {
    "colab": {
     "base_uri": "https://localhost:8080/"
    },
    "id": "766d4990",
    "outputId": "fc0819fc-6aae-438d-bf13-e61dae85bd60"
   },
   "outputs": [
    {
     "data": {
      "text/html": [
       "<style>#sk-container-id-4 {color: black;background-color: white;}#sk-container-id-4 pre{padding: 0;}#sk-container-id-4 div.sk-toggleable {background-color: white;}#sk-container-id-4 label.sk-toggleable__label {cursor: pointer;display: block;width: 100%;margin-bottom: 0;padding: 0.3em;box-sizing: border-box;text-align: center;}#sk-container-id-4 label.sk-toggleable__label-arrow:before {content: \"▸\";float: left;margin-right: 0.25em;color: #696969;}#sk-container-id-4 label.sk-toggleable__label-arrow:hover:before {color: black;}#sk-container-id-4 div.sk-estimator:hover label.sk-toggleable__label-arrow:before {color: black;}#sk-container-id-4 div.sk-toggleable__content {max-height: 0;max-width: 0;overflow: hidden;text-align: left;background-color: #f0f8ff;}#sk-container-id-4 div.sk-toggleable__content pre {margin: 0.2em;color: black;border-radius: 0.25em;background-color: #f0f8ff;}#sk-container-id-4 input.sk-toggleable__control:checked~div.sk-toggleable__content {max-height: 200px;max-width: 100%;overflow: auto;}#sk-container-id-4 input.sk-toggleable__control:checked~label.sk-toggleable__label-arrow:before {content: \"▾\";}#sk-container-id-4 div.sk-estimator input.sk-toggleable__control:checked~label.sk-toggleable__label {background-color: #d4ebff;}#sk-container-id-4 div.sk-label input.sk-toggleable__control:checked~label.sk-toggleable__label {background-color: #d4ebff;}#sk-container-id-4 input.sk-hidden--visually {border: 0;clip: rect(1px 1px 1px 1px);clip: rect(1px, 1px, 1px, 1px);height: 1px;margin: -1px;overflow: hidden;padding: 0;position: absolute;width: 1px;}#sk-container-id-4 div.sk-estimator {font-family: monospace;background-color: #f0f8ff;border: 1px dotted black;border-radius: 0.25em;box-sizing: border-box;margin-bottom: 0.5em;}#sk-container-id-4 div.sk-estimator:hover {background-color: #d4ebff;}#sk-container-id-4 div.sk-parallel-item::after {content: \"\";width: 100%;border-bottom: 1px solid gray;flex-grow: 1;}#sk-container-id-4 div.sk-label:hover label.sk-toggleable__label {background-color: #d4ebff;}#sk-container-id-4 div.sk-serial::before {content: \"\";position: absolute;border-left: 1px solid gray;box-sizing: border-box;top: 0;bottom: 0;left: 50%;z-index: 0;}#sk-container-id-4 div.sk-serial {display: flex;flex-direction: column;align-items: center;background-color: white;padding-right: 0.2em;padding-left: 0.2em;position: relative;}#sk-container-id-4 div.sk-item {position: relative;z-index: 1;}#sk-container-id-4 div.sk-parallel {display: flex;align-items: stretch;justify-content: center;background-color: white;position: relative;}#sk-container-id-4 div.sk-item::before, #sk-container-id-4 div.sk-parallel-item::before {content: \"\";position: absolute;border-left: 1px solid gray;box-sizing: border-box;top: 0;bottom: 0;left: 50%;z-index: -1;}#sk-container-id-4 div.sk-parallel-item {display: flex;flex-direction: column;z-index: 1;position: relative;background-color: white;}#sk-container-id-4 div.sk-parallel-item:first-child::after {align-self: flex-end;width: 50%;}#sk-container-id-4 div.sk-parallel-item:last-child::after {align-self: flex-start;width: 50%;}#sk-container-id-4 div.sk-parallel-item:only-child::after {width: 0;}#sk-container-id-4 div.sk-dashed-wrapped {border: 1px dashed gray;margin: 0 0.4em 0.5em 0.4em;box-sizing: border-box;padding-bottom: 0.4em;background-color: white;}#sk-container-id-4 div.sk-label label {font-family: monospace;font-weight: bold;display: inline-block;line-height: 1.2em;}#sk-container-id-4 div.sk-label-container {text-align: center;}#sk-container-id-4 div.sk-container {/* jupyter's `normalize.less` sets `[hidden] { display: none; }` but bootstrap.min.css set `[hidden] { display: none !important; }` so we also need the `!important` here to be able to override the default hidden behavior on the sphinx rendered scikit-learn.org. See: https://github.com/scikit-learn/scikit-learn/issues/21755 */display: inline-block !important;position: relative;}#sk-container-id-4 div.sk-text-repr-fallback {display: none;}</style><div id=\"sk-container-id-4\" class=\"sk-top-container\"><div class=\"sk-text-repr-fallback\"><pre>RandomForestClassifier(max_depth=25, min_samples_split=5, n_estimators=200,\n",
       "                       random_state=10)</pre><b>In a Jupyter environment, please rerun this cell to show the HTML representation or trust the notebook. <br />On GitHub, the HTML representation is unable to render, please try loading this page with nbviewer.org.</b></div><div class=\"sk-container\" hidden><div class=\"sk-item\"><div class=\"sk-estimator sk-toggleable\"><input class=\"sk-toggleable__control sk-hidden--visually\" id=\"sk-estimator-id-4\" type=\"checkbox\" checked><label for=\"sk-estimator-id-4\" class=\"sk-toggleable__label sk-toggleable__label-arrow\">RandomForestClassifier</label><div class=\"sk-toggleable__content\"><pre>RandomForestClassifier(max_depth=25, min_samples_split=5, n_estimators=200,\n",
       "                       random_state=10)</pre></div></div></div></div></div>"
      ],
      "text/plain": [
       "RandomForestClassifier(max_depth=25, min_samples_split=5, n_estimators=200,\n",
       "                       random_state=10)"
      ]
     },
     "execution_count": 90,
     "metadata": {},
     "output_type": "execute_result"
    }
   ],
   "source": [
    "from sklearn.ensemble import RandomForestClassifier\n",
    "\n",
    "#Created an obj for Random Forest\n",
    "rand_for = RandomForestClassifier(n_jobs = None, max_depth = 25, min_samples_split = 5, random_state = 10, n_estimators= 200)\n",
    "rand_for.fit(X_train, y_train)"
   ]
  },
  {
   "cell_type": "code",
   "execution_count": 91,
   "id": "54810475",
   "metadata": {
    "colab": {
     "base_uri": "https://localhost:8080/"
    },
    "id": "54810475",
    "outputId": "c2d7e5bd-0fdc-43a1-c579-76e7aea96527"
   },
   "outputs": [
    {
     "data": {
      "text/plain": [
       "0.999987031849777"
      ]
     },
     "execution_count": 91,
     "metadata": {},
     "output_type": "execute_result"
    }
   ],
   "source": [
    "#Training Accuracy\n",
    "rand_for.score(X_train, y_train)"
   ]
  },
  {
   "cell_type": "code",
   "execution_count": 92,
   "id": "32256739",
   "metadata": {
    "colab": {
     "base_uri": "https://localhost:8080/"
    },
    "id": "32256739",
    "outputId": "1b60f1b4-f3b9-4f65-846a-476e3ab39f25"
   },
   "outputs": [
    {
     "name": "stdout",
     "output_type": "stream",
     "text": [
      "0.9998487049140644\n",
      "0.999987031849777\n"
     ]
    }
   ],
   "source": [
    "#Testing Accuracy\n",
    "y_train_pred = rand_for.predict(X_train)\n",
    "y_test_pred = rand_for.predict(X_test)\n",
    "print(accuracy_score(y_test, y_test_pred))\n",
    "print(accuracy_score(y_train, y_train_pred))"
   ]
  },
  {
   "cell_type": "code",
   "execution_count": 93,
   "id": "f49ca164",
   "metadata": {},
   "outputs": [
    {
     "data": {
      "text/plain": [
       "0.9998486684389223"
      ]
     },
     "execution_count": 93,
     "metadata": {},
     "output_type": "execute_result"
    }
   ],
   "source": [
    "precision_positive = metrics.precision_score(y_test, y_test_pred, average='weighted')\n",
    "precision_positive"
   ]
  },
  {
   "cell_type": "code",
   "execution_count": 94,
   "id": "887292e6",
   "metadata": {},
   "outputs": [
    {
     "data": {
      "text/plain": [
       "0.9999870325313"
      ]
     },
     "execution_count": 94,
     "metadata": {},
     "output_type": "execute_result"
    }
   ],
   "source": [
    "precision_positive = metrics.precision_score(y_train, y_train_pred, average='weighted')\n",
    "precision_positive"
   ]
  },
  {
   "cell_type": "code",
   "execution_count": 95,
   "id": "fc123874",
   "metadata": {},
   "outputs": [
    {
     "data": {
      "text/plain": [
       "0.9998487049140644"
      ]
     },
     "execution_count": 95,
     "metadata": {},
     "output_type": "execute_result"
    }
   ],
   "source": [
    "recall_specificity = metrics.recall_score(y_test, y_test_pred, average='weighted')\n",
    "recall_specificity"
   ]
  },
  {
   "cell_type": "code",
   "execution_count": 96,
   "id": "14507302",
   "metadata": {},
   "outputs": [
    {
     "data": {
      "text/plain": [
       "0.999987031849777"
      ]
     },
     "execution_count": 96,
     "metadata": {},
     "output_type": "execute_result"
    }
   ],
   "source": [
    "recall_specificity = metrics.recall_score(y_train, y_train_pred, average='weighted')\n",
    "recall_specificity"
   ]
  },
  {
   "cell_type": "code",
   "execution_count": 97,
   "id": "796f0d45",
   "metadata": {},
   "outputs": [
    {
     "data": {
      "text/plain": [
       "array([0.8       , 0.99999653, 0.99995092])"
      ]
     },
     "execution_count": 97,
     "metadata": {},
     "output_type": "execute_result"
    }
   ],
   "source": [
    "fbeta_score(y_train, y_train_pred, beta = 1, average = None)"
   ]
  },
  {
   "cell_type": "code",
   "execution_count": 98,
   "id": "Zntgis1xq9i0",
   "metadata": {
    "colab": {
     "base_uri": "https://localhost:8080/"
    },
    "id": "Zntgis1xq9i0",
    "outputId": "5c76a2bb-e0b8-4b6c-a6de-7c8ed67868c4"
   },
   "outputs": [
    {
     "data": {
      "text/plain": [
       "array([0.        , 0.99993528, 0.99883423])"
      ]
     },
     "execution_count": 98,
     "metadata": {},
     "output_type": "execute_result"
    }
   ],
   "source": [
    "fbeta_score(y_test, y_test_pred, beta = 1, average = None)"
   ]
  },
  {
   "cell_type": "code",
   "execution_count": 99,
   "id": "79396ef9",
   "metadata": {
    "colab": {
     "base_uri": "https://localhost:8080/"
    },
    "id": "79396ef9",
    "outputId": "68a75eea-0e32-4df9-d893-5eaf167c8432"
   },
   "outputs": [
    {
     "data": {
      "image/png": "[encoded data removed]",
      "text/plain": [
       "<Figure size 576x396 with 2 Axes>"
      ]
     },
     "metadata": {},
     "output_type": "display_data"
    },
    {
     "data": {
      "text/plain": [
       "<AxesSubplot:title={'center':'RandomForestClassifier Classification Report'}>"
      ]
     },
     "execution_count": 99,
     "metadata": {},
     "output_type": "execute_result"
    }
   ],
   "source": [
    "visualizer = ClassificationReport(rand_for, support = True, color_bar = True, cmap = rnd.choice(colors))\n",
    "visualizer.fit(X_train, y_train)        \n",
    "visualizer.score(X_test, y_test)   \n",
    "visualizer.show()"
   ]
  },
  {
   "cell_type": "code",
   "execution_count": 100,
   "id": "492d0a43",
   "metadata": {
    "colab": {
     "base_uri": "https://localhost:8080/"
    },
    "id": "492d0a43",
    "outputId": "868ad801-4ec1-4a59-c6b7-abf0d7b8385c"
   },
   "outputs": [
    {
     "data": {
      "image/png": "[encoded data removed]",
      "text/plain": [
       "<Figure size 576x396 with 1 Axes>"
      ]
     },
     "metadata": {},
     "output_type": "display_data"
    },
    {
     "data": {
      "text/plain": [
       "<AxesSubplot:title={'center':'RandomForestClassifier Confusion Matrix'}, xlabel='Predicted Class', ylabel='True Class'>"
      ]
     },
     "execution_count": 100,
     "metadata": {},
     "output_type": "execute_result"
    }
   ],
   "source": [
    "visualizer = ConfusionMatrix(rand_for, support = True, color_bar = True, cmap = rnd.choice(colors))\n",
    "visualizer.fit(X_train, y_train)        \n",
    "visualizer.score(X_test, y_test)   \n",
    "visualizer.show()"
   ]
  },
  {
   "cell_type": "markdown",
   "id": "493a7fa4",
   "metadata": {
    "id": "493a7fa4"
   },
   "source": [
    "# K-Nearest Neighbors"
   ]
  },
  {
   "cell_type": "code",
   "execution_count": 101,
   "id": "c6caa1f1",
   "metadata": {
    "colab": {
     "base_uri": "https://localhost:8080/"
    },
    "id": "c6caa1f1",
    "outputId": "fdc9f20b-cbc2-4581-d83b-a9e90cc84778"
   },
   "outputs": [
    {
     "data": {
      "text/html": [
       "<style>#sk-container-id-5 {color: black;background-color: white;}#sk-container-id-5 pre{padding: 0;}#sk-container-id-5 div.sk-toggleable {background-color: white;}#sk-container-id-5 label.sk-toggleable__label {cursor: pointer;display: block;width: 100%;margin-bottom: 0;padding: 0.3em;box-sizing: border-box;text-align: center;}#sk-container-id-5 label.sk-toggleable__label-arrow:before {content: \"▸\";float: left;margin-right: 0.25em;color: #696969;}#sk-container-id-5 label.sk-toggleable__label-arrow:hover:before {color: black;}#sk-container-id-5 div.sk-estimator:hover label.sk-toggleable__label-arrow:before {color: black;}#sk-container-id-5 div.sk-toggleable__content {max-height: 0;max-width: 0;overflow: hidden;text-align: left;background-color: #f0f8ff;}#sk-container-id-5 div.sk-toggleable__content pre {margin: 0.2em;color: black;border-radius: 0.25em;background-color: #f0f8ff;}#sk-container-id-5 input.sk-toggleable__control:checked~div.sk-toggleable__content {max-height: 200px;max-width: 100%;overflow: auto;}#sk-container-id-5 input.sk-toggleable__control:checked~label.sk-toggleable__label-arrow:before {content: \"▾\";}#sk-container-id-5 div.sk-estimator input.sk-toggleable__control:checked~label.sk-toggleable__label {background-color: #d4ebff;}#sk-container-id-5 div.sk-label input.sk-toggleable__control:checked~label.sk-toggleable__label {background-color: #d4ebff;}#sk-container-id-5 input.sk-hidden--visually {border: 0;clip: rect(1px 1px 1px 1px);clip: rect(1px, 1px, 1px, 1px);height: 1px;margin: -1px;overflow: hidden;padding: 0;position: absolute;width: 1px;}#sk-container-id-5 div.sk-estimator {font-family: monospace;background-color: #f0f8ff;border: 1px dotted black;border-radius: 0.25em;box-sizing: border-box;margin-bottom: 0.5em;}#sk-container-id-5 div.sk-estimator:hover {background-color: #d4ebff;}#sk-container-id-5 div.sk-parallel-item::after {content: \"\";width: 100%;border-bottom: 1px solid gray;flex-grow: 1;}#sk-container-id-5 div.sk-label:hover label.sk-toggleable__label {background-color: #d4ebff;}#sk-container-id-5 div.sk-serial::before {content: \"\";position: absolute;border-left: 1px solid gray;box-sizing: border-box;top: 0;bottom: 0;left: 50%;z-index: 0;}#sk-container-id-5 div.sk-serial {display: flex;flex-direction: column;align-items: center;background-color: white;padding-right: 0.2em;padding-left: 0.2em;position: relative;}#sk-container-id-5 div.sk-item {position: relative;z-index: 1;}#sk-container-id-5 div.sk-parallel {display: flex;align-items: stretch;justify-content: center;background-color: white;position: relative;}#sk-container-id-5 div.sk-item::before, #sk-container-id-5 div.sk-parallel-item::before {content: \"\";position: absolute;border-left: 1px solid gray;box-sizing: border-box;top: 0;bottom: 0;left: 50%;z-index: -1;}#sk-container-id-5 div.sk-parallel-item {display: flex;flex-direction: column;z-index: 1;position: relative;background-color: white;}#sk-container-id-5 div.sk-parallel-item:first-child::after {align-self: flex-end;width: 50%;}#sk-container-id-5 div.sk-parallel-item:last-child::after {align-self: flex-start;width: 50%;}#sk-container-id-5 div.sk-parallel-item:only-child::after {width: 0;}#sk-container-id-5 div.sk-dashed-wrapped {border: 1px dashed gray;margin: 0 0.4em 0.5em 0.4em;box-sizing: border-box;padding-bottom: 0.4em;background-color: white;}#sk-container-id-5 div.sk-label label {font-family: monospace;font-weight: bold;display: inline-block;line-height: 1.2em;}#sk-container-id-5 div.sk-label-container {text-align: center;}#sk-container-id-5 div.sk-container {/* jupyter's `normalize.less` sets `[hidden] { display: none; }` but bootstrap.min.css set `[hidden] { display: none !important; }` so we also need the `!important` here to be able to override the default hidden behavior on the sphinx rendered scikit-learn.org. See: https://github.com/scikit-learn/scikit-learn/issues/21755 */display: inline-block !important;position: relative;}#sk-container-id-5 div.sk-text-repr-fallback {display: none;}</style><div id=\"sk-container-id-5\" class=\"sk-top-container\"><div class=\"sk-text-repr-fallback\"><pre>KNeighborsClassifier(n_jobs=-1, n_neighbors=6)</pre><b>In a Jupyter environment, please rerun this cell to show the HTML representation or trust the notebook. <br />On GitHub, the HTML representation is unable to render, please try loading this page with nbviewer.org.</b></div><div class=\"sk-container\" hidden><div class=\"sk-item\"><div class=\"sk-estimator sk-toggleable\"><input class=\"sk-toggleable__control sk-hidden--visually\" id=\"sk-estimator-id-5\" type=\"checkbox\" checked><label for=\"sk-estimator-id-5\" class=\"sk-toggleable__label sk-toggleable__label-arrow\">KNeighborsClassifier</label><div class=\"sk-toggleable__content\"><pre>KNeighborsClassifier(n_jobs=-1, n_neighbors=6)</pre></div></div></div></div></div>"
      ],
      "text/plain": [
       "KNeighborsClassifier(n_jobs=-1, n_neighbors=6)"
      ]
     },
     "execution_count": 101,
     "metadata": {},
     "output_type": "execute_result"
    }
   ],
   "source": [
    "from sklearn.neighbors import KNeighborsClassifier\n",
    "\n",
    "#Created an obj for K - Nearest Neighbors\n",
    "knc = KNeighborsClassifier(n_jobs = -1, n_neighbors = 6)\n",
    "knc.fit(X_train, y_train)"
   ]
  },
  {
   "cell_type": "code",
   "execution_count": 102,
   "id": "1d181889",
   "metadata": {
    "colab": {
     "base_uri": "https://localhost:8080/"
    },
    "id": "1d181889",
    "outputId": "d1a1c584-e520-42a2-e32d-67a10221717d"
   },
   "outputs": [
    {
     "data": {
      "text/plain": [
       "0.9998573503475464"
      ]
     },
     "execution_count": 102,
     "metadata": {},
     "output_type": "execute_result"
    }
   ],
   "source": [
    "#Training Accuracy\n",
    "knc.score(X_train, y_train)"
   ]
  },
  {
   "cell_type": "code",
   "execution_count": 103,
   "id": "e33252b6",
   "metadata": {
    "colab": {
     "base_uri": "https://localhost:8080/"
    },
    "id": "e33252b6",
    "outputId": "9e39b6fe-84ea-494d-9552-c815d5f021c4"
   },
   "outputs": [
    {
     "name": "stdout",
     "output_type": "stream",
     "text": [
      "0.9997276688453159\n",
      "0.9998573503475464\n"
     ]
    }
   ],
   "source": [
    "#Testing Accuracy\n",
    "y_train_pred = knc.predict(X_train)\n",
    "y_test_pred = knc.predict(X_test)\n",
    "print(accuracy_score(y_test, y_test_pred))\n",
    "print(accuracy_score(y_train, y_train_pred))"
   ]
  },
  {
   "cell_type": "code",
   "execution_count": 104,
   "id": "53243d99",
   "metadata": {},
   "outputs": [
    {
     "data": {
      "text/plain": [
       "0.9997125022079054"
      ]
     },
     "execution_count": 104,
     "metadata": {},
     "output_type": "execute_result"
    }
   ],
   "source": [
    "precision_positive = metrics.precision_score(y_test, y_test_pred, average='weighted')\n",
    "precision_positive"
   ]
  },
  {
   "cell_type": "code",
   "execution_count": 105,
   "id": "402d5b2e",
   "metadata": {},
   "outputs": [
    {
     "data": {
      "text/plain": [
       "0.9998184351138604"
      ]
     },
     "execution_count": 105,
     "metadata": {},
     "output_type": "execute_result"
    }
   ],
   "source": [
    "precision_positive = metrics.precision_score(y_train, y_train_pred, average='weighted')\n",
    "precision_positive"
   ]
  },
  {
   "cell_type": "code",
   "execution_count": 106,
   "id": "eb5d966d",
   "metadata": {},
   "outputs": [
    {
     "data": {
      "text/plain": [
       "0.9997276688453159"
      ]
     },
     "execution_count": 106,
     "metadata": {},
     "output_type": "execute_result"
    }
   ],
   "source": [
    "recall_specificity = metrics.recall_score(y_test, y_test_pred, average='weighted')\n",
    "recall_specificity"
   ]
  },
  {
   "cell_type": "code",
   "execution_count": 107,
   "id": "beec22f6",
   "metadata": {},
   "outputs": [
    {
     "data": {
      "text/plain": [
       "0.9998573503475464"
      ]
     },
     "execution_count": 107,
     "metadata": {},
     "output_type": "execute_result"
    }
   ],
   "source": [
    "recall_specificity = metrics.recall_score(y_train, y_train_pred, average='weighted')\n",
    "recall_specificity"
   ]
  },
  {
   "cell_type": "code",
   "execution_count": 108,
   "id": "2558d5cf",
   "metadata": {},
   "outputs": [
    {
     "data": {
      "text/plain": [
       "array([0.        , 0.9999271 , 0.99916515])"
      ]
     },
     "execution_count": 108,
     "metadata": {},
     "output_type": "execute_result"
    }
   ],
   "source": [
    "fbeta_score(y_train, y_train_pred, beta = 1, average = None)"
   ]
  },
  {
   "cell_type": "code",
   "execution_count": 109,
   "id": "yWIbobYBO-Wr",
   "metadata": {
    "colab": {
     "base_uri": "https://localhost:8080/"
    },
    "id": "yWIbobYBO-Wr",
    "outputId": "3b5c1cab-972a-47cd-bb43-872ee96b0ec9"
   },
   "outputs": [
    {
     "data": {
      "text/plain": [
       "array([0.        , 0.99985439, 0.9980161 ])"
      ]
     },
     "execution_count": 109,
     "metadata": {},
     "output_type": "execute_result"
    }
   ],
   "source": [
    "fbeta_score(y_test, y_test_pred, beta = 1, average = None)"
   ]
  },
  {
   "cell_type": "code",
   "execution_count": 110,
   "id": "dacf0af7",
   "metadata": {
    "colab": {
     "base_uri": "https://localhost:8080/"
    },
    "id": "dacf0af7",
    "outputId": "c80a143f-4da6-4389-eb32-bd1cb7708e30"
   },
   "outputs": [
    {
     "data": {
      "image/png": "[encoded data removed]",
      "text/plain": [
       "<Figure size 576x396 with 2 Axes>"
      ]
     },
     "metadata": {},
     "output_type": "display_data"
    },
    {
     "data": {
      "text/plain": [
       "<AxesSubplot:title={'center':'KNeighborsClassifier Classification Report'}>"
      ]
     },
     "execution_count": 110,
     "metadata": {},
     "output_type": "execute_result"
    }
   ],
   "source": [
    "visualizer = ClassificationReport(knc, support = True, color_bar = True, cmap = rnd.choice(colors))\n",
    "visualizer.fit(X_train, y_train)        \n",
    "visualizer.score(X_test, y_test)   \n",
    "visualizer.show() "
   ]
  },
  {
   "cell_type": "code",
   "execution_count": 111,
   "id": "5adecfa4",
   "metadata": {
    "colab": {
     "base_uri": "https://localhost:8080/"
    },
    "id": "5adecfa4",
    "outputId": "9594a014-c7f5-4efa-8882-78d9ada55672"
   },
   "outputs": [
    {
     "data": {
      "image/png": "[encoded data removed]",
      "text/plain": [
       "<Figure size 576x396 with 1 Axes>"
      ]
     },
     "metadata": {},
     "output_type": "display_data"
    },
    {
     "data": {
      "text/plain": [
       "<AxesSubplot:title={'center':'KNeighborsClassifier Confusion Matrix'}, xlabel='Predicted Class', ylabel='True Class'>"
      ]
     },
     "execution_count": 111,
     "metadata": {},
     "output_type": "execute_result"
    }
   ],
   "source": [
    "visualizer = ConfusionMatrix(knc, support = True, color_bar = True, cmap = rnd.choice(colors))\n",
    "visualizer.fit(X_train, y_train)        \n",
    "visualizer.score(X_test, y_test)   \n",
    "visualizer.show() "
   ]
  },
  {
   "cell_type": "markdown",
   "id": "203f97c7",
   "metadata": {
    "id": "203f97c7"
   },
   "source": [
    "# Support Vector Machine"
   ]
  },
  {
   "cell_type": "code",
   "execution_count": 112,
   "id": "f79a2b11",
   "metadata": {
    "colab": {
     "base_uri": "https://localhost:8080/"
    },
    "id": "f79a2b11",
    "outputId": "c5f73c77-adc8-4f91-c000-4b59592ba7b7"
   },
   "outputs": [
    {
     "data": {
      "text/html": [
       "<style>#sk-container-id-6 {color: black;background-color: white;}#sk-container-id-6 pre{padding: 0;}#sk-container-id-6 div.sk-toggleable {background-color: white;}#sk-container-id-6 label.sk-toggleable__label {cursor: pointer;display: block;width: 100%;margin-bottom: 0;padding: 0.3em;box-sizing: border-box;text-align: center;}#sk-container-id-6 label.sk-toggleable__label-arrow:before {content: \"▸\";float: left;margin-right: 0.25em;color: #696969;}#sk-container-id-6 label.sk-toggleable__label-arrow:hover:before {color: black;}#sk-container-id-6 div.sk-estimator:hover label.sk-toggleable__label-arrow:before {color: black;}#sk-container-id-6 div.sk-toggleable__content {max-height: 0;max-width: 0;overflow: hidden;text-align: left;background-color: #f0f8ff;}#sk-container-id-6 div.sk-toggleable__content pre {margin: 0.2em;color: black;border-radius: 0.25em;background-color: #f0f8ff;}#sk-container-id-6 input.sk-toggleable__control:checked~div.sk-toggleable__content {max-height: 200px;max-width: 100%;overflow: auto;}#sk-container-id-6 input.sk-toggleable__control:checked~label.sk-toggleable__label-arrow:before {content: \"▾\";}#sk-container-id-6 div.sk-estimator input.sk-toggleable__control:checked~label.sk-toggleable__label {background-color: #d4ebff;}#sk-container-id-6 div.sk-label input.sk-toggleable__control:checked~label.sk-toggleable__label {background-color: #d4ebff;}#sk-container-id-6 input.sk-hidden--visually {border: 0;clip: rect(1px 1px 1px 1px);clip: rect(1px, 1px, 1px, 1px);height: 1px;margin: -1px;overflow: hidden;padding: 0;position: absolute;width: 1px;}#sk-container-id-6 div.sk-estimator {font-family: monospace;background-color: #f0f8ff;border: 1px dotted black;border-radius: 0.25em;box-sizing: border-box;margin-bottom: 0.5em;}#sk-container-id-6 div.sk-estimator:hover {background-color: #d4ebff;}#sk-container-id-6 div.sk-parallel-item::after {content: \"\";width: 100%;border-bottom: 1px solid gray;flex-grow: 1;}#sk-container-id-6 div.sk-label:hover label.sk-toggleable__label {background-color: #d4ebff;}#sk-container-id-6 div.sk-serial::before {content: \"\";position: absolute;border-left: 1px solid gray;box-sizing: border-box;top: 0;bottom: 0;left: 50%;z-index: 0;}#sk-container-id-6 div.sk-serial {display: flex;flex-direction: column;align-items: center;background-color: white;padding-right: 0.2em;padding-left: 0.2em;position: relative;}#sk-container-id-6 div.sk-item {position: relative;z-index: 1;}#sk-container-id-6 div.sk-parallel {display: flex;align-items: stretch;justify-content: center;background-color: white;position: relative;}#sk-container-id-6 div.sk-item::before, #sk-container-id-6 div.sk-parallel-item::before {content: \"\";position: absolute;border-left: 1px solid gray;box-sizing: border-box;top: 0;bottom: 0;left: 50%;z-index: -1;}#sk-container-id-6 div.sk-parallel-item {display: flex;flex-direction: column;z-index: 1;position: relative;background-color: white;}#sk-container-id-6 div.sk-parallel-item:first-child::after {align-self: flex-end;width: 50%;}#sk-container-id-6 div.sk-parallel-item:last-child::after {align-self: flex-start;width: 50%;}#sk-container-id-6 div.sk-parallel-item:only-child::after {width: 0;}#sk-container-id-6 div.sk-dashed-wrapped {border: 1px dashed gray;margin: 0 0.4em 0.5em 0.4em;box-sizing: border-box;padding-bottom: 0.4em;background-color: white;}#sk-container-id-6 div.sk-label label {font-family: monospace;font-weight: bold;display: inline-block;line-height: 1.2em;}#sk-container-id-6 div.sk-label-container {text-align: center;}#sk-container-id-6 div.sk-container {/* jupyter's `normalize.less` sets `[hidden] { display: none; }` but bootstrap.min.css set `[hidden] { display: none !important; }` so we also need the `!important` here to be able to override the default hidden behavior on the sphinx rendered scikit-learn.org. See: https://github.com/scikit-learn/scikit-learn/issues/21755 */display: inline-block !important;position: relative;}#sk-container-id-6 div.sk-text-repr-fallback {display: none;}</style><div id=\"sk-container-id-6\" class=\"sk-top-container\"><div class=\"sk-text-repr-fallback\"><pre>SVC(C=0.25, kernel=&#x27;linear&#x27;, random_state=10)</pre><b>In a Jupyter environment, please rerun this cell to show the HTML representation or trust the notebook. <br />On GitHub, the HTML representation is unable to render, please try loading this page with nbviewer.org.</b></div><div class=\"sk-container\" hidden><div class=\"sk-item\"><div class=\"sk-estimator sk-toggleable\"><input class=\"sk-toggleable__control sk-hidden--visually\" id=\"sk-estimator-id-6\" type=\"checkbox\" checked><label for=\"sk-estimator-id-6\" class=\"sk-toggleable__label sk-toggleable__label-arrow\">SVC</label><div class=\"sk-toggleable__content\"><pre>SVC(C=0.25, kernel=&#x27;linear&#x27;, random_state=10)</pre></div></div></div></div></div>"
      ],
      "text/plain": [
       "SVC(C=0.25, kernel='linear', random_state=10)"
      ]
     },
     "execution_count": 112,
     "metadata": {},
     "output_type": "execute_result"
    }
   ],
   "source": [
    "from sklearn.svm import SVC\n",
    "\n",
    "#Created an obj for SVM\n",
    "svm = SVC(C = 0.25, kernel = 'linear', random_state = 10)\n",
    "svm.fit(X_train, y_train)"
   ]
  },
  {
   "cell_type": "code",
   "execution_count": 113,
   "id": "c73367ab",
   "metadata": {
    "colab": {
     "base_uri": "https://localhost:8080/"
    },
    "id": "c73367ab",
    "outputId": "88549940-10d0-47a6-b374-18cfa2dab133"
   },
   "outputs": [
    {
     "data": {
      "text/plain": [
       "0.9981196182176574"
      ]
     },
     "execution_count": 113,
     "metadata": {},
     "output_type": "execute_result"
    }
   ],
   "source": [
    "#Training Accuracy\n",
    "svm.score(X_train, y_train)"
   ]
  },
  {
   "cell_type": "code",
   "execution_count": 114,
   "id": "6bf15b3a",
   "metadata": {
    "colab": {
     "base_uri": "https://localhost:8080/"
    },
    "id": "6bf15b3a",
    "outputId": "b68d6e32-34dc-4fa1-c017-4669d4c7f450"
   },
   "outputs": [
    {
     "name": "stdout",
     "output_type": "stream",
     "text": [
      "0.9982752360203341\n",
      "0.9981196182176574\n"
     ]
    }
   ],
   "source": [
    "#Testing Accuracy\n",
    "y_train_pred = svm.predict(X_train)\n",
    "y_test_pred = svm.predict(X_test)\n",
    "print(accuracy_score(y_test, y_test_pred))\n",
    "print(accuracy_score(y_train, y_train_pred))"
   ]
  },
  {
   "cell_type": "code",
   "execution_count": 115,
   "id": "8cb42b88",
   "metadata": {},
   "outputs": [
    {
     "data": {
      "text/plain": [
       "0.998295059831406"
      ]
     },
     "execution_count": 115,
     "metadata": {},
     "output_type": "execute_result"
    }
   ],
   "source": [
    "precision_positive = metrics.precision_score(y_test, y_test_pred, average='weighted')\n",
    "precision_positive"
   ]
  },
  {
   "cell_type": "code",
   "execution_count": 116,
   "id": "8a471964",
   "metadata": {},
   "outputs": [
    {
     "data": {
      "text/plain": [
       "0.998181913088934"
      ]
     },
     "execution_count": 116,
     "metadata": {},
     "output_type": "execute_result"
    }
   ],
   "source": [
    "precision_positive = metrics.precision_score(y_train, y_train_pred, average='weighted')\n",
    "precision_positive"
   ]
  },
  {
   "cell_type": "code",
   "execution_count": 117,
   "id": "a0c46c6b",
   "metadata": {},
   "outputs": [
    {
     "data": {
      "text/plain": [
       "0.9982752360203341"
      ]
     },
     "execution_count": 117,
     "metadata": {},
     "output_type": "execute_result"
    }
   ],
   "source": [
    "recall_specificity = metrics.recall_score(y_test, y_test_pred, average='weighted')\n",
    "recall_specificity"
   ]
  },
  {
   "cell_type": "code",
   "execution_count": 118,
   "id": "2191b675",
   "metadata": {},
   "outputs": [
    {
     "data": {
      "text/plain": [
       "0.9981196182176574"
      ]
     },
     "execution_count": 118,
     "metadata": {},
     "output_type": "execute_result"
    }
   ],
   "source": [
    "recall_specificity = metrics.recall_score(y_train, y_train_pred, average='weighted')\n",
    "recall_specificity"
   ]
  },
  {
   "cell_type": "code",
   "execution_count": 119,
   "id": "637af09e",
   "metadata": {},
   "outputs": [
    {
     "data": {
      "text/plain": [
       "array([0.        , 0.99901046, 0.98657784])"
      ]
     },
     "execution_count": 119,
     "metadata": {},
     "output_type": "execute_result"
    }
   ],
   "source": [
    "fbeta_score(y_train, y_train_pred, beta = 1, average = None)"
   ]
  },
  {
   "cell_type": "code",
   "execution_count": 120,
   "id": "k4IN6d9Mq_Zv",
   "metadata": {
    "colab": {
     "base_uri": "https://localhost:8080/"
    },
    "id": "k4IN6d9Mq_Zv",
    "outputId": "653cce58-4f77-4973-d00b-b9aa693ae703"
   },
   "outputs": [
    {
     "data": {
      "text/plain": [
       "array([0.        , 0.99909375, 0.98686505])"
      ]
     },
     "execution_count": 120,
     "metadata": {},
     "output_type": "execute_result"
    }
   ],
   "source": [
    "fbeta_score(y_test, y_test_pred, beta = 1, average = None)"
   ]
  },
  {
   "cell_type": "code",
   "execution_count": 121,
   "id": "d12448c4",
   "metadata": {
    "colab": {
     "base_uri": "https://localhost:8080/"
    },
    "id": "d12448c4",
    "outputId": "29e78012-78e5-4a21-a48c-c58d7b8592f5"
   },
   "outputs": [
    {
     "data": {
      "image/png": "[encoded data removed]",
      "text/plain": [
       "<Figure size 576x396 with 2 Axes>"
      ]
     },
     "metadata": {},
     "output_type": "display_data"
    },
    {
     "data": {
      "text/plain": [
       "<AxesSubplot:title={'center':'SVC Classification Report'}>"
      ]
     },
     "execution_count": 121,
     "metadata": {},
     "output_type": "execute_result"
    }
   ],
   "source": [
    "visualizer = ClassificationReport(svm, support = True, color_bar = True, cmap = rnd.choice(colors))\n",
    "visualizer.fit(X_train, y_train)        \n",
    "visualizer.score(X_test, y_test)   \n",
    "visualizer.show()"
   ]
  },
  {
   "cell_type": "code",
   "execution_count": 122,
   "id": "6530e292",
   "metadata": {
    "colab": {
     "base_uri": "https://localhost:8080/"
    },
    "id": "6530e292",
    "outputId": "ead02df0-287b-4447-bd40-c4e83a6ec31a"
   },
   "outputs": [
    {
     "data": {
      "image/png": "[encoded data removed]",
      "text/plain": [
       "<Figure size 576x396 with 1 Axes>"
      ]
     },
     "metadata": {},
     "output_type": "display_data"
    },
    {
     "data": {
      "text/plain": [
       "<AxesSubplot:title={'center':'SVC Confusion Matrix'}, xlabel='Predicted Class', ylabel='True Class'>"
      ]
     },
     "execution_count": 122,
     "metadata": {},
     "output_type": "execute_result"
    }
   ],
   "source": [
    "visualizer = ConfusionMatrix(svm, support = True, color_bar = True, cmap = rnd.choice(colors))\n",
    "visualizer.fit(X_train, y_train)        \n",
    "visualizer.score(X_test, y_test)   \n",
    "visualizer.show()"
   ]
  },
  {
   "cell_type": "markdown",
   "id": "1f814dd4",
   "metadata": {
    "id": "1f814dd4"
   },
   "source": [
    "# Stochastic Gradient Descent"
   ]
  },
  {
   "cell_type": "code",
   "execution_count": 123,
   "id": "21ecd2cd",
   "metadata": {
    "colab": {
     "base_uri": "https://localhost:8080/"
    },
    "id": "21ecd2cd",
    "outputId": "7ad1764c-a2f4-4349-ced2-dc0959ed419b"
   },
   "outputs": [
    {
     "data": {
      "text/html": [
       "<style>#sk-container-id-7 {color: black;background-color: white;}#sk-container-id-7 pre{padding: 0;}#sk-container-id-7 div.sk-toggleable {background-color: white;}#sk-container-id-7 label.sk-toggleable__label {cursor: pointer;display: block;width: 100%;margin-bottom: 0;padding: 0.3em;box-sizing: border-box;text-align: center;}#sk-container-id-7 label.sk-toggleable__label-arrow:before {content: \"▸\";float: left;margin-right: 0.25em;color: #696969;}#sk-container-id-7 label.sk-toggleable__label-arrow:hover:before {color: black;}#sk-container-id-7 div.sk-estimator:hover label.sk-toggleable__label-arrow:before {color: black;}#sk-container-id-7 div.sk-toggleable__content {max-height: 0;max-width: 0;overflow: hidden;text-align: left;background-color: #f0f8ff;}#sk-container-id-7 div.sk-toggleable__content pre {margin: 0.2em;color: black;border-radius: 0.25em;background-color: #f0f8ff;}#sk-container-id-7 input.sk-toggleable__control:checked~div.sk-toggleable__content {max-height: 200px;max-width: 100%;overflow: auto;}#sk-container-id-7 input.sk-toggleable__control:checked~label.sk-toggleable__label-arrow:before {content: \"▾\";}#sk-container-id-7 div.sk-estimator input.sk-toggleable__control:checked~label.sk-toggleable__label {background-color: #d4ebff;}#sk-container-id-7 div.sk-label input.sk-toggleable__control:checked~label.sk-toggleable__label {background-color: #d4ebff;}#sk-container-id-7 input.sk-hidden--visually {border: 0;clip: rect(1px 1px 1px 1px);clip: rect(1px, 1px, 1px, 1px);height: 1px;margin: -1px;overflow: hidden;padding: 0;position: absolute;width: 1px;}#sk-container-id-7 div.sk-estimator {font-family: monospace;background-color: #f0f8ff;border: 1px dotted black;border-radius: 0.25em;box-sizing: border-box;margin-bottom: 0.5em;}#sk-container-id-7 div.sk-estimator:hover {background-color: #d4ebff;}#sk-container-id-7 div.sk-parallel-item::after {content: \"\";width: 100%;border-bottom: 1px solid gray;flex-grow: 1;}#sk-container-id-7 div.sk-label:hover label.sk-toggleable__label {background-color: #d4ebff;}#sk-container-id-7 div.sk-serial::before {content: \"\";position: absolute;border-left: 1px solid gray;box-sizing: border-box;top: 0;bottom: 0;left: 50%;z-index: 0;}#sk-container-id-7 div.sk-serial {display: flex;flex-direction: column;align-items: center;background-color: white;padding-right: 0.2em;padding-left: 0.2em;position: relative;}#sk-container-id-7 div.sk-item {position: relative;z-index: 1;}#sk-container-id-7 div.sk-parallel {display: flex;align-items: stretch;justify-content: center;background-color: white;position: relative;}#sk-container-id-7 div.sk-item::before, #sk-container-id-7 div.sk-parallel-item::before {content: \"\";position: absolute;border-left: 1px solid gray;box-sizing: border-box;top: 0;bottom: 0;left: 50%;z-index: -1;}#sk-container-id-7 div.sk-parallel-item {display: flex;flex-direction: column;z-index: 1;position: relative;background-color: white;}#sk-container-id-7 div.sk-parallel-item:first-child::after {align-self: flex-end;width: 50%;}#sk-container-id-7 div.sk-parallel-item:last-child::after {align-self: flex-start;width: 50%;}#sk-container-id-7 div.sk-parallel-item:only-child::after {width: 0;}#sk-container-id-7 div.sk-dashed-wrapped {border: 1px dashed gray;margin: 0 0.4em 0.5em 0.4em;box-sizing: border-box;padding-bottom: 0.4em;background-color: white;}#sk-container-id-7 div.sk-label label {font-family: monospace;font-weight: bold;display: inline-block;line-height: 1.2em;}#sk-container-id-7 div.sk-label-container {text-align: center;}#sk-container-id-7 div.sk-container {/* jupyter's `normalize.less` sets `[hidden] { display: none; }` but bootstrap.min.css set `[hidden] { display: none !important; }` so we also need the `!important` here to be able to override the default hidden behavior on the sphinx rendered scikit-learn.org. See: https://github.com/scikit-learn/scikit-learn/issues/21755 */display: inline-block !important;position: relative;}#sk-container-id-7 div.sk-text-repr-fallback {display: none;}</style><div id=\"sk-container-id-7\" class=\"sk-top-container\"><div class=\"sk-text-repr-fallback\"><pre>SGDClassifier(loss=&#x27;modified_huber&#x27;, max_iter=2000, random_state=10,\n",
       "              shuffle=False)</pre><b>In a Jupyter environment, please rerun this cell to show the HTML representation or trust the notebook. <br />On GitHub, the HTML representation is unable to render, please try loading this page with nbviewer.org.</b></div><div class=\"sk-container\" hidden><div class=\"sk-item\"><div class=\"sk-estimator sk-toggleable\"><input class=\"sk-toggleable__control sk-hidden--visually\" id=\"sk-estimator-id-7\" type=\"checkbox\" checked><label for=\"sk-estimator-id-7\" class=\"sk-toggleable__label sk-toggleable__label-arrow\">SGDClassifier</label><div class=\"sk-toggleable__content\"><pre>SGDClassifier(loss=&#x27;modified_huber&#x27;, max_iter=2000, random_state=10,\n",
       "              shuffle=False)</pre></div></div></div></div></div>"
      ],
      "text/plain": [
       "SGDClassifier(loss='modified_huber', max_iter=2000, random_state=10,\n",
       "              shuffle=False)"
      ]
     },
     "execution_count": 123,
     "metadata": {},
     "output_type": "execute_result"
    }
   ],
   "source": [
    "from sklearn.linear_model import SGDClassifier\n",
    "\n",
    "#Created an obj for SGD\n",
    "sgd = SGDClassifier(loss = 'modified_huber', max_iter = 2000, shuffle = False, n_jobs = None, early_stopping = False, random_state = 10)\n",
    "sgd.fit(X_train, y_train)"
   ]
  },
  {
   "cell_type": "code",
   "execution_count": 124,
   "id": "5c3c0a21",
   "metadata": {
    "colab": {
     "base_uri": "https://localhost:8080/"
    },
    "id": "5c3c0a21",
    "outputId": "67a5af0d-085d-43e4-9a88-8eb1a1da05ed"
   },
   "outputs": [
    {
     "data": {
      "text/plain": [
       "0.9952212366428053"
      ]
     },
     "execution_count": 124,
     "metadata": {},
     "output_type": "execute_result"
    }
   ],
   "source": [
    "#Training Accuracy\n",
    "sgd.score(X_train, y_train)"
   ]
  },
  {
   "cell_type": "code",
   "execution_count": 125,
   "id": "0310ba7d",
   "metadata": {
    "colab": {
     "base_uri": "https://localhost:8080/"
    },
    "id": "0310ba7d",
    "outputId": "e7db51e8-3ff9-47df-85f3-07e31859a12a"
   },
   "outputs": [
    {
     "name": "stdout",
     "output_type": "stream",
     "text": [
      "0.9954308884047446\n",
      "0.9952212366428053\n"
     ]
    }
   ],
   "source": [
    "#Testing Accuracy\n",
    "y_train_pred = sgd.predict(X_train)\n",
    "y_test_pred = sgd.predict(X_test)\n",
    "print(accuracy_score(y_test, y_test_pred))\n",
    "print(accuracy_score(y_train, y_train_pred))"
   ]
  },
  {
   "cell_type": "code",
   "execution_count": 126,
   "id": "a504a2b0",
   "metadata": {},
   "outputs": [
    {
     "data": {
      "text/plain": [
       "0.9954014441819785"
      ]
     },
     "execution_count": 126,
     "metadata": {},
     "output_type": "execute_result"
    }
   ],
   "source": [
    "precision_positive = metrics.precision_score(y_test, y_test_pred, average='weighted')\n",
    "precision_positive"
   ]
  },
  {
   "cell_type": "code",
   "execution_count": 127,
   "id": "3c7e7098",
   "metadata": {},
   "outputs": [
    {
     "data": {
      "text/plain": [
       "0.995156959066238"
      ]
     },
     "execution_count": 127,
     "metadata": {},
     "output_type": "execute_result"
    }
   ],
   "source": [
    "precision_positive = metrics.precision_score(y_train, y_train_pred, average='weighted')\n",
    "precision_positive"
   ]
  },
  {
   "cell_type": "code",
   "execution_count": 128,
   "id": "ca915925",
   "metadata": {},
   "outputs": [
    {
     "data": {
      "text/plain": [
       "0.9954308884047446"
      ]
     },
     "execution_count": 128,
     "metadata": {},
     "output_type": "execute_result"
    }
   ],
   "source": [
    "recall_specificity = metrics.recall_score(y_test, y_test_pred, average='weighted')\n",
    "recall_specificity"
   ]
  },
  {
   "cell_type": "code",
   "execution_count": 129,
   "id": "f1f93fd1",
   "metadata": {},
   "outputs": [
    {
     "data": {
      "text/plain": [
       "0.9952212366428053"
      ]
     },
     "execution_count": 129,
     "metadata": {},
     "output_type": "execute_result"
    }
   ],
   "source": [
    "recall_specificity = metrics.recall_score(y_train, y_train_pred, average='weighted')\n",
    "recall_specificity"
   ]
  },
  {
   "cell_type": "code",
   "execution_count": 130,
   "id": "ed606e00",
   "metadata": {},
   "outputs": [
    {
     "data": {
      "text/plain": [
       "array([0.        , 0.99744295, 0.96384589])"
      ]
     },
     "execution_count": 130,
     "metadata": {},
     "output_type": "execute_result"
    }
   ],
   "source": [
    "fbeta_score(y_train, y_train_pred, beta = 1, average = None)"
   ]
  },
  {
   "cell_type": "code",
   "execution_count": 131,
   "id": "1LWwu7-xrT51",
   "metadata": {
    "colab": {
     "base_uri": "https://localhost:8080/"
    },
    "id": "1LWwu7-xrT51",
    "outputId": "29bab7ae-c550-4596-99ed-16a87a15a517"
   },
   "outputs": [
    {
     "data": {
      "text/plain": [
       "array([0.        , 0.99755746, 0.9647912 ])"
      ]
     },
     "execution_count": 131,
     "metadata": {},
     "output_type": "execute_result"
    }
   ],
   "source": [
    "fbeta_score(y_test, y_test_pred, beta = 1, average = None)"
   ]
  },
  {
   "cell_type": "code",
   "execution_count": 132,
   "id": "b8e41c27",
   "metadata": {
    "colab": {
     "base_uri": "https://localhost:8080/"
    },
    "id": "b8e41c27",
    "outputId": "e541c929-9270-4429-b3a1-4a0184ef0a9b"
   },
   "outputs": [
    {
     "data": {
      "image/png": "[encoded data removed]",
      "text/plain": [
       "<Figure size 576x396 with 2 Axes>"
      ]
     },
     "metadata": {},
     "output_type": "display_data"
    },
    {
     "data": {
      "text/plain": [
       "<AxesSubplot:title={'center':'SGDClassifier Classification Report'}>"
      ]
     },
     "execution_count": 132,
     "metadata": {},
     "output_type": "execute_result"
    }
   ],
   "source": [
    "visualizer = ClassificationReport(sgd, support = True, color_bar = True, cmap = rnd.choice(colors))\n",
    "visualizer.fit(X_train, y_train)        \n",
    "visualizer.score(X_test, y_test)   \n",
    "visualizer.show()"
   ]
  },
  {
   "cell_type": "code",
   "execution_count": 133,
   "id": "38f4fb0d",
   "metadata": {
    "colab": {
     "base_uri": "https://localhost:8080/"
    },
    "id": "38f4fb0d",
    "outputId": "adec350a-5513-4bb5-bf67-eee61f582956"
   },
   "outputs": [
    {
     "data": {
      "image/png": "[encoded data removed]",
      "text/plain": [
       "<Figure size 576x396 with 1 Axes>"
      ]
     },
     "metadata": {},
     "output_type": "display_data"
    },
    {
     "data": {
      "text/plain": [
       "<AxesSubplot:title={'center':'SGDClassifier Confusion Matrix'}, xlabel='Predicted Class', ylabel='True Class'>"
      ]
     },
     "execution_count": 133,
     "metadata": {},
     "output_type": "execute_result"
    }
   ],
   "source": [
    "visualizer = ConfusionMatrix(sgd, support = True, color_bar = True, cmap = rnd.choice(colors))\n",
    "visualizer.fit(X_train, y_train)        \n",
    "visualizer.score(X_test, y_test)   \n",
    "visualizer.show()"
   ]
  },
  {
   "cell_type": "markdown",
   "id": "55d74976",
   "metadata": {
    "id": "55d74976"
   },
   "source": [
    "# Ada Boost"
   ]
  },
  {
   "cell_type": "code",
   "execution_count": 134,
   "id": "abb95fe3",
   "metadata": {
    "colab": {
     "base_uri": "https://localhost:8080/"
    },
    "id": "abb95fe3",
    "outputId": "f441eed5-1eda-4f0f-ea56-129c490f6a54"
   },
   "outputs": [
    {
     "data": {
      "text/html": [
       "<style>#sk-container-id-8 {color: black;background-color: white;}#sk-container-id-8 pre{padding: 0;}#sk-container-id-8 div.sk-toggleable {background-color: white;}#sk-container-id-8 label.sk-toggleable__label {cursor: pointer;display: block;width: 100%;margin-bottom: 0;padding: 0.3em;box-sizing: border-box;text-align: center;}#sk-container-id-8 label.sk-toggleable__label-arrow:before {content: \"▸\";float: left;margin-right: 0.25em;color: #696969;}#sk-container-id-8 label.sk-toggleable__label-arrow:hover:before {color: black;}#sk-container-id-8 div.sk-estimator:hover label.sk-toggleable__label-arrow:before {color: black;}#sk-container-id-8 div.sk-toggleable__content {max-height: 0;max-width: 0;overflow: hidden;text-align: left;background-color: #f0f8ff;}#sk-container-id-8 div.sk-toggleable__content pre {margin: 0.2em;color: black;border-radius: 0.25em;background-color: #f0f8ff;}#sk-container-id-8 input.sk-toggleable__control:checked~div.sk-toggleable__content {max-height: 200px;max-width: 100%;overflow: auto;}#sk-container-id-8 input.sk-toggleable__control:checked~label.sk-toggleable__label-arrow:before {content: \"▾\";}#sk-container-id-8 div.sk-estimator input.sk-toggleable__control:checked~label.sk-toggleable__label {background-color: #d4ebff;}#sk-container-id-8 div.sk-label input.sk-toggleable__control:checked~label.sk-toggleable__label {background-color: #d4ebff;}#sk-container-id-8 input.sk-hidden--visually {border: 0;clip: rect(1px 1px 1px 1px);clip: rect(1px, 1px, 1px, 1px);height: 1px;margin: -1px;overflow: hidden;padding: 0;position: absolute;width: 1px;}#sk-container-id-8 div.sk-estimator {font-family: monospace;background-color: #f0f8ff;border: 1px dotted black;border-radius: 0.25em;box-sizing: border-box;margin-bottom: 0.5em;}#sk-container-id-8 div.sk-estimator:hover {background-color: #d4ebff;}#sk-container-id-8 div.sk-parallel-item::after {content: \"\";width: 100%;border-bottom: 1px solid gray;flex-grow: 1;}#sk-container-id-8 div.sk-label:hover label.sk-toggleable__label {background-color: #d4ebff;}#sk-container-id-8 div.sk-serial::before {content: \"\";position: absolute;border-left: 1px solid gray;box-sizing: border-box;top: 0;bottom: 0;left: 50%;z-index: 0;}#sk-container-id-8 div.sk-serial {display: flex;flex-direction: column;align-items: center;background-color: white;padding-right: 0.2em;padding-left: 0.2em;position: relative;}#sk-container-id-8 div.sk-item {position: relative;z-index: 1;}#sk-container-id-8 div.sk-parallel {display: flex;align-items: stretch;justify-content: center;background-color: white;position: relative;}#sk-container-id-8 div.sk-item::before, #sk-container-id-8 div.sk-parallel-item::before {content: \"\";position: absolute;border-left: 1px solid gray;box-sizing: border-box;top: 0;bottom: 0;left: 50%;z-index: -1;}#sk-container-id-8 div.sk-parallel-item {display: flex;flex-direction: column;z-index: 1;position: relative;background-color: white;}#sk-container-id-8 div.sk-parallel-item:first-child::after {align-self: flex-end;width: 50%;}#sk-container-id-8 div.sk-parallel-item:last-child::after {align-self: flex-start;width: 50%;}#sk-container-id-8 div.sk-parallel-item:only-child::after {width: 0;}#sk-container-id-8 div.sk-dashed-wrapped {border: 1px dashed gray;margin: 0 0.4em 0.5em 0.4em;box-sizing: border-box;padding-bottom: 0.4em;background-color: white;}#sk-container-id-8 div.sk-label label {font-family: monospace;font-weight: bold;display: inline-block;line-height: 1.2em;}#sk-container-id-8 div.sk-label-container {text-align: center;}#sk-container-id-8 div.sk-container {/* jupyter's `normalize.less` sets `[hidden] { display: none; }` but bootstrap.min.css set `[hidden] { display: none !important; }` so we also need the `!important` here to be able to override the default hidden behavior on the sphinx rendered scikit-learn.org. See: https://github.com/scikit-learn/scikit-learn/issues/21755 */display: inline-block !important;position: relative;}#sk-container-id-8 div.sk-text-repr-fallback {display: none;}</style><div id=\"sk-container-id-8\" class=\"sk-top-container\"><div class=\"sk-text-repr-fallback\"><pre>AdaBoostClassifier(learning_rate=0.1, n_estimators=200, random_state=10)</pre><b>In a Jupyter environment, please rerun this cell to show the HTML representation or trust the notebook. <br />On GitHub, the HTML representation is unable to render, please try loading this page with nbviewer.org.</b></div><div class=\"sk-container\" hidden><div class=\"sk-item\"><div class=\"sk-estimator sk-toggleable\"><input class=\"sk-toggleable__control sk-hidden--visually\" id=\"sk-estimator-id-8\" type=\"checkbox\" checked><label for=\"sk-estimator-id-8\" class=\"sk-toggleable__label sk-toggleable__label-arrow\">AdaBoostClassifier</label><div class=\"sk-toggleable__content\"><pre>AdaBoostClassifier(learning_rate=0.1, n_estimators=200, random_state=10)</pre></div></div></div></div></div>"
      ],
      "text/plain": [
       "AdaBoostClassifier(learning_rate=0.1, n_estimators=200, random_state=10)"
      ]
     },
     "execution_count": 134,
     "metadata": {},
     "output_type": "execute_result"
    }
   ],
   "source": [
    "from sklearn.ensemble import AdaBoostClassifier\n",
    "\n",
    "#Created an obj for Ada Boost\n",
    "adab = AdaBoostClassifier(n_estimators = 200, learning_rate = 0.1 , random_state = 10)\n",
    "adab.fit(X_train, y_train)"
   ]
  },
  {
   "cell_type": "code",
   "execution_count": 135,
   "id": "05a04831",
   "metadata": {
    "colab": {
     "base_uri": "https://localhost:8080/"
    },
    "id": "05a04831",
    "outputId": "5702c0a2-2890-4957-c750-9c6886bb777e"
   },
   "outputs": [
    {
     "data": {
      "text/plain": [
       "0.9923228550679531"
      ]
     },
     "execution_count": 135,
     "metadata": {},
     "output_type": "execute_result"
    }
   ],
   "source": [
    "#Training Accuracy\n",
    "adab.score(X_train, y_train)"
   ]
  },
  {
   "cell_type": "code",
   "execution_count": 136,
   "id": "84c2a74d",
   "metadata": {
    "colab": {
     "base_uri": "https://localhost:8080/"
    },
    "id": "84c2a74d",
    "outputId": "96e0d784-fee4-4903-fc40-13cd1eb28c40"
   },
   "outputs": [
    {
     "name": "stdout",
     "output_type": "stream",
     "text": [
      "0.9922536916000968\n",
      "0.9923228550679531\n"
     ]
    }
   ],
   "source": [
    "#Testing Accuracy\n",
    "y_train_pred = adab.predict(X_train)\n",
    "y_test_pred = adab.predict(X_test)\n",
    "print(accuracy_score(y_test, y_test_pred))\n",
    "print(accuracy_score(y_train, y_train_pred))"
   ]
  },
  {
   "cell_type": "code",
   "execution_count": 137,
   "id": "2beacde9",
   "metadata": {},
   "outputs": [
    {
     "data": {
      "text/plain": [
       "0.9926038205067003"
      ]
     },
     "execution_count": 137,
     "metadata": {},
     "output_type": "execute_result"
    }
   ],
   "source": [
    "precision_positive = metrics.precision_score(y_test, y_test_pred, average='weighted')\n",
    "precision_positive"
   ]
  },
  {
   "cell_type": "code",
   "execution_count": 138,
   "id": "facf99e8",
   "metadata": {},
   "outputs": [
    {
     "data": {
      "text/plain": [
       "0.9926932881484736"
      ]
     },
     "execution_count": 138,
     "metadata": {},
     "output_type": "execute_result"
    }
   ],
   "source": [
    "precision_positive = metrics.precision_score(y_train, y_train_pred, average='weighted')\n",
    "precision_positive"
   ]
  },
  {
   "cell_type": "code",
   "execution_count": 139,
   "id": "0c188f15",
   "metadata": {},
   "outputs": [
    {
     "data": {
      "text/plain": [
       "0.9922536916000968"
      ]
     },
     "execution_count": 139,
     "metadata": {},
     "output_type": "execute_result"
    }
   ],
   "source": [
    "recall_specificity = metrics.recall_score(y_test, y_test_pred, average='weighted')\n",
    "recall_specificity"
   ]
  },
  {
   "cell_type": "code",
   "execution_count": 140,
   "id": "fb783e08",
   "metadata": {},
   "outputs": [
    {
     "data": {
      "text/plain": [
       "0.9923228550679531"
      ]
     },
     "execution_count": 140,
     "metadata": {},
     "output_type": "execute_result"
    }
   ],
   "source": [
    "recall_specificity = metrics.recall_score(y_train, y_train_pred, average='weighted')\n",
    "recall_specificity"
   ]
  },
  {
   "cell_type": "code",
   "execution_count": 141,
   "id": "e07399d8",
   "metadata": {},
   "outputs": [
    {
     "data": {
      "text/plain": [
       "array([1.        , 0.99588008, 0.94375831])"
      ]
     },
     "execution_count": 141,
     "metadata": {},
     "output_type": "execute_result"
    }
   ],
   "source": [
    "fbeta_score(y_train, y_train_pred, beta = 1, average = None)"
   ]
  },
  {
   "cell_type": "code",
   "execution_count": 142,
   "id": "OJTBq6GnrVb8",
   "metadata": {
    "colab": {
     "base_uri": "https://localhost:8080/"
    },
    "id": "OJTBq6GnrVb8",
    "outputId": "8ecd55c5-4224-4aed-83bb-688252df4583"
   },
   "outputs": [
    {
     "data": {
      "text/plain": [
       "array([0.        , 0.99585675, 0.94230552])"
      ]
     },
     "execution_count": 142,
     "metadata": {},
     "output_type": "execute_result"
    }
   ],
   "source": [
    "fbeta_score(y_test, y_test_pred, beta = 1, average = None)"
   ]
  },
  {
   "cell_type": "code",
   "execution_count": 143,
   "id": "80007c6b",
   "metadata": {
    "colab": {
     "base_uri": "https://localhost:8080/"
    },
    "id": "80007c6b",
    "outputId": "f32a1418-fbe6-4a63-c369-a681afb87ad6"
   },
   "outputs": [
    {
     "data": {
      "image/png": "[encoded data removed]",
      "text/plain": [
       "<Figure size 576x396 with 2 Axes>"
      ]
     },
     "metadata": {},
     "output_type": "display_data"
    },
    {
     "data": {
      "text/plain": [
       "<AxesSubplot:title={'center':'AdaBoostClassifier Classification Report'}>"
      ]
     },
     "execution_count": 143,
     "metadata": {},
     "output_type": "execute_result"
    }
   ],
   "source": [
    "visualizer = ClassificationReport(adab, support = True, color_bar = True, cmap = rnd.choice(colors))\n",
    "visualizer.fit(X_train, y_train)        \n",
    "visualizer.score(X_test, y_test)   \n",
    "visualizer.show()"
   ]
  },
  {
   "cell_type": "code",
   "execution_count": 144,
   "id": "07f559ec",
   "metadata": {
    "colab": {
     "base_uri": "https://localhost:8080/"
    },
    "id": "07f559ec",
    "outputId": "972d970c-ee67-41b0-b8de-72b419725d1f"
   },
   "outputs": [
    {
     "data": {
      "image/png": "[encoded data removed]",
      "text/plain": [
       "<Figure size 576x396 with 1 Axes>"
      ]
     },
     "metadata": {},
     "output_type": "display_data"
    },
    {
     "data": {
      "text/plain": [
       "<AxesSubplot:title={'center':'AdaBoostClassifier Confusion Matrix'}, xlabel='Predicted Class', ylabel='True Class'>"
      ]
     },
     "execution_count": 144,
     "metadata": {},
     "output_type": "execute_result"
    }
   ],
   "source": [
    "visualizer = ConfusionMatrix(adab, support = True, color_bar = True, cmap = rnd.choice(colors))\n",
    "visualizer.fit(X_train, y_train)        \n",
    "visualizer.score(X_test, y_test)   \n",
    "visualizer.show()"
   ]
  },
  {
   "cell_type": "markdown",
   "id": "92dba416",
   "metadata": {
    "id": "92dba416"
   },
   "source": [
    "# Gradient Boosting"
   ]
  },
  {
   "cell_type": "code",
   "execution_count": 146,
   "id": "2324e411",
   "metadata": {
    "colab": {
     "base_uri": "https://localhost:8080/"
    },
    "id": "2324e411",
    "outputId": "0b361b77-9466-4bb7-b27c-06b862363f5a"
   },
   "outputs": [
    {
     "ename": "KeyboardInterrupt",
     "evalue": "",
     "output_type": "error",
     "traceback": [
      "\u001b[1;31m---------------------------------------------------------------------------\u001b[0m",
      "\u001b[1;31mKeyboardInterrupt\u001b[0m                         Traceback (most recent call last)",
      "\u001b[1;32m~\\AppData\\Local\\Temp/ipykernel_37996/3477713984.py\u001b[0m in \u001b[0;36m<module>\u001b[1;34m\u001b[0m\n\u001b[0;32m      3\u001b[0m \u001b[1;31m#Created an obj for Gradient Boosting\u001b[0m\u001b[1;33m\u001b[0m\u001b[1;33m\u001b[0m\u001b[0m\n\u001b[0;32m      4\u001b[0m \u001b[0mgb\u001b[0m \u001b[1;33m=\u001b[0m \u001b[0mGradientBoostingClassifier\u001b[0m\u001b[1;33m(\u001b[0m \u001b[0mn_estimators\u001b[0m \u001b[1;33m=\u001b[0m \u001b[1;36m200\u001b[0m\u001b[1;33m,\u001b[0m \u001b[0mlearning_rate\u001b[0m \u001b[1;33m=\u001b[0m \u001b[1;36m0.1\u001b[0m \u001b[1;33m,\u001b[0m \u001b[0mrandom_state\u001b[0m \u001b[1;33m=\u001b[0m \u001b[1;36m10\u001b[0m\u001b[1;33m)\u001b[0m\u001b[1;33m\u001b[0m\u001b[1;33m\u001b[0m\u001b[0m\n\u001b[1;32m----> 5\u001b[1;33m \u001b[0mgb\u001b[0m\u001b[1;33m.\u001b[0m\u001b[0mfit\u001b[0m\u001b[1;33m(\u001b[0m\u001b[0mX_train\u001b[0m\u001b[1;33m,\u001b[0m \u001b[0my_train\u001b[0m\u001b[1;33m)\u001b[0m\u001b[1;33m\u001b[0m\u001b[1;33m\u001b[0m\u001b[0m\n\u001b[0m",
      "\u001b[1;32mD:\\Anaconda\\lib\\site-packages\\sklearn\\ensemble\\_gb.py\u001b[0m in \u001b[0;36mfit\u001b[1;34m(self, X, y, sample_weight, monitor)\u001b[0m\n\u001b[0;32m    666\u001b[0m \u001b[1;33m\u001b[0m\u001b[0m\n\u001b[0;32m    667\u001b[0m         \u001b[1;31m# fit the boosting stages\u001b[0m\u001b[1;33m\u001b[0m\u001b[1;33m\u001b[0m\u001b[0m\n\u001b[1;32m--> 668\u001b[1;33m         n_stages = self._fit_stages(\n\u001b[0m\u001b[0;32m    669\u001b[0m             \u001b[0mX\u001b[0m\u001b[1;33m,\u001b[0m\u001b[1;33m\u001b[0m\u001b[1;33m\u001b[0m\u001b[0m\n\u001b[0;32m    670\u001b[0m             \u001b[0my\u001b[0m\u001b[1;33m,\u001b[0m\u001b[1;33m\u001b[0m\u001b[1;33m\u001b[0m\u001b[0m\n",
      "\u001b[1;32mD:\\Anaconda\\lib\\site-packages\\sklearn\\ensemble\\_gb.py\u001b[0m in \u001b[0;36m_fit_stages\u001b[1;34m(self, X, y, raw_predictions, sample_weight, random_state, X_val, y_val, sample_weight_val, begin_at_stage, monitor)\u001b[0m\n\u001b[0;32m    743\u001b[0m \u001b[1;33m\u001b[0m\u001b[0m\n\u001b[0;32m    744\u001b[0m             \u001b[1;31m# fit next stage of trees\u001b[0m\u001b[1;33m\u001b[0m\u001b[1;33m\u001b[0m\u001b[0m\n\u001b[1;32m--> 745\u001b[1;33m             raw_predictions = self._fit_stage(\n\u001b[0m\u001b[0;32m    746\u001b[0m                 \u001b[0mi\u001b[0m\u001b[1;33m,\u001b[0m\u001b[1;33m\u001b[0m\u001b[1;33m\u001b[0m\u001b[0m\n\u001b[0;32m    747\u001b[0m                 \u001b[0mX\u001b[0m\u001b[1;33m,\u001b[0m\u001b[1;33m\u001b[0m\u001b[1;33m\u001b[0m\u001b[0m\n",
      "\u001b[1;32mD:\\Anaconda\\lib\\site-packages\\sklearn\\ensemble\\_gb.py\u001b[0m in \u001b[0;36m_fit_stage\u001b[1;34m(self, i, X, y, raw_predictions, sample_weight, sample_mask, random_state, X_csc, X_csr)\u001b[0m\n\u001b[0;32m    245\u001b[0m \u001b[1;33m\u001b[0m\u001b[0m\n\u001b[0;32m    246\u001b[0m             \u001b[0mX\u001b[0m \u001b[1;33m=\u001b[0m \u001b[0mX_csr\u001b[0m \u001b[1;32mif\u001b[0m \u001b[0mX_csr\u001b[0m \u001b[1;32mis\u001b[0m \u001b[1;32mnot\u001b[0m \u001b[1;32mNone\u001b[0m \u001b[1;32melse\u001b[0m \u001b[0mX\u001b[0m\u001b[1;33m\u001b[0m\u001b[1;33m\u001b[0m\u001b[0m\n\u001b[1;32m--> 247\u001b[1;33m             \u001b[0mtree\u001b[0m\u001b[1;33m.\u001b[0m\u001b[0mfit\u001b[0m\u001b[1;33m(\u001b[0m\u001b[0mX\u001b[0m\u001b[1;33m,\u001b[0m \u001b[0mresidual\u001b[0m\u001b[1;33m,\u001b[0m \u001b[0msample_weight\u001b[0m\u001b[1;33m=\u001b[0m\u001b[0msample_weight\u001b[0m\u001b[1;33m,\u001b[0m \u001b[0mcheck_input\u001b[0m\u001b[1;33m=\u001b[0m\u001b[1;32mFalse\u001b[0m\u001b[1;33m)\u001b[0m\u001b[1;33m\u001b[0m\u001b[1;33m\u001b[0m\u001b[0m\n\u001b[0m\u001b[0;32m    248\u001b[0m \u001b[1;33m\u001b[0m\u001b[0m\n\u001b[0;32m    249\u001b[0m             \u001b[1;31m# update tree leaves\u001b[0m\u001b[1;33m\u001b[0m\u001b[1;33m\u001b[0m\u001b[0m\n",
      "\u001b[1;32mD:\\Anaconda\\lib\\site-packages\\sklearn\\tree\\_classes.py\u001b[0m in \u001b[0;36mfit\u001b[1;34m(self, X, y, sample_weight, check_input)\u001b[0m\n\u001b[0;32m   1340\u001b[0m         \"\"\"\n\u001b[0;32m   1341\u001b[0m \u001b[1;33m\u001b[0m\u001b[0m\n\u001b[1;32m-> 1342\u001b[1;33m         super().fit(\n\u001b[0m\u001b[0;32m   1343\u001b[0m             \u001b[0mX\u001b[0m\u001b[1;33m,\u001b[0m\u001b[1;33m\u001b[0m\u001b[1;33m\u001b[0m\u001b[0m\n\u001b[0;32m   1344\u001b[0m             \u001b[0my\u001b[0m\u001b[1;33m,\u001b[0m\u001b[1;33m\u001b[0m\u001b[1;33m\u001b[0m\u001b[0m\n",
      "\u001b[1;32mD:\\Anaconda\\lib\\site-packages\\sklearn\\tree\\_classes.py\u001b[0m in \u001b[0;36mfit\u001b[1;34m(self, X, y, sample_weight, check_input)\u001b[0m\n\u001b[0;32m    456\u001b[0m             )\n\u001b[0;32m    457\u001b[0m \u001b[1;33m\u001b[0m\u001b[0m\n\u001b[1;32m--> 458\u001b[1;33m         \u001b[0mbuilder\u001b[0m\u001b[1;33m.\u001b[0m\u001b[0mbuild\u001b[0m\u001b[1;33m(\u001b[0m\u001b[0mself\u001b[0m\u001b[1;33m.\u001b[0m\u001b[0mtree_\u001b[0m\u001b[1;33m,\u001b[0m \u001b[0mX\u001b[0m\u001b[1;33m,\u001b[0m \u001b[0my\u001b[0m\u001b[1;33m,\u001b[0m \u001b[0msample_weight\u001b[0m\u001b[1;33m)\u001b[0m\u001b[1;33m\u001b[0m\u001b[1;33m\u001b[0m\u001b[0m\n\u001b[0m\u001b[0;32m    459\u001b[0m \u001b[1;33m\u001b[0m\u001b[0m\n\u001b[0;32m    460\u001b[0m         \u001b[1;32mif\u001b[0m \u001b[0mself\u001b[0m\u001b[1;33m.\u001b[0m\u001b[0mn_outputs_\u001b[0m \u001b[1;33m==\u001b[0m \u001b[1;36m1\u001b[0m \u001b[1;32mand\u001b[0m \u001b[0mis_classifier\u001b[0m\u001b[1;33m(\u001b[0m\u001b[0mself\u001b[0m\u001b[1;33m)\u001b[0m\u001b[1;33m:\u001b[0m\u001b[1;33m\u001b[0m\u001b[1;33m\u001b[0m\u001b[0m\n",
      "\u001b[1;31mKeyboardInterrupt\u001b[0m: "
     ]
    }
   ],
   "source": [
    "from sklearn.ensemble import GradientBoostingClassifier\n",
    "\n",
    "#Created an obj for Gradient Boosting\n",
    "gb = GradientBoostingClassifier( n_estimators = 200, learning_rate = 0.1 , random_state = 10)\n",
    "gb.fit(X_train, y_train)"
   ]
  },
  {
   "cell_type": "code",
   "execution_count": null,
   "id": "3577e1e1",
   "metadata": {
    "colab": {
     "base_uri": "https://localhost:8080/"
    },
    "id": "3577e1e1",
    "outputId": "936c4072-a1e5-49ef-ec6c-77ae4ffaf8b0"
   },
   "outputs": [],
   "source": [
    "#Training Accuracy\n",
    "gb.score(X_train, y_train)"
   ]
  },
  {
   "cell_type": "code",
   "execution_count": null,
   "id": "b96b7a9f",
   "metadata": {
    "colab": {
     "base_uri": "https://localhost:8080/"
    },
    "id": "b96b7a9f",
    "outputId": "88c6bf3c-3692-4a4f-e7c8-e26fe8730b57"
   },
   "outputs": [],
   "source": [
    "#Testing Accuracy\n",
    "y_train_pred = gb.predict(X_train)\n",
    "y_test_pred = gb.predict(X_test)\n",
    "print(accuracy_score(y_test, y_test_pred))\n",
    "print(accuracy_score(y_train, y_train_pred))"
   ]
  },
  {
   "cell_type": "code",
   "execution_count": null,
   "id": "de04d1ac",
   "metadata": {},
   "outputs": [],
   "source": [
    "precision_positive = metrics.precision_score(y_test, y_test_pred, average='weighted')\n",
    "precision_positive"
   ]
  },
  {
   "cell_type": "code",
   "execution_count": null,
   "id": "232d3335",
   "metadata": {},
   "outputs": [],
   "source": [
    "precision_positive = metrics.precision_score(y_train, y_train_pred, average='weighted')\n",
    "precision_positive"
   ]
  },
  {
   "cell_type": "code",
   "execution_count": null,
   "id": "a00ce734",
   "metadata": {},
   "outputs": [],
   "source": [
    "recall_specificity = metrics.recall_score(y_test, y_test_pred, average='weighted')\n",
    "recall_specificity"
   ]
  },
  {
   "cell_type": "code",
   "execution_count": null,
   "id": "7de7067e",
   "metadata": {},
   "outputs": [],
   "source": [
    "recall_specificity = metrics.recall_score(y_train, y_train_pred, average='weighted')\n",
    "recall_specificity"
   ]
  },
  {
   "cell_type": "code",
   "execution_count": null,
   "id": "488c1236",
   "metadata": {},
   "outputs": [],
   "source": [
    "fbeta_score(y_train, y_train_pred, beta = 1, average = None)"
   ]
  },
  {
   "cell_type": "code",
   "execution_count": null,
   "id": "9nVzxj9IrW0F",
   "metadata": {
    "colab": {
     "base_uri": "https://localhost:8080/"
    },
    "id": "9nVzxj9IrW0F",
    "outputId": "176ed2dc-b9a9-470b-89b6-20d17eddf243"
   },
   "outputs": [],
   "source": [
    "fbeta_score(y_test, y_test_pred, beta = 1, average = None)"
   ]
  },
  {
   "cell_type": "code",
   "execution_count": null,
   "id": "0ca75351",
   "metadata": {
    "colab": {
     "base_uri": "https://localhost:8080/"
    },
    "id": "0ca75351",
    "outputId": "452cc35a-8d43-4b2d-fffb-36998f57e5a4"
   },
   "outputs": [],
   "source": [
    "visualizer = ClassificationReport(gb, support = True, color_bar = True, cmap = rnd.choice(colors))\n",
    "visualizer.fit(X_train, y_train)        \n",
    "visualizer.score(X_test, y_test)   \n",
    "visualizer.show() "
   ]
  },
  {
   "cell_type": "code",
   "execution_count": null,
   "id": "57fea6b7",
   "metadata": {
    "colab": {
     "base_uri": "https://localhost:8080/"
    },
    "id": "57fea6b7",
    "outputId": "b9793dbb-2f4b-4f8b-dfe2-1568f43d5aca"
   },
   "outputs": [],
   "source": [
    "visualizer = ConfusionMatrix(gb, support = True, color_bar = True, cmap = rnd.choice(colors))\n",
    "visualizer.fit(X_train, y_train)        \n",
    "visualizer.score(X_test, y_test)   \n",
    "visualizer.show()"
   ]
  }
 ],
 "metadata": {
  "colab": {
   "collapsed_sections": [
    "ce2249e8",
    "92bd6ca1",
    "3d5da703",
    "393492da",
    "d6d72a17",
    "493a7fa4",
    "203f97c7",
    "1f814dd4",
    "55d74976",
    "92dba416"
   ],
   "name": "TIPLiverCirrhosisFinal.ipynb",
   "provenance": []
  },
  "kernelspec": {
   "display_name": "Python 3 (ipykernel)",
   "language": "python",
   "name": "python3"
  },
  "language_info": {
   "codemirror_mode": {
    "name": "ipython",
    "version": 3
   },
   "file_extension": ".py",
   "mimetype": "text/x-python",
   "name": "python",
   "nbconvert_exporter": "python",
   "pygments_lexer": "ipython3",
   "version": "3.9.7"
  },
  "toc": {
   "base_numbering": 1,
   "nav_menu": {},
   "number_sections": true,
   "sideBar": true,
   "skip_h1_title": false,
   "title_cell": "Table of Contents",
   "title_sidebar": "Contents",
   "toc_cell": false,
   "toc_position": {},
   "toc_section_display": true,
   "toc_window_display": false
  }
 },
 "nbformat": 4,
 "nbformat_minor": 5
}
